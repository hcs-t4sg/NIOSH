{
 "cells": [
  {
   "cell_type": "code",
   "execution_count": null,
   "source": [
    "import pandas as pd\n",
    "import numpy as np\n",
    "import sklearn\n",
    "from matplotlib import pyplot as plt \n",
    "from sklearn.metrics import mean_squared_error, r2_score\n",
    "# from hyperopt import hp, tpe, Trials, fmin\n",
    "import time\n",
    "import datetime\n",
    "import random"
   ],
   "outputs": [],
   "metadata": {
    "tags": [],
    "deepnote_to_be_reexecuted": false,
    "source_hash": "de5a129a",
    "execution_start": 1640585473293,
    "execution_millis": 4066,
    "cell_id": "00000-e071c76d-3bf3-4a20-8e2b-b6be5523f5ad",
    "deepnote_cell_type": "code"
   }
  },
  {
   "cell_type": "markdown",
   "source": [
    "# HCS T4SG x NIOSH Lab Temperature Prediction Model\n",
    "### via Support Vector Regression (SVR)"
   ],
   "metadata": {
    "tags": [],
    "cell_id": "00001-40e72486-4844-4da0-85b5-368b35374781",
    "deepnote_cell_type": "markdown"
   }
  },
  {
   "cell_type": "code",
   "execution_count": null,
   "source": [
    "# open and read data\n",
    "\n",
    "path = \"./LabTempTrends.csv\"\n",
    "df = pd.read_csv(path)\n",
    "df.head(10)"
   ],
   "outputs": [
    {
     "output_type": "execute_result",
     "data": {
      "text/plain": [
       "                     TB15     Unnamed: 1  T302     Unnamed: 3  \\\n",
       "0                    Time  Trend (deg F)  Time  Trend (deg F)   \n",
       "1  4/27/21 1:00:00 PM EDT       74.99469   NaN            NaN   \n",
       "2  4/27/21 2:00:00 PM EDT       74.29407   NaN            NaN   \n",
       "3  4/27/21 3:00:00 PM EDT       74.78711   NaN            NaN   \n",
       "4  4/27/21 4:00:00 PM EDT       74.47571   NaN            NaN   \n",
       "5  4/27/21 5:00:00 PM EDT       74.47571   NaN            NaN   \n",
       "6  4/27/21 6:00:00 PM EDT        74.8909   NaN            NaN   \n",
       "7  4/27/21 7:00:00 PM EDT       75.20227   NaN            NaN   \n",
       "8  4/27/21 8:00:00 PM EDT       75.46176   NaN            NaN   \n",
       "9  4/27/21 9:00:00 PM EDT       75.53958   NaN            NaN   \n",
       "\n",
       "                      T303     Unnamed: 5                    T446  \\\n",
       "0                     Time  Trend (deg F)                    Time   \n",
       "1  4/27/21 12:00:00 PM EDT       71.69919  4/27/21 1:00:00 PM EDT   \n",
       "2   4/27/21 1:00:00 PM EDT        71.7511  4/27/21 2:00:00 PM EDT   \n",
       "3   4/27/21 2:00:00 PM EDT       71.64728  4/27/21 3:00:00 PM EDT   \n",
       "4   4/27/21 3:00:00 PM EDT       70.06445  4/27/21 4:00:00 PM EDT   \n",
       "5   4/27/21 4:00:00 PM EDT      70.583405  4/27/21 5:00:00 PM EDT   \n",
       "6   4/27/21 5:00:00 PM EDT      70.920746  4/27/21 6:00:00 PM EDT   \n",
       "7   4/27/21 6:00:00 PM EDT       71.28403  4/27/21 7:00:00 PM EDT   \n",
       "8   4/27/21 7:00:00 PM EDT       71.38782  4/27/21 8:00:00 PM EDT   \n",
       "9   4/27/21 8:00:00 PM EDT       71.07645  4/27/21 9:00:00 PM EDT   \n",
       "\n",
       "      Unnamed: 7                    T449     Unnamed: 9  ...  H460  \\\n",
       "0  Trend (deg F)                    Time  Trend (deg F)  ...  Time   \n",
       "1        72.0625  4/27/21 1:00:00 PM EDT       72.86691  ...   NaN   \n",
       "2       72.91879  4/27/21 2:00:00 PM EDT       72.45172  ...   NaN   \n",
       "3        72.0625  4/27/21 3:00:00 PM EDT       72.55551  ...   NaN   \n",
       "4       72.01059  4/27/21 4:00:00 PM EDT       72.71118  ...   NaN   \n",
       "5       72.01059  4/27/21 5:00:00 PM EDT       72.86691  ...   NaN   \n",
       "6       73.12637  4/27/21 6:00:00 PM EDT       73.12637  ...   NaN   \n",
       "7      73.411804  4/27/21 7:00:00 PM EDT         72.815  ...   NaN   \n",
       "8      73.515594  4/27/21 8:00:00 PM EDT       72.24414  ...   NaN   \n",
       "9      73.671295  4/27/21 9:00:00 PM EDT       73.12637  ...   NaN   \n",
       "\n",
       "     Unnamed: 31 H309.1              Unnamed: 33  H353  \\\n",
       "0  Trend (deg F)   Time  HUMIDITY %. Trend (%RH)  Time   \n",
       "1            NaN    NaN                      NaN   NaN   \n",
       "2            NaN    NaN                      NaN   NaN   \n",
       "3            NaN    NaN                      NaN   NaN   \n",
       "4            NaN    NaN                      NaN   NaN   \n",
       "5            NaN    NaN                      NaN   NaN   \n",
       "6            NaN    NaN                      NaN   NaN   \n",
       "7            NaN    NaN                      NaN   NaN   \n",
       "8            NaN    NaN                      NaN   NaN   \n",
       "9            NaN    NaN                      NaN   NaN   \n",
       "\n",
       "               Unnamed: 35 H353.1    Unnamed: 37 TB01.1    Unnamed: 39  \n",
       "0  HUMIDITY %. Trend (%RH)   Time  Trend (deg F)   Time  Trend (deg F)  \n",
       "1                      NaN    NaN            NaN    NaN            NaN  \n",
       "2                      NaN    NaN            NaN    NaN            NaN  \n",
       "3                      NaN    NaN            NaN    NaN            NaN  \n",
       "4                      NaN    NaN            NaN    NaN            NaN  \n",
       "5                      NaN    NaN            NaN    NaN            NaN  \n",
       "6                      NaN    NaN            NaN    NaN            NaN  \n",
       "7                      NaN    NaN            NaN    NaN            NaN  \n",
       "8                      NaN    NaN            NaN    NaN            NaN  \n",
       "9                      NaN    NaN            NaN    NaN            NaN  \n",
       "\n",
       "[10 rows x 40 columns]"
      ],
      "text/html": [
       "<div>\n",
       "<style scoped>\n",
       "    .dataframe tbody tr th:only-of-type {\n",
       "        vertical-align: middle;\n",
       "    }\n",
       "\n",
       "    .dataframe tbody tr th {\n",
       "        vertical-align: top;\n",
       "    }\n",
       "\n",
       "    .dataframe thead th {\n",
       "        text-align: right;\n",
       "    }\n",
       "</style>\n",
       "<table border=\"1\" class=\"dataframe\">\n",
       "  <thead>\n",
       "    <tr style=\"text-align: right;\">\n",
       "      <th></th>\n",
       "      <th>TB15</th>\n",
       "      <th>Unnamed: 1</th>\n",
       "      <th>T302</th>\n",
       "      <th>Unnamed: 3</th>\n",
       "      <th>T303</th>\n",
       "      <th>Unnamed: 5</th>\n",
       "      <th>T446</th>\n",
       "      <th>Unnamed: 7</th>\n",
       "      <th>T449</th>\n",
       "      <th>Unnamed: 9</th>\n",
       "      <th>...</th>\n",
       "      <th>H460</th>\n",
       "      <th>Unnamed: 31</th>\n",
       "      <th>H309.1</th>\n",
       "      <th>Unnamed: 33</th>\n",
       "      <th>H353</th>\n",
       "      <th>Unnamed: 35</th>\n",
       "      <th>H353.1</th>\n",
       "      <th>Unnamed: 37</th>\n",
       "      <th>TB01.1</th>\n",
       "      <th>Unnamed: 39</th>\n",
       "    </tr>\n",
       "  </thead>\n",
       "  <tbody>\n",
       "    <tr>\n",
       "      <th>0</th>\n",
       "      <td>Time</td>\n",
       "      <td>Trend (deg F)</td>\n",
       "      <td>Time</td>\n",
       "      <td>Trend (deg F)</td>\n",
       "      <td>Time</td>\n",
       "      <td>Trend (deg F)</td>\n",
       "      <td>Time</td>\n",
       "      <td>Trend (deg F)</td>\n",
       "      <td>Time</td>\n",
       "      <td>Trend (deg F)</td>\n",
       "      <td>...</td>\n",
       "      <td>Time</td>\n",
       "      <td>Trend (deg F)</td>\n",
       "      <td>Time</td>\n",
       "      <td>HUMIDITY %. Trend (%RH)</td>\n",
       "      <td>Time</td>\n",
       "      <td>HUMIDITY %. Trend (%RH)</td>\n",
       "      <td>Time</td>\n",
       "      <td>Trend (deg F)</td>\n",
       "      <td>Time</td>\n",
       "      <td>Trend (deg F)</td>\n",
       "    </tr>\n",
       "    <tr>\n",
       "      <th>1</th>\n",
       "      <td>4/27/21 1:00:00 PM EDT</td>\n",
       "      <td>74.99469</td>\n",
       "      <td>NaN</td>\n",
       "      <td>NaN</td>\n",
       "      <td>4/27/21 12:00:00 PM EDT</td>\n",
       "      <td>71.69919</td>\n",
       "      <td>4/27/21 1:00:00 PM EDT</td>\n",
       "      <td>72.0625</td>\n",
       "      <td>4/27/21 1:00:00 PM EDT</td>\n",
       "      <td>72.86691</td>\n",
       "      <td>...</td>\n",
       "      <td>NaN</td>\n",
       "      <td>NaN</td>\n",
       "      <td>NaN</td>\n",
       "      <td>NaN</td>\n",
       "      <td>NaN</td>\n",
       "      <td>NaN</td>\n",
       "      <td>NaN</td>\n",
       "      <td>NaN</td>\n",
       "      <td>NaN</td>\n",
       "      <td>NaN</td>\n",
       "    </tr>\n",
       "    <tr>\n",
       "      <th>2</th>\n",
       "      <td>4/27/21 2:00:00 PM EDT</td>\n",
       "      <td>74.29407</td>\n",
       "      <td>NaN</td>\n",
       "      <td>NaN</td>\n",
       "      <td>4/27/21 1:00:00 PM EDT</td>\n",
       "      <td>71.7511</td>\n",
       "      <td>4/27/21 2:00:00 PM EDT</td>\n",
       "      <td>72.91879</td>\n",
       "      <td>4/27/21 2:00:00 PM EDT</td>\n",
       "      <td>72.45172</td>\n",
       "      <td>...</td>\n",
       "      <td>NaN</td>\n",
       "      <td>NaN</td>\n",
       "      <td>NaN</td>\n",
       "      <td>NaN</td>\n",
       "      <td>NaN</td>\n",
       "      <td>NaN</td>\n",
       "      <td>NaN</td>\n",
       "      <td>NaN</td>\n",
       "      <td>NaN</td>\n",
       "      <td>NaN</td>\n",
       "    </tr>\n",
       "    <tr>\n",
       "      <th>3</th>\n",
       "      <td>4/27/21 3:00:00 PM EDT</td>\n",
       "      <td>74.78711</td>\n",
       "      <td>NaN</td>\n",
       "      <td>NaN</td>\n",
       "      <td>4/27/21 2:00:00 PM EDT</td>\n",
       "      <td>71.64728</td>\n",
       "      <td>4/27/21 3:00:00 PM EDT</td>\n",
       "      <td>72.0625</td>\n",
       "      <td>4/27/21 3:00:00 PM EDT</td>\n",
       "      <td>72.55551</td>\n",
       "      <td>...</td>\n",
       "      <td>NaN</td>\n",
       "      <td>NaN</td>\n",
       "      <td>NaN</td>\n",
       "      <td>NaN</td>\n",
       "      <td>NaN</td>\n",
       "      <td>NaN</td>\n",
       "      <td>NaN</td>\n",
       "      <td>NaN</td>\n",
       "      <td>NaN</td>\n",
       "      <td>NaN</td>\n",
       "    </tr>\n",
       "    <tr>\n",
       "      <th>4</th>\n",
       "      <td>4/27/21 4:00:00 PM EDT</td>\n",
       "      <td>74.47571</td>\n",
       "      <td>NaN</td>\n",
       "      <td>NaN</td>\n",
       "      <td>4/27/21 3:00:00 PM EDT</td>\n",
       "      <td>70.06445</td>\n",
       "      <td>4/27/21 4:00:00 PM EDT</td>\n",
       "      <td>72.01059</td>\n",
       "      <td>4/27/21 4:00:00 PM EDT</td>\n",
       "      <td>72.71118</td>\n",
       "      <td>...</td>\n",
       "      <td>NaN</td>\n",
       "      <td>NaN</td>\n",
       "      <td>NaN</td>\n",
       "      <td>NaN</td>\n",
       "      <td>NaN</td>\n",
       "      <td>NaN</td>\n",
       "      <td>NaN</td>\n",
       "      <td>NaN</td>\n",
       "      <td>NaN</td>\n",
       "      <td>NaN</td>\n",
       "    </tr>\n",
       "    <tr>\n",
       "      <th>5</th>\n",
       "      <td>4/27/21 5:00:00 PM EDT</td>\n",
       "      <td>74.47571</td>\n",
       "      <td>NaN</td>\n",
       "      <td>NaN</td>\n",
       "      <td>4/27/21 4:00:00 PM EDT</td>\n",
       "      <td>70.583405</td>\n",
       "      <td>4/27/21 5:00:00 PM EDT</td>\n",
       "      <td>72.01059</td>\n",
       "      <td>4/27/21 5:00:00 PM EDT</td>\n",
       "      <td>72.86691</td>\n",
       "      <td>...</td>\n",
       "      <td>NaN</td>\n",
       "      <td>NaN</td>\n",
       "      <td>NaN</td>\n",
       "      <td>NaN</td>\n",
       "      <td>NaN</td>\n",
       "      <td>NaN</td>\n",
       "      <td>NaN</td>\n",
       "      <td>NaN</td>\n",
       "      <td>NaN</td>\n",
       "      <td>NaN</td>\n",
       "    </tr>\n",
       "    <tr>\n",
       "      <th>6</th>\n",
       "      <td>4/27/21 6:00:00 PM EDT</td>\n",
       "      <td>74.8909</td>\n",
       "      <td>NaN</td>\n",
       "      <td>NaN</td>\n",
       "      <td>4/27/21 5:00:00 PM EDT</td>\n",
       "      <td>70.920746</td>\n",
       "      <td>4/27/21 6:00:00 PM EDT</td>\n",
       "      <td>73.12637</td>\n",
       "      <td>4/27/21 6:00:00 PM EDT</td>\n",
       "      <td>73.12637</td>\n",
       "      <td>...</td>\n",
       "      <td>NaN</td>\n",
       "      <td>NaN</td>\n",
       "      <td>NaN</td>\n",
       "      <td>NaN</td>\n",
       "      <td>NaN</td>\n",
       "      <td>NaN</td>\n",
       "      <td>NaN</td>\n",
       "      <td>NaN</td>\n",
       "      <td>NaN</td>\n",
       "      <td>NaN</td>\n",
       "    </tr>\n",
       "    <tr>\n",
       "      <th>7</th>\n",
       "      <td>4/27/21 7:00:00 PM EDT</td>\n",
       "      <td>75.20227</td>\n",
       "      <td>NaN</td>\n",
       "      <td>NaN</td>\n",
       "      <td>4/27/21 6:00:00 PM EDT</td>\n",
       "      <td>71.28403</td>\n",
       "      <td>4/27/21 7:00:00 PM EDT</td>\n",
       "      <td>73.411804</td>\n",
       "      <td>4/27/21 7:00:00 PM EDT</td>\n",
       "      <td>72.815</td>\n",
       "      <td>...</td>\n",
       "      <td>NaN</td>\n",
       "      <td>NaN</td>\n",
       "      <td>NaN</td>\n",
       "      <td>NaN</td>\n",
       "      <td>NaN</td>\n",
       "      <td>NaN</td>\n",
       "      <td>NaN</td>\n",
       "      <td>NaN</td>\n",
       "      <td>NaN</td>\n",
       "      <td>NaN</td>\n",
       "    </tr>\n",
       "    <tr>\n",
       "      <th>8</th>\n",
       "      <td>4/27/21 8:00:00 PM EDT</td>\n",
       "      <td>75.46176</td>\n",
       "      <td>NaN</td>\n",
       "      <td>NaN</td>\n",
       "      <td>4/27/21 7:00:00 PM EDT</td>\n",
       "      <td>71.38782</td>\n",
       "      <td>4/27/21 8:00:00 PM EDT</td>\n",
       "      <td>73.515594</td>\n",
       "      <td>4/27/21 8:00:00 PM EDT</td>\n",
       "      <td>72.24414</td>\n",
       "      <td>...</td>\n",
       "      <td>NaN</td>\n",
       "      <td>NaN</td>\n",
       "      <td>NaN</td>\n",
       "      <td>NaN</td>\n",
       "      <td>NaN</td>\n",
       "      <td>NaN</td>\n",
       "      <td>NaN</td>\n",
       "      <td>NaN</td>\n",
       "      <td>NaN</td>\n",
       "      <td>NaN</td>\n",
       "    </tr>\n",
       "    <tr>\n",
       "      <th>9</th>\n",
       "      <td>4/27/21 9:00:00 PM EDT</td>\n",
       "      <td>75.53958</td>\n",
       "      <td>NaN</td>\n",
       "      <td>NaN</td>\n",
       "      <td>4/27/21 8:00:00 PM EDT</td>\n",
       "      <td>71.07645</td>\n",
       "      <td>4/27/21 9:00:00 PM EDT</td>\n",
       "      <td>73.671295</td>\n",
       "      <td>4/27/21 9:00:00 PM EDT</td>\n",
       "      <td>73.12637</td>\n",
       "      <td>...</td>\n",
       "      <td>NaN</td>\n",
       "      <td>NaN</td>\n",
       "      <td>NaN</td>\n",
       "      <td>NaN</td>\n",
       "      <td>NaN</td>\n",
       "      <td>NaN</td>\n",
       "      <td>NaN</td>\n",
       "      <td>NaN</td>\n",
       "      <td>NaN</td>\n",
       "      <td>NaN</td>\n",
       "    </tr>\n",
       "  </tbody>\n",
       "</table>\n",
       "<p>10 rows × 40 columns</p>\n",
       "</div>"
      ],
      "application/vnd.deepnote.dataframe.v3+json": {
       "column_count": 40,
       "row_count": 10,
       "columns": [
        {
         "name": "TB15",
         "dtype": "object",
         "stats": {
          "unique_count": 10,
          "nan_count": 0,
          "categories": [
           {
            "name": "Time",
            "count": 1
           },
           {
            "name": "4/27/21 1:00:00 PM EDT",
            "count": 1
           },
           {
            "name": "8 others",
            "count": 8
           }
          ]
         }
        },
        {
         "name": "Unnamed: 1",
         "dtype": "object",
         "stats": {
          "unique_count": 9,
          "nan_count": 0,
          "categories": [
           {
            "name": "74.47571",
            "count": 2
           },
           {
            "name": "Trend (deg F)",
            "count": 1
           },
           {
            "name": "7 others",
            "count": 7
           }
          ]
         }
        },
        {
         "name": "T302",
         "dtype": "object",
         "stats": {
          "unique_count": 1,
          "nan_count": 9,
          "categories": [
           {
            "name": "Time",
            "count": 1
           },
           {
            "name": "Missing",
            "count": 9
           }
          ]
         }
        },
        {
         "name": "Unnamed: 3",
         "dtype": "object",
         "stats": {
          "unique_count": 1,
          "nan_count": 9,
          "categories": [
           {
            "name": "Trend (deg F)",
            "count": 1
           },
           {
            "name": "Missing",
            "count": 9
           }
          ]
         }
        },
        {
         "name": "T303",
         "dtype": "object",
         "stats": {
          "unique_count": 10,
          "nan_count": 0,
          "categories": [
           {
            "name": "Time",
            "count": 1
           },
           {
            "name": "4/27/21 12:00:00 PM EDT",
            "count": 1
           },
           {
            "name": "8 others",
            "count": 8
           }
          ]
         }
        },
        {
         "name": "Unnamed: 5",
         "dtype": "object",
         "stats": {
          "unique_count": 10,
          "nan_count": 0,
          "categories": [
           {
            "name": "Trend (deg F)",
            "count": 1
           },
           {
            "name": "71.69919",
            "count": 1
           },
           {
            "name": "8 others",
            "count": 8
           }
          ]
         }
        },
        {
         "name": "T446",
         "dtype": "object",
         "stats": {
          "unique_count": 10,
          "nan_count": 0,
          "categories": [
           {
            "name": "Time",
            "count": 1
           },
           {
            "name": "4/27/21 1:00:00 PM EDT",
            "count": 1
           },
           {
            "name": "8 others",
            "count": 8
           }
          ]
         }
        },
        {
         "name": "Unnamed: 7",
         "dtype": "object",
         "stats": {
          "unique_count": 8,
          "nan_count": 0,
          "categories": [
           {
            "name": "72.0625",
            "count": 2
           },
           {
            "name": "72.01059",
            "count": 2
           },
           {
            "name": "6 others",
            "count": 6
           }
          ]
         }
        },
        {
         "name": "T449",
         "dtype": "object",
         "stats": {
          "unique_count": 10,
          "nan_count": 0,
          "categories": [
           {
            "name": "Time",
            "count": 1
           },
           {
            "name": "4/27/21 1:00:00 PM EDT",
            "count": 1
           },
           {
            "name": "8 others",
            "count": 8
           }
          ]
         }
        },
        {
         "name": "Unnamed: 9",
         "dtype": "object",
         "stats": {
          "unique_count": 8,
          "nan_count": 0,
          "categories": [
           {
            "name": "72.86691",
            "count": 2
           },
           {
            "name": "73.12637",
            "count": 2
           },
           {
            "name": "6 others",
            "count": 6
           }
          ]
         }
        },
        {
         "name": "T454",
         "dtype": "object",
         "stats": {
          "unique_count": 10,
          "nan_count": 0,
          "categories": [
           {
            "name": "Time",
            "count": 1
           },
           {
            "name": "4/27/21 1:00:00 PM EDT",
            "count": 1
           },
           {
            "name": "8 others",
            "count": 8
           }
          ]
         }
        },
        {
         "name": "Unnamed: 11",
         "dtype": "object",
         "stats": {
          "unique_count": 10,
          "nan_count": 0,
          "categories": [
           {
            "name": "Trend (deg F)",
            "count": 1
           },
           {
            "name": "71.9068",
            "count": 1
           },
           {
            "name": "8 others",
            "count": 8
           }
          ]
         }
        },
        {
         "name": "T Building",
         "dtype": "object",
         "stats": {
          "unique_count": 1,
          "nan_count": 9,
          "categories": [
           {
            "name": "Time",
            "count": 1
           },
           {
            "name": "Missing",
            "count": 9
           }
          ]
         }
        },
        {
         "name": "Unnamed: 13",
         "dtype": "object",
         "stats": {
          "unique_count": 1,
          "nan_count": 9,
          "categories": [
           {
            "name": "OUTSIDE HUMIDTY.Trend (RH%)",
            "count": 1
           },
           {
            "name": "Missing",
            "count": 9
           }
          ]
         }
        },
        {
         "name": "T Building.1",
         "dtype": "object",
         "stats": {
          "unique_count": 1,
          "nan_count": 9,
          "categories": [
           {
            "name": "Time",
            "count": 1
           },
           {
            "name": "Missing",
            "count": 9
           }
          ]
         }
        },
        {
         "name": "Unnamed: 15",
         "dtype": "object",
         "stats": {
          "unique_count": 1,
          "nan_count": 9,
          "categories": [
           {
            "name": "OA-T.Trend (deg F)",
            "count": 1
           },
           {
            "name": "Missing",
            "count": 9
           }
          ]
         }
        },
        {
         "name": "T Building.2",
         "dtype": "object",
         "stats": {
          "unique_count": 1,
          "nan_count": 9,
          "categories": [
           {
            "name": "Time",
            "count": 1
           },
           {
            "name": "Missing",
            "count": 9
           }
          ]
         }
        },
        {
         "name": "Unnamed: 17",
         "dtype": "object",
         "stats": {
          "unique_count": 1,
          "nan_count": 9,
          "categories": [
           {
            "name": "OUTSIDE ENTHALPY.Trend (Btu/lb)",
            "count": 1
           },
           {
            "name": "Missing",
            "count": 9
           }
          ]
         }
        },
        {
         "name": "TB01",
         "dtype": "object",
         "stats": {
          "unique_count": 1,
          "nan_count": 9,
          "categories": [
           {
            "name": "Time",
            "count": 1
           },
           {
            "name": "Missing",
            "count": 9
           }
          ]
         }
        },
        {
         "name": "Unnamed: 19",
         "dtype": "object",
         "stats": {
          "unique_count": 1,
          "nan_count": 9,
          "categories": [
           {
            "name": "HUMIDITY %. Trend (%RH)",
            "count": 1
           },
           {
            "name": "Missing",
            "count": 9
           }
          ]
         }
        },
        {
         "name": "T454.1",
         "dtype": "object",
         "stats": {
          "unique_count": 1,
          "nan_count": 9,
          "categories": [
           {
            "name": "Time",
            "count": 1
           },
           {
            "name": "Missing",
            "count": 9
           }
          ]
         }
        },
        {
         "name": "Unnamed: 21",
         "dtype": "object",
         "stats": {
          "unique_count": 1,
          "nan_count": 9,
          "categories": [
           {
            "name": "HUMIDITY %. Trend (%RH)",
            "count": 1
           },
           {
            "name": "Missing",
            "count": 9
           }
          ]
         }
        },
        {
         "name": "H309",
         "dtype": "object",
         "stats": {
          "unique_count": 1,
          "nan_count": 9,
          "categories": [
           {
            "name": "Time",
            "count": 1
           },
           {
            "name": "Missing",
            "count": 9
           }
          ]
         }
        },
        {
         "name": "Unnamed: 23",
         "dtype": "object",
         "stats": {
          "unique_count": 1,
          "nan_count": 9,
          "categories": [
           {
            "name": "Trend (deg F)",
            "count": 1
           },
           {
            "name": "Missing",
            "count": 9
           }
          ]
         }
        },
        {
         "name": "H351",
         "dtype": "object",
         "stats": {
          "unique_count": 1,
          "nan_count": 9,
          "categories": [
           {
            "name": "Time",
            "count": 1
           },
           {
            "name": "Missing",
            "count": 9
           }
          ]
         }
        },
        {
         "name": "Unnamed: 25",
         "dtype": "object",
         "stats": {
          "unique_count": 1,
          "nan_count": 9,
          "categories": [
           {
            "name": "Trend (deg F)",
            "count": 1
           },
           {
            "name": "Missing",
            "count": 9
           }
          ]
         }
        },
        {
         "name": "H355",
         "dtype": "object",
         "stats": {
          "unique_count": 1,
          "nan_count": 9,
          "categories": [
           {
            "name": "Time",
            "count": 1
           },
           {
            "name": "Missing",
            "count": 9
           }
          ]
         }
        },
        {
         "name": "Unnamed: 27",
         "dtype": "object",
         "stats": {
          "unique_count": 1,
          "nan_count": 9,
          "categories": [
           {
            "name": "Trend (deg F)",
            "count": 1
           },
           {
            "name": "Missing",
            "count": 9
           }
          ]
         }
        },
        {
         "name": "H424",
         "dtype": "object",
         "stats": {
          "unique_count": 1,
          "nan_count": 9,
          "categories": [
           {
            "name": "Time",
            "count": 1
           },
           {
            "name": "Missing",
            "count": 9
           }
          ]
         }
        },
        {
         "name": "Unnamed: 29",
         "dtype": "object",
         "stats": {
          "unique_count": 1,
          "nan_count": 9,
          "categories": [
           {
            "name": "Trend (deg F)",
            "count": 1
           },
           {
            "name": "Missing",
            "count": 9
           }
          ]
         }
        },
        {
         "name": "H460",
         "dtype": "object",
         "stats": {
          "unique_count": 1,
          "nan_count": 9,
          "categories": [
           {
            "name": "Time",
            "count": 1
           },
           {
            "name": "Missing",
            "count": 9
           }
          ]
         }
        },
        {
         "name": "Unnamed: 31",
         "dtype": "object",
         "stats": {
          "unique_count": 1,
          "nan_count": 9,
          "categories": [
           {
            "name": "Trend (deg F)",
            "count": 1
           },
           {
            "name": "Missing",
            "count": 9
           }
          ]
         }
        },
        {
         "name": "H309.1",
         "dtype": "object",
         "stats": {
          "unique_count": 1,
          "nan_count": 9,
          "categories": [
           {
            "name": "Time",
            "count": 1
           },
           {
            "name": "Missing",
            "count": 9
           }
          ]
         }
        },
        {
         "name": "Unnamed: 33",
         "dtype": "object",
         "stats": {
          "unique_count": 1,
          "nan_count": 9,
          "categories": [
           {
            "name": "HUMIDITY %. Trend (%RH)",
            "count": 1
           },
           {
            "name": "Missing",
            "count": 9
           }
          ]
         }
        },
        {
         "name": "H353",
         "dtype": "object",
         "stats": {
          "unique_count": 1,
          "nan_count": 9,
          "categories": [
           {
            "name": "Time",
            "count": 1
           },
           {
            "name": "Missing",
            "count": 9
           }
          ]
         }
        },
        {
         "name": "Unnamed: 35",
         "dtype": "object",
         "stats": {
          "unique_count": 1,
          "nan_count": 9,
          "categories": [
           {
            "name": "HUMIDITY %. Trend (%RH)",
            "count": 1
           },
           {
            "name": "Missing",
            "count": 9
           }
          ]
         }
        },
        {
         "name": "H353.1",
         "dtype": "object",
         "stats": {
          "unique_count": 1,
          "nan_count": 9,
          "categories": [
           {
            "name": "Time",
            "count": 1
           },
           {
            "name": "Missing",
            "count": 9
           }
          ]
         }
        },
        {
         "name": "Unnamed: 37",
         "dtype": "object",
         "stats": {
          "unique_count": 1,
          "nan_count": 9,
          "categories": [
           {
            "name": "Trend (deg F)",
            "count": 1
           },
           {
            "name": "Missing",
            "count": 9
           }
          ]
         }
        },
        {
         "name": "TB01.1",
         "dtype": "object",
         "stats": {
          "unique_count": 1,
          "nan_count": 9,
          "categories": [
           {
            "name": "Time",
            "count": 1
           },
           {
            "name": "Missing",
            "count": 9
           }
          ]
         }
        },
        {
         "name": "Unnamed: 39",
         "dtype": "object",
         "stats": {
          "unique_count": 1,
          "nan_count": 9,
          "categories": [
           {
            "name": "Trend (deg F)",
            "count": 1
           },
           {
            "name": "Missing",
            "count": 9
           }
          ]
         }
        },
        {
         "name": "_deepnote_index_column",
         "dtype": "int64"
        }
       ],
       "rows": [
        {
         "TB15": "Time",
         "Unnamed: 1": "Trend (deg F)",
         "T302": "Time",
         "Unnamed: 3": "Trend (deg F)",
         "T303": "Time",
         "Unnamed: 5": "Trend (deg F)",
         "T446": "Time",
         "Unnamed: 7": "Trend (deg F)",
         "T449": "Time",
         "Unnamed: 9": "Trend (deg F)",
         "T454": "Time",
         "Unnamed: 11": "Trend (deg F)",
         "T Building": "Time",
         "Unnamed: 13": "OUTSIDE HUMIDTY.Trend (RH%)",
         "T Building.1": "Time",
         "Unnamed: 15": "OA-T.Trend (deg F)",
         "T Building.2": "Time",
         "Unnamed: 17": "OUTSIDE ENTHALPY.Trend (Btu/lb)",
         "TB01": "Time",
         "Unnamed: 19": "HUMIDITY %. Trend (%RH)",
         "T454.1": "Time",
         "Unnamed: 21": "HUMIDITY %. Trend (%RH)",
         "H309": "Time",
         "Unnamed: 23": "Trend (deg F)",
         "H351": "Time",
         "Unnamed: 25": "Trend (deg F)",
         "H355": "Time",
         "Unnamed: 27": "Trend (deg F)",
         "H424": "Time",
         "Unnamed: 29": "Trend (deg F)",
         "H460": "Time",
         "Unnamed: 31": "Trend (deg F)",
         "H309.1": "Time",
         "Unnamed: 33": "HUMIDITY %. Trend (%RH)",
         "H353": "Time",
         "Unnamed: 35": "HUMIDITY %. Trend (%RH)",
         "H353.1": "Time",
         "Unnamed: 37": "Trend (deg F)",
         "TB01.1": "Time",
         "Unnamed: 39": "Trend (deg F)",
         "_deepnote_index_column": 0
        },
        {
         "TB15": "4/27/21 1:00:00 PM EDT",
         "Unnamed: 1": "74.99469",
         "T302": "nan",
         "Unnamed: 3": "nan",
         "T303": "4/27/21 12:00:00 PM EDT",
         "Unnamed: 5": "71.69919",
         "T446": "4/27/21 1:00:00 PM EDT",
         "Unnamed: 7": "72.0625",
         "T449": "4/27/21 1:00:00 PM EDT",
         "Unnamed: 9": "72.86691",
         "T454": "4/27/21 1:00:00 PM EDT",
         "Unnamed: 11": "71.9068",
         "T Building": "nan",
         "Unnamed: 13": "nan",
         "T Building.1": "nan",
         "Unnamed: 15": "nan",
         "T Building.2": "nan",
         "Unnamed: 17": "nan",
         "TB01": "nan",
         "Unnamed: 19": "nan",
         "T454.1": "nan",
         "Unnamed: 21": "nan",
         "H309": "nan",
         "Unnamed: 23": "nan",
         "H351": "nan",
         "Unnamed: 25": "nan",
         "H355": "nan",
         "Unnamed: 27": "nan",
         "H424": "nan",
         "Unnamed: 29": "nan",
         "H460": "nan",
         "Unnamed: 31": "nan",
         "H309.1": "nan",
         "Unnamed: 33": "nan",
         "H353": "nan",
         "Unnamed: 35": "nan",
         "H353.1": "nan",
         "Unnamed: 37": "nan",
         "TB01.1": "nan",
         "Unnamed: 39": "nan",
         "_deepnote_index_column": 1
        },
        {
         "TB15": "4/27/21 2:00:00 PM EDT",
         "Unnamed: 1": "74.29407",
         "T302": "nan",
         "Unnamed: 3": "nan",
         "T303": "4/27/21 1:00:00 PM EDT",
         "Unnamed: 5": "71.7511",
         "T446": "4/27/21 2:00:00 PM EDT",
         "Unnamed: 7": "72.91879",
         "T449": "4/27/21 2:00:00 PM EDT",
         "Unnamed: 9": "72.45172",
         "T454": "4/27/21 2:00:00 PM EDT",
         "Unnamed: 11": "72.45172",
         "T Building": "nan",
         "Unnamed: 13": "nan",
         "T Building.1": "nan",
         "Unnamed: 15": "nan",
         "T Building.2": "nan",
         "Unnamed: 17": "nan",
         "TB01": "nan",
         "Unnamed: 19": "nan",
         "T454.1": "nan",
         "Unnamed: 21": "nan",
         "H309": "nan",
         "Unnamed: 23": "nan",
         "H351": "nan",
         "Unnamed: 25": "nan",
         "H355": "nan",
         "Unnamed: 27": "nan",
         "H424": "nan",
         "Unnamed: 29": "nan",
         "H460": "nan",
         "Unnamed: 31": "nan",
         "H309.1": "nan",
         "Unnamed: 33": "nan",
         "H353": "nan",
         "Unnamed: 35": "nan",
         "H353.1": "nan",
         "Unnamed: 37": "nan",
         "TB01.1": "nan",
         "Unnamed: 39": "nan",
         "_deepnote_index_column": 2
        },
        {
         "TB15": "4/27/21 3:00:00 PM EDT",
         "Unnamed: 1": "74.78711",
         "T302": "nan",
         "Unnamed: 3": "nan",
         "T303": "4/27/21 2:00:00 PM EDT",
         "Unnamed: 5": "71.64728",
         "T446": "4/27/21 3:00:00 PM EDT",
         "Unnamed: 7": "72.0625",
         "T449": "4/27/21 3:00:00 PM EDT",
         "Unnamed: 9": "72.55551",
         "T454": "4/27/21 3:00:00 PM EDT",
         "Unnamed: 11": "72.0625",
         "T Building": "nan",
         "Unnamed: 13": "nan",
         "T Building.1": "nan",
         "Unnamed: 15": "nan",
         "T Building.2": "nan",
         "Unnamed: 17": "nan",
         "TB01": "nan",
         "Unnamed: 19": "nan",
         "T454.1": "nan",
         "Unnamed: 21": "nan",
         "H309": "nan",
         "Unnamed: 23": "nan",
         "H351": "nan",
         "Unnamed: 25": "nan",
         "H355": "nan",
         "Unnamed: 27": "nan",
         "H424": "nan",
         "Unnamed: 29": "nan",
         "H460": "nan",
         "Unnamed: 31": "nan",
         "H309.1": "nan",
         "Unnamed: 33": "nan",
         "H353": "nan",
         "Unnamed: 35": "nan",
         "H353.1": "nan",
         "Unnamed: 37": "nan",
         "TB01.1": "nan",
         "Unnamed: 39": "nan",
         "_deepnote_index_column": 3
        },
        {
         "TB15": "4/27/21 4:00:00 PM EDT",
         "Unnamed: 1": "74.47571",
         "T302": "nan",
         "Unnamed: 3": "nan",
         "T303": "4/27/21 3:00:00 PM EDT",
         "Unnamed: 5": "70.06445",
         "T446": "4/27/21 4:00:00 PM EDT",
         "Unnamed: 7": "72.01059",
         "T449": "4/27/21 4:00:00 PM EDT",
         "Unnamed: 9": "72.71118",
         "T454": "4/27/21 4:00:00 PM EDT",
         "Unnamed: 11": "72.01059",
         "T Building": "nan",
         "Unnamed: 13": "nan",
         "T Building.1": "nan",
         "Unnamed: 15": "nan",
         "T Building.2": "nan",
         "Unnamed: 17": "nan",
         "TB01": "nan",
         "Unnamed: 19": "nan",
         "T454.1": "nan",
         "Unnamed: 21": "nan",
         "H309": "nan",
         "Unnamed: 23": "nan",
         "H351": "nan",
         "Unnamed: 25": "nan",
         "H355": "nan",
         "Unnamed: 27": "nan",
         "H424": "nan",
         "Unnamed: 29": "nan",
         "H460": "nan",
         "Unnamed: 31": "nan",
         "H309.1": "nan",
         "Unnamed: 33": "nan",
         "H353": "nan",
         "Unnamed: 35": "nan",
         "H353.1": "nan",
         "Unnamed: 37": "nan",
         "TB01.1": "nan",
         "Unnamed: 39": "nan",
         "_deepnote_index_column": 4
        },
        {
         "TB15": "4/27/21 5:00:00 PM EDT",
         "Unnamed: 1": "74.47571",
         "T302": "nan",
         "Unnamed: 3": "nan",
         "T303": "4/27/21 4:00:00 PM EDT",
         "Unnamed: 5": "70.583405",
         "T446": "4/27/21 5:00:00 PM EDT",
         "Unnamed: 7": "72.01059",
         "T449": "4/27/21 5:00:00 PM EDT",
         "Unnamed: 9": "72.86691",
         "T454": "4/27/21 5:00:00 PM EDT",
         "Unnamed: 11": "72.14032",
         "T Building": "nan",
         "Unnamed: 13": "nan",
         "T Building.1": "nan",
         "Unnamed: 15": "nan",
         "T Building.2": "nan",
         "Unnamed: 17": "nan",
         "TB01": "nan",
         "Unnamed: 19": "nan",
         "T454.1": "nan",
         "Unnamed: 21": "nan",
         "H309": "nan",
         "Unnamed: 23": "nan",
         "H351": "nan",
         "Unnamed: 25": "nan",
         "H355": "nan",
         "Unnamed: 27": "nan",
         "H424": "nan",
         "Unnamed: 29": "nan",
         "H460": "nan",
         "Unnamed: 31": "nan",
         "H309.1": "nan",
         "Unnamed: 33": "nan",
         "H353": "nan",
         "Unnamed: 35": "nan",
         "H353.1": "nan",
         "Unnamed: 37": "nan",
         "TB01.1": "nan",
         "Unnamed: 39": "nan",
         "_deepnote_index_column": 5
        },
        {
         "TB15": "4/27/21 6:00:00 PM EDT",
         "Unnamed: 1": "74.8909",
         "T302": "nan",
         "Unnamed: 3": "nan",
         "T303": "4/27/21 5:00:00 PM EDT",
         "Unnamed: 5": "70.920746",
         "T446": "4/27/21 6:00:00 PM EDT",
         "Unnamed: 7": "73.12637",
         "T449": "4/27/21 6:00:00 PM EDT",
         "Unnamed: 9": "73.12637",
         "T454": "4/27/21 6:00:00 PM EDT",
         "Unnamed: 11": "72.815",
         "T Building": "nan",
         "Unnamed: 13": "nan",
         "T Building.1": "nan",
         "Unnamed: 15": "nan",
         "T Building.2": "nan",
         "Unnamed: 17": "nan",
         "TB01": "nan",
         "Unnamed: 19": "nan",
         "T454.1": "nan",
         "Unnamed: 21": "nan",
         "H309": "nan",
         "Unnamed: 23": "nan",
         "H351": "nan",
         "Unnamed: 25": "nan",
         "H355": "nan",
         "Unnamed: 27": "nan",
         "H424": "nan",
         "Unnamed: 29": "nan",
         "H460": "nan",
         "Unnamed: 31": "nan",
         "H309.1": "nan",
         "Unnamed: 33": "nan",
         "H353": "nan",
         "Unnamed: 35": "nan",
         "H353.1": "nan",
         "Unnamed: 37": "nan",
         "TB01.1": "nan",
         "Unnamed: 39": "nan",
         "_deepnote_index_column": 6
        },
        {
         "TB15": "4/27/21 7:00:00 PM EDT",
         "Unnamed: 1": "75.20227",
         "T302": "nan",
         "Unnamed: 3": "nan",
         "T303": "4/27/21 6:00:00 PM EDT",
         "Unnamed: 5": "71.28403",
         "T446": "4/27/21 7:00:00 PM EDT",
         "Unnamed: 7": "73.411804",
         "T449": "4/27/21 7:00:00 PM EDT",
         "Unnamed: 9": "72.815",
         "T454": "4/27/21 7:00:00 PM EDT",
         "Unnamed: 11": "73.256134",
         "T Building": "nan",
         "Unnamed: 13": "nan",
         "T Building.1": "nan",
         "Unnamed: 15": "nan",
         "T Building.2": "nan",
         "Unnamed: 17": "nan",
         "TB01": "nan",
         "Unnamed: 19": "nan",
         "T454.1": "nan",
         "Unnamed: 21": "nan",
         "H309": "nan",
         "Unnamed: 23": "nan",
         "H351": "nan",
         "Unnamed: 25": "nan",
         "H355": "nan",
         "Unnamed: 27": "nan",
         "H424": "nan",
         "Unnamed: 29": "nan",
         "H460": "nan",
         "Unnamed: 31": "nan",
         "H309.1": "nan",
         "Unnamed: 33": "nan",
         "H353": "nan",
         "Unnamed: 35": "nan",
         "H353.1": "nan",
         "Unnamed: 37": "nan",
         "TB01.1": "nan",
         "Unnamed: 39": "nan",
         "_deepnote_index_column": 7
        },
        {
         "TB15": "4/27/21 8:00:00 PM EDT",
         "Unnamed: 1": "75.46176",
         "T302": "nan",
         "Unnamed: 3": "nan",
         "T303": "4/27/21 7:00:00 PM EDT",
         "Unnamed: 5": "71.38782",
         "T446": "4/27/21 8:00:00 PM EDT",
         "Unnamed: 7": "73.515594",
         "T449": "4/27/21 8:00:00 PM EDT",
         "Unnamed: 9": "72.24414",
         "T454": "4/27/21 8:00:00 PM EDT",
         "Unnamed: 11": "73.411804",
         "T Building": "nan",
         "Unnamed: 13": "nan",
         "T Building.1": "nan",
         "Unnamed: 15": "nan",
         "T Building.2": "nan",
         "Unnamed: 17": "nan",
         "TB01": "nan",
         "Unnamed: 19": "nan",
         "T454.1": "nan",
         "Unnamed: 21": "nan",
         "H309": "nan",
         "Unnamed: 23": "nan",
         "H351": "nan",
         "Unnamed: 25": "nan",
         "H355": "nan",
         "Unnamed: 27": "nan",
         "H424": "nan",
         "Unnamed: 29": "nan",
         "H460": "nan",
         "Unnamed: 31": "nan",
         "H309.1": "nan",
         "Unnamed: 33": "nan",
         "H353": "nan",
         "Unnamed: 35": "nan",
         "H353.1": "nan",
         "Unnamed: 37": "nan",
         "TB01.1": "nan",
         "Unnamed: 39": "nan",
         "_deepnote_index_column": 8
        },
        {
         "TB15": "4/27/21 9:00:00 PM EDT",
         "Unnamed: 1": "75.53958",
         "T302": "nan",
         "Unnamed: 3": "nan",
         "T303": "4/27/21 8:00:00 PM EDT",
         "Unnamed: 5": "71.07645",
         "T446": "4/27/21 9:00:00 PM EDT",
         "Unnamed: 7": "73.671295",
         "T449": "4/27/21 9:00:00 PM EDT",
         "Unnamed: 9": "73.12637",
         "T454": "4/27/21 9:00:00 PM EDT",
         "Unnamed: 11": "73.567505",
         "T Building": "nan",
         "Unnamed: 13": "nan",
         "T Building.1": "nan",
         "Unnamed: 15": "nan",
         "T Building.2": "nan",
         "Unnamed: 17": "nan",
         "TB01": "nan",
         "Unnamed: 19": "nan",
         "T454.1": "nan",
         "Unnamed: 21": "nan",
         "H309": "nan",
         "Unnamed: 23": "nan",
         "H351": "nan",
         "Unnamed: 25": "nan",
         "H355": "nan",
         "Unnamed: 27": "nan",
         "H424": "nan",
         "Unnamed: 29": "nan",
         "H460": "nan",
         "Unnamed: 31": "nan",
         "H309.1": "nan",
         "Unnamed: 33": "nan",
         "H353": "nan",
         "Unnamed: 35": "nan",
         "H353.1": "nan",
         "Unnamed: 37": "nan",
         "TB01.1": "nan",
         "Unnamed: 39": "nan",
         "_deepnote_index_column": 9
        }
       ]
      }
     },
     "metadata": {},
     "execution_count": 4
    }
   ],
   "metadata": {
    "tags": [],
    "deepnote_to_be_reexecuted": false,
    "source_hash": "f6405d54",
    "execution_start": 1640585479194,
    "execution_millis": 675,
    "cell_id": "00003-aa0aebab-2279-4a8f-8869-67a08c136afa",
    "deepnote_cell_type": "code"
   }
  },
  {
   "cell_type": "code",
   "execution_count": null,
   "source": [],
   "outputs": [],
   "metadata": {
    "cell_id": "00003-71bc6738-d67b-4e81-b8c7-75929d1c90ca",
    "deepnote_to_be_reexecuted": false,
    "source_hash": "b623e53d",
    "execution_start": 1640585481537,
    "execution_millis": 2,
    "deepnote_cell_type": "visualization"
   }
  },
  {
   "cell_type": "markdown",
   "source": [
    "## Raw Data Analysis\n",
    "What the data is trying to show is the temperature or humidity measurements for each lab for each time step. As we can see, there are some problems with the raw data that make it hard to process:\n",
    "\n",
    "1. For each lab, we have the <em>x</em> column (Time) and the <em>y</em> column (Temperature or Humidity). Because of the structure of the dataframe, if you query a lab name, you will only get the column of time steps because the <em>y</em> column is under an 'Unnamed' header.\n",
    "\n",
    "2. For some columns, such as Lab TB01, the information is very scattered and temperature is found in a different spot than the data for humidity, meaning there are multiple column headers for 'TB01'\n",
    "\n",
    "3. Some columns and subcolumns are unlabeled or labeled differently (lab name uses 'Hamilton' instead of 'H')."
   ],
   "metadata": {
    "cell_id": "00004-1792c42d-223e-4ce7-8070-a2b75205a659",
    "deepnote_cell_type": "markdown"
   }
  },
  {
   "cell_type": "markdown",
   "source": [
    "## Initial Data Transformation\n",
    "To address the problems above, we'll perform the following transformations on the data:\n",
    "<ul>\n",
    "    <li>Before opening and reading the csv file into our program, we make the following changes (if needed) to the file:\n",
    "        <ul>\n",
    "            <li>Make sure all lab names begin with the first letter of the building name ('T' or 'H') followed by their building number (ex: H309).</li>\n",
    "            <li>Make sure all columns related to a specific lab are consolidated in one place, for example, all meausurements for TB01 are in consecutive columns such that there is only one `Time` column for  TB01.</li>\n",
    "            <li>Make sure all subcolumns are named and are identical across all labs. In this case, all columns for temperature have been named 'Trend (deg F)' and all columns for humidity have been named `HUMIDITY %. Trend (%RH)`.</li>\n",
    "            <li>General metrics that include building measurements (ex: Outside Temperature) should be named `T Building` or `H Building`. What matters is the key word 'Building.'</li>\n",
    "            <li>Note: in order for the program to run, the structure of the data before loading in the file must match this exactly, including the namings for the columns and subcolumns. THe final transformed data can be found in 'LabTempTrends.csv' in 'Documentation.'</li>\n",
    "        </ul>\n",
    "    </li>\n",
    "    <li>Next, we'll alter the overarching data structure `labs` to be a collection of dataframes rather than just one dataframe that contains all the information. The keys of the this dictionary will be the lab name which will point to a dataframe which contains columns for Time, Temperature, and Humidity (if applicable).</li>\n",
    "    <li>Finally, to store the general metrics, we create a deparate dataframe called `TlabGeneral` to store measurements regarding 'T Building.'</li>\n",
    "</ul>"
   ],
   "metadata": {
    "cell_id": "00005-fc535b83-9b1a-4ef2-a254-58c5d372267f",
    "deepnote_cell_type": "markdown"
   }
  },
  {
   "cell_type": "code",
   "execution_count": null,
   "source": [
    "labs = {}\n",
    "TlabGeneral = pd.DataFrame(columns=[])\n",
    "\n",
    "for col in df:\n",
    "    # the structure of the data implies the info under each named column (i.e. 'TB01') is the Time column\n",
    "    if 'Unnamed' not in col:\n",
    "        # get the column to the right of the Time column (i.e. Temperature column)\n",
    "        temp_col = df.iloc[:,df.columns.get_indexer([col])+1]\n",
    "        for a in temp_col:\n",
    "            next_col = temp_col[a]\n",
    "        col1 = df[col][1:]\n",
    "        col2 = next_col[1:]\n",
    "\n",
    "        # if lab has already been visited, just insert new column into the existing dataframe for that lab\n",
    "        if col[:4] in labs:\n",
    "            labs[col[:4]][next_col[0]] = col2\n",
    "        else:\n",
    "            # otherwise, create a new dataframe for that lab\n",
    "            df2 = pd.DataFrame(columns=[df[col][0],next_col[0]])\n",
    "            df2[df[col][0]] = col1\n",
    "            df2[next_col[0]] = col2\n",
    "\n",
    "            # add to general metrics data structure\n",
    "            if 'Building' in col:\n",
    "                if df[col][0] not in TlabGeneral.columns:\n",
    "                    TlabGeneral[df[col][0]] = col1\n",
    "                TlabGeneral[next_col[0]] = col2\n",
    "            # add to labs data structure\n",
    "            else:\n",
    "                labs[col[:4]] = df2\n",
    "print(labs)"
   ],
   "outputs": [
    {
     "output_type": "stream",
     "name": "stdout",
     "text": [
      "{'TB15':                         Time Trend (deg F)\n",
      "1     4/27/21 1:00:00 PM EDT      74.99469\n",
      "2     4/27/21 2:00:00 PM EDT      74.29407\n",
      "3     4/27/21 3:00:00 PM EDT      74.78711\n",
      "4     4/27/21 4:00:00 PM EDT      74.47571\n",
      "5     4/27/21 5:00:00 PM EDT      74.47571\n",
      "...                      ...           ...\n",
      "3231             9/9/21 3:00          73.5\n",
      "3232             9/9/21 4:00          73.5\n",
      "3233             9/9/21 5:00          73.5\n",
      "3234             9/9/21 6:00          72.7\n",
      "3235             9/9/21 7:00          72.7\n",
      "\n",
      "[3235 rows x 2 columns], 'T302':              Time Trend (deg F)\n",
      "1             NaN           NaN\n",
      "2             NaN           NaN\n",
      "3             NaN           NaN\n",
      "4             NaN           NaN\n",
      "5             NaN           NaN\n",
      "...           ...           ...\n",
      "3231  9/9/21 3:00          72.3\n",
      "3232  9/9/21 4:00          72.3\n",
      "3233  9/9/21 5:00          72.3\n",
      "3234  9/9/21 6:00          72.2\n",
      "3235  9/9/21 7:00          72.2\n",
      "\n",
      "[3235 rows x 2 columns], 'T303':                          Time Trend (deg F)\n",
      "1     4/27/21 12:00:00 PM EDT      71.69919\n",
      "2      4/27/21 1:00:00 PM EDT       71.7511\n",
      "3      4/27/21 2:00:00 PM EDT      71.64728\n",
      "4      4/27/21 3:00:00 PM EDT      70.06445\n",
      "5      4/27/21 4:00:00 PM EDT     70.583405\n",
      "...                       ...           ...\n",
      "3231              9/9/21 3:00          69.4\n",
      "3232              9/9/21 4:00          69.6\n",
      "3233              9/9/21 5:00          70.2\n",
      "3234              9/9/21 6:00          70.2\n",
      "3235              9/9/21 7:00          70.4\n",
      "\n",
      "[3235 rows x 2 columns], 'T446':                         Time Trend (deg F)\n",
      "1     4/27/21 1:00:00 PM EDT       72.0625\n",
      "2     4/27/21 2:00:00 PM EDT      72.91879\n",
      "3     4/27/21 3:00:00 PM EDT       72.0625\n",
      "4     4/27/21 4:00:00 PM EDT      72.01059\n",
      "5     4/27/21 5:00:00 PM EDT      72.01059\n",
      "...                      ...           ...\n",
      "3231             9/9/21 3:00          69.2\n",
      "3232             9/9/21 4:00          69.1\n",
      "3233             9/9/21 5:00          68.9\n",
      "3234             9/9/21 6:00          68.8\n",
      "3235             9/9/21 7:00          68.9\n",
      "\n",
      "[3235 rows x 2 columns], 'T449':                         Time Trend (deg F)\n",
      "1     4/27/21 1:00:00 PM EDT      72.86691\n",
      "2     4/27/21 2:00:00 PM EDT      72.45172\n",
      "3     4/27/21 3:00:00 PM EDT      72.55551\n",
      "4     4/27/21 4:00:00 PM EDT      72.71118\n",
      "5     4/27/21 5:00:00 PM EDT      72.86691\n",
      "...                      ...           ...\n",
      "3231             9/9/21 3:00            72\n",
      "3232             9/9/21 4:00          71.9\n",
      "3233             9/9/21 5:00          71.9\n",
      "3234             9/9/21 6:00          71.9\n",
      "3235             9/9/21 7:00          71.8\n",
      "\n",
      "[3235 rows x 2 columns], 'T454':                         Time Trend (deg F) HUMIDITY %. Trend (%RH)\n",
      "1     4/27/21 1:00:00 PM EDT       71.9068                     NaN\n",
      "2     4/27/21 2:00:00 PM EDT      72.45172                     NaN\n",
      "3     4/27/21 3:00:00 PM EDT       72.0625                     NaN\n",
      "4     4/27/21 4:00:00 PM EDT      72.01059                     NaN\n",
      "5     4/27/21 5:00:00 PM EDT      72.14032                     NaN\n",
      "...                      ...           ...                     ...\n",
      "3231             9/9/21 3:00          73.8                    60.9\n",
      "3232             9/9/21 4:00          73.7                    60.6\n",
      "3233             9/9/21 5:00            74                      60\n",
      "3234             9/9/21 6:00          74.1                    58.6\n",
      "3235             9/9/21 7:00            74                    55.4\n",
      "\n",
      "[3235 rows x 3 columns], 'TB01':              Time HUMIDITY %. Trend (%RH) Trend (deg F)\n",
      "1             NaN                     NaN           NaN\n",
      "2             NaN                     NaN           NaN\n",
      "3             NaN                     NaN           NaN\n",
      "4             NaN                     NaN           NaN\n",
      "5             NaN                     NaN           NaN\n",
      "...           ...                     ...           ...\n",
      "3231  9/9/21 3:00                    57.7          72.7\n",
      "3232  9/9/21 4:00                    57.8          72.6\n",
      "3233  9/9/21 5:00                    56.7          72.6\n",
      "3234  9/9/21 6:00                    56.2          72.6\n",
      "3235  9/9/21 7:00                    55.5          72.6\n",
      "\n",
      "[3235 rows x 3 columns], 'H309':              Time Trend (deg F) HUMIDITY %. Trend (%RH)\n",
      "1             NaN           NaN                     NaN\n",
      "2             NaN           NaN                     NaN\n",
      "3             NaN           NaN                     NaN\n",
      "4             NaN           NaN                     NaN\n",
      "5             NaN           NaN                     NaN\n",
      "...           ...           ...                     ...\n",
      "3231  9/9/21 3:00            70                      48\n",
      "3232  9/9/21 4:00            70                      47\n",
      "3233  9/9/21 5:00            70                      48\n",
      "3234  9/9/21 6:00          70.1                      49\n",
      "3235  9/9/21 7:00          69.5                      51\n",
      "\n",
      "[3235 rows x 3 columns], 'H351':              Time Trend (deg F)\n",
      "1             NaN           NaN\n",
      "2             NaN           NaN\n",
      "3             NaN           NaN\n",
      "4             NaN           NaN\n",
      "5             NaN           NaN\n",
      "...           ...           ...\n",
      "3231  9/9/21 3:00          69.9\n",
      "3232  9/9/21 4:00          69.9\n",
      "3233  9/9/21 5:00          69.9\n",
      "3234  9/9/21 6:00          69.8\n",
      "3235  9/9/21 7:00          69.9\n",
      "\n",
      "[3235 rows x 2 columns], 'H355':              Time Trend (deg F)\n",
      "1             NaN           NaN\n",
      "2             NaN           NaN\n",
      "3             NaN           NaN\n",
      "4             NaN           NaN\n",
      "5             NaN           NaN\n",
      "...           ...           ...\n",
      "3231  9/9/21 3:00          68.7\n",
      "3232  9/9/21 4:00          68.7\n",
      "3233  9/9/21 5:00          68.7\n",
      "3234  9/9/21 6:00          68.6\n",
      "3235  9/9/21 7:00          68.6\n",
      "\n",
      "[3235 rows x 2 columns], 'H424':              Time Trend (deg F)\n",
      "1             NaN           NaN\n",
      "2             NaN           NaN\n",
      "3             NaN           NaN\n",
      "4             NaN           NaN\n",
      "5             NaN           NaN\n",
      "...           ...           ...\n",
      "3231  9/9/21 3:00          70.6\n",
      "3232  9/9/21 4:00          70.6\n",
      "3233  9/9/21 5:00          70.6\n",
      "3234  9/9/21 6:00          70.6\n",
      "3235  9/9/21 7:00          70.4\n",
      "\n",
      "[3235 rows x 2 columns], 'H460':              Time Trend (deg F)\n",
      "1             NaN           NaN\n",
      "2             NaN           NaN\n",
      "3             NaN           NaN\n",
      "4             NaN           NaN\n",
      "5             NaN           NaN\n",
      "...           ...           ...\n",
      "3231  9/9/21 3:00          71.3\n",
      "3232  9/9/21 4:00          71.1\n",
      "3233  9/9/21 5:00          70.9\n",
      "3234  9/9/21 6:00          70.6\n",
      "3235  9/9/21 7:00          69.8\n",
      "\n",
      "[3235 rows x 2 columns], 'H353':              Time HUMIDITY %. Trend (%RH) Trend (deg F)\n",
      "1             NaN                     NaN           NaN\n",
      "2             NaN                     NaN           NaN\n",
      "3             NaN                     NaN           NaN\n",
      "4             NaN                     NaN           NaN\n",
      "5             NaN                     NaN           NaN\n",
      "...           ...                     ...           ...\n",
      "3231  9/9/21 3:00                      60          70.6\n",
      "3232  9/9/21 4:00                      59          70.6\n",
      "3233  9/9/21 5:00                      59          70.5\n",
      "3234  9/9/21 6:00                      60          70.5\n",
      "3235  9/9/21 7:00                      58          70.4\n",
      "\n",
      "[3235 rows x 3 columns]}\n"
     ]
    }
   ],
   "metadata": {
    "tags": [],
    "deepnote_to_be_reexecuted": false,
    "source_hash": "3545af8",
    "execution_start": 1640585485663,
    "execution_millis": 448,
    "cell_id": "00006-06bf1d0f-660e-489e-b635-a1d96d9e67d5",
    "deepnote_cell_type": "code"
   }
  },
  {
   "cell_type": "code",
   "execution_count": null,
   "source": [
    "# drop all null values\n",
    "\n",
    "for lab in labs.values():\n",
    "    lab.dropna(inplace=True)\n",
    "    \n",
    "TlabGeneral.dropna(inplace=True)"
   ],
   "outputs": [],
   "metadata": {
    "tags": [],
    "deepnote_to_be_reexecuted": false,
    "source_hash": "2b0441db",
    "execution_start": 1640585487141,
    "execution_millis": 166,
    "cell_id": "00007-6d96bc9b-8b8c-4956-b5b4-0ba003e7dba9",
    "deepnote_cell_type": "code"
   }
  },
  {
   "cell_type": "markdown",
   "source": [
    "### Column Adjustment and Setback\n",
    "\n",
    "`labsetback` is a dictionary used to store the setback information for all of the labs. Each lab has three conditions for the three time periods:\n",
    "<ul>\n",
    "    <li>Past - 7/28/21</li>\n",
    "    <li>7/29/21 - 11/9/21</li>\n",
    "    <li>11/10/21 - Present</li>\n",
    "</ul>\n",
    "\n",
    "The limits of these three time period can be found and altered in the `if` statements of `prepareCols()` below. Dates are formatted in datetime format such that `datetime.time(6, 0)` indicates 6 hours and 0 minutes or 6:00, and `datetime.datetime(2021, 7, 28)` indicates 7/28/2021 in month/day/year format. In `labsetback`, there is a start time and end time for each of the time periods. For example for lab H309, the first tuple is `(datetime.time(6, 0), datetime.time(18, 0))`, meaning that for Past - 7/28/21, the setback is turned on at 18:00 (or 6:00pm) and turned off at 6:00 (or 6:00am)."
   ],
   "metadata": {
    "tags": [],
    "cell_id": "00008-6045e1d1-16f1-4eb4-be99-f7c1499a4925",
    "deepnote_cell_type": "markdown"
   }
  },
  {
   "cell_type": "code",
   "execution_count": null,
   "source": [
    "labsetback = {\n",
    "    'H309': [\n",
    "        (datetime.time(6, 0), datetime.time(18, 0)), \n",
    "        (datetime.time(0, 0), datetime.time(0, 0)), \n",
    "        (datetime.time(5, 0), datetime.time(19, 0))\n",
    "    ],\n",
    "    'H351': [\n",
    "        (datetime.time(6, 0), datetime.time(18, 0)), \n",
    "        (datetime.time(0, 0), datetime.time(0, 0)), \n",
    "        (datetime.time(5, 0), datetime.time(19, 0))\n",
    "    ],\n",
    "    'H353': [\n",
    "        (datetime.time(6, 0), datetime.time(18, 0)), \n",
    "        (datetime.time(0, 0), datetime.time(0, 0)), \n",
    "        (datetime.time(5, 0), datetime.time(19, 0))\n",
    "    ],\n",
    "    'H355': [\n",
    "        (datetime.time(6, 0), datetime.time(18, 0)), \n",
    "        (datetime.time(0, 0), datetime.time(0, 0)), \n",
    "        (datetime.time(5, 0), datetime.time(19, 0))\n",
    "    ],\n",
    "    'H424': [\n",
    "        (datetime.time(6, 0), datetime.time(18, 0)), \n",
    "        (datetime.time(0, 0), datetime.time(0, 0)), \n",
    "        (datetime.time(5, 0), datetime.time(19, 0))\n",
    "    ],\n",
    "    'H460': [\n",
    "        (datetime.time(6, 0), datetime.time(18, 0)), \n",
    "        (datetime.time(0, 0), datetime.time(0, 0)), \n",
    "        (datetime.time(5, 0), datetime.time(19, 0))\n",
    "    ],\n",
    "    'TB01': [\n",
    "        (datetime.time(6, 0), datetime.time(19, 0)), \n",
    "        (datetime.time(0, 0), datetime.time(0, 0)), \n",
    "        (datetime.time(5, 0), datetime.time(19, 0))\n",
    "    ],\n",
    "    'T446': [\n",
    "        (datetime.time(0, 0), datetime.time(0, 0)), \n",
    "        (datetime.time(0, 0), datetime.time(0, 0)), \n",
    "        (datetime.time(0, 0), datetime.time(0, 0))\n",
    "    ],\n",
    "    'T302': [\n",
    "        (datetime.time(0, 0), datetime.time(0, 0)), \n",
    "        (datetime.time(0, 0), datetime.time(0, 0)), \n",
    "        (datetime.time(0, 0), datetime.time(0, 0))\n",
    "    ],\n",
    "    'T303': [\n",
    "        (datetime.time(0, 0), datetime.time(0, 0)), \n",
    "        (datetime.time(0, 0), datetime.time(0, 0)), \n",
    "        (datetime.time(0, 0), datetime.time(0, 0))\n",
    "    ],\n",
    "}"
   ],
   "outputs": [],
   "metadata": {
    "tags": [],
    "deepnote_to_be_reexecuted": false,
    "source_hash": "c62ff7f3",
    "execution_start": 1640585490494,
    "execution_millis": 68,
    "cell_id": "00009-a18d0dd6-dae1-4505-840c-6aa16c7a1fd3",
    "deepnote_cell_type": "code"
   }
  },
  {
   "cell_type": "markdown",
   "source": [
    "#### Hour and Month Parameters\n",
    "Rather than doing a time series split, we thought that the hour of the day and the month was more important than the sequential temporal order of the data. We consider the hour of the day since the setback condition and internal lab conditions often change similarly throughout the day, and we consider the month to account for seasonal cycles.\n",
    "\n",
    "Note: `prepareCols()` takes in the lab data (dataframe) as well as its name (string). Thus, an example call would be `prepareCols(labs['TB01'], 'TB01')` where `labs['TB01']` fetches the specific dataframe from the `labs` dictionary."
   ],
   "metadata": {
    "tags": [],
    "cell_id": "00010-27ab3111-b63c-4f9c-b12a-443a76616506",
    "deepnote_cell_type": "markdown"
   }
  },
  {
   "cell_type": "code",
   "execution_count": null,
   "source": [
    "def prepareCols(lab, labname):\n",
    "    datetimes = pd.to_datetime(lab['Time'])\n",
    "    lab['Hour'] = [datetime.datetime.time(d) for d in datetimes]\n",
    "    lab['Month'] = [d.month for d in datetimes]\n",
    "    # lab['Weekday'] = pd.to_datetime(lab['Time']).apply(lambda x: x.weekday())\n",
    "\n",
    "    if labname in labsetback:\n",
    "        setbacks = []\n",
    "        setbackdict = labsetback[labname]\n",
    "\n",
    "        for index, row in lab.iterrows():\n",
    "            # first time period Past - 7/28/21\n",
    "            if pd.to_datetime(row['Time']) <= datetime.datetime(2021, 7, 28):\n",
    "                end, start = setbackdict[0]\n",
    "                if row['Hour'] <= end or row['Hour'] >= start:\n",
    "                    setbacks.append(1)\n",
    "                else:\n",
    "                    setbacks.append(0)\n",
    "            # second time period 7/29/21 - 11/9/2021\n",
    "            elif pd.to_datetime(row['Time']) <= datetime.datetime(2021, 11, 9):\n",
    "                end, start = setbackdict[1]\n",
    "                if row['Hour'] <= end or row['Hour'] >= start:\n",
    "                    setbacks.append(1)\n",
    "                else:\n",
    "                    setbacks.append(0)\n",
    "            # third time period 11/10/21 - Present\n",
    "            else:\n",
    "                end, start = setbackdict[2]\n",
    "                if row['Hour'] <= end or row['Hour'] >= start:\n",
    "                    setbacks.append(1)\n",
    "                else:\n",
    "                    setbacks.append(0)\n",
    "    # if lab is not in labsetback, it means setback is never turned on\n",
    "    else:\n",
    "        setbacks = [0] * len(datetimes)\n",
    "\n",
    "\n",
    "\n",
    "    lab['Setback'] = setbacks\n",
    "    # lab.drop([\"Weekday\"], 1, inplace=True)\n",
    "\n",
    "    for index, row in lab.iterrows():\n",
    "        lab.loc[index, 'Hour'] = row['Hour'].hour\n",
    "\n",
    "    return lab\n"
   ],
   "outputs": [],
   "metadata": {
    "tags": [],
    "deepnote_to_be_reexecuted": false,
    "source_hash": "44cf83ef",
    "execution_start": 1640585508988,
    "execution_millis": 1,
    "cell_id": "00010-76a2cd8c-8888-4dea-8f2b-163bc8c6986d",
    "deepnote_cell_type": "code"
   }
  },
  {
   "cell_type": "markdown",
   "source": [
    "### Adding General Metrics\n",
    "\n",
    "We write `addGeneral()` to add Outside Temperature as a parameter in our temperature model.\n",
    "<br />\n",
    "Note: Measurements for Outside Temperature for the general T Building do not begin until after measurements for individual labs have already begun. To keep the data consistent in the training and testing of our model, we drop all data for the timesteps that are missing one or more of the parameters. So if Outside Temperature is not measured for the first 100 timesteps, we drop all of the data for those first 100 timesteps and do not take it into account for our model. We only consider data where all measurements - Time, Temperature, Setback, Outside Temperature - exist."
   ],
   "metadata": {
    "tags": [],
    "cell_id": "00012-d0f12c4a-2ea6-4608-a5ec-9bfb8e9b9380",
    "deepnote_cell_type": "markdown"
   }
  },
  {
   "cell_type": "code",
   "execution_count": null,
   "source": [
    "def addGeneral(lab, TlabGeneral):\n",
    "    lab['Outside Temp'] = [np.nan] * len(list(lab['Time']))\n",
    "    for index, row in lab.iterrows():\n",
    "        gen_row = np.where(TlabGeneral[\"Time\"] == row['Time'])\n",
    "        if gen_row[0]:\n",
    "            lab.loc[index, 'Outside Temp'] = TlabGeneral.iloc[gen_row[0][0]]['OA-T.Trend (deg F)']\n",
    "    lab.dropna(inplace=True)\n",
    "    print(lab)\n",
    "    return lab\n"
   ],
   "outputs": [],
   "metadata": {
    "tags": [],
    "deepnote_to_be_reexecuted": false,
    "source_hash": "a14ba27",
    "execution_start": 1640585512028,
    "execution_millis": 8,
    "cell_id": "00013-44baec20-c87a-4d25-a4d0-a693c5bebe48",
    "deepnote_cell_type": "code"
   }
  },
  {
   "cell_type": "markdown",
   "source": [
    "### Summary Lab\n",
    "\n",
    "This dataframe contains all the data about the features for each lab. As shown in the table, these include features such as number of windows, quantitiy of hoods, floor number, and equipment systems."
   ],
   "metadata": {
    "tags": [],
    "cell_id": "00014-a84c743c-9380-48a0-b2b0-f954d2d70997",
    "deepnote_cell_type": "markdown"
   }
  },
  {
   "cell_type": "code",
   "execution_count": null,
   "source": [
    "path = \"./HVACSummary.csv\"\n",
    "df_s = pd.read_csv(path)\n",
    "df_s.head()"
   ],
   "outputs": [
    {
     "output_type": "execute_result",
     "data": {
      "text/plain": [
       "  LabTitle Building   Room # Floor  Qty of Hoods  Windows (North)  \\\n",
       "0     TB15        T     B-15   B-1           1.0              NaN   \n",
       "1     T302        T      302     3           1.0              NaN   \n",
       "2     T303        T      303     3           1.0              NaN   \n",
       "3     T446        T      446     4           1.0              NaN   \n",
       "4     T449        T  449/451     4           1.0              NaN   \n",
       "\n",
       "   Windows (West)  Windows (South)  Windows (East) Augmented Controls  \\\n",
       "0             NaN              NaN             2.0             A/C-43   \n",
       "1             2.0              NaN             NaN             A/C-23   \n",
       "2             NaN              NaN             2.0            A/C-23A   \n",
       "3             2.0              NaN             NaN             A/C-22   \n",
       "4             NaN              NaN             2.0            A/C-13B   \n",
       "\n",
       "           Sensors Description HVAC Systems Supplying Room  \\\n",
       "0  JCI  TE-6314P-1 Temperature                       AHU-8   \n",
       "1              JCI  TE-6314P-1                       AHU-6   \n",
       "2              JCI  TE-6314P-1                       AHU-8   \n",
       "3              JCI  TE-6314P-1                      AHU-12   \n",
       "4              JCI  TE-6314P-1                      AHU-15   \n",
       "\n",
       "  Exhaust/Return System  Unnamed: 13  \n",
       "0                  EF-4          NaN  \n",
       "1                  EF-4          NaN  \n",
       "2                  EF-4          NaN  \n",
       "3                 EF-11          NaN  \n",
       "4                 EF-11          NaN  "
      ],
      "text/html": [
       "<div>\n",
       "<style scoped>\n",
       "    .dataframe tbody tr th:only-of-type {\n",
       "        vertical-align: middle;\n",
       "    }\n",
       "\n",
       "    .dataframe tbody tr th {\n",
       "        vertical-align: top;\n",
       "    }\n",
       "\n",
       "    .dataframe thead th {\n",
       "        text-align: right;\n",
       "    }\n",
       "</style>\n",
       "<table border=\"1\" class=\"dataframe\">\n",
       "  <thead>\n",
       "    <tr style=\"text-align: right;\">\n",
       "      <th></th>\n",
       "      <th>LabTitle</th>\n",
       "      <th>Building</th>\n",
       "      <th>Room #</th>\n",
       "      <th>Floor</th>\n",
       "      <th>Qty of Hoods</th>\n",
       "      <th>Windows (North)</th>\n",
       "      <th>Windows (West)</th>\n",
       "      <th>Windows (South)</th>\n",
       "      <th>Windows (East)</th>\n",
       "      <th>Augmented Controls</th>\n",
       "      <th>Sensors Description</th>\n",
       "      <th>HVAC Systems Supplying Room</th>\n",
       "      <th>Exhaust/Return System</th>\n",
       "      <th>Unnamed: 13</th>\n",
       "    </tr>\n",
       "  </thead>\n",
       "  <tbody>\n",
       "    <tr>\n",
       "      <th>0</th>\n",
       "      <td>TB15</td>\n",
       "      <td>T</td>\n",
       "      <td>B-15</td>\n",
       "      <td>B-1</td>\n",
       "      <td>1.0</td>\n",
       "      <td>NaN</td>\n",
       "      <td>NaN</td>\n",
       "      <td>NaN</td>\n",
       "      <td>2.0</td>\n",
       "      <td>A/C-43</td>\n",
       "      <td>JCI  TE-6314P-1 Temperature</td>\n",
       "      <td>AHU-8</td>\n",
       "      <td>EF-4</td>\n",
       "      <td>NaN</td>\n",
       "    </tr>\n",
       "    <tr>\n",
       "      <th>1</th>\n",
       "      <td>T302</td>\n",
       "      <td>T</td>\n",
       "      <td>302</td>\n",
       "      <td>3</td>\n",
       "      <td>1.0</td>\n",
       "      <td>NaN</td>\n",
       "      <td>2.0</td>\n",
       "      <td>NaN</td>\n",
       "      <td>NaN</td>\n",
       "      <td>A/C-23</td>\n",
       "      <td>JCI  TE-6314P-1</td>\n",
       "      <td>AHU-6</td>\n",
       "      <td>EF-4</td>\n",
       "      <td>NaN</td>\n",
       "    </tr>\n",
       "    <tr>\n",
       "      <th>2</th>\n",
       "      <td>T303</td>\n",
       "      <td>T</td>\n",
       "      <td>303</td>\n",
       "      <td>3</td>\n",
       "      <td>1.0</td>\n",
       "      <td>NaN</td>\n",
       "      <td>NaN</td>\n",
       "      <td>NaN</td>\n",
       "      <td>2.0</td>\n",
       "      <td>A/C-23A</td>\n",
       "      <td>JCI  TE-6314P-1</td>\n",
       "      <td>AHU-8</td>\n",
       "      <td>EF-4</td>\n",
       "      <td>NaN</td>\n",
       "    </tr>\n",
       "    <tr>\n",
       "      <th>3</th>\n",
       "      <td>T446</td>\n",
       "      <td>T</td>\n",
       "      <td>446</td>\n",
       "      <td>4</td>\n",
       "      <td>1.0</td>\n",
       "      <td>NaN</td>\n",
       "      <td>2.0</td>\n",
       "      <td>NaN</td>\n",
       "      <td>NaN</td>\n",
       "      <td>A/C-22</td>\n",
       "      <td>JCI  TE-6314P-1</td>\n",
       "      <td>AHU-12</td>\n",
       "      <td>EF-11</td>\n",
       "      <td>NaN</td>\n",
       "    </tr>\n",
       "    <tr>\n",
       "      <th>4</th>\n",
       "      <td>T449</td>\n",
       "      <td>T</td>\n",
       "      <td>449/451</td>\n",
       "      <td>4</td>\n",
       "      <td>1.0</td>\n",
       "      <td>NaN</td>\n",
       "      <td>NaN</td>\n",
       "      <td>NaN</td>\n",
       "      <td>2.0</td>\n",
       "      <td>A/C-13B</td>\n",
       "      <td>JCI  TE-6314P-1</td>\n",
       "      <td>AHU-15</td>\n",
       "      <td>EF-11</td>\n",
       "      <td>NaN</td>\n",
       "    </tr>\n",
       "  </tbody>\n",
       "</table>\n",
       "</div>"
      ],
      "application/vnd.deepnote.dataframe.v3+json": {
       "column_count": 14,
       "row_count": 5,
       "columns": [
        {
         "name": "LabTitle",
         "dtype": "object",
         "stats": {
          "unique_count": 5,
          "nan_count": 0,
          "categories": [
           {
            "name": "TB15",
            "count": 1
           },
           {
            "name": "T302",
            "count": 1
           },
           {
            "name": "3 others",
            "count": 3
           }
          ]
         }
        },
        {
         "name": "Building",
         "dtype": "object",
         "stats": {
          "unique_count": 1,
          "nan_count": 0,
          "categories": [
           {
            "name": "T",
            "count": 5
           }
          ]
         }
        },
        {
         "name": "Room #",
         "dtype": "object",
         "stats": {
          "unique_count": 5,
          "nan_count": 0,
          "categories": [
           {
            "name": "B-15",
            "count": 1
           },
           {
            "name": "302",
            "count": 1
           },
           {
            "name": "3 others",
            "count": 3
           }
          ]
         }
        },
        {
         "name": "Floor",
         "dtype": "object",
         "stats": {
          "unique_count": 3,
          "nan_count": 0,
          "categories": [
           {
            "name": "3",
            "count": 2
           },
           {
            "name": "4",
            "count": 2
           },
           {
            "name": "B-1",
            "count": 1
           }
          ]
         }
        },
        {
         "name": "Qty of Hoods",
         "dtype": "float64",
         "stats": {
          "unique_count": 1,
          "nan_count": 0,
          "min": "1.0",
          "max": "1.0",
          "histogram": [
           {
            "bin_start": 0.5,
            "bin_end": 0.6,
            "count": 0
           },
           {
            "bin_start": 0.6,
            "bin_end": 0.7,
            "count": 0
           },
           {
            "bin_start": 0.7,
            "bin_end": 0.8,
            "count": 0
           },
           {
            "bin_start": 0.8,
            "bin_end": 0.9,
            "count": 0
           },
           {
            "bin_start": 0.9,
            "bin_end": 1,
            "count": 0
           },
           {
            "bin_start": 1,
            "bin_end": 1.1,
            "count": 5
           },
           {
            "bin_start": 1.1,
            "bin_end": 1.2000000000000002,
            "count": 0
           },
           {
            "bin_start": 1.2000000000000002,
            "bin_end": 1.3,
            "count": 0
           },
           {
            "bin_start": 1.3,
            "bin_end": 1.4,
            "count": 0
           },
           {
            "bin_start": 1.4,
            "bin_end": 1.5,
            "count": 0
           }
          ]
         }
        },
        {
         "name": "Windows (North)",
         "dtype": "float64",
         "stats": {
          "unique_count": 0,
          "nan_count": 5,
          "min": null,
          "max": null,
          "histogram": [
           {
            "bin_start": 0,
            "bin_end": 0.1,
            "count": 0
           },
           {
            "bin_start": 0.1,
            "bin_end": 0.2,
            "count": 0
           },
           {
            "bin_start": 0.2,
            "bin_end": 0.30000000000000004,
            "count": 0
           },
           {
            "bin_start": 0.30000000000000004,
            "bin_end": 0.4,
            "count": 0
           },
           {
            "bin_start": 0.4,
            "bin_end": 0.5,
            "count": 0
           },
           {
            "bin_start": 0.5,
            "bin_end": 0.6000000000000001,
            "count": 0
           },
           {
            "bin_start": 0.6000000000000001,
            "bin_end": 0.7000000000000001,
            "count": 0
           },
           {
            "bin_start": 0.7000000000000001,
            "bin_end": 0.8,
            "count": 0
           },
           {
            "bin_start": 0.8,
            "bin_end": 0.9,
            "count": 0
           },
           {
            "bin_start": 0.9,
            "bin_end": 1,
            "count": 0
           }
          ]
         }
        },
        {
         "name": "Windows (West)",
         "dtype": "float64",
         "stats": {
          "unique_count": 1,
          "nan_count": 3,
          "min": "2.0",
          "max": "2.0",
          "histogram": [
           {
            "bin_start": 1.5,
            "bin_end": 1.6,
            "count": 0
           },
           {
            "bin_start": 1.6,
            "bin_end": 1.7,
            "count": 0
           },
           {
            "bin_start": 1.7,
            "bin_end": 1.8,
            "count": 0
           },
           {
            "bin_start": 1.8,
            "bin_end": 1.9,
            "count": 0
           },
           {
            "bin_start": 1.9,
            "bin_end": 2,
            "count": 0
           },
           {
            "bin_start": 2,
            "bin_end": 2.1,
            "count": 2
           },
           {
            "bin_start": 2.1,
            "bin_end": 2.2,
            "count": 0
           },
           {
            "bin_start": 2.2,
            "bin_end": 2.3,
            "count": 0
           },
           {
            "bin_start": 2.3,
            "bin_end": 2.4,
            "count": 0
           },
           {
            "bin_start": 2.4,
            "bin_end": 2.5,
            "count": 0
           }
          ]
         }
        },
        {
         "name": "Windows (South)",
         "dtype": "float64",
         "stats": {
          "unique_count": 0,
          "nan_count": 5,
          "min": null,
          "max": null,
          "histogram": [
           {
            "bin_start": 0,
            "bin_end": 0.1,
            "count": 0
           },
           {
            "bin_start": 0.1,
            "bin_end": 0.2,
            "count": 0
           },
           {
            "bin_start": 0.2,
            "bin_end": 0.30000000000000004,
            "count": 0
           },
           {
            "bin_start": 0.30000000000000004,
            "bin_end": 0.4,
            "count": 0
           },
           {
            "bin_start": 0.4,
            "bin_end": 0.5,
            "count": 0
           },
           {
            "bin_start": 0.5,
            "bin_end": 0.6000000000000001,
            "count": 0
           },
           {
            "bin_start": 0.6000000000000001,
            "bin_end": 0.7000000000000001,
            "count": 0
           },
           {
            "bin_start": 0.7000000000000001,
            "bin_end": 0.8,
            "count": 0
           },
           {
            "bin_start": 0.8,
            "bin_end": 0.9,
            "count": 0
           },
           {
            "bin_start": 0.9,
            "bin_end": 1,
            "count": 0
           }
          ]
         }
        },
        {
         "name": "Windows (East)",
         "dtype": "float64",
         "stats": {
          "unique_count": 1,
          "nan_count": 2,
          "min": "2.0",
          "max": "2.0",
          "histogram": [
           {
            "bin_start": 1.5,
            "bin_end": 1.6,
            "count": 0
           },
           {
            "bin_start": 1.6,
            "bin_end": 1.7,
            "count": 0
           },
           {
            "bin_start": 1.7,
            "bin_end": 1.8,
            "count": 0
           },
           {
            "bin_start": 1.8,
            "bin_end": 1.9,
            "count": 0
           },
           {
            "bin_start": 1.9,
            "bin_end": 2,
            "count": 0
           },
           {
            "bin_start": 2,
            "bin_end": 2.1,
            "count": 3
           },
           {
            "bin_start": 2.1,
            "bin_end": 2.2,
            "count": 0
           },
           {
            "bin_start": 2.2,
            "bin_end": 2.3,
            "count": 0
           },
           {
            "bin_start": 2.3,
            "bin_end": 2.4,
            "count": 0
           },
           {
            "bin_start": 2.4,
            "bin_end": 2.5,
            "count": 0
           }
          ]
         }
        },
        {
         "name": "Augmented Controls",
         "dtype": "object",
         "stats": {
          "unique_count": 5,
          "nan_count": 0,
          "categories": [
           {
            "name": "A/C-43",
            "count": 1
           },
           {
            "name": "A/C-23",
            "count": 1
           },
           {
            "name": "3 others",
            "count": 3
           }
          ]
         }
        },
        {
         "name": "Sensors Description",
         "dtype": "object",
         "stats": {
          "unique_count": 2,
          "nan_count": 0,
          "categories": [
           {
            "name": "JCI  TE-6314P-1",
            "count": 4
           },
           {
            "name": "JCI  TE-6314P-1 Temperature",
            "count": 1
           }
          ]
         }
        },
        {
         "name": "HVAC Systems Supplying Room",
         "dtype": "object",
         "stats": {
          "unique_count": 4,
          "nan_count": 0,
          "categories": [
           {
            "name": "AHU-8",
            "count": 2
           },
           {
            "name": "AHU-6",
            "count": 1
           },
           {
            "name": "2 others",
            "count": 2
           }
          ]
         }
        },
        {
         "name": "Exhaust/Return System",
         "dtype": "object",
         "stats": {
          "unique_count": 2,
          "nan_count": 0,
          "categories": [
           {
            "name": "EF-4",
            "count": 3
           },
           {
            "name": "EF-11",
            "count": 2
           }
          ]
         }
        },
        {
         "name": "Unnamed: 13",
         "dtype": "float64",
         "stats": {
          "unique_count": 0,
          "nan_count": 5,
          "min": null,
          "max": null,
          "histogram": [
           {
            "bin_start": 0,
            "bin_end": 0.1,
            "count": 0
           },
           {
            "bin_start": 0.1,
            "bin_end": 0.2,
            "count": 0
           },
           {
            "bin_start": 0.2,
            "bin_end": 0.30000000000000004,
            "count": 0
           },
           {
            "bin_start": 0.30000000000000004,
            "bin_end": 0.4,
            "count": 0
           },
           {
            "bin_start": 0.4,
            "bin_end": 0.5,
            "count": 0
           },
           {
            "bin_start": 0.5,
            "bin_end": 0.6000000000000001,
            "count": 0
           },
           {
            "bin_start": 0.6000000000000001,
            "bin_end": 0.7000000000000001,
            "count": 0
           },
           {
            "bin_start": 0.7000000000000001,
            "bin_end": 0.8,
            "count": 0
           },
           {
            "bin_start": 0.8,
            "bin_end": 0.9,
            "count": 0
           },
           {
            "bin_start": 0.9,
            "bin_end": 1,
            "count": 0
           }
          ]
         }
        },
        {
         "name": "_deepnote_index_column",
         "dtype": "int64"
        }
       ],
       "rows": [
        {
         "LabTitle": "TB15",
         "Building": "T",
         "Room #": "B-15",
         "Floor": "B-1",
         "Qty of Hoods": 1,
         "Windows (North)": "nan",
         "Windows (West)": "nan",
         "Windows (South)": "nan",
         "Windows (East)": 2,
         "Augmented Controls": "A/C-43",
         "Sensors Description": "JCI  TE-6314P-1 Temperature",
         "HVAC Systems Supplying Room": "AHU-8",
         "Exhaust/Return System": "EF-4",
         "Unnamed: 13": "nan",
         "_deepnote_index_column": 0
        },
        {
         "LabTitle": "T302",
         "Building": "T",
         "Room #": "302",
         "Floor": "3",
         "Qty of Hoods": 1,
         "Windows (North)": "nan",
         "Windows (West)": 2,
         "Windows (South)": "nan",
         "Windows (East)": "nan",
         "Augmented Controls": "A/C-23",
         "Sensors Description": "JCI  TE-6314P-1",
         "HVAC Systems Supplying Room": "AHU-6",
         "Exhaust/Return System": "EF-4",
         "Unnamed: 13": "nan",
         "_deepnote_index_column": 1
        },
        {
         "LabTitle": "T303",
         "Building": "T",
         "Room #": "303",
         "Floor": "3",
         "Qty of Hoods": 1,
         "Windows (North)": "nan",
         "Windows (West)": "nan",
         "Windows (South)": "nan",
         "Windows (East)": 2,
         "Augmented Controls": "A/C-23A",
         "Sensors Description": "JCI  TE-6314P-1",
         "HVAC Systems Supplying Room": "AHU-8",
         "Exhaust/Return System": "EF-4",
         "Unnamed: 13": "nan",
         "_deepnote_index_column": 2
        },
        {
         "LabTitle": "T446",
         "Building": "T",
         "Room #": "446",
         "Floor": "4",
         "Qty of Hoods": 1,
         "Windows (North)": "nan",
         "Windows (West)": 2,
         "Windows (South)": "nan",
         "Windows (East)": "nan",
         "Augmented Controls": "A/C-22",
         "Sensors Description": "JCI  TE-6314P-1",
         "HVAC Systems Supplying Room": "AHU-12",
         "Exhaust/Return System": "EF-11",
         "Unnamed: 13": "nan",
         "_deepnote_index_column": 3
        },
        {
         "LabTitle": "T449",
         "Building": "T",
         "Room #": "449/451",
         "Floor": "4",
         "Qty of Hoods": 1,
         "Windows (North)": "nan",
         "Windows (West)": "nan",
         "Windows (South)": "nan",
         "Windows (East)": 2,
         "Augmented Controls": "A/C-13B",
         "Sensors Description": "JCI  TE-6314P-1",
         "HVAC Systems Supplying Room": "AHU-15",
         "Exhaust/Return System": "EF-11",
         "Unnamed: 13": "nan",
         "_deepnote_index_column": 4
        }
       ]
      }
     },
     "metadata": {},
     "execution_count": 10
    }
   ],
   "metadata": {
    "tags": [],
    "deepnote_to_be_reexecuted": false,
    "source_hash": "377247de",
    "execution_start": 1640585515597,
    "execution_millis": 341,
    "cell_id": "00015-7f2952f7-ea35-4342-afd4-94d8195ff772",
    "deepnote_cell_type": "code"
   }
  },
  {
   "cell_type": "code",
   "execution_count": null,
   "source": [
    "labSummary = {}\n",
    "\n",
    "for index, row in df_s.iterrows():\n",
    "    lab_title = row[0]\n",
    "\n",
    "    labSummary[lab_title] = pd.DataFrame([row], columns=df_s.columns)\n"
   ],
   "outputs": [],
   "metadata": {
    "tags": [],
    "deepnote_to_be_reexecuted": false,
    "source_hash": "f76a9e2e",
    "execution_start": 1640585517586,
    "execution_millis": 143,
    "cell_id": "00016-c83954d3-9089-432c-9a6d-3ce1936ea6e9",
    "deepnote_cell_type": "code"
   }
  },
  {
   "cell_type": "markdown",
   "source": [
    "## Prediction Model\n",
    "\n",
    "Here, we write our SVR (support vector regression) model `predict_value()`. This function takes in the following values:\n",
    "\n",
    "`X_train`: input parameters (hour, month, setback, outside temperature) that we train our model on\n",
    "<br />\n",
    "`y_train`: output (temperature) correspoding to each input that we train our model on\n",
    "<br />\n",
    "`X_test`: input parameters that we then have our model predict\n",
    "<br />\n",
    "`y_test`: actual value that we compare our prediction values to\n",
    "<br />\n",
    "`t_train` + `t_test`: timesteps that correspond to our data (this is to order our data sequentially when we graph it and is not considered in our model)\n",
    "\n",
    "Rather than using a time series split, we randomly split our data into the train and test sets. Because the data is all randomized, we have the `sort_data()` function to sort it for our graph visualisations.\n",
    "\n",
    "We've also used the built-in `svr_lin.coef_` function to identify the weights of each input parameter on the final prediction. Note: the function calculates this based on the results produced when `kernel = 'linear'`.\n",
    "\n",
    "The `predict_value()` function will use the linear, polynomial, and rbf kernels to fit and predict the values. It will print out the weights for each feature and draw a graph of the predictions modeled against the actual values, and its return values will be the lists of predicted values that each of the linear, polynomial, and rbf models have made (Note: the data will still be randomized to match `y_test`. It is only for the graph that all the lists are sorted).\n",
    "\n",
    "The `generate_models()` function runs virutally the same code as the `predict_value()` function, however instead of returning lists of predicted values, its returning value is the actual *model objects* themselves. This will be useful when pickling models, which is used for updating models in the backend Flask API."
   ],
   "metadata": {
    "tags": [],
    "cell_id": "00017-5646bd72-2c0b-4c89-bed0-175fd7ae56ed",
    "deepnote_cell_type": "markdown"
   }
  },
  {
   "cell_type": "code",
   "execution_count": null,
   "source": [
    "from sklearn.svm import SVR "
   ],
   "outputs": [],
   "metadata": {
    "tags": [],
    "deepnote_to_be_reexecuted": false,
    "source_hash": "9de844f7",
    "execution_start": 1640585522283,
    "execution_millis": 130,
    "cell_id": "00018-7fc62ec0-6c1e-4c4f-8422-979a9e7a1113",
    "deepnote_cell_type": "code"
   }
  },
  {
   "cell_type": "code",
   "execution_count": null,
   "source": [
    "import plotly.express as px # for data visualization\n",
    "import plotly.graph_objects as go\n",
    "\n",
    "def predict_value(X_train, y_train, X_test, y_test, t_train, t_test):\n",
    "    \n",
    "    svr_lin  = SVR(kernel='linear', C=10)\n",
    "    svr_poly = SVR(kernel='poly', C=10, degree=2)\n",
    "    svr_rbf = SVR(kernel='rbf', C=100, gamma=0.1)\n",
    "    \n",
    "    # Fit regression model\n",
    "    svr_lin .fit(X_train, y_train)\n",
    "    svr_poly.fit(X_train, y_train)\n",
    "    svr_rbf.fit(X_train, y_train)\n",
    "\n",
    "    # Feature weights\n",
    "    lin_weights = svr_lin.coef_\n",
    "    print(lin_weights)\n",
    "\n",
    "    # Plot actual values\n",
    "    fig = px.scatter(df, x=t_test, y=y_test, \n",
    "                 opacity=0.8, color_discrete_sequence=['black'])\n",
    "\n",
    "    # Make predictions\n",
    "    lin = svr_lin.predict(X_test)\n",
    "    rbf = svr_rbf.predict(X_test)\n",
    "    poly = svr_poly.predict(X_test)\n",
    "\n",
    "    # Sort data sequentially\n",
    "    sorted_t, sorted_lin = sort_data(t_test, lin)\n",
    "    sorted_t, sorted_rbf = sort_data(t_test, rbf)\n",
    "    sorted_t, sorted_poly = sort_data(t_test, poly)\n",
    "\n",
    "    # Plot predicted values with actual values\n",
    "    fig.add_traces(go.Scatter(x=sorted_t, y=sorted_lin, name='Linear model', line=dict(color='green')))\n",
    "    fig.add_traces(go.Scatter(x=sorted_t, y=sorted_rbf, name='RBF model', line=dict(color='red')))\n",
    "    fig.add_traces(go.Scatter(x=sorted_t, y=sorted_poly, name='Polynomial model', line=dict(color='blue')))\n",
    "    \n",
    "\n",
    "    # Change chart background color\n",
    "    fig.update_layout(dict(plot_bgcolor = 'white'))\n",
    "\n",
    "    # Update axes lines\n",
    "    fig.update_xaxes(showgrid=True, gridwidth=1, gridcolor='lightgrey', \n",
    "                    zeroline=True, zerolinewidth=1, zerolinecolor='lightgrey', \n",
    "                    showline=True, linewidth=1, linecolor='black')\n",
    "\n",
    "    fig.update_yaxes(showgrid=True, gridwidth=1, gridcolor='lightgrey', \n",
    "                    zeroline=True, zerolinewidth=1, zerolinecolor='lightgrey', \n",
    "                    showline=True, linewidth=1, linecolor='black')\n",
    "\n",
    "    # Update marker size\n",
    "    fig.update_traces(marker=dict(size=3))\n",
    "\n",
    "    fig.show()\n",
    "    \n",
    "    return lin, rbf, poly\n",
    "\n",
    "\n",
    "# function to sort values sequentially\n",
    "def sort_data(x, y):\n",
    "    merged_list = [(x[i], y[i]) for i in range(0, len(x))]\n",
    "    sorted_list = sorted(merged_list, key=lambda y: y[0])\n",
    "    sorted_x, sorted_y = zip(*sorted_list)\n",
    "    return list(sorted_x), list(sorted_y)"
   ],
   "outputs": [],
   "metadata": {
    "tags": [],
    "deepnote_to_be_reexecuted": false,
    "source_hash": "e8793d3",
    "execution_start": 1640585524055,
    "execution_millis": 330,
    "cell_id": "00019-cf6565f5-08a3-45c3-9ff9-92153899e672",
    "deepnote_cell_type": "code"
   }
  },
  {
   "cell_type": "code",
   "execution_count": null,
   "source": [
    "import plotly.express as px # for data visualization\n",
    "import plotly.graph_objects as go\n",
    "\n",
    "def generate_models(X_train, y_train, X_test, y_test, t_train, t_test):\n",
    "    \n",
    "    svr_lin  = SVR(kernel='linear', C=10)\n",
    "    svr_poly = SVR(kernel='poly', C=10, degree=2)\n",
    "    svr_rbf = SVR(kernel='rbf', C=100, gamma=0.1)\n",
    "    \n",
    "    # Fit regression model\n",
    "    svr_lin.fit(X_train, y_train)\n",
    "    svr_poly.fit(X_train, y_train)\n",
    "    svr_rbf.fit(X_train, y_train)\n",
    "    \n",
    "    return svr_lin, svr_poly, svr_rbf"
   ],
   "outputs": [],
   "metadata": {
    "tags": [],
    "cell_id": "00020-56c7eb83-e869-4c08-8441-a95a7196928f",
    "deepnote_to_be_reexecuted": false,
    "source_hash": "1d39e6f6",
    "execution_start": 1640585525691,
    "execution_millis": 2,
    "deepnote_cell_type": "code"
   }
  },
  {
   "cell_type": "markdown",
   "source": [
    "### Preparing Data for SVR Model\n",
    "In `make_model_data()`, we extract and reshape our parameters to group each row into our <em>X</em> and <em>y</em> values. For each timestep, Time, Hour, Month, Setback, and Outside Temperature are the input features and Temperature (or Trend(deg F)) is the output feature we want to predict. Then, the data is randomized and split into the training and testing data in a 9:1 ratio."
   ],
   "metadata": {
    "tags": [],
    "cell_id": "00020-e3671726-fc14-4c36-b1e3-f4ca41132858",
    "deepnote_cell_type": "markdown"
   }
  },
  {
   "cell_type": "code",
   "execution_count": null,
   "source": [
    "def make_model_data(lab):\n",
    "\n",
    "    # extract column values\n",
    "\n",
    "    t = [float(i) for i in range(0, len(lab['Time']))]\n",
    "    lab['Time'] = t\n",
    "\n",
    "    d = lab['Trend (deg F)'].apply(pd.to_numeric)\n",
    "    d = d.astype(float)\n",
    "    lab['Trend (deg F)'] = d\n",
    "\n",
    "    def get_data(df):  \n",
    "        t = df['Time'].values\n",
    "        # input features\n",
    "        X1 = df['Hour'].values\n",
    "        X2 = df['Month'].values\n",
    "        X3 = df['Setback'].values\n",
    "        X4 = df['Outside Temp'].values\n",
    "        y = df['Trend (deg F)']\n",
    "\n",
    "        # reshape data\n",
    "        vals = np.vstack((t, X1, X2, X3, X4, y)).T\n",
    "        vals.reshape(-6, 6)\n",
    "\n",
    "        return list(vals) # Convert Series to list\n",
    "\n",
    "    data = get_data(lab)\n",
    "\n",
    "    # randomize data\n",
    "    rand_data = random.sample(list(data), k=len(data))\n",
    "\n",
    "    rand_time = []\n",
    "    rand_hr = []\n",
    "    rand_mnth = []\n",
    "    rand_setback = []\n",
    "    rand_outemp = []\n",
    "    rand_y = []\n",
    "\n",
    "    for time, hour, month, setback, temp, y in rand_data:\n",
    "        rand_time.append(time)\n",
    "        rand_hr.append(hour)\n",
    "        rand_mnth.append(month)\n",
    "        rand_setback.append(setback)\n",
    "        rand_outemp.append(temp)\n",
    "        rand_y.append(y)\n",
    "\n",
    "    rand_X = np.vstack((rand_hr, rand_mnth, rand_setback, rand_outemp)).T\n",
    "    rand_X.reshape(-4, 4)\n",
    "\n",
    "    # train/test split\n",
    "    ratio = 10\n",
    "    n = int(len(rand_data) / ratio)\n",
    "\n",
    "    X_train = rand_X[n:]\n",
    "    X_test = rand_X[:n]\n",
    "    y_train = rand_y[n:]\n",
    "    y_test = rand_y[:n]\n",
    "    t_train = rand_time[n:]\n",
    "    t_test = rand_time[:n]\n",
    "\n",
    "\n",
    "    return X_train, X_test, y_train, y_test, t_train, t_test\n",
    "\n"
   ],
   "outputs": [],
   "metadata": {
    "tags": [],
    "deepnote_to_be_reexecuted": false,
    "source_hash": "b09f758b",
    "execution_start": 1640585528938,
    "execution_millis": 27,
    "cell_id": "00021-d96bd0cc-c5c0-420f-b9ba-6ab8ef3d0136",
    "deepnote_cell_type": "code"
   }
  },
  {
   "cell_type": "code",
   "execution_count": null,
   "source": [
    "# call all functions to preprocess and prepare data\n",
    "\n",
    "data = prepareCols(labs['H351'], 'H351')\n",
    "data = addGeneral(data, TlabGeneral)\n",
    "X_train, X_test, y_train, y_test, times_train, times_test = make_model_data(data)"
   ],
   "outputs": [
    {
     "output_type": "stream",
     "name": "stdout",
     "text": [
      "Empty DataFrame\n",
      "Columns: [Time, Trend (deg F), Hour, Month, Setback, Outside Temp]\n",
      "Index: []\n"
     ]
    }
   ],
   "metadata": {
    "tags": [],
    "deepnote_to_be_reexecuted": true,
    "source_hash": "accabe55",
    "execution_start": 1640585412170,
    "execution_millis": 28,
    "cell_id": "00023-5ca72127-4fcc-46b2-aa37-0c3d1f63171e",
    "deepnote_cell_type": "code"
   }
  },
  {
   "cell_type": "markdown",
   "source": [
    "Here is an example of what the final dataframe should look like:"
   ],
   "metadata": {
    "tags": [],
    "cell_id": "00023-442938c2-c70e-4e4d-a537-85a10811c40e",
    "deepnote_cell_type": "markdown"
   }
  },
  {
   "cell_type": "code",
   "execution_count": null,
   "source": [
    "data"
   ],
   "outputs": [
    {
     "output_type": "execute_result",
     "data": {
      "text/plain": [
       "        Time HUMIDITY %. Trend (%RH)  Trend (deg F) Hour  Month  Setback  \\\n",
       "1317     0.0                      76           72.5    9      6        0   \n",
       "1318     1.0                      76           72.6   10      6        0   \n",
       "1319     2.0                      73           72.6   11      6        0   \n",
       "1320     3.0                      71           72.6   12      6        0   \n",
       "1321     4.0                      72           72.7   13      6        0   \n",
       "...      ...                     ...            ...  ...    ...      ...   \n",
       "3231  1914.0                      60           70.6    3      9        1   \n",
       "3232  1915.0                      59           70.6    4      9        1   \n",
       "3233  1916.0                      59           70.5    5      9        1   \n",
       "3234  1917.0                      60           70.5    6      9        1   \n",
       "3235  1918.0                      58           70.4    7      9        1   \n",
       "\n",
       "     Outside Temp  \n",
       "1317         81.4  \n",
       "1318         82.8  \n",
       "1319         83.8  \n",
       "1320         85.4  \n",
       "1321         85.6  \n",
       "...           ...  \n",
       "3231         64.8  \n",
       "3232         63.6  \n",
       "3233         63.5  \n",
       "3234         62.8  \n",
       "3235         62.5  \n",
       "\n",
       "[1919 rows x 7 columns]"
      ],
      "text/html": [
       "<div>\n",
       "<style scoped>\n",
       "    .dataframe tbody tr th:only-of-type {\n",
       "        vertical-align: middle;\n",
       "    }\n",
       "\n",
       "    .dataframe tbody tr th {\n",
       "        vertical-align: top;\n",
       "    }\n",
       "\n",
       "    .dataframe thead th {\n",
       "        text-align: right;\n",
       "    }\n",
       "</style>\n",
       "<table border=\"1\" class=\"dataframe\">\n",
       "  <thead>\n",
       "    <tr style=\"text-align: right;\">\n",
       "      <th></th>\n",
       "      <th>Time</th>\n",
       "      <th>HUMIDITY %. Trend (%RH)</th>\n",
       "      <th>Trend (deg F)</th>\n",
       "      <th>Hour</th>\n",
       "      <th>Month</th>\n",
       "      <th>Setback</th>\n",
       "      <th>Outside Temp</th>\n",
       "    </tr>\n",
       "  </thead>\n",
       "  <tbody>\n",
       "    <tr>\n",
       "      <th>1317</th>\n",
       "      <td>0.0</td>\n",
       "      <td>76</td>\n",
       "      <td>72.5</td>\n",
       "      <td>9</td>\n",
       "      <td>6</td>\n",
       "      <td>0</td>\n",
       "      <td>81.4</td>\n",
       "    </tr>\n",
       "    <tr>\n",
       "      <th>1318</th>\n",
       "      <td>1.0</td>\n",
       "      <td>76</td>\n",
       "      <td>72.6</td>\n",
       "      <td>10</td>\n",
       "      <td>6</td>\n",
       "      <td>0</td>\n",
       "      <td>82.8</td>\n",
       "    </tr>\n",
       "    <tr>\n",
       "      <th>1319</th>\n",
       "      <td>2.0</td>\n",
       "      <td>73</td>\n",
       "      <td>72.6</td>\n",
       "      <td>11</td>\n",
       "      <td>6</td>\n",
       "      <td>0</td>\n",
       "      <td>83.8</td>\n",
       "    </tr>\n",
       "    <tr>\n",
       "      <th>1320</th>\n",
       "      <td>3.0</td>\n",
       "      <td>71</td>\n",
       "      <td>72.6</td>\n",
       "      <td>12</td>\n",
       "      <td>6</td>\n",
       "      <td>0</td>\n",
       "      <td>85.4</td>\n",
       "    </tr>\n",
       "    <tr>\n",
       "      <th>1321</th>\n",
       "      <td>4.0</td>\n",
       "      <td>72</td>\n",
       "      <td>72.7</td>\n",
       "      <td>13</td>\n",
       "      <td>6</td>\n",
       "      <td>0</td>\n",
       "      <td>85.6</td>\n",
       "    </tr>\n",
       "    <tr>\n",
       "      <th>...</th>\n",
       "      <td>...</td>\n",
       "      <td>...</td>\n",
       "      <td>...</td>\n",
       "      <td>...</td>\n",
       "      <td>...</td>\n",
       "      <td>...</td>\n",
       "      <td>...</td>\n",
       "    </tr>\n",
       "    <tr>\n",
       "      <th>3231</th>\n",
       "      <td>1914.0</td>\n",
       "      <td>60</td>\n",
       "      <td>70.6</td>\n",
       "      <td>3</td>\n",
       "      <td>9</td>\n",
       "      <td>1</td>\n",
       "      <td>64.8</td>\n",
       "    </tr>\n",
       "    <tr>\n",
       "      <th>3232</th>\n",
       "      <td>1915.0</td>\n",
       "      <td>59</td>\n",
       "      <td>70.6</td>\n",
       "      <td>4</td>\n",
       "      <td>9</td>\n",
       "      <td>1</td>\n",
       "      <td>63.6</td>\n",
       "    </tr>\n",
       "    <tr>\n",
       "      <th>3233</th>\n",
       "      <td>1916.0</td>\n",
       "      <td>59</td>\n",
       "      <td>70.5</td>\n",
       "      <td>5</td>\n",
       "      <td>9</td>\n",
       "      <td>1</td>\n",
       "      <td>63.5</td>\n",
       "    </tr>\n",
       "    <tr>\n",
       "      <th>3234</th>\n",
       "      <td>1917.0</td>\n",
       "      <td>60</td>\n",
       "      <td>70.5</td>\n",
       "      <td>6</td>\n",
       "      <td>9</td>\n",
       "      <td>1</td>\n",
       "      <td>62.8</td>\n",
       "    </tr>\n",
       "    <tr>\n",
       "      <th>3235</th>\n",
       "      <td>1918.0</td>\n",
       "      <td>58</td>\n",
       "      <td>70.4</td>\n",
       "      <td>7</td>\n",
       "      <td>9</td>\n",
       "      <td>1</td>\n",
       "      <td>62.5</td>\n",
       "    </tr>\n",
       "  </tbody>\n",
       "</table>\n",
       "<p>1919 rows × 7 columns</p>\n",
       "</div>"
      ],
      "application/vnd.deepnote.dataframe.v3+json": {
       "column_count": 7,
       "row_count": 1919,
       "columns": [
        {
         "name": "Time",
         "dtype": "float64",
         "stats": {
          "unique_count": 1919,
          "nan_count": 0,
          "min": "0.0",
          "max": "1918.0",
          "histogram": [
           {
            "bin_start": 0,
            "bin_end": 191.8,
            "count": 192
           },
           {
            "bin_start": 191.8,
            "bin_end": 383.6,
            "count": 192
           },
           {
            "bin_start": 383.6,
            "bin_end": 575.4000000000001,
            "count": 192
           },
           {
            "bin_start": 575.4000000000001,
            "bin_end": 767.2,
            "count": 192
           },
           {
            "bin_start": 767.2,
            "bin_end": 959,
            "count": 191
           },
           {
            "bin_start": 959,
            "bin_end": 1150.8000000000002,
            "count": 192
           },
           {
            "bin_start": 1150.8000000000002,
            "bin_end": 1342.6000000000001,
            "count": 192
           },
           {
            "bin_start": 1342.6000000000001,
            "bin_end": 1534.4,
            "count": 192
           },
           {
            "bin_start": 1534.4,
            "bin_end": 1726.2,
            "count": 192
           },
           {
            "bin_start": 1726.2,
            "bin_end": 1918,
            "count": 192
           }
          ]
         }
        },
        {
         "name": "HUMIDITY %. Trend (%RH)",
         "dtype": "object",
         "stats": {
          "unique_count": 45,
          "nan_count": 0,
          "categories": [
           {
            "name": "77",
            "count": 156
           },
           {
            "name": "80",
            "count": 132
           },
           {
            "name": "43 others",
            "count": 1631
           }
          ]
         }
        },
        {
         "name": "Trend (deg F)",
         "dtype": "float64",
         "stats": {
          "unique_count": 39,
          "nan_count": 0,
          "min": "67.2",
          "max": "73.5",
          "histogram": [
           {
            "bin_start": 67.2,
            "bin_end": 67.83,
            "count": 1
           },
           {
            "bin_start": 67.83,
            "bin_end": 68.46000000000001,
            "count": 0
           },
           {
            "bin_start": 68.46000000000001,
            "bin_end": 69.09,
            "count": 2
           },
           {
            "bin_start": 69.09,
            "bin_end": 69.72,
            "count": 4
           },
           {
            "bin_start": 69.72,
            "bin_end": 70.35,
            "count": 5
           },
           {
            "bin_start": 70.35,
            "bin_end": 70.98,
            "count": 971
           },
           {
            "bin_start": 70.98,
            "bin_end": 71.61,
            "count": 65
           },
           {
            "bin_start": 71.61,
            "bin_end": 72.24,
            "count": 72
           },
           {
            "bin_start": 72.24,
            "bin_end": 72.87,
            "count": 783
           },
           {
            "bin_start": 72.87,
            "bin_end": 73.5,
            "count": 16
           }
          ]
         }
        },
        {
         "name": "Hour",
         "dtype": "object",
         "stats": {
          "unique_count": 24,
          "nan_count": 0,
          "categories": [
           {
            "name": "9",
            "count": 80
           },
           {
            "name": "10",
            "count": 80
           },
           {
            "name": "22 others",
            "count": 1759
           }
          ]
         }
        },
        {
         "name": "Month",
         "dtype": "int64",
         "stats": {
          "unique_count": 4,
          "nan_count": 0,
          "min": "6",
          "max": "9",
          "histogram": [
           {
            "bin_start": 6,
            "bin_end": 6.3,
            "count": 231
           },
           {
            "bin_start": 6.3,
            "bin_end": 6.6,
            "count": 0
           },
           {
            "bin_start": 6.6,
            "bin_end": 6.9,
            "count": 0
           },
           {
            "bin_start": 6.9,
            "bin_end": 7.2,
            "count": 744
           },
           {
            "bin_start": 7.2,
            "bin_end": 7.5,
            "count": 0
           },
           {
            "bin_start": 7.5,
            "bin_end": 7.8,
            "count": 0
           },
           {
            "bin_start": 7.8,
            "bin_end": 8.1,
            "count": 744
           },
           {
            "bin_start": 8.1,
            "bin_end": 8.4,
            "count": 0
           },
           {
            "bin_start": 8.4,
            "bin_end": 8.7,
            "count": 0
           },
           {
            "bin_start": 8.7,
            "bin_end": 9,
            "count": 200
           }
          ]
         }
        },
        {
         "name": "Setback",
         "dtype": "int64",
         "stats": {
          "unique_count": 2,
          "nan_count": 0,
          "min": "0",
          "max": "1",
          "histogram": [
           {
            "bin_start": 0,
            "bin_end": 0.1,
            "count": 405
           },
           {
            "bin_start": 0.1,
            "bin_end": 0.2,
            "count": 0
           },
           {
            "bin_start": 0.2,
            "bin_end": 0.30000000000000004,
            "count": 0
           },
           {
            "bin_start": 0.30000000000000004,
            "bin_end": 0.4,
            "count": 0
           },
           {
            "bin_start": 0.4,
            "bin_end": 0.5,
            "count": 0
           },
           {
            "bin_start": 0.5,
            "bin_end": 0.6000000000000001,
            "count": 0
           },
           {
            "bin_start": 0.6000000000000001,
            "bin_end": 0.7000000000000001,
            "count": 0
           },
           {
            "bin_start": 0.7000000000000001,
            "bin_end": 0.8,
            "count": 0
           },
           {
            "bin_start": 0.8,
            "bin_end": 0.9,
            "count": 0
           },
           {
            "bin_start": 0.9,
            "bin_end": 1,
            "count": 1514
           }
          ]
         }
        },
        {
         "name": "Outside Temp",
         "dtype": "object",
         "stats": {
          "unique_count": 350,
          "nan_count": 0,
          "categories": [
           {
            "name": "72.8",
            "count": 19
           },
           {
            "name": "74.2",
            "count": 19
           },
           {
            "name": "348 others",
            "count": 1881
           }
          ]
         }
        },
        {
         "name": "_deepnote_index_column",
         "dtype": "int64"
        }
       ],
       "rows": [
        {
         "Time": 0,
         "HUMIDITY %. Trend (%RH)": "76",
         "Trend (deg F)": 72.5,
         "Hour": "9",
         "Month": 6,
         "Setback": 0,
         "Outside Temp": "81.4",
         "_deepnote_index_column": 1317
        },
        {
         "Time": 1,
         "HUMIDITY %. Trend (%RH)": "76",
         "Trend (deg F)": 72.6,
         "Hour": "10",
         "Month": 6,
         "Setback": 0,
         "Outside Temp": "82.8",
         "_deepnote_index_column": 1318
        },
        {
         "Time": 2,
         "HUMIDITY %. Trend (%RH)": "73",
         "Trend (deg F)": 72.6,
         "Hour": "11",
         "Month": 6,
         "Setback": 0,
         "Outside Temp": "83.8",
         "_deepnote_index_column": 1319
        },
        {
         "Time": 3,
         "HUMIDITY %. Trend (%RH)": "71",
         "Trend (deg F)": 72.6,
         "Hour": "12",
         "Month": 6,
         "Setback": 0,
         "Outside Temp": "85.4",
         "_deepnote_index_column": 1320
        },
        {
         "Time": 4,
         "HUMIDITY %. Trend (%RH)": "72",
         "Trend (deg F)": 72.7,
         "Hour": "13",
         "Month": 6,
         "Setback": 0,
         "Outside Temp": "85.6",
         "_deepnote_index_column": 1321
        },
        {
         "Time": 5,
         "HUMIDITY %. Trend (%RH)": "80",
         "Trend (deg F)": 72.4,
         "Hour": "14",
         "Month": 6,
         "Setback": 0,
         "Outside Temp": "78.7",
         "_deepnote_index_column": 1322
        },
        {
         "Time": 6,
         "HUMIDITY %. Trend (%RH)": "80",
         "Trend (deg F)": 72.4,
         "Hour": "15",
         "Month": 6,
         "Setback": 0,
         "Outside Temp": "80.3",
         "_deepnote_index_column": 1323
        },
        {
         "Time": 7,
         "HUMIDITY %. Trend (%RH)": "78",
         "Trend (deg F)": 72.4,
         "Hour": "16",
         "Month": 6,
         "Setback": 0,
         "Outside Temp": "78.9",
         "_deepnote_index_column": 1324
        },
        {
         "Time": 8,
         "HUMIDITY %. Trend (%RH)": "71",
         "Trend (deg F)": 72.6,
         "Hour": "17",
         "Month": 6,
         "Setback": 0,
         "Outside Temp": "78.5",
         "_deepnote_index_column": 1325
        },
        {
         "Time": 9,
         "HUMIDITY %. Trend (%RH)": "70",
         "Trend (deg F)": 72.5,
         "Hour": "18",
         "Month": 6,
         "Setback": 1,
         "Outside Temp": "76",
         "_deepnote_index_column": 1326
        }
       ]
      }
     },
     "metadata": {},
     "execution_count": 48
    }
   ],
   "metadata": {
    "tags": [],
    "deepnote_to_be_reexecuted": true,
    "source_hash": "e6928a8f",
    "execution_start": 1640579856518,
    "execution_millis": 287,
    "cell_id": "00024-1cfc02d0-6c26-4bf8-876c-d58f70928040",
    "deepnote_cell_type": "code"
   }
  },
  {
   "cell_type": "markdown",
   "source": [
    "### Making Predictions"
   ],
   "metadata": {
    "tags": [],
    "cell_id": "00024-923065e8-08a8-4c11-a25b-e8728bb9537f",
    "deepnote_cell_type": "markdown"
   }
  },
  {
   "cell_type": "markdown",
   "source": [
    "When we run `predict_value()` on our data, we can see the weights have been printed corresponding to the coordinates [hour month setback outside_temperature]. This site (https://stats.stackexchange.com/questions/39243/how-does-one-interpret-svm-feature-weights) goes more in depth of how to read this vector value, but to generalize, the absolute size of a feature relative to the others gives an indication of how important it is."
   ],
   "metadata": {
    "tags": [],
    "cell_id": "00026-3f378428-ee28-4f33-a410-64b8cb1e26fa",
    "deepnote_cell_type": "markdown"
   }
  },
  {
   "cell_type": "code",
   "execution_count": null,
   "source": [
    "predictions = predict_value(X_train, y_train, X_test, y_test, times_train, times_test)"
   ],
   "outputs": [
    {
     "output_type": "stream",
     "name": "stdout",
     "text": [
      "[[ 0.00197683 -0.77362774 -0.45780318  0.01532876]]\n"
     ]
    },
    {
     "output_type": "display_data",
     "data": {
      "text/html": [
       "<html>\n",
       "<head><meta charset=\"utf-8\" /></head>\n",
       "<body>\n",
       "    <div>            <script src=\"https://cdnjs.cloudflare.com/ajax/libs/mathjax/2.7.5/MathJax.js?config=TeX-AMS-MML_SVG\"></script><script type=\"text/javascript\">if (window.MathJax) {MathJax.Hub.Config({SVG: {font: \"STIX-Web\"}});}</script>                <script type=\"text/javascript\">window.PlotlyConfig = {MathJaxConfig: 'local'};</script>\n",
       "        <script src=\"https://cdn.plot.ly/plotly-2.6.3.min.js\"></script>                <div id=\"c5b5ddcc-648a-4101-9f7d-ae67335bbb51\" class=\"plotly-graph-div\" style=\"height:525px; width:100%;\"></div>            <script type=\"text/javascript\">                                    window.PLOTLYENV=window.PLOTLYENV || {};                                    if (document.getElementById(\"c5b5ddcc-648a-4101-9f7d-ae67335bbb51\")) {                    Plotly.newPlot(                        \"c5b5ddcc-648a-4101-9f7d-ae67335bbb51\",                        [{\"hovertemplate\":\"x=%{x}<br>y=%{y}<extra></extra>\",\"legendgroup\":\"\",\"marker\":{\"color\":\"black\",\"opacity\":0.8,\"symbol\":\"circle\",\"size\":3},\"mode\":\"markers\",\"name\":\"\",\"orientation\":\"v\",\"showlegend\":false,\"x\":[260.0,1848.0,17.0,726.0,1765.0,766.0,356.0,504.0,1202.0,748.0,202.0,1410.0,1205.0,1608.0,1377.0,1034.0,160.0,635.0,128.0,1439.0,713.0,1262.0,396.0,1400.0,1556.0,915.0,506.0,1319.0,1151.0,657.0,1231.0,855.0,736.0,230.0,1672.0,740.0,1888.0,154.0,546.0,858.0,322.0,1532.0,401.0,782.0,1471.0,1344.0,578.0,1749.0,663.0,1814.0,1406.0,1372.0,749.0,471.0,1652.0,1349.0,70.0,1811.0,604.0,1607.0,803.0,1033.0,476.0,789.0,398.0,1745.0,1561.0,1724.0,103.0,159.0,1000.0,1470.0,814.0,172.0,1270.0,911.0,747.0,672.0,148.0,1115.0,1092.0,242.0,836.0,351.0,1897.0,777.0,1253.0,1148.0,878.0,298.0,388.0,886.0,265.0,1751.0,730.0,1844.0,1787.0,1565.0,962.0,1482.0,1021.0,950.0,1332.0,1798.0,343.0,267.0,1812.0,246.0,1884.0,1399.0,1506.0,1002.0,511.0,502.0,225.0,1537.0,174.0,529.0,1816.0,1389.0,444.0,1833.0,804.0,841.0,9.0,275.0,1788.0,82.0,519.0,301.0,1331.0,85.0,1454.0,961.0,4.0,985.0,117.0,1351.0,680.0,1742.0,1775.0,457.0,416.0,181.0,1290.0,1911.0,583.0,711.0,1212.0,303.0,204.0,1171.0,930.0,1184.0,169.0,1789.0,268.0,422.0,1358.0,1006.0,1386.0,1126.0,653.0,1160.0,41.0,821.0,1020.0,440.0,582.0,1675.0,1619.0,1827.0,115.0,1474.0,686.0,757.0,1192.0,235.0,1890.0,415.0,1009.0,881.0,498.0,750.0,610.0,239.0,369.0,845.0,1316.0,463.0,308.0],\"xaxis\":\"x\",\"y\":[71.6,70.5,71.7,72.5,70.7,72.4,72.7,72.3,70.8,72.4,72.8,70.7,70.9,70.8,70.8,70.6,73.0,72.6,72.8,70.7,72.4,71.1,72.7,70.7,70.7,70.7,72.4,70.8,70.8,72.6,70.9,72.6,72.5,72.4,70.8,72.4,70.6,72.9,72.3,72.7,72.7,70.8,72.6,72.4,70.8,70.7,72.6,70.8,72.5,70.6,70.8,70.7,72.4,72.4,70.7,70.8,70.0,70.7,72.6,70.8,72.8,71.9,72.3,72.6,72.6,70.9,70.7,70.7,72.6,72.9,70.7,70.8,72.6,72.7,70.7,72.6,72.4,72.2,72.8,70.8,70.8,72.3,72.5,72.8,70.5,72.7,71.5,70.8,72.6,72.5,72.7,72.5,72.0,70.6,72.6,70.5,70.6,70.7,70.7,70.8,70.7,70.7,70.7,70.6,72.8,72.3,70.6,72.3,70.7,70.7,70.8,70.7,72.6,72.4,72.6,70.8,72.6,72.3,70.6,70.7,72.3,70.7,72.7,72.6,72.5,72.4,70.6,72.7,72.4,72.4,70.7,72.8,70.8,70.7,72.7,70.7,72.6,70.6,72.5,71.0,70.5,71.7,72.6,72.7,70.8,70.6,72.7,72.6,70.8,72.3,72.7,70.8,70.7,70.7,72.6,70.6,72.4,72.5,70.7,70.6,70.7,70.8,72.6,70.7,70.0,72.7,70.7,72.3,72.7,70.8,70.8,70.6,72.7,70.8,72.5,72.4,70.7,72.3,70.6,72.6,70.6,72.5,72.4,72.5,72.6,72.2,72.7,72.7,70.7,72.3,72.3],\"yaxis\":\"y\",\"type\":\"scatter\"},{\"line\":{\"color\":\"green\"},\"name\":\"Linear model\",\"x\":[4.0,9.0,17.0,41.0,70.0,82.0,85.0,103.0,115.0,117.0,128.0,148.0,154.0,159.0,160.0,169.0,172.0,174.0,181.0,202.0,204.0,225.0,230.0,235.0,239.0,242.0,246.0,260.0,265.0,267.0,268.0,275.0,298.0,301.0,303.0,308.0,322.0,343.0,351.0,356.0,369.0,388.0,396.0,398.0,401.0,415.0,416.0,422.0,440.0,444.0,457.0,463.0,471.0,476.0,498.0,502.0,504.0,506.0,511.0,519.0,529.0,546.0,578.0,582.0,583.0,604.0,610.0,635.0,653.0,657.0,663.0,672.0,680.0,686.0,711.0,713.0,726.0,730.0,736.0,740.0,747.0,748.0,749.0,750.0,757.0,766.0,777.0,782.0,789.0,803.0,804.0,814.0,821.0,836.0,841.0,845.0,855.0,858.0,878.0,881.0,886.0,911.0,915.0,930.0,950.0,961.0,962.0,985.0,1000.0,1002.0,1006.0,1009.0,1020.0,1021.0,1033.0,1034.0,1092.0,1115.0,1126.0,1148.0,1151.0,1160.0,1171.0,1184.0,1192.0,1202.0,1205.0,1212.0,1231.0,1253.0,1262.0,1270.0,1290.0,1316.0,1319.0,1331.0,1332.0,1344.0,1349.0,1351.0,1358.0,1372.0,1377.0,1386.0,1389.0,1399.0,1400.0,1406.0,1410.0,1439.0,1454.0,1470.0,1471.0,1474.0,1482.0,1506.0,1532.0,1537.0,1556.0,1561.0,1565.0,1607.0,1608.0,1619.0,1652.0,1672.0,1675.0,1724.0,1742.0,1745.0,1749.0,1751.0,1765.0,1775.0,1787.0,1788.0,1789.0,1798.0,1811.0,1812.0,1814.0,1816.0,1827.0,1833.0,1844.0,1848.0,1884.0,1888.0,1890.0,1897.0,1911.0],\"y\":[73.17587210303024,72.58079701270906,72.42653761645776,72.32996644030497,72.81451542477878,72.74832442764016,72.63162486587969,73.14961220864204,72.53012820827568,72.51262161568881,73.32633687534978,73.2111282364596,72.88628324560266,72.65251531479878,72.62230175427537,73.10709369257818,73.19886523725579,73.13843811532858,72.75732068047652,72.78511344681026,72.74461371563227,72.6712366778767,72.52476751889041,71.71357993959388,72.19461921187319,72.21587846809705,72.21458855215603,71.6496431159059,72.15871811136746,72.19946079543585,72.20450337840445,71.82798456972812,71.90878302585331,71.82274098071063,71.7393958742279,71.72168827768762,71.99615694317178,72.59825144969652,71.86815744231278,71.79220056129559,72.12140879994983,72.42523749273384,71.88207917734978,71.84771095011381,71.77860568245812,72.37445158519692,72.43467770088607,71.81552055674108,72.238469600644,71.7548504863327,72.16484961337407,72.24415714570493,71.73479724735368,71.7063595199899,71.7698523877654,72.20490538612937,72.2410494456082,72.28639075545213,72.49708164311157,71.76852051460735,72.24455915069409,71.71926748500407,72.34464003904138,72.48590756076298,72.53233779229338,72.42677036710226,71.91644740505141,71.9490817531943,72.35363628960037,72.05702801638397,71.75932325810861,72.19506317228222,72.51438723535391,71.84617807084139,71.80837528312547,71.7556125465009,72.34948161322534,71.91491452554617,71.71531381811216,71.65424174254728,72.25157857090669,72.27654853856363,72.33217602371148,72.39086926596353,71.84113548839666,72.10526846168356,72.08002115177366,71.86150682859731,71.68227746404152,72.00886390325756,71.960255843772,72.26162178736847,72.44714170493096,71.77227317678187,72.31353856242929,72.45020746488005,71.81297390922843,71.76372088692294,71.90289448168475,71.78780294163441,71.72410906973089,71.77973655522798,71.92560270783285,71.82963453934205,71.84004657115581,71.75609845444266,71.81325882079834,70.92728718686992,70.90029843017253,70.855200075671,70.81405538268443,70.88896529297487,71.03640627047132,71.03071872768048,70.91962280556906,70.97371741645036,71.15597058426935,71.16472387931132,70.93975119631357,70.93579752977091,70.9539910325722,71.29828506914343,70.99820147715506,71.07908384189356,70.96314633651052,70.99824342773643,71.09614647867708,71.14677332695571,71.34076163354182,71.27242719319763,71.17831875966219,71.00566485421875,70.97936300860162,70.90514001774424,70.83595959815572,71.01603492874999,71.00115012894382,70.91611309774014,71.11607385504901,71.17521105408666,71.03422843312289,71.16621480422616,71.09638943397583,70.9701657563666,70.96536612641209,71.23039458460987,71.29062068691853,71.13999686518507,71.0544739239878,70.94172802952669,71.1016749710572,71.23454925167168,71.3269657509765,71.27924559546516,70.99622464347628,71.00542189776313,71.0124413168043,71.06984462731195,71.0385002040304,71.10356790329676,71.07162046274895,70.9509252808886,70.97742812852373,71.05742257705712,71.02470432211992,71.07351339132144,71.03652337105011,70.1330451417845,70.20081853592562,70.0918584991188,70.04764805435404,70.04700309584875,70.20497320356223,70.04087159461339,70.28379483253518,70.24285114212687,70.2157033380601,70.10020979196558,70.26080169273625,70.23825251256055,70.23607467901745,70.13280218697325,70.22199389303857,70.37028083168404,70.03647397150341,70.05204568375045,70.32102780872371,70.19565009540672,70.20266951193041,70.17052107173656,70.12162810599254],\"type\":\"scatter\",\"marker\":{\"size\":3}},{\"line\":{\"color\":\"red\"},\"name\":\"RBF model\",\"x\":[4.0,9.0,17.0,41.0,70.0,82.0,85.0,103.0,115.0,117.0,128.0,148.0,154.0,159.0,160.0,169.0,172.0,174.0,181.0,202.0,204.0,225.0,230.0,235.0,239.0,242.0,246.0,260.0,265.0,267.0,268.0,275.0,298.0,301.0,303.0,308.0,322.0,343.0,351.0,356.0,369.0,388.0,396.0,398.0,401.0,415.0,416.0,422.0,440.0,444.0,457.0,463.0,471.0,476.0,498.0,502.0,504.0,506.0,511.0,519.0,529.0,546.0,578.0,582.0,583.0,604.0,610.0,635.0,653.0,657.0,663.0,672.0,680.0,686.0,711.0,713.0,726.0,730.0,736.0,740.0,747.0,748.0,749.0,750.0,757.0,766.0,777.0,782.0,789.0,803.0,804.0,814.0,821.0,836.0,841.0,845.0,855.0,858.0,878.0,881.0,886.0,911.0,915.0,930.0,950.0,961.0,962.0,985.0,1000.0,1002.0,1006.0,1009.0,1020.0,1021.0,1033.0,1034.0,1092.0,1115.0,1126.0,1148.0,1151.0,1160.0,1171.0,1184.0,1192.0,1202.0,1205.0,1212.0,1231.0,1253.0,1262.0,1270.0,1290.0,1316.0,1319.0,1331.0,1332.0,1344.0,1349.0,1351.0,1358.0,1372.0,1377.0,1386.0,1389.0,1399.0,1400.0,1406.0,1410.0,1439.0,1454.0,1470.0,1471.0,1474.0,1482.0,1506.0,1532.0,1537.0,1556.0,1561.0,1565.0,1607.0,1608.0,1619.0,1652.0,1672.0,1675.0,1724.0,1742.0,1745.0,1749.0,1751.0,1765.0,1775.0,1787.0,1788.0,1789.0,1798.0,1811.0,1812.0,1814.0,1816.0,1827.0,1833.0,1844.0,1848.0,1884.0,1888.0,1890.0,1897.0,1911.0],\"y\":[72.70744510706474,71.77954817699008,71.81598851637904,70.2701558163076,71.22147718399026,72.76716238431996,72.7969933861577,72.36578056564437,72.70038489293081,72.73182383301108,72.66598001467206,72.66017130420474,72.796686413493,72.5935636501364,72.81329279271756,72.61260621242573,72.68386859076385,72.38811292682817,72.9034980557195,73.0429735602856,72.7654250520177,73.29010480472914,72.50258898310832,72.31526897041896,72.31352971731556,72.31789340130976,72.28710462120819,72.02278941866969,72.31327495745644,72.1466349390169,72.26714569357765,72.2975560460148,72.58603231121413,72.48087872967749,72.41423079967859,72.35347494035463,72.58141699791202,72.71586172954747,72.32458719442921,72.59828012964181,72.7062438067302,72.59941931086415,72.49379003089187,72.43891184567647,72.48208165882521,72.48988279879916,72.50284966240349,72.38486812167874,72.50489812173919,71.13514583753303,72.32181539405059,72.46076327929127,72.45416752417222,72.41106129534549,72.51963844446442,72.39520961600334,72.44294611053705,72.50722363505089,72.59844115090723,72.34599884175196,72.41923482647007,72.34498814801961,72.69714669049223,72.69922284206763,72.6937658292927,72.59886930674905,72.58483171130844,72.57553983167267,72.60568316333418,72.64313959415205,72.3042297550089,72.2881595053972,72.5454366234621,72.4377010991738,72.5428998033154,72.3805224527475,72.52021382548816,72.58377852868927,72.36255664197272,72.11937477390418,72.35165665849752,72.47576687420728,72.52548002603895,72.60111103198577,72.50797966404063,72.4014175205678,72.65900820221032,72.48646455198185,72.2613007318036,72.63083931476886,72.59493032829582,72.52831614432601,72.63863857033645,72.51245905795027,72.59656588003354,72.63651973280412,72.56071713808983,72.49303930055673,72.60989071155586,72.53617079710888,71.78418145674138,71.25130361592898,72.71575436527375,72.51184086872746,72.43638447420305,70.57735934614112,70.77955951446637,70.6121833342503,70.63693099472306,70.80472591849113,70.52696839093275,70.9078027164727,70.80175509890738,70.78583598453052,70.64886396283894,70.59208514998906,70.8991322725913,70.84595519780808,70.7337396522286,70.80858211496144,70.69904788192923,70.78942236044351,70.73178133289171,70.77381169477832,70.7584833477009,70.68998840815239,70.77225058807527,70.87970375447811,70.70797326382626,70.84039388031692,70.99687363574807,70.72441119178293,70.80559521683107,70.72922855799459,70.70181008234952,70.76753899281809,70.30828762000618,70.6419036351336,70.7910804663423,70.69072122880836,70.74369675737658,70.77257769689284,70.73563670070587,70.79772881681072,70.7402401409803,70.64828167598706,70.80230196470657,70.83830701201988,70.7987221454492,70.69850743998076,70.76852743419597,70.7611455760928,70.7612956701861,70.97943321254733,70.79392753008636,70.77741287569646,70.6974270563855,70.73461525271607,70.76490372748236,70.70359849722395,70.6821923320746,70.69954333019032,70.71091301310676,70.73341413786095,70.71616731981784,70.85981876393592,70.72725156654175,70.64965477476022,70.56742278696521,70.62248703450396,70.622454900972,70.69350887800304,70.70016603340956,70.66265834337975,70.71746996741085,70.78217189845725,70.67680394220633,70.46345248484228,70.67488888835923,70.79151001296235,70.66002426396227,70.71862415060437,70.64432676518138,70.71628078116024,70.55580055110796,70.64480022908172,70.44824052171458,70.63106464336185,69.9055827640977,70.57048375058457,70.79280537370761],\"type\":\"scatter\",\"marker\":{\"size\":3}},{\"line\":{\"color\":\"blue\"},\"name\":\"Polynomial model\",\"x\":[4.0,9.0,17.0,41.0,70.0,82.0,85.0,103.0,115.0,117.0,128.0,148.0,154.0,159.0,160.0,169.0,172.0,174.0,181.0,202.0,204.0,225.0,230.0,235.0,239.0,242.0,246.0,260.0,265.0,267.0,268.0,275.0,298.0,301.0,303.0,308.0,322.0,343.0,351.0,356.0,369.0,388.0,396.0,398.0,401.0,415.0,416.0,422.0,440.0,444.0,457.0,463.0,471.0,476.0,498.0,502.0,504.0,506.0,511.0,519.0,529.0,546.0,578.0,582.0,583.0,604.0,610.0,635.0,653.0,657.0,663.0,672.0,680.0,686.0,711.0,713.0,726.0,730.0,736.0,740.0,747.0,748.0,749.0,750.0,757.0,766.0,777.0,782.0,789.0,803.0,804.0,814.0,821.0,836.0,841.0,845.0,855.0,858.0,878.0,881.0,886.0,911.0,915.0,930.0,950.0,961.0,962.0,985.0,1000.0,1002.0,1006.0,1009.0,1020.0,1021.0,1033.0,1034.0,1092.0,1115.0,1126.0,1148.0,1151.0,1160.0,1171.0,1184.0,1192.0,1202.0,1205.0,1212.0,1231.0,1253.0,1262.0,1270.0,1290.0,1316.0,1319.0,1331.0,1332.0,1344.0,1349.0,1351.0,1358.0,1372.0,1377.0,1386.0,1389.0,1399.0,1400.0,1406.0,1410.0,1439.0,1454.0,1470.0,1471.0,1474.0,1482.0,1506.0,1532.0,1537.0,1556.0,1561.0,1565.0,1607.0,1608.0,1619.0,1652.0,1672.0,1675.0,1724.0,1742.0,1745.0,1749.0,1751.0,1765.0,1775.0,1787.0,1788.0,1789.0,1798.0,1811.0,1812.0,1814.0,1816.0,1827.0,1833.0,1844.0,1848.0,1884.0,1888.0,1890.0,1897.0,1911.0],\"y\":[73.19180394039408,72.40987725882187,72.30269531357924,72.25822096716199,72.67835480637807,72.6493244908273,72.57212091919612,73.15950352014832,72.35001069407599,72.29639344620115,73.59369415898776,73.2724659693291,72.92523194501649,72.64621687465993,72.55862510724444,73.05232134323984,73.24375069255183,73.1259721557039,72.73997236205902,72.71420208266284,72.69092033735525,72.51262131711835,72.5260778596546,71.62304053106588,72.1353734050155,72.14350081901509,72.1751773226602,71.59716660522078,72.10443313502321,72.13502714293753,72.1453731431167,71.72897379185892,71.74841330322982,71.79063870501173,71.74032112261162,71.60722636948115,71.8326805102258,72.7766221834311,71.84879353098546,71.64056255445448,72.00105267287509,72.40758858610566,71.78320270865964,71.83458459119782,71.70235105796426,72.35164371265029,72.45580087402533,71.82560412082746,72.22648449108864,71.74785536241976,72.10788454896758,72.21204034248554,71.73788025660238,71.60305432754475,71.67041370692267,72.15287084203544,72.169343837583,72.2105120267142,72.55551619720872,71.75807517479038,72.16874269517689,71.64637581856867,72.28339635367527,72.5259823154227,72.62713769350687,72.41020572033544,71.75437750590815,71.80592657083487,72.30316816877726,71.89587197154682,71.75204033472271,72.12997694293779,72.60035632761685,71.83404712993841,71.78879465269179,71.68830815390865,72.30658340526206,71.75316270140786,71.69753449978143,71.59708390706035,72.17674611797177,72.20592392356376,72.27551014371713,72.36395070675306,71.79635281053349,72.09089037669095,71.93121265649734,71.83991593170741,71.58472657211806,71.86918545666035,71.84244759287199,72.20887502893402,72.44879941759758,71.62878582368849,72.24537657306527,72.45426607747127,71.79281692402648,71.66686306856417,71.86124719619889,71.70866008441592,71.58070298376086,71.59185684481224,71.68557582317479,71.71424082234189,71.83200710471178,71.57173161341285,71.59571875410647,70.88483345296892,71.02377433341293,70.99969582553804,70.98096944214056,70.90930705140664,71.01246547308327,71.04867759587613,70.88917907358685,70.86467458142307,71.00153998078106,70.97660082084589,70.8937244347014,70.92146652062614,70.87972127262614,71.00401893695185,70.92797043120159,70.90284736130437,71.00762520984237,70.85719623103579,70.86450650657744,71.00000829527812,71.04103366687866,70.95819225051787,71.06928553628595,70.87748807902591,70.95192308474022,70.93465452058449,70.95523623078525,70.98974086045047,71.02844266402404,70.89244910529962,70.86781601525821,70.90601026179584,71.08435040607108,70.88019302552979,70.9218265213728,70.95299086046434,70.8973441619424,70.93678541557634,70.99669268568478,71.06382019162021,70.95800113630827,70.88453595569632,71.06521858533857,70.9311333498091,71.02488924373326,71.01683361988418,70.95099231118382,70.95104469756603,70.90771498821816,70.85404979881102,70.9092937056152,70.86065985055492,70.86298108481353,70.88085905150415,70.86621468977249,70.97570535121393,70.90806256272033,71.02394047372871,70.92999540233754,70.26792756639435,70.41430105961547,70.37393757879107,70.36815379484084,70.35668634388877,70.36985699648366,70.36656291283623,70.21996255538272,70.29011982181414,70.35638810395496,70.28458119313787,70.24077925868045,70.29510415637588,70.37031906533994,70.35502208080429,70.14152986881098,70.11839953771107,70.39632211311914,70.34714879287222,70.22050832272461,70.30238662643265,70.2435817898045,70.18813174006073,70.395739601857],\"type\":\"scatter\",\"marker\":{\"size\":3}}],                        {\"template\":{\"data\":{\"bar\":[{\"error_x\":{\"color\":\"#2a3f5f\"},\"error_y\":{\"color\":\"#2a3f5f\"},\"marker\":{\"line\":{\"color\":\"#E5ECF6\",\"width\":0.5},\"pattern\":{\"fillmode\":\"overlay\",\"size\":10,\"solidity\":0.2}},\"type\":\"bar\"}],\"barpolar\":[{\"marker\":{\"line\":{\"color\":\"#E5ECF6\",\"width\":0.5},\"pattern\":{\"fillmode\":\"overlay\",\"size\":10,\"solidity\":0.2}},\"type\":\"barpolar\"}],\"carpet\":[{\"aaxis\":{\"endlinecolor\":\"#2a3f5f\",\"gridcolor\":\"white\",\"linecolor\":\"white\",\"minorgridcolor\":\"white\",\"startlinecolor\":\"#2a3f5f\"},\"baxis\":{\"endlinecolor\":\"#2a3f5f\",\"gridcolor\":\"white\",\"linecolor\":\"white\",\"minorgridcolor\":\"white\",\"startlinecolor\":\"#2a3f5f\"},\"type\":\"carpet\"}],\"choropleth\":[{\"colorbar\":{\"outlinewidth\":0,\"ticks\":\"\"},\"type\":\"choropleth\"}],\"contour\":[{\"colorbar\":{\"outlinewidth\":0,\"ticks\":\"\"},\"colorscale\":[[0.0,\"#0d0887\"],[0.1111111111111111,\"#46039f\"],[0.2222222222222222,\"#7201a8\"],[0.3333333333333333,\"#9c179e\"],[0.4444444444444444,\"#bd3786\"],[0.5555555555555556,\"#d8576b\"],[0.6666666666666666,\"#ed7953\"],[0.7777777777777778,\"#fb9f3a\"],[0.8888888888888888,\"#fdca26\"],[1.0,\"#f0f921\"]],\"type\":\"contour\"}],\"contourcarpet\":[{\"colorbar\":{\"outlinewidth\":0,\"ticks\":\"\"},\"type\":\"contourcarpet\"}],\"heatmap\":[{\"colorbar\":{\"outlinewidth\":0,\"ticks\":\"\"},\"colorscale\":[[0.0,\"#0d0887\"],[0.1111111111111111,\"#46039f\"],[0.2222222222222222,\"#7201a8\"],[0.3333333333333333,\"#9c179e\"],[0.4444444444444444,\"#bd3786\"],[0.5555555555555556,\"#d8576b\"],[0.6666666666666666,\"#ed7953\"],[0.7777777777777778,\"#fb9f3a\"],[0.8888888888888888,\"#fdca26\"],[1.0,\"#f0f921\"]],\"type\":\"heatmap\"}],\"heatmapgl\":[{\"colorbar\":{\"outlinewidth\":0,\"ticks\":\"\"},\"colorscale\":[[0.0,\"#0d0887\"],[0.1111111111111111,\"#46039f\"],[0.2222222222222222,\"#7201a8\"],[0.3333333333333333,\"#9c179e\"],[0.4444444444444444,\"#bd3786\"],[0.5555555555555556,\"#d8576b\"],[0.6666666666666666,\"#ed7953\"],[0.7777777777777778,\"#fb9f3a\"],[0.8888888888888888,\"#fdca26\"],[1.0,\"#f0f921\"]],\"type\":\"heatmapgl\"}],\"histogram\":[{\"marker\":{\"pattern\":{\"fillmode\":\"overlay\",\"size\":10,\"solidity\":0.2}},\"type\":\"histogram\"}],\"histogram2d\":[{\"colorbar\":{\"outlinewidth\":0,\"ticks\":\"\"},\"colorscale\":[[0.0,\"#0d0887\"],[0.1111111111111111,\"#46039f\"],[0.2222222222222222,\"#7201a8\"],[0.3333333333333333,\"#9c179e\"],[0.4444444444444444,\"#bd3786\"],[0.5555555555555556,\"#d8576b\"],[0.6666666666666666,\"#ed7953\"],[0.7777777777777778,\"#fb9f3a\"],[0.8888888888888888,\"#fdca26\"],[1.0,\"#f0f921\"]],\"type\":\"histogram2d\"}],\"histogram2dcontour\":[{\"colorbar\":{\"outlinewidth\":0,\"ticks\":\"\"},\"colorscale\":[[0.0,\"#0d0887\"],[0.1111111111111111,\"#46039f\"],[0.2222222222222222,\"#7201a8\"],[0.3333333333333333,\"#9c179e\"],[0.4444444444444444,\"#bd3786\"],[0.5555555555555556,\"#d8576b\"],[0.6666666666666666,\"#ed7953\"],[0.7777777777777778,\"#fb9f3a\"],[0.8888888888888888,\"#fdca26\"],[1.0,\"#f0f921\"]],\"type\":\"histogram2dcontour\"}],\"mesh3d\":[{\"colorbar\":{\"outlinewidth\":0,\"ticks\":\"\"},\"type\":\"mesh3d\"}],\"parcoords\":[{\"line\":{\"colorbar\":{\"outlinewidth\":0,\"ticks\":\"\"}},\"type\":\"parcoords\"}],\"pie\":[{\"automargin\":true,\"type\":\"pie\"}],\"scatter\":[{\"marker\":{\"colorbar\":{\"outlinewidth\":0,\"ticks\":\"\"}},\"type\":\"scatter\"}],\"scatter3d\":[{\"line\":{\"colorbar\":{\"outlinewidth\":0,\"ticks\":\"\"}},\"marker\":{\"colorbar\":{\"outlinewidth\":0,\"ticks\":\"\"}},\"type\":\"scatter3d\"}],\"scattercarpet\":[{\"marker\":{\"colorbar\":{\"outlinewidth\":0,\"ticks\":\"\"}},\"type\":\"scattercarpet\"}],\"scattergeo\":[{\"marker\":{\"colorbar\":{\"outlinewidth\":0,\"ticks\":\"\"}},\"type\":\"scattergeo\"}],\"scattergl\":[{\"marker\":{\"colorbar\":{\"outlinewidth\":0,\"ticks\":\"\"}},\"type\":\"scattergl\"}],\"scattermapbox\":[{\"marker\":{\"colorbar\":{\"outlinewidth\":0,\"ticks\":\"\"}},\"type\":\"scattermapbox\"}],\"scatterpolar\":[{\"marker\":{\"colorbar\":{\"outlinewidth\":0,\"ticks\":\"\"}},\"type\":\"scatterpolar\"}],\"scatterpolargl\":[{\"marker\":{\"colorbar\":{\"outlinewidth\":0,\"ticks\":\"\"}},\"type\":\"scatterpolargl\"}],\"scatterternary\":[{\"marker\":{\"colorbar\":{\"outlinewidth\":0,\"ticks\":\"\"}},\"type\":\"scatterternary\"}],\"surface\":[{\"colorbar\":{\"outlinewidth\":0,\"ticks\":\"\"},\"colorscale\":[[0.0,\"#0d0887\"],[0.1111111111111111,\"#46039f\"],[0.2222222222222222,\"#7201a8\"],[0.3333333333333333,\"#9c179e\"],[0.4444444444444444,\"#bd3786\"],[0.5555555555555556,\"#d8576b\"],[0.6666666666666666,\"#ed7953\"],[0.7777777777777778,\"#fb9f3a\"],[0.8888888888888888,\"#fdca26\"],[1.0,\"#f0f921\"]],\"type\":\"surface\"}],\"table\":[{\"cells\":{\"fill\":{\"color\":\"#EBF0F8\"},\"line\":{\"color\":\"white\"}},\"header\":{\"fill\":{\"color\":\"#C8D4E3\"},\"line\":{\"color\":\"white\"}},\"type\":\"table\"}]},\"layout\":{\"annotationdefaults\":{\"arrowcolor\":\"#2a3f5f\",\"arrowhead\":0,\"arrowwidth\":1},\"autotypenumbers\":\"strict\",\"coloraxis\":{\"colorbar\":{\"outlinewidth\":0,\"ticks\":\"\"}},\"colorscale\":{\"diverging\":[[0,\"#8e0152\"],[0.1,\"#c51b7d\"],[0.2,\"#de77ae\"],[0.3,\"#f1b6da\"],[0.4,\"#fde0ef\"],[0.5,\"#f7f7f7\"],[0.6,\"#e6f5d0\"],[0.7,\"#b8e186\"],[0.8,\"#7fbc41\"],[0.9,\"#4d9221\"],[1,\"#276419\"]],\"sequential\":[[0.0,\"#0d0887\"],[0.1111111111111111,\"#46039f\"],[0.2222222222222222,\"#7201a8\"],[0.3333333333333333,\"#9c179e\"],[0.4444444444444444,\"#bd3786\"],[0.5555555555555556,\"#d8576b\"],[0.6666666666666666,\"#ed7953\"],[0.7777777777777778,\"#fb9f3a\"],[0.8888888888888888,\"#fdca26\"],[1.0,\"#f0f921\"]],\"sequentialminus\":[[0.0,\"#0d0887\"],[0.1111111111111111,\"#46039f\"],[0.2222222222222222,\"#7201a8\"],[0.3333333333333333,\"#9c179e\"],[0.4444444444444444,\"#bd3786\"],[0.5555555555555556,\"#d8576b\"],[0.6666666666666666,\"#ed7953\"],[0.7777777777777778,\"#fb9f3a\"],[0.8888888888888888,\"#fdca26\"],[1.0,\"#f0f921\"]]},\"colorway\":[\"#636efa\",\"#EF553B\",\"#00cc96\",\"#ab63fa\",\"#FFA15A\",\"#19d3f3\",\"#FF6692\",\"#B6E880\",\"#FF97FF\",\"#FECB52\"],\"font\":{\"color\":\"#2a3f5f\"},\"geo\":{\"bgcolor\":\"white\",\"lakecolor\":\"white\",\"landcolor\":\"#E5ECF6\",\"showlakes\":true,\"showland\":true,\"subunitcolor\":\"white\"},\"hoverlabel\":{\"align\":\"left\"},\"hovermode\":\"closest\",\"mapbox\":{\"style\":\"light\"},\"paper_bgcolor\":\"white\",\"plot_bgcolor\":\"#E5ECF6\",\"polar\":{\"angularaxis\":{\"gridcolor\":\"white\",\"linecolor\":\"white\",\"ticks\":\"\"},\"bgcolor\":\"#E5ECF6\",\"radialaxis\":{\"gridcolor\":\"white\",\"linecolor\":\"white\",\"ticks\":\"\"}},\"scene\":{\"xaxis\":{\"backgroundcolor\":\"#E5ECF6\",\"gridcolor\":\"white\",\"gridwidth\":2,\"linecolor\":\"white\",\"showbackground\":true,\"ticks\":\"\",\"zerolinecolor\":\"white\"},\"yaxis\":{\"backgroundcolor\":\"#E5ECF6\",\"gridcolor\":\"white\",\"gridwidth\":2,\"linecolor\":\"white\",\"showbackground\":true,\"ticks\":\"\",\"zerolinecolor\":\"white\"},\"zaxis\":{\"backgroundcolor\":\"#E5ECF6\",\"gridcolor\":\"white\",\"gridwidth\":2,\"linecolor\":\"white\",\"showbackground\":true,\"ticks\":\"\",\"zerolinecolor\":\"white\"}},\"shapedefaults\":{\"line\":{\"color\":\"#2a3f5f\"}},\"ternary\":{\"aaxis\":{\"gridcolor\":\"white\",\"linecolor\":\"white\",\"ticks\":\"\"},\"baxis\":{\"gridcolor\":\"white\",\"linecolor\":\"white\",\"ticks\":\"\"},\"bgcolor\":\"#E5ECF6\",\"caxis\":{\"gridcolor\":\"white\",\"linecolor\":\"white\",\"ticks\":\"\"}},\"title\":{\"x\":0.05},\"xaxis\":{\"automargin\":true,\"gridcolor\":\"white\",\"linecolor\":\"white\",\"ticks\":\"\",\"title\":{\"standoff\":15},\"zerolinecolor\":\"white\",\"zerolinewidth\":2},\"yaxis\":{\"automargin\":true,\"gridcolor\":\"white\",\"linecolor\":\"white\",\"ticks\":\"\",\"title\":{\"standoff\":15},\"zerolinecolor\":\"white\",\"zerolinewidth\":2}}},\"xaxis\":{\"anchor\":\"y\",\"domain\":[0.0,1.0],\"title\":{\"text\":\"x\"},\"showgrid\":true,\"gridwidth\":1,\"gridcolor\":\"lightgrey\",\"zeroline\":true,\"zerolinewidth\":1,\"zerolinecolor\":\"lightgrey\",\"showline\":true,\"linewidth\":1,\"linecolor\":\"black\"},\"yaxis\":{\"anchor\":\"x\",\"domain\":[0.0,1.0],\"title\":{\"text\":\"y\"},\"showgrid\":true,\"gridwidth\":1,\"gridcolor\":\"lightgrey\",\"zeroline\":true,\"zerolinewidth\":1,\"zerolinecolor\":\"lightgrey\",\"showline\":true,\"linewidth\":1,\"linecolor\":\"black\"},\"legend\":{\"tracegroupgap\":0},\"margin\":{\"t\":60},\"plot_bgcolor\":\"white\"},                        {\"responsive\": true}                    ).then(function(){\n",
       "                            \n",
       "var gd = document.getElementById('c5b5ddcc-648a-4101-9f7d-ae67335bbb51');\n",
       "var x = new MutationObserver(function (mutations, observer) {{\n",
       "        var display = window.getComputedStyle(gd).display;\n",
       "        if (!display || display === 'none') {{\n",
       "            console.log([gd, 'removed!']);\n",
       "            Plotly.purge(gd);\n",
       "            observer.disconnect();\n",
       "        }}\n",
       "}});\n",
       "\n",
       "// Listen for the removal of the full notebook cells\n",
       "var notebookContainer = gd.closest('#notebook-container');\n",
       "if (notebookContainer) {{\n",
       "    x.observe(notebookContainer, {childList: true});\n",
       "}}\n",
       "\n",
       "// Listen for the clearing of the current output cell\n",
       "var outputEl = gd.closest('.output');\n",
       "if (outputEl) {{\n",
       "    x.observe(outputEl, {childList: true});\n",
       "}}\n",
       "\n",
       "                        })                };                            </script>        </div>\n",
       "</body>\n",
       "</html>"
      ]
     },
     "metadata": {}
    }
   ],
   "metadata": {
    "tags": [],
    "deepnote_to_be_reexecuted": true,
    "source_hash": "98e3fc5c",
    "execution_start": 1640579861068,
    "execution_millis": 17545,
    "cell_id": "00025-e871982d-a0eb-4510-93b9-96f256c123c1",
    "deepnote_output_heights": [
     527,
     527
    ],
    "deepnote_cell_type": "code"
   }
  },
  {
   "cell_type": "code",
   "execution_count": null,
   "source": [
    "rbf_pred, lin_pred, poly_pred = predictions\n",
    "\n",
    "print('RBF Prediction:', rbf_pred[5])\n",
    "print('Linear Prediction:', lin_pred[5])\n",
    "print('Polynomial Prediction:', poly_pred[5])\n",
    "\n",
    "print('Actual Value:', y_test[5])"
   ],
   "outputs": [
    {
     "output_type": "stream",
     "name": "stdout",
     "text": [
      "RBF Prediction: 72.10526846168356\n",
      "Linear Prediction: 72.4014175205678\n",
      "Polynomial Prediction: 72.09089037669095\n",
      "Actual Value: 72.4\n"
     ]
    }
   ],
   "metadata": {
    "tags": [],
    "deepnote_to_be_reexecuted": true,
    "source_hash": "4e744d56",
    "execution_start": 1640579896676,
    "execution_millis": 8,
    "cell_id": "00026-4c47d6a1-b245-43af-a4c6-8ff01973093e",
    "deepnote_cell_type": "code"
   }
  },
  {
   "cell_type": "markdown",
   "source": [
    "### Evaluation: Root Mean Squared Error"
   ],
   "metadata": {
    "tags": [],
    "cell_id": "00027-2bc4adf6-8c34-44df-b9d1-2eeec12af67a",
    "deepnote_cell_type": "markdown"
   }
  },
  {
   "cell_type": "code",
   "execution_count": null,
   "source": [
    "from sklearn.metrics import mean_squared_error\n",
    "from math import sqrt\n",
    "\n",
    "expected = y_test\n",
    "\n",
    "rmse_rbf = sqrt(mean_squared_error(expected, rbf_pred))\n",
    "rmse_lin = sqrt(mean_squared_error(expected, lin_pred))\n",
    "rmse_poly = sqrt(mean_squared_error(expected, poly_pred))\n",
    "\n",
    "print(\"RBF Error:\", rmse_rbf)\n",
    "print(\"Linear Error:\", rmse_lin)\n",
    "print(\"Polynomial Error:\", rmse_poly)"
   ],
   "outputs": [
    {
     "output_type": "stream",
     "name": "stdout",
     "text": [
      "RBF Error: 0.5495927514478534\n",
      "Linear Error: 0.3428149663627371\n",
      "Polynomial Error: 0.5396851262301691\n"
     ]
    }
   ],
   "metadata": {
    "tags": [],
    "deepnote_to_be_reexecuted": true,
    "source_hash": "caa63c78",
    "execution_start": 1640579900704,
    "execution_millis": 12,
    "cell_id": "00027-1cc3c24c-2e32-4680-8617-98a1b7644551",
    "deepnote_cell_type": "code"
   }
  },
  {
   "cell_type": "markdown",
   "source": [
    "## Pickling\n",
    "\n",
    "In order to generate a `.plk` file for a lab specified in the section commented with `# call all functions to preprocess and prepare data`, we call `generate_models()`, which will return three model objects that correspond to the SVR linear, polynomial, and radial basis function models for temperature. \n",
    "\n",
    "Next, we create paths for the model `.pkl` files, which correspond to the syntax described in the documentation. Note that the model name (in the example case below, we use lab H353) needs to be edited to include the correct lab name.\n",
    "\n",
    "Finally, we **pickle** the models, which is a way of compressing the model objects into their own file, which can be uploaded to the Flask app directory when replacing models."
   ],
   "metadata": {
    "tags": [],
    "cell_id": "00031-44df3892-e4bd-4fd2-b727-50d0c5453249",
    "deepnote_cell_type": "markdown"
   }
  },
  {
   "cell_type": "code",
   "execution_count": null,
   "source": [
    "# loop that generates pickles for every lab, if possible\n",
    "\n",
    "lablist = ['H309', 'H353', 'H355', 'H424', 'H460', 'T303', 'T449', 'T454', 'TB01', 'TB15']\n",
    "\n",
    "import pickle\n",
    "\n",
    "for lab in lablist:\n",
    "    # call all functions to preprocess and prepare data\n",
    "\n",
    "    data = prepareCols(labs[lab], lab)\n",
    "    data = addGeneral(data, TlabGeneral)\n",
    "    try:\n",
    "        X_train, X_test, y_train, y_test, times_train, times_test = make_model_data(data)\n",
    "    except:\n",
    "        print(lab)\n",
    "        continue\n",
    "\n",
    "    rbf_model, lin_model, poly_model = generate_models(X_train, y_train, X_test, y_test, times_train, times_test)\n",
    "\n",
    "    my_path_rbf = './pred_svr_rbf_' + lab +  '_temperature.pkl'\n",
    "    my_path_lin = './pred_svr_lin_' + lab +  '_temperature.pkl'\n",
    "    my_path_poly = './pred_svr_poly_' + lab +  '_temperature.pkl'\n",
    "\n",
    "    with open(my_path_rbf, 'wb') as pickle_file:\n",
    "        pickle.dump(rbf_model, pickle_file)\n",
    "\n",
    "    with open(my_path_lin, 'wb') as pickle_file:\n",
    "        pickle.dump(lin_model, pickle_file)\n",
    "\n",
    "    with open(my_path_poly, 'wb') as pickle_file:\n",
    "        pickle.dump(poly_model, pickle_file)\n",
    "\n",
    "\n"
   ],
   "outputs": [
    {
     "output_type": "stream",
     "name": "stderr",
     "text": [
      "/shared-libs/python3.7/py-core/lib/python3.7/site-packages/dateutil/parser/_parser.py:1212: UnknownTimezoneWarning: tzname EDT identified but not understood.  Pass `tzinfos` argument in order to correctly return a timezone-aware datetime.  In a future version, this will raise an exception.\n",
      "  category=UnknownTimezoneWarning)\n",
      "/shared-libs/python3.7/py-core/lib/python3.7/site-packages/ipykernel_launcher.py:5: DeprecationWarning: The truth value of an empty array is ambiguous. Returning False, but in future this will result in an error. Use `array.size > 0` to check that an array is not empty.\n",
      "  \"\"\"\n",
      "                        Time Trend (deg F) HUMIDITY %. Trend (%RH) Hour  \\\n",
      "697   5/26/21 1:00:00 PM EDT      69.91908                74.24472   13   \n",
      "698   5/26/21 2:00:00 PM EDT      69.91908               77.359985   14   \n",
      "699   5/26/21 3:00:00 PM EDT      69.91908                77.16266   15   \n",
      "700   5/26/21 4:00:00 PM EDT      69.91908               77.466736   16   \n",
      "701   5/26/21 5:00:00 PM EDT     70.019226                72.49786   17   \n",
      "...                      ...           ...                     ...  ...   \n",
      "3231             9/9/21 3:00            70                      48    3   \n",
      "3232             9/9/21 4:00            70                      47    4   \n",
      "3233             9/9/21 5:00            70                      48    5   \n",
      "3234             9/9/21 6:00          70.1                      49    6   \n",
      "3235             9/9/21 7:00          69.5                      51    7   \n",
      "\n",
      "      Month  Setback Outside Temp  \n",
      "697       5        0     72.58334  \n",
      "698       5        0    72.752075  \n",
      "699       5        0     73.87674  \n",
      "700       5        0    73.651794  \n",
      "701       5        0      74.3266  \n",
      "...     ...      ...          ...  \n",
      "3231      9        1         64.8  \n",
      "3232      9        1         63.6  \n",
      "3233      9        1         63.5  \n",
      "3234      9        1         62.8  \n",
      "3235      9        1         62.5  \n",
      "\n",
      "[2535 rows x 7 columns]\n",
      "               Time HUMIDITY %. Trend (%RH) Trend (deg F) Hour  Month  \\\n",
      "1317   6/21/21 9:00                      76          72.5    9      6   \n",
      "1318  6/21/21 10:00                      76          72.6   10      6   \n",
      "1319  6/21/21 11:00                      73          72.6   11      6   \n",
      "1320  6/21/21 12:00                      71          72.6   12      6   \n",
      "1321  6/21/21 13:00                      72          72.7   13      6   \n",
      "...             ...                     ...           ...  ...    ...   \n",
      "3231    9/9/21 3:00                      60          70.6    3      9   \n",
      "3232    9/9/21 4:00                      59          70.6    4      9   \n",
      "3233    9/9/21 5:00                      59          70.5    5      9   \n",
      "3234    9/9/21 6:00                      60          70.5    6      9   \n",
      "3235    9/9/21 7:00                      58          70.4    7      9   \n",
      "\n",
      "      Setback Outside Temp  \n",
      "1317        0         81.4  \n",
      "1318        0         82.8  \n",
      "1319        0         83.8  \n",
      "1320        0         85.4  \n",
      "1321        0         85.6  \n",
      "...       ...          ...  \n",
      "3231        1         64.8  \n",
      "3232        1         63.6  \n",
      "3233        1         63.5  \n",
      "3234        1         62.8  \n",
      "3235        1         62.5  \n",
      "\n",
      "[1919 rows x 7 columns]\n",
      "/shared-libs/python3.7/py-core/lib/python3.7/site-packages/dateutil/parser/_parser.py:1212: UnknownTimezoneWarning: tzname EDT identified but not understood.  Pass `tzinfos` argument in order to correctly return a timezone-aware datetime.  In a future version, this will raise an exception.\n",
      "  category=UnknownTimezoneWarning)\n",
      "/shared-libs/python3.7/py-core/lib/python3.7/site-packages/ipykernel_launcher.py:5: DeprecationWarning: The truth value of an empty array is ambiguous. Returning False, but in future this will result in an error. Use `array.size > 0` to check that an array is not empty.\n",
      "  \"\"\"\n",
      "                        Time Trend (deg F) Hour  Month  Setback Outside Temp\n",
      "697   5/26/21 1:00:00 PM EDT      68.38679   13      5        0     72.58334\n",
      "698   5/26/21 2:00:00 PM EDT      68.48487   14      5        0    72.752075\n",
      "699   5/26/21 3:00:00 PM EDT      68.48945   15      5        0     73.87674\n",
      "700   5/26/21 4:00:00 PM EDT      68.48945   16      5        0    73.651794\n",
      "701   5/26/21 5:00:00 PM EDT      68.59115   17      5        0      74.3266\n",
      "...                      ...           ...  ...    ...      ...          ...\n",
      "3231             9/9/21 3:00          68.7    3      9        1         64.8\n",
      "3232             9/9/21 4:00          68.7    4      9        1         63.6\n",
      "3233             9/9/21 5:00          68.7    5      9        1         63.5\n",
      "3234             9/9/21 6:00          68.6    6      9        1         62.8\n",
      "3235             9/9/21 7:00          68.6    7      9        1         62.5\n",
      "\n",
      "[2538 rows x 6 columns]\n",
      "/shared-libs/python3.7/py-core/lib/python3.7/site-packages/dateutil/parser/_parser.py:1212: UnknownTimezoneWarning: tzname EDT identified but not understood.  Pass `tzinfos` argument in order to correctly return a timezone-aware datetime.  In a future version, this will raise an exception.\n",
      "  category=UnknownTimezoneWarning)\n",
      "/shared-libs/python3.7/py-core/lib/python3.7/site-packages/ipykernel_launcher.py:5: DeprecationWarning: The truth value of an empty array is ambiguous. Returning False, but in future this will result in an error. Use `array.size > 0` to check that an array is not empty.\n",
      "  \"\"\"\n",
      "                        Time Trend (deg F) Hour  Month  Setback Outside Temp\n",
      "697   5/26/21 1:00:00 PM EDT       70.4414   13      5        0     72.58334\n",
      "698   5/26/21 2:00:00 PM EDT      70.44235   14      5        0    72.752075\n",
      "699   5/26/21 3:00:00 PM EDT     70.482376   15      5        0     73.87674\n",
      "700   5/26/21 4:00:00 PM EDT      70.39979   16      5        0    73.651794\n",
      "701   5/26/21 5:00:00 PM EDT      70.49501   17      5        0      74.3266\n",
      "...                      ...           ...  ...    ...      ...          ...\n",
      "3231             9/9/21 3:00          70.6    3      9        1         64.8\n",
      "3232             9/9/21 4:00          70.6    4      9        1         63.6\n",
      "3233             9/9/21 5:00          70.6    5      9        1         63.5\n",
      "3234             9/9/21 6:00          70.6    6      9        1         62.8\n",
      "3235             9/9/21 7:00          70.4    7      9        1         62.5\n",
      "\n",
      "[2538 rows x 6 columns]\n",
      "/shared-libs/python3.7/py-core/lib/python3.7/site-packages/dateutil/parser/_parser.py:1212: UnknownTimezoneWarning: tzname EDT identified but not understood.  Pass `tzinfos` argument in order to correctly return a timezone-aware datetime.  In a future version, this will raise an exception.\n",
      "  category=UnknownTimezoneWarning)\n",
      "/shared-libs/python3.7/py-core/lib/python3.7/site-packages/ipykernel_launcher.py:5: DeprecationWarning: The truth value of an empty array is ambiguous. Returning False, but in future this will result in an error. Use `array.size > 0` to check that an array is not empty.\n",
      "  \"\"\"\n",
      "                        Time Trend (deg F) Hour  Month  Setback Outside Temp\n",
      "697   5/26/21 1:00:00 PM EDT      70.46475   13      5        0     72.58334\n",
      "698   5/26/21 2:00:00 PM EDT      70.03938   14      5        0    72.752075\n",
      "699   5/26/21 3:00:00 PM EDT     70.452156   15      5        0     73.87674\n",
      "700   5/26/21 4:00:00 PM EDT       70.7564   16      5        0    73.651794\n",
      "701   5/26/21 5:00:00 PM EDT       71.2131   17      5        0      74.3266\n",
      "...                      ...           ...  ...    ...      ...          ...\n",
      "3231             9/9/21 3:00          71.3    3      9        1         64.8\n",
      "3232             9/9/21 4:00          71.1    4      9        1         63.6\n",
      "3233             9/9/21 5:00          70.9    5      9        1         63.5\n",
      "3234             9/9/21 6:00          70.6    6      9        1         62.8\n",
      "3235             9/9/21 7:00          69.8    7      9        1         62.5\n",
      "\n",
      "[2538 rows x 6 columns]\n",
      "/shared-libs/python3.7/py-core/lib/python3.7/site-packages/dateutil/parser/_parser.py:1212: UnknownTimezoneWarning: tzname EDT identified but not understood.  Pass `tzinfos` argument in order to correctly return a timezone-aware datetime.  In a future version, this will raise an exception.\n",
      "  category=UnknownTimezoneWarning)\n",
      "/shared-libs/python3.7/py-core/lib/python3.7/site-packages/ipykernel_launcher.py:5: DeprecationWarning: The truth value of an empty array is ambiguous. Returning False, but in future this will result in an error. Use `array.size > 0` to check that an array is not empty.\n",
      "  \"\"\"\n",
      "                        Time Trend (deg F) Hour  Month  Setback Outside Temp\n",
      "698   5/26/21 1:00:00 PM EDT     70.635284   13      5        1     72.58334\n",
      "699   5/26/21 2:00:00 PM EDT     70.791016   14      5        1    72.752075\n",
      "700   5/26/21 3:00:00 PM EDT     70.842896   15      5        1     73.87674\n",
      "701   5/26/21 4:00:00 PM EDT      70.22015   16      5        1    73.651794\n",
      "702   5/26/21 5:00:00 PM EDT      69.46762   17      5        1      74.3266\n",
      "...                      ...           ...  ...    ...      ...          ...\n",
      "3231             9/9/21 3:00          69.4    3      9        1         64.8\n",
      "3232             9/9/21 4:00          69.6    4      9        1         63.6\n",
      "3233             9/9/21 5:00          70.2    5      9        1         63.5\n",
      "3234             9/9/21 6:00          70.2    6      9        1         62.8\n",
      "3235             9/9/21 7:00          70.4    7      9        1         62.5\n",
      "\n",
      "[2538 rows x 6 columns]\n",
      "/shared-libs/python3.7/py-core/lib/python3.7/site-packages/dateutil/parser/_parser.py:1212: UnknownTimezoneWarning: tzname EDT identified but not understood.  Pass `tzinfos` argument in order to correctly return a timezone-aware datetime.  In a future version, this will raise an exception.\n",
      "  category=UnknownTimezoneWarning)\n",
      "/shared-libs/python3.7/py-core/lib/python3.7/site-packages/ipykernel_launcher.py:5: DeprecationWarning: The truth value of an empty array is ambiguous. Returning False, but in future this will result in an error. Use `array.size > 0` to check that an array is not empty.\n",
      "  \"\"\"\n",
      "                        Time Trend (deg F) Hour  Month  Setback Outside Temp\n",
      "697   5/26/21 1:00:00 PM EDT      72.45172   13      5        0     72.58334\n",
      "698   5/26/21 2:00:00 PM EDT      72.60739   14      5        0    72.752075\n",
      "699   5/26/21 3:00:00 PM EDT      72.29602   15      5        0     73.87674\n",
      "700   5/26/21 4:00:00 PM EDT       72.5036   16      5        0    73.651794\n",
      "701   5/26/21 5:00:00 PM EDT      72.60739   17      5        0      74.3266\n",
      "...                      ...           ...  ...    ...      ...          ...\n",
      "3231             9/9/21 3:00            72    3      9        0         64.8\n",
      "3232             9/9/21 4:00          71.9    4      9        0         63.6\n",
      "3233             9/9/21 5:00          71.9    5      9        0         63.5\n",
      "3234             9/9/21 6:00          71.9    6      9        0         62.8\n",
      "3235             9/9/21 7:00          71.8    7      9        0         62.5\n",
      "\n",
      "[2539 rows x 6 columns]\n",
      "/shared-libs/python3.7/py-core/lib/python3.7/site-packages/dateutil/parser/_parser.py:1212: UnknownTimezoneWarning: tzname EDT identified but not understood.  Pass `tzinfos` argument in order to correctly return a timezone-aware datetime.  In a future version, this will raise an exception.\n",
      "  category=UnknownTimezoneWarning)\n",
      "/shared-libs/python3.7/py-core/lib/python3.7/site-packages/ipykernel_launcher.py:5: DeprecationWarning: The truth value of an empty array is ambiguous. Returning False, but in future this will result in an error. Use `array.size > 0` to check that an array is not empty.\n",
      "  \"\"\"\n",
      "                        Time Trend (deg F) HUMIDITY %. Trend (%RH) Hour  \\\n",
      "697   5/26/21 1:00:00 PM EDT       73.9827                53.74446   13   \n",
      "698   5/26/21 2:00:00 PM EDT      75.15039                58.56456   14   \n",
      "699   5/26/21 3:00:00 PM EDT      75.69528               59.108032   15   \n",
      "700   5/26/21 4:00:00 PM EDT       75.9548                59.38623   16   \n",
      "701   5/26/21 5:00:00 PM EDT     76.162384               59.438004   17   \n",
      "...                      ...           ...                     ...  ...   \n",
      "3231             9/9/21 3:00          73.8                    60.9    3   \n",
      "3232             9/9/21 4:00          73.7                    60.6    4   \n",
      "3233             9/9/21 5:00            74                      60    5   \n",
      "3234             9/9/21 6:00          74.1                    58.6    6   \n",
      "3235             9/9/21 7:00            74                    55.4    7   \n",
      "\n",
      "      Month  Setback Outside Temp  \n",
      "697       5        0     72.58334  \n",
      "698       5        0    72.752075  \n",
      "699       5        0     73.87674  \n",
      "700       5        0    73.651794  \n",
      "701       5        0      74.3266  \n",
      "...     ...      ...          ...  \n",
      "3231      9        0         64.8  \n",
      "3232      9        0         63.6  \n",
      "3233      9        0         63.5  \n",
      "3234      9        0         62.8  \n",
      "3235      9        0         62.5  \n",
      "\n",
      "[2539 rows x 7 columns]\n",
      "/shared-libs/python3.7/py-core/lib/python3.7/site-packages/dateutil/parser/_parser.py:1212: UnknownTimezoneWarning: tzname EDT identified but not understood.  Pass `tzinfos` argument in order to correctly return a timezone-aware datetime.  In a future version, this will raise an exception.\n",
      "  category=UnknownTimezoneWarning)\n",
      "/shared-libs/python3.7/py-core/lib/python3.7/site-packages/ipykernel_launcher.py:5: DeprecationWarning: The truth value of an empty array is ambiguous. Returning False, but in future this will result in an error. Use `array.size > 0` to check that an array is not empty.\n",
      "  \"\"\"\n",
      "                        Time HUMIDITY %. Trend (%RH) Trend (deg F) Hour  \\\n",
      "697   5/26/21 1:00:00 PM EDT               53.485672          73.4   13   \n",
      "698   5/26/21 2:00:00 PM EDT               57.959625          73.6   14   \n",
      "699   5/26/21 3:00:00 PM EDT               59.137146          73.6   15   \n",
      "700   5/26/21 4:00:00 PM EDT               59.295654          73.6   16   \n",
      "701   5/26/21 5:00:00 PM EDT               60.528183          73.7   17   \n",
      "...                      ...                     ...           ...  ...   \n",
      "3231             9/9/21 3:00                    57.7          72.7    3   \n",
      "3232             9/9/21 4:00                    57.8          72.6    4   \n",
      "3233             9/9/21 5:00                    56.7          72.6    5   \n",
      "3234             9/9/21 6:00                    56.2          72.6    6   \n",
      "3235             9/9/21 7:00                    55.5          72.6    7   \n",
      "\n",
      "      Month  Setback Outside Temp  \n",
      "697       5        0     72.58334  \n",
      "698       5        0    72.752075  \n",
      "699       5        0     73.87674  \n",
      "700       5        0    73.651794  \n",
      "701       5        0      74.3266  \n",
      "...     ...      ...          ...  \n",
      "3231      9        1         64.8  \n",
      "3232      9        1         63.6  \n",
      "3233      9        1         63.5  \n",
      "3234      9        1         62.8  \n",
      "3235      9        1         62.5  \n",
      "\n",
      "[2539 rows x 7 columns]\n",
      "/shared-libs/python3.7/py-core/lib/python3.7/site-packages/dateutil/parser/_parser.py:1212: UnknownTimezoneWarning: tzname EDT identified but not understood.  Pass `tzinfos` argument in order to correctly return a timezone-aware datetime.  In a future version, this will raise an exception.\n",
      "  category=UnknownTimezoneWarning)\n",
      "/shared-libs/python3.7/py-core/lib/python3.7/site-packages/ipykernel_launcher.py:5: DeprecationWarning: The truth value of an empty array is ambiguous. Returning False, but in future this will result in an error. Use `array.size > 0` to check that an array is not empty.\n",
      "  \"\"\"\n",
      "                        Time Trend (deg F) Hour  Month  Setback Outside Temp\n",
      "697   5/26/21 1:00:00 PM EDT       72.6593   13      5        0     72.58334\n",
      "698   5/26/21 2:00:00 PM EDT       72.6593   14      5        0    72.752075\n",
      "699   5/26/21 3:00:00 PM EDT      72.34793   15      5        0     73.87674\n",
      "700   5/26/21 4:00:00 PM EDT      72.14032   16      5        0    73.651794\n",
      "701   5/26/21 5:00:00 PM EDT      72.08844   17      5        0      74.3266\n",
      "...                      ...           ...  ...    ...      ...          ...\n",
      "3231             9/9/21 3:00          73.5    3      9        0         64.8\n",
      "3232             9/9/21 4:00          73.5    4      9        0         63.6\n",
      "3233             9/9/21 5:00          73.5    5      9        0         63.5\n",
      "3234             9/9/21 6:00          72.7    6      9        0         62.8\n",
      "3235             9/9/21 7:00          72.7    7      9        0         62.5\n",
      "\n",
      "[2454 rows x 6 columns]\n"
     ]
    }
   ],
   "metadata": {
    "tags": [],
    "cell_id": "00034-37d7c44c-99f8-49ae-adb8-0be01fe08fc1",
    "deepnote_to_be_reexecuted": false,
    "source_hash": "64a91dc5",
    "execution_start": 1640585536839,
    "execution_millis": 390628,
    "deepnote_cell_type": "code"
   }
  },
  {
   "cell_type": "code",
   "execution_count": null,
   "source": [
    "rbf_model, lin_model, poly_model = generate_models(X_train, y_train, X_test, y_test, times_train, times_test)\n",
    "\n",
    "my_path_rbf = \"./pred_svr_rbf_H351_temperature.pkl\"\n",
    "my_path_lin = \"./pred_svr_lin_H351_temperature.pkl\"\n",
    "my_path_poly = \"./pred_svr_poly_H309_temperature.pkl\""
   ],
   "outputs": [
    {
     "output_type": "error",
     "ename": "KeyboardInterrupt",
     "evalue": "",
     "traceback": [
      "\u001b[0;31m---------------------------------------------------------------------------\u001b[0m",
      "\u001b[0;31mKeyboardInterrupt\u001b[0m                         Traceback (most recent call last)",
      "\u001b[0;32m<ipython-input-28-1672c3cc7101>\u001b[0m in \u001b[0;36m<module>\u001b[0;34m\u001b[0m\n\u001b[0;32m----> 1\u001b[0;31m \u001b[0mrbf_model\u001b[0m\u001b[0;34m,\u001b[0m \u001b[0mlin_model\u001b[0m\u001b[0;34m,\u001b[0m \u001b[0mpoly_model\u001b[0m \u001b[0;34m=\u001b[0m \u001b[0mgenerate_models\u001b[0m\u001b[0;34m(\u001b[0m\u001b[0mX_train\u001b[0m\u001b[0;34m,\u001b[0m \u001b[0my_train\u001b[0m\u001b[0;34m,\u001b[0m \u001b[0mX_test\u001b[0m\u001b[0;34m,\u001b[0m \u001b[0my_test\u001b[0m\u001b[0;34m,\u001b[0m \u001b[0mtimes_train\u001b[0m\u001b[0;34m,\u001b[0m \u001b[0mtimes_test\u001b[0m\u001b[0;34m)\u001b[0m\u001b[0;34m\u001b[0m\u001b[0;34m\u001b[0m\u001b[0m\n\u001b[0m\u001b[1;32m      2\u001b[0m \u001b[0;34m\u001b[0m\u001b[0m\n\u001b[1;32m      3\u001b[0m \u001b[0mmy_path_rbf\u001b[0m \u001b[0;34m=\u001b[0m \u001b[0;34m\"./pred_svr_rbf_H_temperature.pkl\"\u001b[0m\u001b[0;34m\u001b[0m\u001b[0;34m\u001b[0m\u001b[0m\n\u001b[1;32m      4\u001b[0m \u001b[0mmy_path_lin\u001b[0m \u001b[0;34m=\u001b[0m \u001b[0;34m\"./pred_svr_lin_H309_temperature.pkl\"\u001b[0m\u001b[0;34m\u001b[0m\u001b[0;34m\u001b[0m\u001b[0m\n\u001b[1;32m      5\u001b[0m \u001b[0mmy_path_poly\u001b[0m \u001b[0;34m=\u001b[0m \u001b[0;34m\"./pred_svr_poly_H309_temperature.pkl\"\u001b[0m\u001b[0;34m\u001b[0m\u001b[0;34m\u001b[0m\u001b[0m\n",
      "\u001b[0;32m<ipython-input-13-e709abab34df>\u001b[0m in \u001b[0;36mgenerate_models\u001b[0;34m(X_train, y_train, X_test, y_test, t_train, t_test)\u001b[0m\n\u001b[1;32m      9\u001b[0m \u001b[0;34m\u001b[0m\u001b[0m\n\u001b[1;32m     10\u001b[0m     \u001b[0;31m# Fit regression model\u001b[0m\u001b[0;34m\u001b[0m\u001b[0;34m\u001b[0m\u001b[0;34m\u001b[0m\u001b[0m\n\u001b[0;32m---> 11\u001b[0;31m     \u001b[0msvr_lin\u001b[0m\u001b[0;34m.\u001b[0m\u001b[0mfit\u001b[0m\u001b[0;34m(\u001b[0m\u001b[0mX_train\u001b[0m\u001b[0;34m,\u001b[0m \u001b[0my_train\u001b[0m\u001b[0;34m)\u001b[0m\u001b[0;34m\u001b[0m\u001b[0;34m\u001b[0m\u001b[0m\n\u001b[0m\u001b[1;32m     12\u001b[0m     \u001b[0msvr_poly\u001b[0m\u001b[0;34m.\u001b[0m\u001b[0mfit\u001b[0m\u001b[0;34m(\u001b[0m\u001b[0mX_train\u001b[0m\u001b[0;34m,\u001b[0m \u001b[0my_train\u001b[0m\u001b[0;34m)\u001b[0m\u001b[0;34m\u001b[0m\u001b[0;34m\u001b[0m\u001b[0m\n\u001b[1;32m     13\u001b[0m     \u001b[0msvr_rbf\u001b[0m\u001b[0;34m.\u001b[0m\u001b[0mfit\u001b[0m\u001b[0;34m(\u001b[0m\u001b[0mX_train\u001b[0m\u001b[0;34m,\u001b[0m \u001b[0my_train\u001b[0m\u001b[0;34m)\u001b[0m\u001b[0;34m\u001b[0m\u001b[0;34m\u001b[0m\u001b[0m\n",
      "\u001b[0;32m/shared-libs/python3.7/py/lib/python3.7/site-packages/sklearn/svm/_base.py\u001b[0m in \u001b[0;36mfit\u001b[0;34m(self, X, y, sample_weight)\u001b[0m\n\u001b[1;32m    253\u001b[0m \u001b[0;34m\u001b[0m\u001b[0m\n\u001b[1;32m    254\u001b[0m         \u001b[0mseed\u001b[0m \u001b[0;34m=\u001b[0m \u001b[0mrnd\u001b[0m\u001b[0;34m.\u001b[0m\u001b[0mrandint\u001b[0m\u001b[0;34m(\u001b[0m\u001b[0mnp\u001b[0m\u001b[0;34m.\u001b[0m\u001b[0miinfo\u001b[0m\u001b[0;34m(\u001b[0m\u001b[0;34m\"i\"\u001b[0m\u001b[0;34m)\u001b[0m\u001b[0;34m.\u001b[0m\u001b[0mmax\u001b[0m\u001b[0;34m)\u001b[0m\u001b[0;34m\u001b[0m\u001b[0;34m\u001b[0m\u001b[0m\n\u001b[0;32m--> 255\u001b[0;31m         \u001b[0mfit\u001b[0m\u001b[0;34m(\u001b[0m\u001b[0mX\u001b[0m\u001b[0;34m,\u001b[0m \u001b[0my\u001b[0m\u001b[0;34m,\u001b[0m \u001b[0msample_weight\u001b[0m\u001b[0;34m,\u001b[0m \u001b[0msolver_type\u001b[0m\u001b[0;34m,\u001b[0m \u001b[0mkernel\u001b[0m\u001b[0;34m,\u001b[0m \u001b[0mrandom_seed\u001b[0m\u001b[0;34m=\u001b[0m\u001b[0mseed\u001b[0m\u001b[0;34m)\u001b[0m\u001b[0;34m\u001b[0m\u001b[0;34m\u001b[0m\u001b[0m\n\u001b[0m\u001b[1;32m    256\u001b[0m         \u001b[0;31m# see comment on the other call to np.iinfo in this file\u001b[0m\u001b[0;34m\u001b[0m\u001b[0;34m\u001b[0m\u001b[0;34m\u001b[0m\u001b[0m\n\u001b[1;32m    257\u001b[0m \u001b[0;34m\u001b[0m\u001b[0m\n",
      "\u001b[0;32m/shared-libs/python3.7/py/lib/python3.7/site-packages/sklearn/svm/_base.py\u001b[0m in \u001b[0;36m_dense_fit\u001b[0;34m(self, X, y, sample_weight, solver_type, kernel, random_seed)\u001b[0m\n\u001b[1;32m    331\u001b[0m             \u001b[0mepsilon\u001b[0m\u001b[0;34m=\u001b[0m\u001b[0mself\u001b[0m\u001b[0;34m.\u001b[0m\u001b[0mepsilon\u001b[0m\u001b[0;34m,\u001b[0m\u001b[0;34m\u001b[0m\u001b[0;34m\u001b[0m\u001b[0m\n\u001b[1;32m    332\u001b[0m             \u001b[0mmax_iter\u001b[0m\u001b[0;34m=\u001b[0m\u001b[0mself\u001b[0m\u001b[0;34m.\u001b[0m\u001b[0mmax_iter\u001b[0m\u001b[0;34m,\u001b[0m\u001b[0;34m\u001b[0m\u001b[0;34m\u001b[0m\u001b[0m\n\u001b[0;32m--> 333\u001b[0;31m             \u001b[0mrandom_seed\u001b[0m\u001b[0;34m=\u001b[0m\u001b[0mrandom_seed\u001b[0m\u001b[0;34m,\u001b[0m\u001b[0;34m\u001b[0m\u001b[0;34m\u001b[0m\u001b[0m\n\u001b[0m\u001b[1;32m    334\u001b[0m         )\n\u001b[1;32m    335\u001b[0m \u001b[0;34m\u001b[0m\u001b[0m\n",
      "\u001b[0;31mKeyboardInterrupt\u001b[0m: "
     ]
    }
   ],
   "metadata": {
    "tags": [],
    "deepnote_to_be_reexecuted": true,
    "source_hash": "31c99d5c",
    "execution_start": 1640584779906,
    "execution_millis": 22736,
    "cell_id": "00030-8e904cdb-525f-4063-91d5-3a225bfaa0d3",
    "deepnote_output_heights": [
     null,
     527
    ],
    "deepnote_cell_type": "code"
   }
  },
  {
   "cell_type": "code",
   "execution_count": null,
   "source": [
    "import pickle\n",
    "\n",
    "with open(my_path_rbf, 'wb') as pickle_file:\n",
    "    pickle.dump(rbf_model, pickle_file)\n",
    "\n",
    "with open(my_path_lin, 'wb') as pickle_file:\n",
    "    pickle.dump(lin_model, pickle_file)\n",
    "\n",
    "with open(my_path_poly, 'wb') as pickle_file:\n",
    "    pickle.dump(poly_model, pickle_file)"
   ],
   "outputs": [],
   "metadata": {
    "tags": [],
    "deepnote_to_be_reexecuted": true,
    "source_hash": "cfc55c5e",
    "execution_start": 1640584686076,
    "execution_millis": 14,
    "cell_id": "00031-51727a53-7c48-40d2-aef4-d63cc8238a54",
    "deepnote_cell_type": "code"
   }
  },
  {
   "cell_type": "markdown",
   "source": [
    "Next, we test the pickled model, which in our example case is for Lab H353 temperature. We do this by using the `pandas` function `read_pickle()`. We input four parameters when predicting a value: month, day, setback (either 0 for no or 1 for yes), and outside temperature."
   ],
   "metadata": {
    "tags": [],
    "cell_id": "00036-f800d05c-3acd-4f08-b09d-c307bef2b81e",
    "deepnote_cell_type": "markdown"
   }
  },
  {
   "cell_type": "code",
   "execution_count": null,
   "source": [
    "import pandas as pd\n",
    "\n",
    "my_path_rbf = \"./pred_svr_rbf_H309_temperature.pkl\"\n",
    "\n",
    "test_rbf = pd.read_pickle(my_path_rbf)"
   ],
   "outputs": [],
   "metadata": {
    "tags": [],
    "deepnote_to_be_reexecuted": true,
    "source_hash": "c1a73c15",
    "execution_start": 1640584689667,
    "execution_millis": 98,
    "cell_id": "00032-4212bd9b-f1c0-47d1-88fb-037dbdb3cd63",
    "deepnote_cell_type": "code"
   }
  },
  {
   "cell_type": "code",
   "execution_count": null,
   "source": [
    "test_rbf.predict([[10, 4, 0, 81.4]])"
   ],
   "outputs": [
    {
     "output_type": "execute_result",
     "data": {
      "text/plain": [
       "array([69.9363364])"
      ]
     },
     "metadata": {},
     "execution_count": 25
    }
   ],
   "metadata": {
    "tags": [],
    "deepnote_to_be_reexecuted": true,
    "source_hash": "83c5bca4",
    "execution_start": 1640584691469,
    "execution_millis": 9,
    "cell_id": "00034-9576f53b-f735-4447-9324-bbb765119a3f",
    "deepnote_output_heights": [
     21.1875
    ],
    "deepnote_cell_type": "code"
   }
  },
  {
   "cell_type": "code",
   "execution_count": null,
   "source": [],
   "outputs": [],
   "metadata": {
    "tags": [],
    "cell_id": "00039-13b6a645-d50e-4116-8acd-064be151fe34",
    "deepnote_to_be_reexecuted": true,
    "source_hash": "b623e53d",
    "deepnote_cell_type": "code"
   }
  },
  {
   "cell_type": "markdown",
   "source": [
    "<a style='text-decoration:none;line-height:16px;display:flex;color:#5B5B62;padding:10px;justify-content:end;' href='https://deepnote.com?utm_source=created-in-deepnote-cell&projectId=bf8e464d-6614-4785-bf90-eb5b6d8a76b5' target=\"_blank\">\n",
    "<img alt='Created in deepnote.com' style='display:inline;max-height:16px;margin:0px;margin-right:7.5px;' src='data:image/svg+xml;base64,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' > </img>\n",
    "Created in <span style='font-weight:600;margin-left:4px;'>Deepnote</span></a>"
   ],
   "metadata": {
    "tags": [],
    "created_in_deepnote_cell": true,
    "deepnote_cell_type": "markdown"
   }
  }
 ],
 "nbformat": 4,
 "nbformat_minor": 2,
 "metadata": {
  "orig_nbformat": 2,
  "deepnote": {
   "is_reactive": false
  },
  "deepnote_notebook_id": "80fc4155-c96e-4124-926c-26dcb1ce280e",
  "deepnote_execution_queue": [],
  "language_info": {
   "name": "python",
   "version": "3.9.5",
   "mimetype": "text/x-python",
   "codemirror_mode": {
    "name": "ipython",
    "version": 3
   },
   "pygments_lexer": "ipython3",
   "nbconvert_exporter": "python",
   "file_extension": ".py"
  },
  "kernelspec": {
   "name": "python3",
   "display_name": "Python 3.9.5 64-bit"
  },
  "interpreter": {
   "hash": "aee8b7b246df8f9039afb4144a1f6fd8d2ca17a180786b69acc140d282b71a49"
  }
 }
}