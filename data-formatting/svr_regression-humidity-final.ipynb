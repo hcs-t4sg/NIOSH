{
 "cells": [
  {
   "cell_type": "code",
   "execution_count": 1,
   "source": [
    "# Start writing code here..."
   ],
   "outputs": [],
   "metadata": {
    "tags": [],
    "deepnote_to_be_reexecuted": false,
    "source_hash": "8ad57f32",
    "execution_start": 1640666419087,
    "execution_millis": 118594207,
    "cell_id": "00000-933d49a1-d2b5-48a3-adcb-47ccea3cb48f",
    "deepnote_cell_type": "code"
   }
  },
  {
   "cell_type": "code",
   "execution_count": 2,
   "source": [
    "import pandas as pd\n",
    "import numpy as np\n",
    "import sklearn\n",
    "from matplotlib import pyplot as plt \n",
    "from sklearn.metrics import mean_squared_error, r2_score\n",
    "from hyperopt import hp, tpe, Trials, fmin\n",
    "import time\n",
    "import datetime\n",
    "import random"
   ],
   "outputs": [],
   "metadata": {
    "tags": [],
    "deepnote_to_be_reexecuted": false,
    "source_hash": "ffe3dee0",
    "execution_start": 1640666419088,
    "execution_millis": 3862,
    "cell_id": "00001-43736703-38ae-4ae3-8521-b7f9a48f7a15",
    "deepnote_cell_type": "code"
   }
  },
  {
   "cell_type": "markdown",
   "source": [
    "# HCS T4SG x NIOSH Lab Humidity Prediction Model\n",
    "#### via Support Vector Regression (SVR)"
   ],
   "metadata": {
    "tags": [],
    "cell_id": "00002-8fe49590-5148-493f-bb6a-6552a4acefc2",
    "deepnote_cell_type": "markdown"
   }
  },
  {
   "cell_type": "code",
   "execution_count": 3,
   "source": [
    "path = \"./LabTempTrends.csv\"\n",
    "df = pd.read_csv(path)\n",
    "df.head(10)"
   ],
   "outputs": [
    {
     "output_type": "execute_result",
     "data": {
      "text/plain": [
       "                     TB15     Unnamed: 1  T302     Unnamed: 3  \\\n",
       "0                    Time  Trend (deg F)  Time  Trend (deg F)   \n",
       "1  4/27/21 1:00:00 PM EDT       74.99469   NaN            NaN   \n",
       "2  4/27/21 2:00:00 PM EDT       74.29407   NaN            NaN   \n",
       "3  4/27/21 3:00:00 PM EDT       74.78711   NaN            NaN   \n",
       "4  4/27/21 4:00:00 PM EDT       74.47571   NaN            NaN   \n",
       "5  4/27/21 5:00:00 PM EDT       74.47571   NaN            NaN   \n",
       "6  4/27/21 6:00:00 PM EDT        74.8909   NaN            NaN   \n",
       "7  4/27/21 7:00:00 PM EDT       75.20227   NaN            NaN   \n",
       "8  4/27/21 8:00:00 PM EDT       75.46176   NaN            NaN   \n",
       "9  4/27/21 9:00:00 PM EDT       75.53958   NaN            NaN   \n",
       "\n",
       "                      T303     Unnamed: 5                    T446  \\\n",
       "0                     Time  Trend (deg F)                    Time   \n",
       "1  4/27/21 12:00:00 PM EDT       71.69919  4/27/21 1:00:00 PM EDT   \n",
       "2   4/27/21 1:00:00 PM EDT        71.7511  4/27/21 2:00:00 PM EDT   \n",
       "3   4/27/21 2:00:00 PM EDT       71.64728  4/27/21 3:00:00 PM EDT   \n",
       "4   4/27/21 3:00:00 PM EDT       70.06445  4/27/21 4:00:00 PM EDT   \n",
       "5   4/27/21 4:00:00 PM EDT      70.583405  4/27/21 5:00:00 PM EDT   \n",
       "6   4/27/21 5:00:00 PM EDT      70.920746  4/27/21 6:00:00 PM EDT   \n",
       "7   4/27/21 6:00:00 PM EDT       71.28403  4/27/21 7:00:00 PM EDT   \n",
       "8   4/27/21 7:00:00 PM EDT       71.38782  4/27/21 8:00:00 PM EDT   \n",
       "9   4/27/21 8:00:00 PM EDT       71.07645  4/27/21 9:00:00 PM EDT   \n",
       "\n",
       "      Unnamed: 7                    T449     Unnamed: 9  ...  H460  \\\n",
       "0  Trend (deg F)                    Time  Trend (deg F)  ...  Time   \n",
       "1        72.0625  4/27/21 1:00:00 PM EDT       72.86691  ...   NaN   \n",
       "2       72.91879  4/27/21 2:00:00 PM EDT       72.45172  ...   NaN   \n",
       "3        72.0625  4/27/21 3:00:00 PM EDT       72.55551  ...   NaN   \n",
       "4       72.01059  4/27/21 4:00:00 PM EDT       72.71118  ...   NaN   \n",
       "5       72.01059  4/27/21 5:00:00 PM EDT       72.86691  ...   NaN   \n",
       "6       73.12637  4/27/21 6:00:00 PM EDT       73.12637  ...   NaN   \n",
       "7      73.411804  4/27/21 7:00:00 PM EDT         72.815  ...   NaN   \n",
       "8      73.515594  4/27/21 8:00:00 PM EDT       72.24414  ...   NaN   \n",
       "9      73.671295  4/27/21 9:00:00 PM EDT       73.12637  ...   NaN   \n",
       "\n",
       "     Unnamed: 31 H309.1              Unnamed: 33  H353  \\\n",
       "0  Trend (deg F)   Time  HUMIDITY %. Trend (%RH)  Time   \n",
       "1            NaN    NaN                      NaN   NaN   \n",
       "2            NaN    NaN                      NaN   NaN   \n",
       "3            NaN    NaN                      NaN   NaN   \n",
       "4            NaN    NaN                      NaN   NaN   \n",
       "5            NaN    NaN                      NaN   NaN   \n",
       "6            NaN    NaN                      NaN   NaN   \n",
       "7            NaN    NaN                      NaN   NaN   \n",
       "8            NaN    NaN                      NaN   NaN   \n",
       "9            NaN    NaN                      NaN   NaN   \n",
       "\n",
       "               Unnamed: 35 H353.1    Unnamed: 37 TB01.1    Unnamed: 39  \n",
       "0  HUMIDITY %. Trend (%RH)   Time  Trend (deg F)   Time  Trend (deg F)  \n",
       "1                      NaN    NaN            NaN    NaN            NaN  \n",
       "2                      NaN    NaN            NaN    NaN            NaN  \n",
       "3                      NaN    NaN            NaN    NaN            NaN  \n",
       "4                      NaN    NaN            NaN    NaN            NaN  \n",
       "5                      NaN    NaN            NaN    NaN            NaN  \n",
       "6                      NaN    NaN            NaN    NaN            NaN  \n",
       "7                      NaN    NaN            NaN    NaN            NaN  \n",
       "8                      NaN    NaN            NaN    NaN            NaN  \n",
       "9                      NaN    NaN            NaN    NaN            NaN  \n",
       "\n",
       "[10 rows x 40 columns]"
      ],
      "text/html": [
       "<div>\n",
       "<style scoped>\n",
       "    .dataframe tbody tr th:only-of-type {\n",
       "        vertical-align: middle;\n",
       "    }\n",
       "\n",
       "    .dataframe tbody tr th {\n",
       "        vertical-align: top;\n",
       "    }\n",
       "\n",
       "    .dataframe thead th {\n",
       "        text-align: right;\n",
       "    }\n",
       "</style>\n",
       "<table border=\"1\" class=\"dataframe\">\n",
       "  <thead>\n",
       "    <tr style=\"text-align: right;\">\n",
       "      <th></th>\n",
       "      <th>TB15</th>\n",
       "      <th>Unnamed: 1</th>\n",
       "      <th>T302</th>\n",
       "      <th>Unnamed: 3</th>\n",
       "      <th>T303</th>\n",
       "      <th>Unnamed: 5</th>\n",
       "      <th>T446</th>\n",
       "      <th>Unnamed: 7</th>\n",
       "      <th>T449</th>\n",
       "      <th>Unnamed: 9</th>\n",
       "      <th>...</th>\n",
       "      <th>H460</th>\n",
       "      <th>Unnamed: 31</th>\n",
       "      <th>H309.1</th>\n",
       "      <th>Unnamed: 33</th>\n",
       "      <th>H353</th>\n",
       "      <th>Unnamed: 35</th>\n",
       "      <th>H353.1</th>\n",
       "      <th>Unnamed: 37</th>\n",
       "      <th>TB01.1</th>\n",
       "      <th>Unnamed: 39</th>\n",
       "    </tr>\n",
       "  </thead>\n",
       "  <tbody>\n",
       "    <tr>\n",
       "      <th>0</th>\n",
       "      <td>Time</td>\n",
       "      <td>Trend (deg F)</td>\n",
       "      <td>Time</td>\n",
       "      <td>Trend (deg F)</td>\n",
       "      <td>Time</td>\n",
       "      <td>Trend (deg F)</td>\n",
       "      <td>Time</td>\n",
       "      <td>Trend (deg F)</td>\n",
       "      <td>Time</td>\n",
       "      <td>Trend (deg F)</td>\n",
       "      <td>...</td>\n",
       "      <td>Time</td>\n",
       "      <td>Trend (deg F)</td>\n",
       "      <td>Time</td>\n",
       "      <td>HUMIDITY %. Trend (%RH)</td>\n",
       "      <td>Time</td>\n",
       "      <td>HUMIDITY %. Trend (%RH)</td>\n",
       "      <td>Time</td>\n",
       "      <td>Trend (deg F)</td>\n",
       "      <td>Time</td>\n",
       "      <td>Trend (deg F)</td>\n",
       "    </tr>\n",
       "    <tr>\n",
       "      <th>1</th>\n",
       "      <td>4/27/21 1:00:00 PM EDT</td>\n",
       "      <td>74.99469</td>\n",
       "      <td>NaN</td>\n",
       "      <td>NaN</td>\n",
       "      <td>4/27/21 12:00:00 PM EDT</td>\n",
       "      <td>71.69919</td>\n",
       "      <td>4/27/21 1:00:00 PM EDT</td>\n",
       "      <td>72.0625</td>\n",
       "      <td>4/27/21 1:00:00 PM EDT</td>\n",
       "      <td>72.86691</td>\n",
       "      <td>...</td>\n",
       "      <td>NaN</td>\n",
       "      <td>NaN</td>\n",
       "      <td>NaN</td>\n",
       "      <td>NaN</td>\n",
       "      <td>NaN</td>\n",
       "      <td>NaN</td>\n",
       "      <td>NaN</td>\n",
       "      <td>NaN</td>\n",
       "      <td>NaN</td>\n",
       "      <td>NaN</td>\n",
       "    </tr>\n",
       "    <tr>\n",
       "      <th>2</th>\n",
       "      <td>4/27/21 2:00:00 PM EDT</td>\n",
       "      <td>74.29407</td>\n",
       "      <td>NaN</td>\n",
       "      <td>NaN</td>\n",
       "      <td>4/27/21 1:00:00 PM EDT</td>\n",
       "      <td>71.7511</td>\n",
       "      <td>4/27/21 2:00:00 PM EDT</td>\n",
       "      <td>72.91879</td>\n",
       "      <td>4/27/21 2:00:00 PM EDT</td>\n",
       "      <td>72.45172</td>\n",
       "      <td>...</td>\n",
       "      <td>NaN</td>\n",
       "      <td>NaN</td>\n",
       "      <td>NaN</td>\n",
       "      <td>NaN</td>\n",
       "      <td>NaN</td>\n",
       "      <td>NaN</td>\n",
       "      <td>NaN</td>\n",
       "      <td>NaN</td>\n",
       "      <td>NaN</td>\n",
       "      <td>NaN</td>\n",
       "    </tr>\n",
       "    <tr>\n",
       "      <th>3</th>\n",
       "      <td>4/27/21 3:00:00 PM EDT</td>\n",
       "      <td>74.78711</td>\n",
       "      <td>NaN</td>\n",
       "      <td>NaN</td>\n",
       "      <td>4/27/21 2:00:00 PM EDT</td>\n",
       "      <td>71.64728</td>\n",
       "      <td>4/27/21 3:00:00 PM EDT</td>\n",
       "      <td>72.0625</td>\n",
       "      <td>4/27/21 3:00:00 PM EDT</td>\n",
       "      <td>72.55551</td>\n",
       "      <td>...</td>\n",
       "      <td>NaN</td>\n",
       "      <td>NaN</td>\n",
       "      <td>NaN</td>\n",
       "      <td>NaN</td>\n",
       "      <td>NaN</td>\n",
       "      <td>NaN</td>\n",
       "      <td>NaN</td>\n",
       "      <td>NaN</td>\n",
       "      <td>NaN</td>\n",
       "      <td>NaN</td>\n",
       "    </tr>\n",
       "    <tr>\n",
       "      <th>4</th>\n",
       "      <td>4/27/21 4:00:00 PM EDT</td>\n",
       "      <td>74.47571</td>\n",
       "      <td>NaN</td>\n",
       "      <td>NaN</td>\n",
       "      <td>4/27/21 3:00:00 PM EDT</td>\n",
       "      <td>70.06445</td>\n",
       "      <td>4/27/21 4:00:00 PM EDT</td>\n",
       "      <td>72.01059</td>\n",
       "      <td>4/27/21 4:00:00 PM EDT</td>\n",
       "      <td>72.71118</td>\n",
       "      <td>...</td>\n",
       "      <td>NaN</td>\n",
       "      <td>NaN</td>\n",
       "      <td>NaN</td>\n",
       "      <td>NaN</td>\n",
       "      <td>NaN</td>\n",
       "      <td>NaN</td>\n",
       "      <td>NaN</td>\n",
       "      <td>NaN</td>\n",
       "      <td>NaN</td>\n",
       "      <td>NaN</td>\n",
       "    </tr>\n",
       "    <tr>\n",
       "      <th>5</th>\n",
       "      <td>4/27/21 5:00:00 PM EDT</td>\n",
       "      <td>74.47571</td>\n",
       "      <td>NaN</td>\n",
       "      <td>NaN</td>\n",
       "      <td>4/27/21 4:00:00 PM EDT</td>\n",
       "      <td>70.583405</td>\n",
       "      <td>4/27/21 5:00:00 PM EDT</td>\n",
       "      <td>72.01059</td>\n",
       "      <td>4/27/21 5:00:00 PM EDT</td>\n",
       "      <td>72.86691</td>\n",
       "      <td>...</td>\n",
       "      <td>NaN</td>\n",
       "      <td>NaN</td>\n",
       "      <td>NaN</td>\n",
       "      <td>NaN</td>\n",
       "      <td>NaN</td>\n",
       "      <td>NaN</td>\n",
       "      <td>NaN</td>\n",
       "      <td>NaN</td>\n",
       "      <td>NaN</td>\n",
       "      <td>NaN</td>\n",
       "    </tr>\n",
       "    <tr>\n",
       "      <th>6</th>\n",
       "      <td>4/27/21 6:00:00 PM EDT</td>\n",
       "      <td>74.8909</td>\n",
       "      <td>NaN</td>\n",
       "      <td>NaN</td>\n",
       "      <td>4/27/21 5:00:00 PM EDT</td>\n",
       "      <td>70.920746</td>\n",
       "      <td>4/27/21 6:00:00 PM EDT</td>\n",
       "      <td>73.12637</td>\n",
       "      <td>4/27/21 6:00:00 PM EDT</td>\n",
       "      <td>73.12637</td>\n",
       "      <td>...</td>\n",
       "      <td>NaN</td>\n",
       "      <td>NaN</td>\n",
       "      <td>NaN</td>\n",
       "      <td>NaN</td>\n",
       "      <td>NaN</td>\n",
       "      <td>NaN</td>\n",
       "      <td>NaN</td>\n",
       "      <td>NaN</td>\n",
       "      <td>NaN</td>\n",
       "      <td>NaN</td>\n",
       "    </tr>\n",
       "    <tr>\n",
       "      <th>7</th>\n",
       "      <td>4/27/21 7:00:00 PM EDT</td>\n",
       "      <td>75.20227</td>\n",
       "      <td>NaN</td>\n",
       "      <td>NaN</td>\n",
       "      <td>4/27/21 6:00:00 PM EDT</td>\n",
       "      <td>71.28403</td>\n",
       "      <td>4/27/21 7:00:00 PM EDT</td>\n",
       "      <td>73.411804</td>\n",
       "      <td>4/27/21 7:00:00 PM EDT</td>\n",
       "      <td>72.815</td>\n",
       "      <td>...</td>\n",
       "      <td>NaN</td>\n",
       "      <td>NaN</td>\n",
       "      <td>NaN</td>\n",
       "      <td>NaN</td>\n",
       "      <td>NaN</td>\n",
       "      <td>NaN</td>\n",
       "      <td>NaN</td>\n",
       "      <td>NaN</td>\n",
       "      <td>NaN</td>\n",
       "      <td>NaN</td>\n",
       "    </tr>\n",
       "    <tr>\n",
       "      <th>8</th>\n",
       "      <td>4/27/21 8:00:00 PM EDT</td>\n",
       "      <td>75.46176</td>\n",
       "      <td>NaN</td>\n",
       "      <td>NaN</td>\n",
       "      <td>4/27/21 7:00:00 PM EDT</td>\n",
       "      <td>71.38782</td>\n",
       "      <td>4/27/21 8:00:00 PM EDT</td>\n",
       "      <td>73.515594</td>\n",
       "      <td>4/27/21 8:00:00 PM EDT</td>\n",
       "      <td>72.24414</td>\n",
       "      <td>...</td>\n",
       "      <td>NaN</td>\n",
       "      <td>NaN</td>\n",
       "      <td>NaN</td>\n",
       "      <td>NaN</td>\n",
       "      <td>NaN</td>\n",
       "      <td>NaN</td>\n",
       "      <td>NaN</td>\n",
       "      <td>NaN</td>\n",
       "      <td>NaN</td>\n",
       "      <td>NaN</td>\n",
       "    </tr>\n",
       "    <tr>\n",
       "      <th>9</th>\n",
       "      <td>4/27/21 9:00:00 PM EDT</td>\n",
       "      <td>75.53958</td>\n",
       "      <td>NaN</td>\n",
       "      <td>NaN</td>\n",
       "      <td>4/27/21 8:00:00 PM EDT</td>\n",
       "      <td>71.07645</td>\n",
       "      <td>4/27/21 9:00:00 PM EDT</td>\n",
       "      <td>73.671295</td>\n",
       "      <td>4/27/21 9:00:00 PM EDT</td>\n",
       "      <td>73.12637</td>\n",
       "      <td>...</td>\n",
       "      <td>NaN</td>\n",
       "      <td>NaN</td>\n",
       "      <td>NaN</td>\n",
       "      <td>NaN</td>\n",
       "      <td>NaN</td>\n",
       "      <td>NaN</td>\n",
       "      <td>NaN</td>\n",
       "      <td>NaN</td>\n",
       "      <td>NaN</td>\n",
       "      <td>NaN</td>\n",
       "    </tr>\n",
       "  </tbody>\n",
       "</table>\n",
       "<p>10 rows × 40 columns</p>\n",
       "</div>"
      ],
      "application/vnd.deepnote.dataframe.v3+json": {
       "column_count": 40,
       "row_count": 10,
       "columns": [
        {
         "name": "TB15",
         "dtype": "object",
         "stats": {
          "unique_count": 10,
          "nan_count": 0,
          "categories": [
           {
            "name": "Time",
            "count": 1
           },
           {
            "name": "4/27/21 1:00:00 PM EDT",
            "count": 1
           },
           {
            "name": "8 others",
            "count": 8
           }
          ]
         }
        },
        {
         "name": "Unnamed: 1",
         "dtype": "object",
         "stats": {
          "unique_count": 9,
          "nan_count": 0,
          "categories": [
           {
            "name": "74.47571",
            "count": 2
           },
           {
            "name": "Trend (deg F)",
            "count": 1
           },
           {
            "name": "7 others",
            "count": 7
           }
          ]
         }
        },
        {
         "name": "T302",
         "dtype": "object",
         "stats": {
          "unique_count": 1,
          "nan_count": 9,
          "categories": [
           {
            "name": "Time",
            "count": 1
           },
           {
            "name": "Missing",
            "count": 9
           }
          ]
         }
        },
        {
         "name": "Unnamed: 3",
         "dtype": "object",
         "stats": {
          "unique_count": 1,
          "nan_count": 9,
          "categories": [
           {
            "name": "Trend (deg F)",
            "count": 1
           },
           {
            "name": "Missing",
            "count": 9
           }
          ]
         }
        },
        {
         "name": "T303",
         "dtype": "object",
         "stats": {
          "unique_count": 10,
          "nan_count": 0,
          "categories": [
           {
            "name": "Time",
            "count": 1
           },
           {
            "name": "4/27/21 12:00:00 PM EDT",
            "count": 1
           },
           {
            "name": "8 others",
            "count": 8
           }
          ]
         }
        },
        {
         "name": "Unnamed: 5",
         "dtype": "object",
         "stats": {
          "unique_count": 10,
          "nan_count": 0,
          "categories": [
           {
            "name": "Trend (deg F)",
            "count": 1
           },
           {
            "name": "71.69919",
            "count": 1
           },
           {
            "name": "8 others",
            "count": 8
           }
          ]
         }
        },
        {
         "name": "T446",
         "dtype": "object",
         "stats": {
          "unique_count": 10,
          "nan_count": 0,
          "categories": [
           {
            "name": "Time",
            "count": 1
           },
           {
            "name": "4/27/21 1:00:00 PM EDT",
            "count": 1
           },
           {
            "name": "8 others",
            "count": 8
           }
          ]
         }
        },
        {
         "name": "Unnamed: 7",
         "dtype": "object",
         "stats": {
          "unique_count": 8,
          "nan_count": 0,
          "categories": [
           {
            "name": "72.0625",
            "count": 2
           },
           {
            "name": "72.01059",
            "count": 2
           },
           {
            "name": "6 others",
            "count": 6
           }
          ]
         }
        },
        {
         "name": "T449",
         "dtype": "object",
         "stats": {
          "unique_count": 10,
          "nan_count": 0,
          "categories": [
           {
            "name": "Time",
            "count": 1
           },
           {
            "name": "4/27/21 1:00:00 PM EDT",
            "count": 1
           },
           {
            "name": "8 others",
            "count": 8
           }
          ]
         }
        },
        {
         "name": "Unnamed: 9",
         "dtype": "object",
         "stats": {
          "unique_count": 8,
          "nan_count": 0,
          "categories": [
           {
            "name": "72.86691",
            "count": 2
           },
           {
            "name": "73.12637",
            "count": 2
           },
           {
            "name": "6 others",
            "count": 6
           }
          ]
         }
        },
        {
         "name": "T454",
         "dtype": "object",
         "stats": {
          "unique_count": 10,
          "nan_count": 0,
          "categories": [
           {
            "name": "Time",
            "count": 1
           },
           {
            "name": "4/27/21 1:00:00 PM EDT",
            "count": 1
           },
           {
            "name": "8 others",
            "count": 8
           }
          ]
         }
        },
        {
         "name": "Unnamed: 11",
         "dtype": "object",
         "stats": {
          "unique_count": 10,
          "nan_count": 0,
          "categories": [
           {
            "name": "Trend (deg F)",
            "count": 1
           },
           {
            "name": "71.9068",
            "count": 1
           },
           {
            "name": "8 others",
            "count": 8
           }
          ]
         }
        },
        {
         "name": "T Building",
         "dtype": "object",
         "stats": {
          "unique_count": 1,
          "nan_count": 9,
          "categories": [
           {
            "name": "Time",
            "count": 1
           },
           {
            "name": "Missing",
            "count": 9
           }
          ]
         }
        },
        {
         "name": "Unnamed: 13",
         "dtype": "object",
         "stats": {
          "unique_count": 1,
          "nan_count": 9,
          "categories": [
           {
            "name": "OUTSIDE HUMIDTY.Trend (RH%)",
            "count": 1
           },
           {
            "name": "Missing",
            "count": 9
           }
          ]
         }
        },
        {
         "name": "T Building.1",
         "dtype": "object",
         "stats": {
          "unique_count": 1,
          "nan_count": 9,
          "categories": [
           {
            "name": "Time",
            "count": 1
           },
           {
            "name": "Missing",
            "count": 9
           }
          ]
         }
        },
        {
         "name": "Unnamed: 15",
         "dtype": "object",
         "stats": {
          "unique_count": 1,
          "nan_count": 9,
          "categories": [
           {
            "name": "OA-T.Trend (deg F)",
            "count": 1
           },
           {
            "name": "Missing",
            "count": 9
           }
          ]
         }
        },
        {
         "name": "T Building.2",
         "dtype": "object",
         "stats": {
          "unique_count": 1,
          "nan_count": 9,
          "categories": [
           {
            "name": "Time",
            "count": 1
           },
           {
            "name": "Missing",
            "count": 9
           }
          ]
         }
        },
        {
         "name": "Unnamed: 17",
         "dtype": "object",
         "stats": {
          "unique_count": 1,
          "nan_count": 9,
          "categories": [
           {
            "name": "OUTSIDE ENTHALPY.Trend (Btu/lb)",
            "count": 1
           },
           {
            "name": "Missing",
            "count": 9
           }
          ]
         }
        },
        {
         "name": "TB01",
         "dtype": "object",
         "stats": {
          "unique_count": 1,
          "nan_count": 9,
          "categories": [
           {
            "name": "Time",
            "count": 1
           },
           {
            "name": "Missing",
            "count": 9
           }
          ]
         }
        },
        {
         "name": "Unnamed: 19",
         "dtype": "object",
         "stats": {
          "unique_count": 1,
          "nan_count": 9,
          "categories": [
           {
            "name": "HUMIDITY %. Trend (%RH)",
            "count": 1
           },
           {
            "name": "Missing",
            "count": 9
           }
          ]
         }
        },
        {
         "name": "T454.1",
         "dtype": "object",
         "stats": {
          "unique_count": 1,
          "nan_count": 9,
          "categories": [
           {
            "name": "Time",
            "count": 1
           },
           {
            "name": "Missing",
            "count": 9
           }
          ]
         }
        },
        {
         "name": "Unnamed: 21",
         "dtype": "object",
         "stats": {
          "unique_count": 1,
          "nan_count": 9,
          "categories": [
           {
            "name": "HUMIDITY %. Trend (%RH)",
            "count": 1
           },
           {
            "name": "Missing",
            "count": 9
           }
          ]
         }
        },
        {
         "name": "H309",
         "dtype": "object",
         "stats": {
          "unique_count": 1,
          "nan_count": 9,
          "categories": [
           {
            "name": "Time",
            "count": 1
           },
           {
            "name": "Missing",
            "count": 9
           }
          ]
         }
        },
        {
         "name": "Unnamed: 23",
         "dtype": "object",
         "stats": {
          "unique_count": 1,
          "nan_count": 9,
          "categories": [
           {
            "name": "Trend (deg F)",
            "count": 1
           },
           {
            "name": "Missing",
            "count": 9
           }
          ]
         }
        },
        {
         "name": "H351",
         "dtype": "object",
         "stats": {
          "unique_count": 1,
          "nan_count": 9,
          "categories": [
           {
            "name": "Time",
            "count": 1
           },
           {
            "name": "Missing",
            "count": 9
           }
          ]
         }
        },
        {
         "name": "Unnamed: 25",
         "dtype": "object",
         "stats": {
          "unique_count": 1,
          "nan_count": 9,
          "categories": [
           {
            "name": "Trend (deg F)",
            "count": 1
           },
           {
            "name": "Missing",
            "count": 9
           }
          ]
         }
        },
        {
         "name": "H355",
         "dtype": "object",
         "stats": {
          "unique_count": 1,
          "nan_count": 9,
          "categories": [
           {
            "name": "Time",
            "count": 1
           },
           {
            "name": "Missing",
            "count": 9
           }
          ]
         }
        },
        {
         "name": "Unnamed: 27",
         "dtype": "object",
         "stats": {
          "unique_count": 1,
          "nan_count": 9,
          "categories": [
           {
            "name": "Trend (deg F)",
            "count": 1
           },
           {
            "name": "Missing",
            "count": 9
           }
          ]
         }
        },
        {
         "name": "H424",
         "dtype": "object",
         "stats": {
          "unique_count": 1,
          "nan_count": 9,
          "categories": [
           {
            "name": "Time",
            "count": 1
           },
           {
            "name": "Missing",
            "count": 9
           }
          ]
         }
        },
        {
         "name": "Unnamed: 29",
         "dtype": "object",
         "stats": {
          "unique_count": 1,
          "nan_count": 9,
          "categories": [
           {
            "name": "Trend (deg F)",
            "count": 1
           },
           {
            "name": "Missing",
            "count": 9
           }
          ]
         }
        },
        {
         "name": "H460",
         "dtype": "object",
         "stats": {
          "unique_count": 1,
          "nan_count": 9,
          "categories": [
           {
            "name": "Time",
            "count": 1
           },
           {
            "name": "Missing",
            "count": 9
           }
          ]
         }
        },
        {
         "name": "Unnamed: 31",
         "dtype": "object",
         "stats": {
          "unique_count": 1,
          "nan_count": 9,
          "categories": [
           {
            "name": "Trend (deg F)",
            "count": 1
           },
           {
            "name": "Missing",
            "count": 9
           }
          ]
         }
        },
        {
         "name": "H309.1",
         "dtype": "object",
         "stats": {
          "unique_count": 1,
          "nan_count": 9,
          "categories": [
           {
            "name": "Time",
            "count": 1
           },
           {
            "name": "Missing",
            "count": 9
           }
          ]
         }
        },
        {
         "name": "Unnamed: 33",
         "dtype": "object",
         "stats": {
          "unique_count": 1,
          "nan_count": 9,
          "categories": [
           {
            "name": "HUMIDITY %. Trend (%RH)",
            "count": 1
           },
           {
            "name": "Missing",
            "count": 9
           }
          ]
         }
        },
        {
         "name": "H353",
         "dtype": "object",
         "stats": {
          "unique_count": 1,
          "nan_count": 9,
          "categories": [
           {
            "name": "Time",
            "count": 1
           },
           {
            "name": "Missing",
            "count": 9
           }
          ]
         }
        },
        {
         "name": "Unnamed: 35",
         "dtype": "object",
         "stats": {
          "unique_count": 1,
          "nan_count": 9,
          "categories": [
           {
            "name": "HUMIDITY %. Trend (%RH)",
            "count": 1
           },
           {
            "name": "Missing",
            "count": 9
           }
          ]
         }
        },
        {
         "name": "H353.1",
         "dtype": "object",
         "stats": {
          "unique_count": 1,
          "nan_count": 9,
          "categories": [
           {
            "name": "Time",
            "count": 1
           },
           {
            "name": "Missing",
            "count": 9
           }
          ]
         }
        },
        {
         "name": "Unnamed: 37",
         "dtype": "object",
         "stats": {
          "unique_count": 1,
          "nan_count": 9,
          "categories": [
           {
            "name": "Trend (deg F)",
            "count": 1
           },
           {
            "name": "Missing",
            "count": 9
           }
          ]
         }
        },
        {
         "name": "TB01.1",
         "dtype": "object",
         "stats": {
          "unique_count": 1,
          "nan_count": 9,
          "categories": [
           {
            "name": "Time",
            "count": 1
           },
           {
            "name": "Missing",
            "count": 9
           }
          ]
         }
        },
        {
         "name": "Unnamed: 39",
         "dtype": "object",
         "stats": {
          "unique_count": 1,
          "nan_count": 9,
          "categories": [
           {
            "name": "Trend (deg F)",
            "count": 1
           },
           {
            "name": "Missing",
            "count": 9
           }
          ]
         }
        },
        {
         "name": "_deepnote_index_column",
         "dtype": "int64"
        }
       ],
       "rows": [
        {
         "TB15": "Time",
         "Unnamed: 1": "Trend (deg F)",
         "T302": "Time",
         "Unnamed: 3": "Trend (deg F)",
         "T303": "Time",
         "Unnamed: 5": "Trend (deg F)",
         "T446": "Time",
         "Unnamed: 7": "Trend (deg F)",
         "T449": "Time",
         "Unnamed: 9": "Trend (deg F)",
         "T454": "Time",
         "Unnamed: 11": "Trend (deg F)",
         "T Building": "Time",
         "Unnamed: 13": "OUTSIDE HUMIDTY.Trend (RH%)",
         "T Building.1": "Time",
         "Unnamed: 15": "OA-T.Trend (deg F)",
         "T Building.2": "Time",
         "Unnamed: 17": "OUTSIDE ENTHALPY.Trend (Btu/lb)",
         "TB01": "Time",
         "Unnamed: 19": "HUMIDITY %. Trend (%RH)",
         "T454.1": "Time",
         "Unnamed: 21": "HUMIDITY %. Trend (%RH)",
         "H309": "Time",
         "Unnamed: 23": "Trend (deg F)",
         "H351": "Time",
         "Unnamed: 25": "Trend (deg F)",
         "H355": "Time",
         "Unnamed: 27": "Trend (deg F)",
         "H424": "Time",
         "Unnamed: 29": "Trend (deg F)",
         "H460": "Time",
         "Unnamed: 31": "Trend (deg F)",
         "H309.1": "Time",
         "Unnamed: 33": "HUMIDITY %. Trend (%RH)",
         "H353": "Time",
         "Unnamed: 35": "HUMIDITY %. Trend (%RH)",
         "H353.1": "Time",
         "Unnamed: 37": "Trend (deg F)",
         "TB01.1": "Time",
         "Unnamed: 39": "Trend (deg F)",
         "_deepnote_index_column": 0
        },
        {
         "TB15": "4/27/21 1:00:00 PM EDT",
         "Unnamed: 1": "74.99469",
         "T302": "nan",
         "Unnamed: 3": "nan",
         "T303": "4/27/21 12:00:00 PM EDT",
         "Unnamed: 5": "71.69919",
         "T446": "4/27/21 1:00:00 PM EDT",
         "Unnamed: 7": "72.0625",
         "T449": "4/27/21 1:00:00 PM EDT",
         "Unnamed: 9": "72.86691",
         "T454": "4/27/21 1:00:00 PM EDT",
         "Unnamed: 11": "71.9068",
         "T Building": "nan",
         "Unnamed: 13": "nan",
         "T Building.1": "nan",
         "Unnamed: 15": "nan",
         "T Building.2": "nan",
         "Unnamed: 17": "nan",
         "TB01": "nan",
         "Unnamed: 19": "nan",
         "T454.1": "nan",
         "Unnamed: 21": "nan",
         "H309": "nan",
         "Unnamed: 23": "nan",
         "H351": "nan",
         "Unnamed: 25": "nan",
         "H355": "nan",
         "Unnamed: 27": "nan",
         "H424": "nan",
         "Unnamed: 29": "nan",
         "H460": "nan",
         "Unnamed: 31": "nan",
         "H309.1": "nan",
         "Unnamed: 33": "nan",
         "H353": "nan",
         "Unnamed: 35": "nan",
         "H353.1": "nan",
         "Unnamed: 37": "nan",
         "TB01.1": "nan",
         "Unnamed: 39": "nan",
         "_deepnote_index_column": 1
        },
        {
         "TB15": "4/27/21 2:00:00 PM EDT",
         "Unnamed: 1": "74.29407",
         "T302": "nan",
         "Unnamed: 3": "nan",
         "T303": "4/27/21 1:00:00 PM EDT",
         "Unnamed: 5": "71.7511",
         "T446": "4/27/21 2:00:00 PM EDT",
         "Unnamed: 7": "72.91879",
         "T449": "4/27/21 2:00:00 PM EDT",
         "Unnamed: 9": "72.45172",
         "T454": "4/27/21 2:00:00 PM EDT",
         "Unnamed: 11": "72.45172",
         "T Building": "nan",
         "Unnamed: 13": "nan",
         "T Building.1": "nan",
         "Unnamed: 15": "nan",
         "T Building.2": "nan",
         "Unnamed: 17": "nan",
         "TB01": "nan",
         "Unnamed: 19": "nan",
         "T454.1": "nan",
         "Unnamed: 21": "nan",
         "H309": "nan",
         "Unnamed: 23": "nan",
         "H351": "nan",
         "Unnamed: 25": "nan",
         "H355": "nan",
         "Unnamed: 27": "nan",
         "H424": "nan",
         "Unnamed: 29": "nan",
         "H460": "nan",
         "Unnamed: 31": "nan",
         "H309.1": "nan",
         "Unnamed: 33": "nan",
         "H353": "nan",
         "Unnamed: 35": "nan",
         "H353.1": "nan",
         "Unnamed: 37": "nan",
         "TB01.1": "nan",
         "Unnamed: 39": "nan",
         "_deepnote_index_column": 2
        },
        {
         "TB15": "4/27/21 3:00:00 PM EDT",
         "Unnamed: 1": "74.78711",
         "T302": "nan",
         "Unnamed: 3": "nan",
         "T303": "4/27/21 2:00:00 PM EDT",
         "Unnamed: 5": "71.64728",
         "T446": "4/27/21 3:00:00 PM EDT",
         "Unnamed: 7": "72.0625",
         "T449": "4/27/21 3:00:00 PM EDT",
         "Unnamed: 9": "72.55551",
         "T454": "4/27/21 3:00:00 PM EDT",
         "Unnamed: 11": "72.0625",
         "T Building": "nan",
         "Unnamed: 13": "nan",
         "T Building.1": "nan",
         "Unnamed: 15": "nan",
         "T Building.2": "nan",
         "Unnamed: 17": "nan",
         "TB01": "nan",
         "Unnamed: 19": "nan",
         "T454.1": "nan",
         "Unnamed: 21": "nan",
         "H309": "nan",
         "Unnamed: 23": "nan",
         "H351": "nan",
         "Unnamed: 25": "nan",
         "H355": "nan",
         "Unnamed: 27": "nan",
         "H424": "nan",
         "Unnamed: 29": "nan",
         "H460": "nan",
         "Unnamed: 31": "nan",
         "H309.1": "nan",
         "Unnamed: 33": "nan",
         "H353": "nan",
         "Unnamed: 35": "nan",
         "H353.1": "nan",
         "Unnamed: 37": "nan",
         "TB01.1": "nan",
         "Unnamed: 39": "nan",
         "_deepnote_index_column": 3
        },
        {
         "TB15": "4/27/21 4:00:00 PM EDT",
         "Unnamed: 1": "74.47571",
         "T302": "nan",
         "Unnamed: 3": "nan",
         "T303": "4/27/21 3:00:00 PM EDT",
         "Unnamed: 5": "70.06445",
         "T446": "4/27/21 4:00:00 PM EDT",
         "Unnamed: 7": "72.01059",
         "T449": "4/27/21 4:00:00 PM EDT",
         "Unnamed: 9": "72.71118",
         "T454": "4/27/21 4:00:00 PM EDT",
         "Unnamed: 11": "72.01059",
         "T Building": "nan",
         "Unnamed: 13": "nan",
         "T Building.1": "nan",
         "Unnamed: 15": "nan",
         "T Building.2": "nan",
         "Unnamed: 17": "nan",
         "TB01": "nan",
         "Unnamed: 19": "nan",
         "T454.1": "nan",
         "Unnamed: 21": "nan",
         "H309": "nan",
         "Unnamed: 23": "nan",
         "H351": "nan",
         "Unnamed: 25": "nan",
         "H355": "nan",
         "Unnamed: 27": "nan",
         "H424": "nan",
         "Unnamed: 29": "nan",
         "H460": "nan",
         "Unnamed: 31": "nan",
         "H309.1": "nan",
         "Unnamed: 33": "nan",
         "H353": "nan",
         "Unnamed: 35": "nan",
         "H353.1": "nan",
         "Unnamed: 37": "nan",
         "TB01.1": "nan",
         "Unnamed: 39": "nan",
         "_deepnote_index_column": 4
        },
        {
         "TB15": "4/27/21 5:00:00 PM EDT",
         "Unnamed: 1": "74.47571",
         "T302": "nan",
         "Unnamed: 3": "nan",
         "T303": "4/27/21 4:00:00 PM EDT",
         "Unnamed: 5": "70.583405",
         "T446": "4/27/21 5:00:00 PM EDT",
         "Unnamed: 7": "72.01059",
         "T449": "4/27/21 5:00:00 PM EDT",
         "Unnamed: 9": "72.86691",
         "T454": "4/27/21 5:00:00 PM EDT",
         "Unnamed: 11": "72.14032",
         "T Building": "nan",
         "Unnamed: 13": "nan",
         "T Building.1": "nan",
         "Unnamed: 15": "nan",
         "T Building.2": "nan",
         "Unnamed: 17": "nan",
         "TB01": "nan",
         "Unnamed: 19": "nan",
         "T454.1": "nan",
         "Unnamed: 21": "nan",
         "H309": "nan",
         "Unnamed: 23": "nan",
         "H351": "nan",
         "Unnamed: 25": "nan",
         "H355": "nan",
         "Unnamed: 27": "nan",
         "H424": "nan",
         "Unnamed: 29": "nan",
         "H460": "nan",
         "Unnamed: 31": "nan",
         "H309.1": "nan",
         "Unnamed: 33": "nan",
         "H353": "nan",
         "Unnamed: 35": "nan",
         "H353.1": "nan",
         "Unnamed: 37": "nan",
         "TB01.1": "nan",
         "Unnamed: 39": "nan",
         "_deepnote_index_column": 5
        },
        {
         "TB15": "4/27/21 6:00:00 PM EDT",
         "Unnamed: 1": "74.8909",
         "T302": "nan",
         "Unnamed: 3": "nan",
         "T303": "4/27/21 5:00:00 PM EDT",
         "Unnamed: 5": "70.920746",
         "T446": "4/27/21 6:00:00 PM EDT",
         "Unnamed: 7": "73.12637",
         "T449": "4/27/21 6:00:00 PM EDT",
         "Unnamed: 9": "73.12637",
         "T454": "4/27/21 6:00:00 PM EDT",
         "Unnamed: 11": "72.815",
         "T Building": "nan",
         "Unnamed: 13": "nan",
         "T Building.1": "nan",
         "Unnamed: 15": "nan",
         "T Building.2": "nan",
         "Unnamed: 17": "nan",
         "TB01": "nan",
         "Unnamed: 19": "nan",
         "T454.1": "nan",
         "Unnamed: 21": "nan",
         "H309": "nan",
         "Unnamed: 23": "nan",
         "H351": "nan",
         "Unnamed: 25": "nan",
         "H355": "nan",
         "Unnamed: 27": "nan",
         "H424": "nan",
         "Unnamed: 29": "nan",
         "H460": "nan",
         "Unnamed: 31": "nan",
         "H309.1": "nan",
         "Unnamed: 33": "nan",
         "H353": "nan",
         "Unnamed: 35": "nan",
         "H353.1": "nan",
         "Unnamed: 37": "nan",
         "TB01.1": "nan",
         "Unnamed: 39": "nan",
         "_deepnote_index_column": 6
        },
        {
         "TB15": "4/27/21 7:00:00 PM EDT",
         "Unnamed: 1": "75.20227",
         "T302": "nan",
         "Unnamed: 3": "nan",
         "T303": "4/27/21 6:00:00 PM EDT",
         "Unnamed: 5": "71.28403",
         "T446": "4/27/21 7:00:00 PM EDT",
         "Unnamed: 7": "73.411804",
         "T449": "4/27/21 7:00:00 PM EDT",
         "Unnamed: 9": "72.815",
         "T454": "4/27/21 7:00:00 PM EDT",
         "Unnamed: 11": "73.256134",
         "T Building": "nan",
         "Unnamed: 13": "nan",
         "T Building.1": "nan",
         "Unnamed: 15": "nan",
         "T Building.2": "nan",
         "Unnamed: 17": "nan",
         "TB01": "nan",
         "Unnamed: 19": "nan",
         "T454.1": "nan",
         "Unnamed: 21": "nan",
         "H309": "nan",
         "Unnamed: 23": "nan",
         "H351": "nan",
         "Unnamed: 25": "nan",
         "H355": "nan",
         "Unnamed: 27": "nan",
         "H424": "nan",
         "Unnamed: 29": "nan",
         "H460": "nan",
         "Unnamed: 31": "nan",
         "H309.1": "nan",
         "Unnamed: 33": "nan",
         "H353": "nan",
         "Unnamed: 35": "nan",
         "H353.1": "nan",
         "Unnamed: 37": "nan",
         "TB01.1": "nan",
         "Unnamed: 39": "nan",
         "_deepnote_index_column": 7
        },
        {
         "TB15": "4/27/21 8:00:00 PM EDT",
         "Unnamed: 1": "75.46176",
         "T302": "nan",
         "Unnamed: 3": "nan",
         "T303": "4/27/21 7:00:00 PM EDT",
         "Unnamed: 5": "71.38782",
         "T446": "4/27/21 8:00:00 PM EDT",
         "Unnamed: 7": "73.515594",
         "T449": "4/27/21 8:00:00 PM EDT",
         "Unnamed: 9": "72.24414",
         "T454": "4/27/21 8:00:00 PM EDT",
         "Unnamed: 11": "73.411804",
         "T Building": "nan",
         "Unnamed: 13": "nan",
         "T Building.1": "nan",
         "Unnamed: 15": "nan",
         "T Building.2": "nan",
         "Unnamed: 17": "nan",
         "TB01": "nan",
         "Unnamed: 19": "nan",
         "T454.1": "nan",
         "Unnamed: 21": "nan",
         "H309": "nan",
         "Unnamed: 23": "nan",
         "H351": "nan",
         "Unnamed: 25": "nan",
         "H355": "nan",
         "Unnamed: 27": "nan",
         "H424": "nan",
         "Unnamed: 29": "nan",
         "H460": "nan",
         "Unnamed: 31": "nan",
         "H309.1": "nan",
         "Unnamed: 33": "nan",
         "H353": "nan",
         "Unnamed: 35": "nan",
         "H353.1": "nan",
         "Unnamed: 37": "nan",
         "TB01.1": "nan",
         "Unnamed: 39": "nan",
         "_deepnote_index_column": 8
        },
        {
         "TB15": "4/27/21 9:00:00 PM EDT",
         "Unnamed: 1": "75.53958",
         "T302": "nan",
         "Unnamed: 3": "nan",
         "T303": "4/27/21 8:00:00 PM EDT",
         "Unnamed: 5": "71.07645",
         "T446": "4/27/21 9:00:00 PM EDT",
         "Unnamed: 7": "73.671295",
         "T449": "4/27/21 9:00:00 PM EDT",
         "Unnamed: 9": "73.12637",
         "T454": "4/27/21 9:00:00 PM EDT",
         "Unnamed: 11": "73.567505",
         "T Building": "nan",
         "Unnamed: 13": "nan",
         "T Building.1": "nan",
         "Unnamed: 15": "nan",
         "T Building.2": "nan",
         "Unnamed: 17": "nan",
         "TB01": "nan",
         "Unnamed: 19": "nan",
         "T454.1": "nan",
         "Unnamed: 21": "nan",
         "H309": "nan",
         "Unnamed: 23": "nan",
         "H351": "nan",
         "Unnamed: 25": "nan",
         "H355": "nan",
         "Unnamed: 27": "nan",
         "H424": "nan",
         "Unnamed: 29": "nan",
         "H460": "nan",
         "Unnamed: 31": "nan",
         "H309.1": "nan",
         "Unnamed: 33": "nan",
         "H353": "nan",
         "Unnamed: 35": "nan",
         "H353.1": "nan",
         "Unnamed: 37": "nan",
         "TB01.1": "nan",
         "Unnamed: 39": "nan",
         "_deepnote_index_column": 9
        }
       ]
      }
     },
     "metadata": {},
     "execution_count": 3
    }
   ],
   "metadata": {
    "tags": [],
    "deepnote_to_be_reexecuted": false,
    "source_hash": "44618aa6",
    "execution_start": 1640666422960,
    "execution_millis": 346,
    "cell_id": "00004-86310e1d-1036-4a18-8a2d-eddf011772ba",
    "deepnote_cell_type": "code"
   }
  },
  {
   "cell_type": "markdown",
   "source": [
    "## Raw Data Analysis\n",
    "What the data is trying to show is the temperature or humidity measurements for each lab for each time step. As we can see, there are some problems with the raw data that make it hard to process:\n",
    "\n",
    "1. For each lab, we have the <em>x</em> column (Time) and the <em>y</em> column (Temperature or Humidity). Because of the structure of the dataframe, if you query a lab name, you will only get the column of time steps because the <em>y</em> column is under an 'Unnamed' header.\n",
    "\n",
    "2. For some columns, such as Lab TB01, the information is very scattered and temperature is found in a different spot than the data for humidity, meaning there are multiple column headers for 'TB01'\n",
    "\n",
    "3. Some columns and subcolumns are unlabeled or labeled differently (lab name uses 'Hamilton' instead of 'H').\n",
    "\n",
    "## Initial Data Transformation\n",
    "To address the problems above, we'll perform the following transformations on the data:\n",
    "<ul>\n",
    "    <li>Before opening and reading the csv file into our program, we make the following changes (if needed) to the file:\n",
    "        <ul>\n",
    "            <li>Make sure all lab names begin with the first letter of the building name ('T' or 'H') followed by their building number (ex: H309).</li>\n",
    "            <li>Make sure all columns related to a specific lab are consolidated in one place, for example, all meausurements for TB01 are in consecutive columns such that there is only one `Time` column for  TB01.</li>\n",
    "            <li>Make sure all subcolumns are named and are identical across all labs. In this case, all columns for temperature have been named 'Trend (deg F)' and all columns for humidity have been named `HUMIDITY %. Trend (%RH)`.</li>\n",
    "            <li>General metrics that include building measurements (ex: Outside Temperature) should be named `T Building` or `H Building`. What matters is the key word 'Building.'</li>\n",
    "            <li>Note: in order for the program to run, the structure of the data in the loaded csv file must match this exactly, including the namings for the columns and subcolumns. The final transformed data can be found in 'LabTempTrends.csv' in 'Documentation.'</li>\n",
    "        </ul>\n",
    "    </li>\n",
    "    <li>Next, we'll alter the overarching data structure `labs` to be a collection of dataframes rather than just one dataframe that contains all the information. The keys of the this dictionary will be the lab name which will point to a dataframe which contains columns for Time, Temperature, and Humidity (if applicable).</li>\n",
    "    <li>Finally, to store the general metrics, we create a deparate dataframe called `TlabGeneral` to store measurements regarding 'T Building.'</li>\n",
    "</ul>"
   ],
   "metadata": {
    "tags": [],
    "cell_id": "00004-e6e02369-93f5-448a-9c03-ddf99cb445e1",
    "deepnote_cell_type": "markdown"
   }
  },
  {
   "cell_type": "code",
   "execution_count": 4,
   "source": [
    "labs = {}\n",
    "TlabGeneral = pd.DataFrame(columns=[])\n",
    "\n",
    "for col in df:\n",
    "    # the structure of the data implies the info under each named column (i.e. 'TB01') is the Time column\n",
    "    if 'Unnamed' not in col:\n",
    "        # get the column to the right of the Time column (i.e. Temperature column)\n",
    "        temp_col = df.iloc[:,df.columns.get_indexer([col])+1]\n",
    "        for a in temp_col:\n",
    "            next_col = temp_col[a]\n",
    "        col1 = df[col][1:]\n",
    "        col2 = next_col[1:]\n",
    "\n",
    "        # if lab has already been visited, just insert new column into the existing dataframe for that lab\n",
    "        if col[:4] in labs:\n",
    "            labs[col[:4]][next_col[0]] = col2\n",
    "        else:\n",
    "            # otherwise, create a new dataframe for that lab\n",
    "            df2 = pd.DataFrame(columns=[df[col][0],next_col[0]])\n",
    "            df2[df[col][0]] = col1\n",
    "            df2[next_col[0]] = col2\n",
    "\n",
    "            # add to general metrics data structure\n",
    "            if 'Building' in col:\n",
    "                if df[col][0] not in TlabGeneral.columns:\n",
    "                    TlabGeneral[df[col][0]] = col1\n",
    "                TlabGeneral[next_col[0]] = col2\n",
    "            # add to labs data structure\n",
    "            else:\n",
    "                labs[col[:4]] = df2\n",
    "print(labs)"
   ],
   "outputs": [
    {
     "output_type": "stream",
     "name": "stdout",
     "text": [
      "{'TB15':                         Time Trend (deg F)\n",
      "1     4/27/21 1:00:00 PM EDT      74.99469\n",
      "2     4/27/21 2:00:00 PM EDT      74.29407\n",
      "3     4/27/21 3:00:00 PM EDT      74.78711\n",
      "4     4/27/21 4:00:00 PM EDT      74.47571\n",
      "5     4/27/21 5:00:00 PM EDT      74.47571\n",
      "...                      ...           ...\n",
      "3231             9/9/21 3:00          73.5\n",
      "3232             9/9/21 4:00          73.5\n",
      "3233             9/9/21 5:00          73.5\n",
      "3234             9/9/21 6:00          72.7\n",
      "3235             9/9/21 7:00          72.7\n",
      "\n",
      "[3235 rows x 2 columns], 'T302':              Time Trend (deg F)\n",
      "1             NaN           NaN\n",
      "2             NaN           NaN\n",
      "3             NaN           NaN\n",
      "4             NaN           NaN\n",
      "5             NaN           NaN\n",
      "...           ...           ...\n",
      "3231  9/9/21 3:00          72.3\n",
      "3232  9/9/21 4:00          72.3\n",
      "3233  9/9/21 5:00          72.3\n",
      "3234  9/9/21 6:00          72.2\n",
      "3235  9/9/21 7:00          72.2\n",
      "\n",
      "[3235 rows x 2 columns], 'T303':                          Time Trend (deg F)\n",
      "1     4/27/21 12:00:00 PM EDT      71.69919\n",
      "2      4/27/21 1:00:00 PM EDT       71.7511\n",
      "3      4/27/21 2:00:00 PM EDT      71.64728\n",
      "4      4/27/21 3:00:00 PM EDT      70.06445\n",
      "5      4/27/21 4:00:00 PM EDT     70.583405\n",
      "...                       ...           ...\n",
      "3231              9/9/21 3:00          69.4\n",
      "3232              9/9/21 4:00          69.6\n",
      "3233              9/9/21 5:00          70.2\n",
      "3234              9/9/21 6:00          70.2\n",
      "3235              9/9/21 7:00          70.4\n",
      "\n",
      "[3235 rows x 2 columns], 'T446':                         Time Trend (deg F)\n",
      "1     4/27/21 1:00:00 PM EDT       72.0625\n",
      "2     4/27/21 2:00:00 PM EDT      72.91879\n",
      "3     4/27/21 3:00:00 PM EDT       72.0625\n",
      "4     4/27/21 4:00:00 PM EDT      72.01059\n",
      "5     4/27/21 5:00:00 PM EDT      72.01059\n",
      "...                      ...           ...\n",
      "3231             9/9/21 3:00          69.2\n",
      "3232             9/9/21 4:00          69.1\n",
      "3233             9/9/21 5:00          68.9\n",
      "3234             9/9/21 6:00          68.8\n",
      "3235             9/9/21 7:00          68.9\n",
      "\n",
      "[3235 rows x 2 columns], 'T449':                         Time Trend (deg F)\n",
      "1     4/27/21 1:00:00 PM EDT      72.86691\n",
      "2     4/27/21 2:00:00 PM EDT      72.45172\n",
      "3     4/27/21 3:00:00 PM EDT      72.55551\n",
      "4     4/27/21 4:00:00 PM EDT      72.71118\n",
      "5     4/27/21 5:00:00 PM EDT      72.86691\n",
      "...                      ...           ...\n",
      "3231             9/9/21 3:00            72\n",
      "3232             9/9/21 4:00          71.9\n",
      "3233             9/9/21 5:00          71.9\n",
      "3234             9/9/21 6:00          71.9\n",
      "3235             9/9/21 7:00          71.8\n",
      "\n",
      "[3235 rows x 2 columns], 'T454':                         Time Trend (deg F) HUMIDITY %. Trend (%RH)\n",
      "1     4/27/21 1:00:00 PM EDT       71.9068                     NaN\n",
      "2     4/27/21 2:00:00 PM EDT      72.45172                     NaN\n",
      "3     4/27/21 3:00:00 PM EDT       72.0625                     NaN\n",
      "4     4/27/21 4:00:00 PM EDT      72.01059                     NaN\n",
      "5     4/27/21 5:00:00 PM EDT      72.14032                     NaN\n",
      "...                      ...           ...                     ...\n",
      "3231             9/9/21 3:00          73.8                    60.9\n",
      "3232             9/9/21 4:00          73.7                    60.6\n",
      "3233             9/9/21 5:00            74                      60\n",
      "3234             9/9/21 6:00          74.1                    58.6\n",
      "3235             9/9/21 7:00            74                    55.4\n",
      "\n",
      "[3235 rows x 3 columns], 'TB01':              Time HUMIDITY %. Trend (%RH) Trend (deg F)\n",
      "1             NaN                     NaN           NaN\n",
      "2             NaN                     NaN           NaN\n",
      "3             NaN                     NaN           NaN\n",
      "4             NaN                     NaN           NaN\n",
      "5             NaN                     NaN           NaN\n",
      "...           ...                     ...           ...\n",
      "3231  9/9/21 3:00                    57.7          72.7\n",
      "3232  9/9/21 4:00                    57.8          72.6\n",
      "3233  9/9/21 5:00                    56.7          72.6\n",
      "3234  9/9/21 6:00                    56.2          72.6\n",
      "3235  9/9/21 7:00                    55.5          72.6\n",
      "\n",
      "[3235 rows x 3 columns], 'H309':              Time Trend (deg F) HUMIDITY %. Trend (%RH)\n",
      "1             NaN           NaN                     NaN\n",
      "2             NaN           NaN                     NaN\n",
      "3             NaN           NaN                     NaN\n",
      "4             NaN           NaN                     NaN\n",
      "5             NaN           NaN                     NaN\n",
      "...           ...           ...                     ...\n",
      "3231  9/9/21 3:00            70                      48\n",
      "3232  9/9/21 4:00            70                      47\n",
      "3233  9/9/21 5:00            70                      48\n",
      "3234  9/9/21 6:00          70.1                      49\n",
      "3235  9/9/21 7:00          69.5                      51\n",
      "\n",
      "[3235 rows x 3 columns], 'H351':              Time Trend (deg F)\n",
      "1             NaN           NaN\n",
      "2             NaN           NaN\n",
      "3             NaN           NaN\n",
      "4             NaN           NaN\n",
      "5             NaN           NaN\n",
      "...           ...           ...\n",
      "3231  9/9/21 3:00          69.9\n",
      "3232  9/9/21 4:00          69.9\n",
      "3233  9/9/21 5:00          69.9\n",
      "3234  9/9/21 6:00          69.8\n",
      "3235  9/9/21 7:00          69.9\n",
      "\n",
      "[3235 rows x 2 columns], 'H355':              Time Trend (deg F)\n",
      "1             NaN           NaN\n",
      "2             NaN           NaN\n",
      "3             NaN           NaN\n",
      "4             NaN           NaN\n",
      "5             NaN           NaN\n",
      "...           ...           ...\n",
      "3231  9/9/21 3:00          68.7\n",
      "3232  9/9/21 4:00          68.7\n",
      "3233  9/9/21 5:00          68.7\n",
      "3234  9/9/21 6:00          68.6\n",
      "3235  9/9/21 7:00          68.6\n",
      "\n",
      "[3235 rows x 2 columns], 'H424':              Time Trend (deg F)\n",
      "1             NaN           NaN\n",
      "2             NaN           NaN\n",
      "3             NaN           NaN\n",
      "4             NaN           NaN\n",
      "5             NaN           NaN\n",
      "...           ...           ...\n",
      "3231  9/9/21 3:00          70.6\n",
      "3232  9/9/21 4:00          70.6\n",
      "3233  9/9/21 5:00          70.6\n",
      "3234  9/9/21 6:00          70.6\n",
      "3235  9/9/21 7:00          70.4\n",
      "\n",
      "[3235 rows x 2 columns], 'H460':              Time Trend (deg F)\n",
      "1             NaN           NaN\n",
      "2             NaN           NaN\n",
      "3             NaN           NaN\n",
      "4             NaN           NaN\n",
      "5             NaN           NaN\n",
      "...           ...           ...\n",
      "3231  9/9/21 3:00          71.3\n",
      "3232  9/9/21 4:00          71.1\n",
      "3233  9/9/21 5:00          70.9\n",
      "3234  9/9/21 6:00          70.6\n",
      "3235  9/9/21 7:00          69.8\n",
      "\n",
      "[3235 rows x 2 columns], 'H353':              Time HUMIDITY %. Trend (%RH) Trend (deg F)\n",
      "1             NaN                     NaN           NaN\n",
      "2             NaN                     NaN           NaN\n",
      "3             NaN                     NaN           NaN\n",
      "4             NaN                     NaN           NaN\n",
      "5             NaN                     NaN           NaN\n",
      "...           ...                     ...           ...\n",
      "3231  9/9/21 3:00                      60          70.6\n",
      "3232  9/9/21 4:00                      59          70.6\n",
      "3233  9/9/21 5:00                      59          70.5\n",
      "3234  9/9/21 6:00                      60          70.5\n",
      "3235  9/9/21 7:00                      58          70.4\n",
      "\n",
      "[3235 rows x 3 columns]}\n"
     ]
    }
   ],
   "metadata": {
    "tags": [],
    "deepnote_to_be_reexecuted": false,
    "source_hash": "3545af8",
    "execution_start": 1640666423344,
    "execution_millis": 98,
    "cell_id": "00005-efcca055-d788-4cd1-998e-3980ad45687a",
    "deepnote_cell_type": "code"
   }
  },
  {
   "cell_type": "code",
   "execution_count": 5,
   "source": [
    "# drop null values\n",
    "\n",
    "for lab in labs.values():\n",
    "    lab.dropna(inplace=True)\n",
    "    \n",
    "TlabGeneral.dropna(inplace=True)"
   ],
   "outputs": [],
   "metadata": {
    "tags": [],
    "deepnote_to_be_reexecuted": false,
    "source_hash": "d885a32f",
    "execution_start": 1640666423491,
    "execution_millis": 44,
    "cell_id": "00006-4bccc049-b6c6-48ac-ac61-950c02e2aaa3",
    "deepnote_cell_type": "code"
   }
  },
  {
   "cell_type": "markdown",
   "source": [
    "### Column Adjustment and Setback\n",
    "\n",
    "`labsetback` is a dictionary used to store the setback information for all of the labs. Each lab has three conditions for the three time periods:\n",
    "<ul>\n",
    "    <li>Past - 7/28/21</li>\n",
    "    <li>7/29/21 - 11/9/21</li>\n",
    "    <li>11/10/21 - Present</li>\n",
    "</ul>\n",
    "\n",
    "The limits of these three time period can be found and altered in the `if` statements of `prepareCols()` below. Dates are formatted in datetime format such that `datetime.time(6, 0)` indicates 6 hours and 0 minutes or 6:00, and `datetime.datetime(2021, 7, 28)` indicates 7/28/2021 in month/day/year format. In `labsetback`, there is a start time and end time for each of the time periods. For example for lab H309, the first tuple is `(datetime.time(6, 0), datetime.time(18, 0))`, meaning that for Past - 7/28/21, the setback is turned on at 18:00 (or 6:00pm) and turned off at 6:00 (or 6:00am)."
   ],
   "metadata": {
    "tags": [],
    "cell_id": "00007-e31b5964-b1d1-4c23-984c-1a0daf7857e5",
    "deepnote_cell_type": "markdown"
   }
  },
  {
   "cell_type": "code",
   "execution_count": 6,
   "source": [
    "labsetback = {\n",
    "    'H309': [\n",
    "        (datetime.time(6, 0), datetime.time(18, 0)), \n",
    "        (datetime.time(0, 0), datetime.time(0, 0)), \n",
    "        (datetime.time(5, 0), datetime.time(19, 0))\n",
    "    ],\n",
    "    'H351': [\n",
    "        (datetime.time(6, 0), datetime.time(18, 0)), \n",
    "        (datetime.time(0, 0), datetime.time(0, 0)), \n",
    "        (datetime.time(5, 0), datetime.time(19, 0))\n",
    "    ],\n",
    "    'H353': [\n",
    "        (datetime.time(6, 0), datetime.time(18, 0)), \n",
    "        (datetime.time(0, 0), datetime.time(0, 0)), \n",
    "        (datetime.time(5, 0), datetime.time(19, 0))\n",
    "    ],\n",
    "    'H355': [\n",
    "        (datetime.time(6, 0), datetime.time(18, 0)), \n",
    "        (datetime.time(0, 0), datetime.time(0, 0)), \n",
    "        (datetime.time(5, 0), datetime.time(19, 0))\n",
    "    ],\n",
    "    'H424': [\n",
    "        (datetime.time(6, 0), datetime.time(18, 0)), \n",
    "        (datetime.time(0, 0), datetime.time(0, 0)), \n",
    "        (datetime.time(5, 0), datetime.time(19, 0))\n",
    "    ],\n",
    "    'H460': [\n",
    "        (datetime.time(6, 0), datetime.time(18, 0)), \n",
    "        (datetime.time(0, 0), datetime.time(0, 0)), \n",
    "        (datetime.time(5, 0), datetime.time(19, 0))\n",
    "    ],\n",
    "    'TB01': [\n",
    "        (datetime.time(6, 0), datetime.time(19, 0)), \n",
    "        (datetime.time(0, 0), datetime.time(0, 0)), \n",
    "        (datetime.time(5, 0), datetime.time(19, 0))\n",
    "    ],\n",
    "    'T446': [\n",
    "        (datetime.time(0, 0), datetime.time(0, 0)), \n",
    "        (datetime.time(0, 0), datetime.time(0, 0)), \n",
    "        (datetime.time(0, 0), datetime.time(0, 0))\n",
    "    ],\n",
    "    'T302': [\n",
    "        (datetime.time(0, 0), datetime.time(0, 0)), \n",
    "        (datetime.time(0, 0), datetime.time(0, 0)), \n",
    "        (datetime.time(0, 0), datetime.time(0, 0))\n",
    "    ],\n",
    "    'T303': [\n",
    "        (datetime.time(0, 0), datetime.time(0, 0)), \n",
    "        (datetime.time(0, 0), datetime.time(0, 0)), \n",
    "        (datetime.time(0, 0), datetime.time(0, 0))\n",
    "    ],\n",
    "}"
   ],
   "outputs": [],
   "metadata": {
    "tags": [],
    "cell_id": "00008-79bee7a5-9bf7-473a-b9c7-3973f52ee99e",
    "deepnote_to_be_reexecuted": false,
    "source_hash": "c62ff7f3",
    "execution_start": 1640666423536,
    "execution_millis": 0,
    "deepnote_cell_type": "code"
   }
  },
  {
   "cell_type": "markdown",
   "source": [
    "#### Hour and Month Parameters\n",
    "Rather than doing a time series split, we thought that the hour of the day and the month was more important than the sequential temporal order of the data. We consider the hour of the day since the setback condition and internal lab conditions often change similarly throughout the day, and we consider the month to account for seasonal cycles.\n",
    "\n",
    "Note: `prepareCols()` takes in the lab data (dataframe) as well as its name (string). Thus, an example call would be `prepareCols(labs['TB01'], 'TB01')` where `labs['TB01']` fetches the specific dataframe from the `labs` dictionary."
   ],
   "metadata": {
    "tags": [],
    "cell_id": "00009-eb3c8ce4-5765-45b5-a7b7-6e3043c730d2",
    "deepnote_cell_type": "markdown"
   }
  },
  {
   "cell_type": "code",
   "execution_count": 7,
   "source": [
    "def prepareCols(lab, labname):\n",
    "    datetimes = pd.to_datetime(lab['Time'])\n",
    "    lab['Hour'] = [datetime.datetime.time(d) for d in datetimes]\n",
    "    lab['Month'] = [d.month for d in datetimes]\n",
    "    # lab['Weekday'] = pd.to_datetime(lab['Time']).apply(lambda x: x.weekday())\n",
    "\n",
    "    if labname in labsetback:\n",
    "        setbacks = []\n",
    "        setbackdict = labsetback[labname]\n",
    "\n",
    "        for index, row in lab.iterrows():\n",
    "            # first time period Past - 7/28/21\n",
    "            if pd.to_datetime(row['Time']) <= datetime.datetime(2021, 7, 28):\n",
    "                end, start = setbackdict[0]\n",
    "                if row['Hour'] <= end or row['Hour'] >= start:\n",
    "                    setbacks.append(1)\n",
    "                else:\n",
    "                    setbacks.append(0)\n",
    "            # second time period 7/29/21 - 11/9/2021\n",
    "            elif pd.to_datetime(row['Time']) <= datetime.datetime(2021, 11, 9):\n",
    "                end, start = setbackdict[1]\n",
    "                if row['Hour'] <= end or row['Hour'] >= start:\n",
    "                    setbacks.append(1)\n",
    "                else:\n",
    "                    setbacks.append(0)\n",
    "            # third time period 11/10/21 - Present\n",
    "            else:\n",
    "                end, start = setbackdict[2]\n",
    "                if row['Hour'] <= end or row['Hour'] >= start:\n",
    "                    setbacks.append(1)\n",
    "                else:\n",
    "                    setbacks.append(0)\n",
    "    # if lab is not in labsetback, it means setback is never turned on\n",
    "    else:\n",
    "        setbacks = [0] * len(datetimes)\n",
    "\n",
    "\n",
    "\n",
    "    lab['Setback'] = setbacks\n",
    "    # lab.drop([\"Weekday\"], 1, inplace=True)\n",
    "\n",
    "    for index, row in lab.iterrows():\n",
    "        lab.loc[index, 'Hour'] = row['Hour'].hour\n",
    "\n",
    "    return lab"
   ],
   "outputs": [],
   "metadata": {
    "tags": [],
    "deepnote_to_be_reexecuted": false,
    "source_hash": "acdb1348",
    "execution_start": 1640666423580,
    "execution_millis": 0,
    "cell_id": "00008-680fba5c-1f45-45bd-8de0-40985773d1e4",
    "deepnote_cell_type": "code"
   }
  },
  {
   "cell_type": "markdown",
   "source": [
    "### Adding General Metrics\n",
    "\n",
    "We write `addGeneral()` to add Outside Humidity as a parameter in our humidity model.\n",
    "<br />\n",
    "Note: Measurements for Outside Humidity do not begin until after measurements for individual labs have already begun. To keep the data consistent in the training and testing of our model, we drop all data for the timesteps that are missing one or more of the parameters.  We only consider data where all measurements - Time, Temperature, Setback, Outside Humidity - exist."
   ],
   "metadata": {
    "tags": [],
    "cell_id": "00011-183f45fc-8b83-48c4-83ba-932c56f4ce70",
    "deepnote_cell_type": "markdown"
   }
  },
  {
   "cell_type": "code",
   "execution_count": 8,
   "source": [
    "def addGeneral(lab, TlabGeneral):\n",
    "    lab['Outside Humidity'] = [np.nan] * len(list(lab['Time']))\n",
    "    for index, row in lab.iterrows():\n",
    "        gen_row = np.where(TlabGeneral[\"Time\"] == row['Time'])\n",
    "        if gen_row[0]:\n",
    "            lab.loc[index, 'Outside Humidity'] = TlabGeneral.iloc[gen_row[0][0]]['OUTSIDE HUMIDTY.Trend (RH%)']\n",
    "    lab.dropna(inplace=True)\n",
    "    print(lab)\n",
    "    return lab\n"
   ],
   "outputs": [],
   "metadata": {
    "tags": [],
    "deepnote_to_be_reexecuted": false,
    "source_hash": "d8f57a58",
    "execution_start": 1640666423580,
    "execution_millis": 1,
    "cell_id": "00010-3ed350bc-073d-417a-98ef-e5177fedff4a",
    "deepnote_cell_type": "code"
   }
  },
  {
   "cell_type": "markdown",
   "source": [
    "### Summary Lab\n",
    "\n",
    "This dataframe contains all the data about the features for each lab. As shown in the table, these include features such as number of windows, quantitiy of hoods, floor number, and equipment systems."
   ],
   "metadata": {
    "tags": [],
    "cell_id": "00013-15b61e70-d379-49a4-9dbc-d1077709a2fe",
    "deepnote_cell_type": "markdown"
   }
  },
  {
   "cell_type": "code",
   "execution_count": 9,
   "source": [
    "path = \"./HVACSummary.csv\"\n",
    "df_s = pd.read_csv(path)\n",
    "df_s.head()"
   ],
   "outputs": [
    {
     "output_type": "execute_result",
     "data": {
      "text/plain": [
       "  LabTitle Building   Room # Floor  Qty of Hoods  Windows (North)  \\\n",
       "0     TB15        T     B-15   B-1           1.0              NaN   \n",
       "1     T302        T      302     3           1.0              NaN   \n",
       "2     T303        T      303     3           1.0              NaN   \n",
       "3     T446        T      446     4           1.0              NaN   \n",
       "4     T449        T  449/451     4           1.0              NaN   \n",
       "\n",
       "   Windows (West)  Windows (South)  Windows (East) Augmented Controls  \\\n",
       "0             NaN              NaN             2.0             A/C-43   \n",
       "1             2.0              NaN             NaN             A/C-23   \n",
       "2             NaN              NaN             2.0            A/C-23A   \n",
       "3             2.0              NaN             NaN             A/C-22   \n",
       "4             NaN              NaN             2.0            A/C-13B   \n",
       "\n",
       "           Sensors Description HVAC Systems Supplying Room  \\\n",
       "0  JCI  TE-6314P-1 Temperature                       AHU-8   \n",
       "1              JCI  TE-6314P-1                       AHU-6   \n",
       "2              JCI  TE-6314P-1                       AHU-8   \n",
       "3              JCI  TE-6314P-1                      AHU-12   \n",
       "4              JCI  TE-6314P-1                      AHU-15   \n",
       "\n",
       "  Exhaust/Return System  Unnamed: 13  \n",
       "0                  EF-4          NaN  \n",
       "1                  EF-4          NaN  \n",
       "2                  EF-4          NaN  \n",
       "3                 EF-11          NaN  \n",
       "4                 EF-11          NaN  "
      ],
      "text/html": [
       "<div>\n",
       "<style scoped>\n",
       "    .dataframe tbody tr th:only-of-type {\n",
       "        vertical-align: middle;\n",
       "    }\n",
       "\n",
       "    .dataframe tbody tr th {\n",
       "        vertical-align: top;\n",
       "    }\n",
       "\n",
       "    .dataframe thead th {\n",
       "        text-align: right;\n",
       "    }\n",
       "</style>\n",
       "<table border=\"1\" class=\"dataframe\">\n",
       "  <thead>\n",
       "    <tr style=\"text-align: right;\">\n",
       "      <th></th>\n",
       "      <th>LabTitle</th>\n",
       "      <th>Building</th>\n",
       "      <th>Room #</th>\n",
       "      <th>Floor</th>\n",
       "      <th>Qty of Hoods</th>\n",
       "      <th>Windows (North)</th>\n",
       "      <th>Windows (West)</th>\n",
       "      <th>Windows (South)</th>\n",
       "      <th>Windows (East)</th>\n",
       "      <th>Augmented Controls</th>\n",
       "      <th>Sensors Description</th>\n",
       "      <th>HVAC Systems Supplying Room</th>\n",
       "      <th>Exhaust/Return System</th>\n",
       "      <th>Unnamed: 13</th>\n",
       "    </tr>\n",
       "  </thead>\n",
       "  <tbody>\n",
       "    <tr>\n",
       "      <th>0</th>\n",
       "      <td>TB15</td>\n",
       "      <td>T</td>\n",
       "      <td>B-15</td>\n",
       "      <td>B-1</td>\n",
       "      <td>1.0</td>\n",
       "      <td>NaN</td>\n",
       "      <td>NaN</td>\n",
       "      <td>NaN</td>\n",
       "      <td>2.0</td>\n",
       "      <td>A/C-43</td>\n",
       "      <td>JCI  TE-6314P-1 Temperature</td>\n",
       "      <td>AHU-8</td>\n",
       "      <td>EF-4</td>\n",
       "      <td>NaN</td>\n",
       "    </tr>\n",
       "    <tr>\n",
       "      <th>1</th>\n",
       "      <td>T302</td>\n",
       "      <td>T</td>\n",
       "      <td>302</td>\n",
       "      <td>3</td>\n",
       "      <td>1.0</td>\n",
       "      <td>NaN</td>\n",
       "      <td>2.0</td>\n",
       "      <td>NaN</td>\n",
       "      <td>NaN</td>\n",
       "      <td>A/C-23</td>\n",
       "      <td>JCI  TE-6314P-1</td>\n",
       "      <td>AHU-6</td>\n",
       "      <td>EF-4</td>\n",
       "      <td>NaN</td>\n",
       "    </tr>\n",
       "    <tr>\n",
       "      <th>2</th>\n",
       "      <td>T303</td>\n",
       "      <td>T</td>\n",
       "      <td>303</td>\n",
       "      <td>3</td>\n",
       "      <td>1.0</td>\n",
       "      <td>NaN</td>\n",
       "      <td>NaN</td>\n",
       "      <td>NaN</td>\n",
       "      <td>2.0</td>\n",
       "      <td>A/C-23A</td>\n",
       "      <td>JCI  TE-6314P-1</td>\n",
       "      <td>AHU-8</td>\n",
       "      <td>EF-4</td>\n",
       "      <td>NaN</td>\n",
       "    </tr>\n",
       "    <tr>\n",
       "      <th>3</th>\n",
       "      <td>T446</td>\n",
       "      <td>T</td>\n",
       "      <td>446</td>\n",
       "      <td>4</td>\n",
       "      <td>1.0</td>\n",
       "      <td>NaN</td>\n",
       "      <td>2.0</td>\n",
       "      <td>NaN</td>\n",
       "      <td>NaN</td>\n",
       "      <td>A/C-22</td>\n",
       "      <td>JCI  TE-6314P-1</td>\n",
       "      <td>AHU-12</td>\n",
       "      <td>EF-11</td>\n",
       "      <td>NaN</td>\n",
       "    </tr>\n",
       "    <tr>\n",
       "      <th>4</th>\n",
       "      <td>T449</td>\n",
       "      <td>T</td>\n",
       "      <td>449/451</td>\n",
       "      <td>4</td>\n",
       "      <td>1.0</td>\n",
       "      <td>NaN</td>\n",
       "      <td>NaN</td>\n",
       "      <td>NaN</td>\n",
       "      <td>2.0</td>\n",
       "      <td>A/C-13B</td>\n",
       "      <td>JCI  TE-6314P-1</td>\n",
       "      <td>AHU-15</td>\n",
       "      <td>EF-11</td>\n",
       "      <td>NaN</td>\n",
       "    </tr>\n",
       "  </tbody>\n",
       "</table>\n",
       "</div>"
      ],
      "application/vnd.deepnote.dataframe.v3+json": {
       "column_count": 14,
       "row_count": 5,
       "columns": [
        {
         "name": "LabTitle",
         "dtype": "object",
         "stats": {
          "unique_count": 5,
          "nan_count": 0,
          "categories": [
           {
            "name": "TB15",
            "count": 1
           },
           {
            "name": "T302",
            "count": 1
           },
           {
            "name": "3 others",
            "count": 3
           }
          ]
         }
        },
        {
         "name": "Building",
         "dtype": "object",
         "stats": {
          "unique_count": 1,
          "nan_count": 0,
          "categories": [
           {
            "name": "T",
            "count": 5
           }
          ]
         }
        },
        {
         "name": "Room #",
         "dtype": "object",
         "stats": {
          "unique_count": 5,
          "nan_count": 0,
          "categories": [
           {
            "name": "B-15",
            "count": 1
           },
           {
            "name": "302",
            "count": 1
           },
           {
            "name": "3 others",
            "count": 3
           }
          ]
         }
        },
        {
         "name": "Floor",
         "dtype": "object",
         "stats": {
          "unique_count": 3,
          "nan_count": 0,
          "categories": [
           {
            "name": "3",
            "count": 2
           },
           {
            "name": "4",
            "count": 2
           },
           {
            "name": "B-1",
            "count": 1
           }
          ]
         }
        },
        {
         "name": "Qty of Hoods",
         "dtype": "float64",
         "stats": {
          "unique_count": 1,
          "nan_count": 0,
          "min": "1.0",
          "max": "1.0",
          "histogram": [
           {
            "bin_start": 0.5,
            "bin_end": 0.6,
            "count": 0
           },
           {
            "bin_start": 0.6,
            "bin_end": 0.7,
            "count": 0
           },
           {
            "bin_start": 0.7,
            "bin_end": 0.8,
            "count": 0
           },
           {
            "bin_start": 0.8,
            "bin_end": 0.9,
            "count": 0
           },
           {
            "bin_start": 0.9,
            "bin_end": 1,
            "count": 0
           },
           {
            "bin_start": 1,
            "bin_end": 1.1,
            "count": 5
           },
           {
            "bin_start": 1.1,
            "bin_end": 1.2000000000000002,
            "count": 0
           },
           {
            "bin_start": 1.2000000000000002,
            "bin_end": 1.3,
            "count": 0
           },
           {
            "bin_start": 1.3,
            "bin_end": 1.4,
            "count": 0
           },
           {
            "bin_start": 1.4,
            "bin_end": 1.5,
            "count": 0
           }
          ]
         }
        },
        {
         "name": "Windows (North)",
         "dtype": "float64",
         "stats": {
          "unique_count": 0,
          "nan_count": 5,
          "min": null,
          "max": null,
          "histogram": [
           {
            "bin_start": 0,
            "bin_end": 0.1,
            "count": 0
           },
           {
            "bin_start": 0.1,
            "bin_end": 0.2,
            "count": 0
           },
           {
            "bin_start": 0.2,
            "bin_end": 0.30000000000000004,
            "count": 0
           },
           {
            "bin_start": 0.30000000000000004,
            "bin_end": 0.4,
            "count": 0
           },
           {
            "bin_start": 0.4,
            "bin_end": 0.5,
            "count": 0
           },
           {
            "bin_start": 0.5,
            "bin_end": 0.6000000000000001,
            "count": 0
           },
           {
            "bin_start": 0.6000000000000001,
            "bin_end": 0.7000000000000001,
            "count": 0
           },
           {
            "bin_start": 0.7000000000000001,
            "bin_end": 0.8,
            "count": 0
           },
           {
            "bin_start": 0.8,
            "bin_end": 0.9,
            "count": 0
           },
           {
            "bin_start": 0.9,
            "bin_end": 1,
            "count": 0
           }
          ]
         }
        },
        {
         "name": "Windows (West)",
         "dtype": "float64",
         "stats": {
          "unique_count": 1,
          "nan_count": 3,
          "min": "2.0",
          "max": "2.0",
          "histogram": [
           {
            "bin_start": 1.5,
            "bin_end": 1.6,
            "count": 0
           },
           {
            "bin_start": 1.6,
            "bin_end": 1.7,
            "count": 0
           },
           {
            "bin_start": 1.7,
            "bin_end": 1.8,
            "count": 0
           },
           {
            "bin_start": 1.8,
            "bin_end": 1.9,
            "count": 0
           },
           {
            "bin_start": 1.9,
            "bin_end": 2,
            "count": 0
           },
           {
            "bin_start": 2,
            "bin_end": 2.1,
            "count": 2
           },
           {
            "bin_start": 2.1,
            "bin_end": 2.2,
            "count": 0
           },
           {
            "bin_start": 2.2,
            "bin_end": 2.3,
            "count": 0
           },
           {
            "bin_start": 2.3,
            "bin_end": 2.4,
            "count": 0
           },
           {
            "bin_start": 2.4,
            "bin_end": 2.5,
            "count": 0
           }
          ]
         }
        },
        {
         "name": "Windows (South)",
         "dtype": "float64",
         "stats": {
          "unique_count": 0,
          "nan_count": 5,
          "min": null,
          "max": null,
          "histogram": [
           {
            "bin_start": 0,
            "bin_end": 0.1,
            "count": 0
           },
           {
            "bin_start": 0.1,
            "bin_end": 0.2,
            "count": 0
           },
           {
            "bin_start": 0.2,
            "bin_end": 0.30000000000000004,
            "count": 0
           },
           {
            "bin_start": 0.30000000000000004,
            "bin_end": 0.4,
            "count": 0
           },
           {
            "bin_start": 0.4,
            "bin_end": 0.5,
            "count": 0
           },
           {
            "bin_start": 0.5,
            "bin_end": 0.6000000000000001,
            "count": 0
           },
           {
            "bin_start": 0.6000000000000001,
            "bin_end": 0.7000000000000001,
            "count": 0
           },
           {
            "bin_start": 0.7000000000000001,
            "bin_end": 0.8,
            "count": 0
           },
           {
            "bin_start": 0.8,
            "bin_end": 0.9,
            "count": 0
           },
           {
            "bin_start": 0.9,
            "bin_end": 1,
            "count": 0
           }
          ]
         }
        },
        {
         "name": "Windows (East)",
         "dtype": "float64",
         "stats": {
          "unique_count": 1,
          "nan_count": 2,
          "min": "2.0",
          "max": "2.0",
          "histogram": [
           {
            "bin_start": 1.5,
            "bin_end": 1.6,
            "count": 0
           },
           {
            "bin_start": 1.6,
            "bin_end": 1.7,
            "count": 0
           },
           {
            "bin_start": 1.7,
            "bin_end": 1.8,
            "count": 0
           },
           {
            "bin_start": 1.8,
            "bin_end": 1.9,
            "count": 0
           },
           {
            "bin_start": 1.9,
            "bin_end": 2,
            "count": 0
           },
           {
            "bin_start": 2,
            "bin_end": 2.1,
            "count": 3
           },
           {
            "bin_start": 2.1,
            "bin_end": 2.2,
            "count": 0
           },
           {
            "bin_start": 2.2,
            "bin_end": 2.3,
            "count": 0
           },
           {
            "bin_start": 2.3,
            "bin_end": 2.4,
            "count": 0
           },
           {
            "bin_start": 2.4,
            "bin_end": 2.5,
            "count": 0
           }
          ]
         }
        },
        {
         "name": "Augmented Controls",
         "dtype": "object",
         "stats": {
          "unique_count": 5,
          "nan_count": 0,
          "categories": [
           {
            "name": "A/C-43",
            "count": 1
           },
           {
            "name": "A/C-23",
            "count": 1
           },
           {
            "name": "3 others",
            "count": 3
           }
          ]
         }
        },
        {
         "name": "Sensors Description",
         "dtype": "object",
         "stats": {
          "unique_count": 2,
          "nan_count": 0,
          "categories": [
           {
            "name": "JCI  TE-6314P-1",
            "count": 4
           },
           {
            "name": "JCI  TE-6314P-1 Temperature",
            "count": 1
           }
          ]
         }
        },
        {
         "name": "HVAC Systems Supplying Room",
         "dtype": "object",
         "stats": {
          "unique_count": 4,
          "nan_count": 0,
          "categories": [
           {
            "name": "AHU-8",
            "count": 2
           },
           {
            "name": "AHU-6",
            "count": 1
           },
           {
            "name": "2 others",
            "count": 2
           }
          ]
         }
        },
        {
         "name": "Exhaust/Return System",
         "dtype": "object",
         "stats": {
          "unique_count": 2,
          "nan_count": 0,
          "categories": [
           {
            "name": "EF-4",
            "count": 3
           },
           {
            "name": "EF-11",
            "count": 2
           }
          ]
         }
        },
        {
         "name": "Unnamed: 13",
         "dtype": "float64",
         "stats": {
          "unique_count": 0,
          "nan_count": 5,
          "min": null,
          "max": null,
          "histogram": [
           {
            "bin_start": 0,
            "bin_end": 0.1,
            "count": 0
           },
           {
            "bin_start": 0.1,
            "bin_end": 0.2,
            "count": 0
           },
           {
            "bin_start": 0.2,
            "bin_end": 0.30000000000000004,
            "count": 0
           },
           {
            "bin_start": 0.30000000000000004,
            "bin_end": 0.4,
            "count": 0
           },
           {
            "bin_start": 0.4,
            "bin_end": 0.5,
            "count": 0
           },
           {
            "bin_start": 0.5,
            "bin_end": 0.6000000000000001,
            "count": 0
           },
           {
            "bin_start": 0.6000000000000001,
            "bin_end": 0.7000000000000001,
            "count": 0
           },
           {
            "bin_start": 0.7000000000000001,
            "bin_end": 0.8,
            "count": 0
           },
           {
            "bin_start": 0.8,
            "bin_end": 0.9,
            "count": 0
           },
           {
            "bin_start": 0.9,
            "bin_end": 1,
            "count": 0
           }
          ]
         }
        },
        {
         "name": "_deepnote_index_column",
         "dtype": "int64"
        }
       ],
       "rows": [
        {
         "LabTitle": "TB15",
         "Building": "T",
         "Room #": "B-15",
         "Floor": "B-1",
         "Qty of Hoods": 1,
         "Windows (North)": "nan",
         "Windows (West)": "nan",
         "Windows (South)": "nan",
         "Windows (East)": 2,
         "Augmented Controls": "A/C-43",
         "Sensors Description": "JCI  TE-6314P-1 Temperature",
         "HVAC Systems Supplying Room": "AHU-8",
         "Exhaust/Return System": "EF-4",
         "Unnamed: 13": "nan",
         "_deepnote_index_column": 0
        },
        {
         "LabTitle": "T302",
         "Building": "T",
         "Room #": "302",
         "Floor": "3",
         "Qty of Hoods": 1,
         "Windows (North)": "nan",
         "Windows (West)": 2,
         "Windows (South)": "nan",
         "Windows (East)": "nan",
         "Augmented Controls": "A/C-23",
         "Sensors Description": "JCI  TE-6314P-1",
         "HVAC Systems Supplying Room": "AHU-6",
         "Exhaust/Return System": "EF-4",
         "Unnamed: 13": "nan",
         "_deepnote_index_column": 1
        },
        {
         "LabTitle": "T303",
         "Building": "T",
         "Room #": "303",
         "Floor": "3",
         "Qty of Hoods": 1,
         "Windows (North)": "nan",
         "Windows (West)": "nan",
         "Windows (South)": "nan",
         "Windows (East)": 2,
         "Augmented Controls": "A/C-23A",
         "Sensors Description": "JCI  TE-6314P-1",
         "HVAC Systems Supplying Room": "AHU-8",
         "Exhaust/Return System": "EF-4",
         "Unnamed: 13": "nan",
         "_deepnote_index_column": 2
        },
        {
         "LabTitle": "T446",
         "Building": "T",
         "Room #": "446",
         "Floor": "4",
         "Qty of Hoods": 1,
         "Windows (North)": "nan",
         "Windows (West)": 2,
         "Windows (South)": "nan",
         "Windows (East)": "nan",
         "Augmented Controls": "A/C-22",
         "Sensors Description": "JCI  TE-6314P-1",
         "HVAC Systems Supplying Room": "AHU-12",
         "Exhaust/Return System": "EF-11",
         "Unnamed: 13": "nan",
         "_deepnote_index_column": 3
        },
        {
         "LabTitle": "T449",
         "Building": "T",
         "Room #": "449/451",
         "Floor": "4",
         "Qty of Hoods": 1,
         "Windows (North)": "nan",
         "Windows (West)": "nan",
         "Windows (South)": "nan",
         "Windows (East)": 2,
         "Augmented Controls": "A/C-13B",
         "Sensors Description": "JCI  TE-6314P-1",
         "HVAC Systems Supplying Room": "AHU-15",
         "Exhaust/Return System": "EF-11",
         "Unnamed: 13": "nan",
         "_deepnote_index_column": 4
        }
       ]
      }
     },
     "metadata": {},
     "execution_count": 9
    }
   ],
   "metadata": {
    "tags": [],
    "deepnote_to_be_reexecuted": false,
    "source_hash": "377247de",
    "execution_start": 1640666423581,
    "execution_millis": 94,
    "cell_id": "00012-d9a8972b-ece2-47fc-8109-64dd6910da8a",
    "deepnote_cell_type": "code"
   }
  },
  {
   "cell_type": "code",
   "execution_count": 10,
   "source": [
    "labSummary = {}\n",
    "\n",
    "for index, row in df_s.iterrows():\n",
    "    lab_title = row[0]\n",
    "\n",
    "    labSummary[lab_title] = pd.DataFrame([row], columns=df_s.columns)\n"
   ],
   "outputs": [],
   "metadata": {
    "tags": [],
    "deepnote_to_be_reexecuted": false,
    "source_hash": "f76a9e2e",
    "execution_start": 1640666423759,
    "execution_millis": 0,
    "cell_id": "00013-0b3b6df2-57cc-480f-afc8-2138557311e7",
    "deepnote_cell_type": "code"
   }
  },
  {
   "cell_type": "markdown",
   "source": [
    "## Prediction Model\n",
    "\n",
    "Here, we write our SVR (support vector regression) model `predict_value()`. This function takes in the following values:\n",
    "\n",
    "`X_train`: input parameters (hour, month, setback, outside enthalpy) that we train our model on\n",
    "<br />\n",
    "`y_train`: output (humidity) correspoding to each input that we train our model on\n",
    "<br />\n",
    "`X_test`: input parameters that we then have our model predict\n",
    "<br />\n",
    "`y_test`: actual value that we compare our prediction values to\n",
    "<br />\n",
    "`t_train` + `t_test`: timesteps that correspond to our data (this is to order our data sequentially when we graph it and is not considered in our model)\n",
    "\n",
    "Rather than using a time series split, we randomly split our data into the train and test sets. Because the data is all randomized, we have the `sort_data()` function to sort it for our graph visualisations.\n",
    "\n",
    "We've also used the built-in `svr_lin.coef_` function to identify the weights of each input parameter on the final prediction. Note: the function calculates this based on the results produced when `kernel = 'linear'`.\n",
    "\n",
    "The `predict_value()` function will use the linear, polynomial, and rbf kernels to fit and predict the values. It will print out the weights for each feature and draw a graph of the predictions modeled against the actual values, and its return values will be the lists of predicted values that each of the linear, polynomial, and rbf models have made (Note: the data will still be randomized to match `y_test`. It is only for the graph that all the lists are sorted).\n",
    "\n",
    "The `generate_models()` function runs virutally the same code as the `predict_value()` function, however instead of returning lists of predicted values, its returning value is the actual *model objects* themselves. This will be useful when pickling models, which is used for updating models in the backend Flask API."
   ],
   "metadata": {
    "tags": [],
    "cell_id": "00016-fc49a3cd-a3bc-4c51-9c62-460e5d8c7789",
    "deepnote_cell_type": "markdown"
   }
  },
  {
   "cell_type": "code",
   "execution_count": 11,
   "source": [
    "from sklearn.svm import SVR "
   ],
   "outputs": [],
   "metadata": {
    "tags": [],
    "deepnote_to_be_reexecuted": false,
    "source_hash": "9de844f7",
    "execution_start": 1640666423760,
    "execution_millis": 108,
    "cell_id": "00015-7b1b2e83-45a8-4f7e-84f5-f858660d088d",
    "deepnote_cell_type": "code"
   }
  },
  {
   "cell_type": "code",
   "execution_count": 12,
   "source": [
    "import plotly.express as px # for data visualization\n",
    "import plotly.graph_objects as go\n",
    "\n",
    "def predict_value(X_train, y_train, X_test, y_test, t_train, t_test):\n",
    "    \n",
    "    svr_lin  = SVR(kernel='linear', C=10)\n",
    "    svr_poly = SVR(kernel='poly', C=10, degree=2)\n",
    "    svr_rbf = SVR(kernel='rbf', C=100, gamma=0.1)\n",
    "    \n",
    "    # Fit regression model\n",
    "    svr_lin .fit(X_train, y_train)\n",
    "    svr_poly.fit(X_train, y_train)\n",
    "    svr_rbf.fit(X_train, y_train)\n",
    "\n",
    "    # Feature weights\n",
    "    lin_weights = svr_lin.coef_\n",
    "    print(lin_weights)\n",
    "\n",
    "    # Plotting actual values\n",
    "    fig = px.scatter(df, x=t_test, y=y_test, \n",
    "                 opacity=0.8, color_discrete_sequence=['black'])\n",
    "\n",
    "    # Predicting Values\n",
    "    lin = svr_lin.predict(X_test)\n",
    "    rbf = svr_rbf.predict(X_test)\n",
    "    poly = svr_poly.predict(X_test)\n",
    "\n",
    "    # Sorting prediction results sequentially\n",
    "    sorted_t, sorted_lin = sort_data(t_test, lin)\n",
    "    sorted_t, sorted_rbf = sort_data(t_test, rbf)\n",
    "    sorted_t, sorted_poly = sort_data(t_test, poly)\n",
    "\n",
    "    # Plot predictions with actual values\n",
    "    fig.add_traces(go.Scatter(x=sorted_t, y=sorted_lin, name='Linear model', line=dict(color='green')))\n",
    "    fig.add_traces(go.Scatter(x=sorted_t, y=sorted_rbf, name='RBF model', line=dict(color='red')))\n",
    "    fig.add_traces(go.Scatter(x=sorted_t, y=sorted_poly, name='Polynomial model', line=dict(color='blue')))\n",
    "    \n",
    "\n",
    "    # Change chart background color\n",
    "    fig.update_layout(dict(plot_bgcolor = 'white'))\n",
    "\n",
    "    # Update axes lines\n",
    "    fig.update_xaxes(showgrid=True, gridwidth=1, gridcolor='lightgrey', \n",
    "                    zeroline=True, zerolinewidth=1, zerolinecolor='lightgrey', \n",
    "                    showline=True, linewidth=1, linecolor='black')\n",
    "\n",
    "    fig.update_yaxes(showgrid=True, gridwidth=1, gridcolor='lightgrey', \n",
    "                    zeroline=True, zerolinewidth=1, zerolinecolor='lightgrey', \n",
    "                    showline=True, linewidth=1, linecolor='black')\n",
    "\n",
    "    # Update marker size\n",
    "    fig.update_traces(marker=dict(size=3))\n",
    "\n",
    "    fig.show()\n",
    "    \n",
    "    return lin, rbf, poly\n",
    "\n",
    "\n",
    "# function to sort data points sequentially\n",
    "def sort_data(x, y):\n",
    "    merged_list = [(x[i], y[i]) for i in range(0, len(x))]\n",
    "    sorted_list = sorted(merged_list, key=lambda y: y[0])\n",
    "    sorted_x, sorted_y = zip(*sorted_list)\n",
    "    return list(sorted_x), list(sorted_y)\n",
    "\n",
    "\n"
   ],
   "outputs": [],
   "metadata": {
    "tags": [],
    "deepnote_to_be_reexecuted": false,
    "source_hash": "9c451ee7",
    "execution_start": 1640666423927,
    "execution_millis": 223,
    "cell_id": "00016-127aba56-1ba9-43c3-93f2-e9616287f563",
    "deepnote_cell_type": "code"
   }
  },
  {
   "cell_type": "code",
   "execution_count": 13,
   "source": [
    "def generate_models(X_train, y_train, X_test, y_test, t_train, t_test):\n",
    "    \n",
    "    svr_lin  = SVR(kernel='linear', C=10)\n",
    "    svr_poly = SVR(kernel='poly', C=10, degree=2)\n",
    "    svr_rbf = SVR(kernel='rbf', C=100, gamma=0.1)\n",
    "    \n",
    "    # Fit regression model\n",
    "    svr_lin.fit(X_train, y_train)\n",
    "    svr_poly.fit(X_train, y_train)\n",
    "    svr_rbf.fit(X_train, y_train)\n",
    "    \n",
    "    return svr_lin, svr_poly, svr_rbf"
   ],
   "outputs": [],
   "metadata": {
    "tags": [],
    "cell_id": "00019-f22443a4-8318-44ac-8e10-dda875ec76a3",
    "deepnote_to_be_reexecuted": false,
    "source_hash": "1190aaa6",
    "execution_start": 1640666424160,
    "execution_millis": 1,
    "deepnote_cell_type": "code"
   }
  },
  {
   "cell_type": "markdown",
   "source": [
    "### Preparing Data for SVR Model\n",
    "In `make_model_data()`, we extract and reshape our parameters to group each row into our <em>X</em> and <em>y</em> values. For each timestep, Time, Hour, Month, Setback, and Outside Enthalpy are the input features and Humidity is the output feature we want to predict. Then, the data is randomized and split into the training and testing data in a 9:1 ratio.\n",
    "\n",
    "Please note: humidity measurements were only taken for a select few labs (T454, TB01, H309, and H353), so no predictions are able to be made for any other lab that does not have pre-existing data. "
   ],
   "metadata": {
    "tags": [],
    "cell_id": "00019-76f0413a-343f-4cbe-9b86-53d94a7b13a2",
    "deepnote_cell_type": "markdown"
   }
  },
  {
   "cell_type": "code",
   "execution_count": 14,
   "source": [
    "def make_model_data(lab):\n",
    "    t = [float(i) for i in range(0, len(lab['Time']))]\n",
    "    lab['Time'] = t\n",
    "\n",
    "    d = lab['HUMIDITY %. Trend (%RH)'].apply(pd.to_numeric)\n",
    "    d = d.astype(float)\n",
    "    lab['HUMIDITY %. Trend (%RH)'] = d\n",
    "\n",
    "    def get_data(df):  \n",
    "        t = df['Time'].values\n",
    "        X1 = df['Hour'].values\n",
    "        X2 = df['Month'].values\n",
    "        X3 = df['Setback'].values\n",
    "        X4 = df['Outside Humidity'].values\n",
    "        y = df['HUMIDITY %. Trend (%RH)']\n",
    "        vals = np.vstack((t, X1, X2, X3, X4, y)).T\n",
    "        vals.reshape(-6, 6)\n",
    "        return list(vals) # Convert Series to list\n",
    "\n",
    "    data = get_data(lab)\n",
    "    rand_data = random.sample(list(data), k=len(data))\n",
    "\n",
    "    rand_time = []\n",
    "    rand_hr = []\n",
    "    rand_mnth = []\n",
    "    rand_setback = []\n",
    "    rand_outside = []\n",
    "    rand_y = []\n",
    "\n",
    "    for time, hour, month, setback, out_hum, y in rand_data:\n",
    "        rand_time.append(time)\n",
    "        rand_hr.append(hour)\n",
    "        rand_mnth.append(month)\n",
    "        rand_setback.append(setback)\n",
    "        rand_outside.append(out_hum)\n",
    "        rand_y.append(y)\n",
    "\n",
    "    rand_X = np.vstack((rand_hr, rand_mnth, rand_setback, rand_outside)).T\n",
    "    rand_X.reshape(-4, 4)\n",
    "    print(rand_X)\n",
    "\n",
    "    # train/test split\n",
    "    ratio = 10\n",
    "    n = int(len(rand_data) / ratio)\n",
    "\n",
    "    X_train = rand_X[n:]\n",
    "    X_test = rand_X[:n]\n",
    "    y_train = rand_y[n:]\n",
    "    y_test = rand_y[:n]\n",
    "    t_train = rand_time[n:]\n",
    "    t_test = rand_time[:n]\n",
    "\n",
    "\n",
    "    return X_train, X_test, y_train, y_test, t_train, t_test\n",
    "\n"
   ],
   "outputs": [],
   "metadata": {
    "tags": [],
    "deepnote_to_be_reexecuted": false,
    "source_hash": "b7c5621f",
    "execution_start": 1640666424179,
    "execution_millis": 1,
    "cell_id": "00019-b36e0e50-1473-4c49-a2ca-56df150dcceb",
    "deepnote_cell_type": "code"
   }
  },
  {
   "cell_type": "code",
   "execution_count": 21,
   "source": [
    "# call all functions to process and prepare data\n",
    "\n",
    "data = prepareCols(labs['TB01'], 'TB01')\n",
    "data = addGeneral(data, TlabGeneral)\n",
    "X_train, X_test, y_train, y_test, times_train, times_test = make_model_data(data)"
   ],
   "outputs": [
    {
     "output_type": "stream",
     "name": "stderr",
     "text": [
      "/shared-libs/python3.7/py-core/lib/python3.7/site-packages/dateutil/parser/_parser.py:1212: UnknownTimezoneWarning:\n",
      "\n",
      "tzname EDT identified but not understood.  Pass `tzinfos` argument in order to correctly return a timezone-aware datetime.  In a future version, this will raise an exception.\n",
      "\n",
      "/shared-libs/python3.7/py-core/lib/python3.7/site-packages/ipykernel_launcher.py:5: DeprecationWarning:\n",
      "\n",
      "The truth value of an empty array is ambiguous. Returning False, but in future this will result in an error. Use `array.size > 0` to check that an array is not empty.\n",
      "\n",
      "                        Time HUMIDITY %. Trend (%RH) Trend (deg F) Hour  \\\n",
      "697   5/26/21 1:00:00 PM EDT               53.485672          73.4   13   \n",
      "698   5/26/21 2:00:00 PM EDT               57.959625          73.6   14   \n",
      "699   5/26/21 3:00:00 PM EDT               59.137146          73.6   15   \n",
      "700   5/26/21 4:00:00 PM EDT               59.295654          73.6   16   \n",
      "701   5/26/21 5:00:00 PM EDT               60.528183          73.7   17   \n",
      "...                      ...                     ...           ...  ...   \n",
      "3231             9/9/21 3:00                    57.7          72.7    3   \n",
      "3232             9/9/21 4:00                    57.8          72.6    4   \n",
      "3233             9/9/21 5:00                    56.7          72.6    5   \n",
      "3234             9/9/21 6:00                    56.2          72.6    6   \n",
      "3235             9/9/21 7:00                    55.5          72.6    7   \n",
      "\n",
      "      Month  Setback Outside Humidity  \n",
      "697       5        0        53.485672  \n",
      "698       5        0        57.959625  \n",
      "699       5        0        59.137146  \n",
      "700       5        0        59.295654  \n",
      "701       5        0        60.528183  \n",
      "...     ...      ...              ...  \n",
      "3231      9        1             76.6  \n",
      "3232      9        1             78.3  \n",
      "3233      9        1             76.4  \n",
      "3234      9        1             69.9  \n",
      "3235      9        1             71.4  \n",
      "\n",
      "[2539 rows x 7 columns]\n",
      "[['2' '8' '1' '72.6']\n",
      " ['9' '6' '0' '74.3']\n",
      " ['5' '8' '1' '88.2']\n",
      " ...\n",
      " ['12' '8' '1' '56.2']\n",
      " ['5' '6' '1' '76']\n",
      " ['10' '7' '0' '66.1']]\n"
     ]
    }
   ],
   "metadata": {
    "tags": [],
    "deepnote_to_be_reexecuted": false,
    "source_hash": "ddc2bb46",
    "execution_start": 1640666741851,
    "execution_millis": 6083,
    "cell_id": "00021-73b21813-345b-4e34-870b-a1bd51a547c7",
    "deepnote_cell_type": "code"
   }
  },
  {
   "cell_type": "code",
   "execution_count": 22,
   "source": [
    "# final dataframe\n",
    "\n",
    "data"
   ],
   "outputs": [
    {
     "output_type": "execute_result",
     "data": {
      "text/plain": [
       "        Time  HUMIDITY %. Trend (%RH) Trend (deg F) Hour  Month  Setback  \\\n",
       "697      0.0                53.485672          73.4   13      5        0   \n",
       "698      1.0                57.959625          73.6   14      5        0   \n",
       "699      2.0                59.137146          73.6   15      5        0   \n",
       "700      3.0                59.295654          73.6   16      5        0   \n",
       "701      4.0                60.528183          73.7   17      5        0   \n",
       "...      ...                      ...           ...  ...    ...      ...   \n",
       "3231  2534.0                57.700000          72.7    3      9        1   \n",
       "3232  2535.0                57.800000          72.6    4      9        1   \n",
       "3233  2536.0                56.700000          72.6    5      9        1   \n",
       "3234  2537.0                56.200000          72.6    6      9        1   \n",
       "3235  2538.0                55.500000          72.6    7      9        1   \n",
       "\n",
       "     Outside Humidity  \n",
       "697         53.485672  \n",
       "698         57.959625  \n",
       "699         59.137146  \n",
       "700         59.295654  \n",
       "701         60.528183  \n",
       "...               ...  \n",
       "3231             76.6  \n",
       "3232             78.3  \n",
       "3233             76.4  \n",
       "3234             69.9  \n",
       "3235             71.4  \n",
       "\n",
       "[2539 rows x 7 columns]"
      ],
      "text/html": [
       "<div>\n",
       "<style scoped>\n",
       "    .dataframe tbody tr th:only-of-type {\n",
       "        vertical-align: middle;\n",
       "    }\n",
       "\n",
       "    .dataframe tbody tr th {\n",
       "        vertical-align: top;\n",
       "    }\n",
       "\n",
       "    .dataframe thead th {\n",
       "        text-align: right;\n",
       "    }\n",
       "</style>\n",
       "<table border=\"1\" class=\"dataframe\">\n",
       "  <thead>\n",
       "    <tr style=\"text-align: right;\">\n",
       "      <th></th>\n",
       "      <th>Time</th>\n",
       "      <th>HUMIDITY %. Trend (%RH)</th>\n",
       "      <th>Trend (deg F)</th>\n",
       "      <th>Hour</th>\n",
       "      <th>Month</th>\n",
       "      <th>Setback</th>\n",
       "      <th>Outside Humidity</th>\n",
       "    </tr>\n",
       "  </thead>\n",
       "  <tbody>\n",
       "    <tr>\n",
       "      <th>697</th>\n",
       "      <td>0.0</td>\n",
       "      <td>53.485672</td>\n",
       "      <td>73.4</td>\n",
       "      <td>13</td>\n",
       "      <td>5</td>\n",
       "      <td>0</td>\n",
       "      <td>53.485672</td>\n",
       "    </tr>\n",
       "    <tr>\n",
       "      <th>698</th>\n",
       "      <td>1.0</td>\n",
       "      <td>57.959625</td>\n",
       "      <td>73.6</td>\n",
       "      <td>14</td>\n",
       "      <td>5</td>\n",
       "      <td>0</td>\n",
       "      <td>57.959625</td>\n",
       "    </tr>\n",
       "    <tr>\n",
       "      <th>699</th>\n",
       "      <td>2.0</td>\n",
       "      <td>59.137146</td>\n",
       "      <td>73.6</td>\n",
       "      <td>15</td>\n",
       "      <td>5</td>\n",
       "      <td>0</td>\n",
       "      <td>59.137146</td>\n",
       "    </tr>\n",
       "    <tr>\n",
       "      <th>700</th>\n",
       "      <td>3.0</td>\n",
       "      <td>59.295654</td>\n",
       "      <td>73.6</td>\n",
       "      <td>16</td>\n",
       "      <td>5</td>\n",
       "      <td>0</td>\n",
       "      <td>59.295654</td>\n",
       "    </tr>\n",
       "    <tr>\n",
       "      <th>701</th>\n",
       "      <td>4.0</td>\n",
       "      <td>60.528183</td>\n",
       "      <td>73.7</td>\n",
       "      <td>17</td>\n",
       "      <td>5</td>\n",
       "      <td>0</td>\n",
       "      <td>60.528183</td>\n",
       "    </tr>\n",
       "    <tr>\n",
       "      <th>...</th>\n",
       "      <td>...</td>\n",
       "      <td>...</td>\n",
       "      <td>...</td>\n",
       "      <td>...</td>\n",
       "      <td>...</td>\n",
       "      <td>...</td>\n",
       "      <td>...</td>\n",
       "    </tr>\n",
       "    <tr>\n",
       "      <th>3231</th>\n",
       "      <td>2534.0</td>\n",
       "      <td>57.700000</td>\n",
       "      <td>72.7</td>\n",
       "      <td>3</td>\n",
       "      <td>9</td>\n",
       "      <td>1</td>\n",
       "      <td>76.6</td>\n",
       "    </tr>\n",
       "    <tr>\n",
       "      <th>3232</th>\n",
       "      <td>2535.0</td>\n",
       "      <td>57.800000</td>\n",
       "      <td>72.6</td>\n",
       "      <td>4</td>\n",
       "      <td>9</td>\n",
       "      <td>1</td>\n",
       "      <td>78.3</td>\n",
       "    </tr>\n",
       "    <tr>\n",
       "      <th>3233</th>\n",
       "      <td>2536.0</td>\n",
       "      <td>56.700000</td>\n",
       "      <td>72.6</td>\n",
       "      <td>5</td>\n",
       "      <td>9</td>\n",
       "      <td>1</td>\n",
       "      <td>76.4</td>\n",
       "    </tr>\n",
       "    <tr>\n",
       "      <th>3234</th>\n",
       "      <td>2537.0</td>\n",
       "      <td>56.200000</td>\n",
       "      <td>72.6</td>\n",
       "      <td>6</td>\n",
       "      <td>9</td>\n",
       "      <td>1</td>\n",
       "      <td>69.9</td>\n",
       "    </tr>\n",
       "    <tr>\n",
       "      <th>3235</th>\n",
       "      <td>2538.0</td>\n",
       "      <td>55.500000</td>\n",
       "      <td>72.6</td>\n",
       "      <td>7</td>\n",
       "      <td>9</td>\n",
       "      <td>1</td>\n",
       "      <td>71.4</td>\n",
       "    </tr>\n",
       "  </tbody>\n",
       "</table>\n",
       "<p>2539 rows × 7 columns</p>\n",
       "</div>"
      ],
      "application/vnd.deepnote.dataframe.v3+json": {
       "column_count": 7,
       "row_count": 2539,
       "columns": [
        {
         "name": "Time",
         "dtype": "float64",
         "stats": {
          "unique_count": 2539,
          "nan_count": 0,
          "min": "0.0",
          "max": "2538.0",
          "histogram": [
           {
            "bin_start": 0,
            "bin_end": 253.8,
            "count": 254
           },
           {
            "bin_start": 253.8,
            "bin_end": 507.6,
            "count": 254
           },
           {
            "bin_start": 507.6,
            "bin_end": 761.4000000000001,
            "count": 254
           },
           {
            "bin_start": 761.4000000000001,
            "bin_end": 1015.2,
            "count": 254
           },
           {
            "bin_start": 1015.2,
            "bin_end": 1269,
            "count": 253
           },
           {
            "bin_start": 1269,
            "bin_end": 1522.8000000000002,
            "count": 254
           },
           {
            "bin_start": 1522.8000000000002,
            "bin_end": 1776.6000000000001,
            "count": 254
           },
           {
            "bin_start": 1776.6000000000001,
            "bin_end": 2030.4,
            "count": 254
           },
           {
            "bin_start": 2030.4,
            "bin_end": 2284.2000000000003,
            "count": 254
           },
           {
            "bin_start": 2284.2000000000003,
            "bin_end": 2538,
            "count": 254
           }
          ]
         }
        },
        {
         "name": "HUMIDITY %. Trend (%RH)",
         "dtype": "float64",
         "stats": {
          "unique_count": 537,
          "nan_count": 0,
          "min": "37.4",
          "max": "73.1",
          "histogram": [
           {
            "bin_start": 37.4,
            "bin_end": 40.97,
            "count": 20
           },
           {
            "bin_start": 40.97,
            "bin_end": 44.54,
            "count": 52
           },
           {
            "bin_start": 44.54,
            "bin_end": 48.11,
            "count": 52
           },
           {
            "bin_start": 48.11,
            "bin_end": 51.67999999999999,
            "count": 60
           },
           {
            "bin_start": 51.67999999999999,
            "bin_end": 55.25,
            "count": 168
           },
           {
            "bin_start": 55.25,
            "bin_end": 58.81999999999999,
            "count": 292
           },
           {
            "bin_start": 58.81999999999999,
            "bin_end": 62.38999999999999,
            "count": 575
           },
           {
            "bin_start": 62.38999999999999,
            "bin_end": 65.96,
            "count": 817
           },
           {
            "bin_start": 65.96,
            "bin_end": 69.53,
            "count": 354
           },
           {
            "bin_start": 69.53,
            "bin_end": 73.1,
            "count": 149
           }
          ]
         }
        },
        {
         "name": "Trend (deg F)",
         "dtype": "object",
         "stats": {
          "unique_count": 77,
          "nan_count": 0,
          "categories": [
           {
            "name": "73.5",
            "count": 127
           },
           {
            "name": "73.8",
            "count": 106
           },
           {
            "name": "75 others",
            "count": 2306
           }
          ]
         }
        },
        {
         "name": "Hour",
         "dtype": "object",
         "stats": {
          "unique_count": 24,
          "nan_count": 0,
          "categories": [
           {
            "name": "13",
            "count": 106
           },
           {
            "name": "14",
            "count": 106
           },
           {
            "name": "22 others",
            "count": 2327
           }
          ]
         }
        },
        {
         "name": "Month",
         "dtype": "int64",
         "stats": {
          "unique_count": 5,
          "nan_count": 0,
          "min": "5",
          "max": "9",
          "histogram": [
           {
            "bin_start": 5,
            "bin_end": 5.4,
            "count": 131
           },
           {
            "bin_start": 5.4,
            "bin_end": 5.8,
            "count": 0
           },
           {
            "bin_start": 5.8,
            "bin_end": 6.2,
            "count": 720
           },
           {
            "bin_start": 6.2,
            "bin_end": 6.6,
            "count": 0
           },
           {
            "bin_start": 6.6,
            "bin_end": 7,
            "count": 0
           },
           {
            "bin_start": 7,
            "bin_end": 7.4,
            "count": 744
           },
           {
            "bin_start": 7.4,
            "bin_end": 7.800000000000001,
            "count": 0
           },
           {
            "bin_start": 7.800000000000001,
            "bin_end": 8.2,
            "count": 744
           },
           {
            "bin_start": 8.2,
            "bin_end": 8.6,
            "count": 0
           },
           {
            "bin_start": 8.6,
            "bin_end": 9,
            "count": 200
           }
          ]
         }
        },
        {
         "name": "Setback",
         "dtype": "int64",
         "stats": {
          "unique_count": 2,
          "nan_count": 0,
          "min": "0",
          "max": "1",
          "histogram": [
           {
            "bin_start": 0,
            "bin_end": 0.1,
            "count": 750
           },
           {
            "bin_start": 0.1,
            "bin_end": 0.2,
            "count": 0
           },
           {
            "bin_start": 0.2,
            "bin_end": 0.30000000000000004,
            "count": 0
           },
           {
            "bin_start": 0.30000000000000004,
            "bin_end": 0.4,
            "count": 0
           },
           {
            "bin_start": 0.4,
            "bin_end": 0.5,
            "count": 0
           },
           {
            "bin_start": 0.5,
            "bin_end": 0.6000000000000001,
            "count": 0
           },
           {
            "bin_start": 0.6000000000000001,
            "bin_end": 0.7000000000000001,
            "count": 0
           },
           {
            "bin_start": 0.7000000000000001,
            "bin_end": 0.8,
            "count": 0
           },
           {
            "bin_start": 0.8,
            "bin_end": 0.9,
            "count": 0
           },
           {
            "bin_start": 0.9,
            "bin_end": 1,
            "count": 1789
           }
          ]
         }
        },
        {
         "name": "Outside Humidity",
         "dtype": "object",
         "stats": {
          "unique_count": 877,
          "nan_count": 0,
          "categories": [
           {
            "name": "85.9",
            "count": 14
           },
           {
            "name": "82",
            "count": 13
           },
           {
            "name": "875 others",
            "count": 2512
           }
          ]
         }
        },
        {
         "name": "_deepnote_index_column",
         "dtype": "int64"
        }
       ],
       "rows": [
        {
         "Time": 110,
         "HUMIDITY %. Trend (%RH)": 45.213867,
         "Trend (deg F)": "70.9",
         "Hour": "3",
         "Month": 5,
         "Setback": 1,
         "Outside Humidity": "45.213867",
         "_deepnote_index_column": 807
        },
        {
         "Time": 111,
         "HUMIDITY %. Trend (%RH)": 45.094177,
         "Trend (deg F)": "70.8",
         "Hour": "4",
         "Month": 5,
         "Setback": 1,
         "Outside Humidity": "45.094177",
         "_deepnote_index_column": 808
        },
        {
         "Time": 112,
         "HUMIDITY %. Trend (%RH)": 45.02301,
         "Trend (deg F)": "70.6",
         "Hour": "5",
         "Month": 5,
         "Setback": 1,
         "Outside Humidity": "45.02301",
         "_deepnote_index_column": 809
        },
        {
         "Time": 113,
         "HUMIDITY %. Trend (%RH)": 44.845078,
         "Trend (deg F)": "70.6",
         "Hour": "6",
         "Month": 5,
         "Setback": 1,
         "Outside Humidity": "44.845078",
         "_deepnote_index_column": 810
        },
        {
         "Time": 114,
         "HUMIDITY %. Trend (%RH)": 44.71245,
         "Trend (deg F)": "70.3",
         "Hour": "7",
         "Month": 5,
         "Setback": 0,
         "Outside Humidity": "44.71245",
         "_deepnote_index_column": 811
        },
        {
         "Time": 115,
         "HUMIDITY %. Trend (%RH)": 44.80626,
         "Trend (deg F)": "70.2",
         "Hour": "8",
         "Month": 5,
         "Setback": 0,
         "Outside Humidity": "44.80626",
         "_deepnote_index_column": 812
        },
        {
         "Time": 116,
         "HUMIDITY %. Trend (%RH)": 45.239746,
         "Trend (deg F)": "70.3",
         "Hour": "9",
         "Month": 5,
         "Setback": 0,
         "Outside Humidity": "45.239746",
         "_deepnote_index_column": 813
        },
        {
         "Time": 117,
         "HUMIDITY %. Trend (%RH)": 46.349335,
         "Trend (deg F)": "70.4",
         "Hour": "10",
         "Month": 5,
         "Setback": 0,
         "Outside Humidity": "46.349335",
         "_deepnote_index_column": 814
        },
        {
         "Time": 118,
         "HUMIDITY %. Trend (%RH)": 47.18396,
         "Trend (deg F)": "70.6",
         "Hour": "11",
         "Month": 5,
         "Setback": 0,
         "Outside Humidity": "47.18396",
         "_deepnote_index_column": 815
        },
        {
         "Time": 119,
         "HUMIDITY %. Trend (%RH)": 46.70842,
         "Trend (deg F)": "70.7",
         "Hour": "12",
         "Month": 5,
         "Setback": 0,
         "Outside Humidity": "46.70842",
         "_deepnote_index_column": 816
        }
       ]
      }
     },
     "metadata": {},
     "execution_count": 22
    }
   ],
   "metadata": {
    "tags": [],
    "deepnote_to_be_reexecuted": false,
    "source_hash": "309af1f3",
    "execution_start": 1640666769227,
    "execution_millis": 237,
    "cell_id": "00022-aafaaed3-fe14-4e09-8a28-04d6318a7bdb",
    "deepnote_table_state": {
     "pageSize": 10,
     "pageIndex": 11,
     "filters": [],
     "sortBy": []
    },
    "deepnote_table_loading": false,
    "deepnote_cell_type": "code"
   }
  },
  {
   "cell_type": "markdown",
   "source": [
    "### Making Predictions\n",
    "When we run `predict_value()` on our data, we can see the weights have been printed corresponding to the coordinates [hour month setback outside_enthalpy]. This site (https://stats.stackexchange.com/questions/39243/how-does-one-interpret-svm-feature-weights) goes more in depth of how to read this vector value, but to generalize, the absolute size of a feature relative to the others gives an indication of how important it is."
   ],
   "metadata": {
    "tags": [],
    "cell_id": "00023-6cd41901-bad8-4e42-9bdc-526b002c9e67",
    "deepnote_cell_type": "markdown"
   }
  },
  {
   "cell_type": "code",
   "execution_count": 23,
   "source": [
    "predictions = predict_value(X_train, y_train, X_test, y_test, times_train, times_test)"
   ],
   "outputs": [
    {
     "output_type": "stream",
     "name": "stdout",
     "text": [
      "[[ 0.19196425 -0.35388508  1.28642157  0.18629636]]\n"
     ]
    },
    {
     "output_type": "display_data",
     "data": {
      "text/html": [
       "<html>\n",
       "<head><meta charset=\"utf-8\" /></head>\n",
       "<body>\n",
       "    <div>            <script src=\"https://cdnjs.cloudflare.com/ajax/libs/mathjax/2.7.5/MathJax.js?config=TeX-AMS-MML_SVG\"></script><script type=\"text/javascript\">if (window.MathJax) {MathJax.Hub.Config({SVG: {font: \"STIX-Web\"}});}</script>                <script type=\"text/javascript\">window.PlotlyConfig = {MathJaxConfig: 'local'};</script>\n",
       "        <script src=\"https://cdn.plot.ly/plotly-2.6.3.min.js\"></script>                <div id=\"77c7f030-3d22-4f27-bb35-acced75c2d54\" class=\"plotly-graph-div\" style=\"height:525px; width:100%;\"></div>            <script type=\"text/javascript\">                                    window.PLOTLYENV=window.PLOTLYENV || {};                                    if (document.getElementById(\"77c7f030-3d22-4f27-bb35-acced75c2d54\")) {                    Plotly.newPlot(                        \"77c7f030-3d22-4f27-bb35-acced75c2d54\",                        [{\"hovertemplate\":\"x=%{x}<br>y=%{y}<extra></extra>\",\"legendgroup\":\"\",\"marker\":{\"color\":\"black\",\"opacity\":0.8,\"symbol\":\"circle\",\"size\":3},\"mode\":\"markers\",\"name\":\"\",\"orientation\":\"v\",\"showlegend\":false,\"x\":[1693.0,740.0,2248.0,1195.0,1079.0,933.0,2215.0,2305.0,1163.0,1804.0,1719.0,1848.0,1221.0,737.0,169.0,1433.0,41.0,1902.0,2356.0,449.0,2325.0,2178.0,2427.0,92.0,1271.0,1465.0,121.0,2026.0,918.0,109.0,367.0,1018.0,715.0,1709.0,1164.0,624.0,2048.0,2514.0,278.0,2141.0,2104.0,1990.0,30.0,741.0,1219.0,1762.0,2499.0,1200.0,1349.0,1641.0,1682.0,818.0,1166.0,2307.0,273.0,2113.0,1447.0,1374.0,1703.0,2256.0,1275.0,670.0,301.0,718.0,188.0,2505.0,884.0,858.0,1964.0,1098.0,2311.0,487.0,2310.0,2136.0,1867.0,1826.0,1852.0,2417.0,1692.0,2371.0,2488.0,1879.0,236.0,2044.0,464.0,1542.0,2527.0,2362.0,1930.0,1927.0,1605.0,1942.0,860.0,1026.0,841.0,1391.0,832.0,2024.0,1435.0,1743.0,2101.0,1248.0,213.0,1527.0,1314.0,1578.0,1558.0,484.0,866.0,1284.0,1013.0,511.0,980.0,462.0,1401.0,2157.0,2041.0,1948.0,2374.0,496.0,1334.0,1444.0,2457.0,2399.0,172.0,1439.0,289.0,656.0,265.0,1043.0,248.0,2006.0,1339.0,2397.0,1234.0,1937.0,976.0,2234.0,201.0,2080.0,913.0,568.0,275.0,386.0,1888.0,147.0,1732.0,756.0,1063.0,2052.0,398.0,995.0,223.0,2414.0,1953.0,2477.0,1466.0,2158.0,2257.0,5.0,437.0,1620.0,2522.0,1672.0,2445.0,6.0,478.0,1387.0,962.0,1603.0,739.0,498.0,999.0,591.0,849.0,419.0,199.0,1895.0,1580.0,2196.0,1377.0,864.0,1768.0,572.0,1809.0,1701.0,1142.0,349.0,1100.0,1658.0,829.0,2127.0,768.0,2281.0,474.0,424.0,1425.0,1554.0,1959.0,2050.0,2175.0,683.0,856.0,480.0,1962.0,1670.0,958.0,1196.0,243.0,1443.0,1735.0,810.0,469.0,2416.0,50.0,852.0,2524.0,972.0,987.0,2332.0,2366.0,1607.0,124.0,763.0,1189.0,2537.0,712.0,2160.0,560.0,2406.0,2494.0,335.0,1740.0,767.0,1024.0,2051.0,212.0,1287.0,1004.0,131.0,261.0,59.0,1668.0,1789.0,470.0,2513.0,1519.0,2463.0,1174.0,387.0,1727.0,601.0,1669.0],\"xaxis\":\"x\",\"y\":[58.9,65.0,63.1,59.4,64.0,60.7,61.7,62.7,70.3,63.8,62.3,65.0,60.5,64.5,67.1178,63.6,58.150482,61.7,64.2,57.7,64.7,63.5,63.4,39.00598,65.3,55.8,46.174652,63.5,55.5,45.297974,71.2,65.2,60.8,59.8,70.2,57.4,63.7,63.9,69.4,60.6,64.7,66.3,62.378586,62.2,57.2,62.9,60.0,63.2,62.1,56.2,54.6,60.4,69.8,63.9,69.42108,63.2,70.9,57.2,60.6,63.9,63.8,43.5,70.8,62.7,69.52783,61.6,56.5,60.7,64.2,65.2,64.4,48.8,64.2,61.0,63.0,64.5,65.5,59.8,56.9,54.9,62.4,60.7,61.06842,63.1,55.4,57.2,52.9,60.2,56.9,56.3,60.2,58.6,59.8,59.6,62.3,60.0,65.8,63.2,64.0,63.4,64.1,69.9,68.039764,62.9,58.1,60.2,57.9,48.4,61.3,66.3,63.9,43.1,62.1,53.3,62.0,62.6,65.6,60.3,59.6,51.1,63.5,65.3,63.2,52.5,68.592926,66.0,65.5,41.1,66.18613,66.1,61.265747,65.3,57.9,54.0,68.8,57.4,68.1,61.0,66.43198,64.2,55.5,63.1,69.3,66.9,60.5,52.29843,60.6,64.7,60.0,64.1,71.2,67.1,61.805984,58.3,60.4,58.4,55.5,63.0,63.6,62.562973,67.8,55.3,62.1,54.3,67.8,63.1485,52.8,59.7,67.7,57.7,62.6,51.7,64.1,66.8,67.5,70.7,67.321594,62.1,62.5,62.8,57.9,60.0,64.0,63.7,64.4,60.1,70.7,72.8,70.3,53.7,65.8,65.0,66.5,64.1,52.4,70.9,64.7,56.9,62.0,64.2,63.0,47.9,67.6,51.9,63.6,54.7,68.5,61.4,61.19458,68.5,61.7,61.2,53.3,59.7,65.607056,63.8,55.8,67.7,55.5,64.5,58.8,60.9,45.944977,61.4,69.0,56.2,61.8,61.7,65.0,52.7,62.7,67.1,63.3,64.0,63.3,64.5,67.37335,67.4,60.8,49.83339,63.60463,50.583908,54.3,66.8,53.9,63.8,63.3,64.4,61.1,67.1,64.2,65.6,54.3],\"yaxis\":\"y\",\"type\":\"scatter\"},{\"line\":{\"color\":\"green\"},\"name\":\"Linear model\",\"x\":[5.0,6.0,30.0,41.0,50.0,59.0,92.0,109.0,121.0,124.0,131.0,147.0,169.0,172.0,188.0,199.0,201.0,212.0,213.0,223.0,236.0,243.0,248.0,261.0,265.0,273.0,275.0,278.0,289.0,301.0,335.0,349.0,367.0,386.0,387.0,398.0,419.0,424.0,437.0,449.0,462.0,464.0,469.0,470.0,474.0,478.0,480.0,484.0,487.0,496.0,498.0,511.0,560.0,568.0,572.0,591.0,601.0,624.0,656.0,670.0,683.0,712.0,715.0,718.0,737.0,739.0,740.0,741.0,756.0,763.0,767.0,768.0,810.0,818.0,829.0,832.0,841.0,849.0,852.0,856.0,858.0,860.0,864.0,866.0,884.0,913.0,918.0,933.0,958.0,962.0,972.0,976.0,980.0,987.0,995.0,999.0,1004.0,1013.0,1018.0,1024.0,1026.0,1043.0,1063.0,1079.0,1098.0,1100.0,1142.0,1163.0,1164.0,1166.0,1174.0,1189.0,1195.0,1196.0,1200.0,1219.0,1221.0,1234.0,1248.0,1271.0,1275.0,1284.0,1287.0,1314.0,1334.0,1339.0,1349.0,1374.0,1377.0,1387.0,1391.0,1401.0,1425.0,1433.0,1435.0,1439.0,1443.0,1444.0,1447.0,1465.0,1466.0,1519.0,1527.0,1542.0,1554.0,1558.0,1578.0,1580.0,1603.0,1605.0,1607.0,1620.0,1641.0,1658.0,1668.0,1669.0,1670.0,1672.0,1682.0,1692.0,1693.0,1701.0,1703.0,1709.0,1719.0,1727.0,1732.0,1735.0,1740.0,1743.0,1762.0,1768.0,1789.0,1804.0,1809.0,1826.0,1848.0,1852.0,1867.0,1879.0,1888.0,1895.0,1902.0,1927.0,1930.0,1937.0,1942.0,1948.0,1953.0,1959.0,1962.0,1964.0,1990.0,2006.0,2024.0,2026.0,2041.0,2044.0,2048.0,2050.0,2051.0,2052.0,2080.0,2101.0,2104.0,2113.0,2127.0,2136.0,2141.0,2157.0,2158.0,2160.0,2175.0,2178.0,2196.0,2215.0,2234.0,2248.0,2256.0,2257.0,2281.0,2305.0,2307.0,2310.0,2311.0,2325.0,2332.0,2356.0,2362.0,2366.0,2371.0,2374.0,2397.0,2399.0,2406.0,2414.0,2416.0,2417.0,2427.0,2445.0,2457.0,2463.0,2477.0,2488.0,2494.0,2499.0,2505.0,2513.0,2514.0,2522.0,2524.0,2527.0,2537.0],\"y\":[62.45415453541743,64.04162190921004,63.898189730340775,60.614974135644545,62.445363389650694,58.05356344967247,56.337894222988936,57.45274166883125,58.63321296835299,59.16631809323614,57.55985958955959,59.80409394241239,62.18096016685256,63.03166351044153,61.67011875788255,64.6571332975606,64.87532994031305,61.268746970631284,61.58486172193322,63.62959522487169,60.09416144940285,61.461414322848825,63.72091527805121,60.75861238847817,62.007393437381936,65.43218839410353,63.552382010888934,64.70579347190748,61.376569737981,64.66286631776408,65.16567974391607,65.65023702723072,65.62185149885288,60.78608925747055,61.481053687488995,65.60001600697676,62.8444558322323,64.47494397682264,57.87824003479061,63.13927804994698,57.02792132785423,59.14440598450044,58.81316055087761,60.12290296739472,60.98293145900486,58.54649101342754,57.272381887329786,56.195904888909965,57.816033930069054,60.91668345476744,61.00156109278275,56.73551503007063,63.596889033697764,65.7417592323133,66.04289863484398,64.32023899552102,60.147013743228555,60.42079040198102,58.67866508012837,57.242416482977816,58.98812114355921,64.28864761498214,62.5348591413446,62.011603353503844,64.76005640602914,62.81430368346143,62.55915666950993,61.204861108230645,61.415641732698234,62.01322933284489,60.284715066586315,59.582456772938414,64.29900669221631,57.171939839309445,63.24701397066626,64.69849960491653,60.761791740306464,68.8933736009373,66.09175842430948,66.22620777887157,65.21193687668953,64.57123538296825,65.5999072691872,65.66713193818093,60.60312286806099,57.70660940772966,58.64877768028116,60.5342722112279,61.67634790173422,58.40157382975546,62.30994226970749,64.75446650984911,62.894568121717995,57.10316718105848,63.42205255614924,64.54387263431515,62.74553102664747,58.567614573649436,66.27234079287398,64.49365161994017,63.3676028937504,62.49057074632826,63.0324100692839,65.76190611962618,65.0815294326773,65.7262728180746,65.19024201759991,64.05546019340788,64.47098008043638,64.96668638586804,62.75686679455491,63.60105505607741,63.13108551689463,62.335679035759924,60.53264622172962,62.49767787791886,61.9128652811293,67.48326714778038,63.19668420047917,58.88757035810947,57.12179681657169,62.291312637290204,63.817316816372724,63.237195443604534,62.00457422773859,63.354641143969886,58.325429301805954,58.835074040855645,62.57800493360507,63.44778932064462,59.31605198591812,63.11826438811356,63.73304237739164,64.42480095210583,63.801752411304435,61.402571247274565,59.67405697794554,58.5060577790379,62.45489135074119,57.650720496566166,56.72490657276164,61.076298269081846,64.09676135800935,63.25029781827713,64.16965392716035,61.341991124226,63.21954248329955,62.39254462378692,63.89595527304725,62.733623959941426,61.347737010636294,58.6958708549452,62.242749482090105,57.34073924807551,59.031204306879474,59.63302054745388,60.21620716007844,60.003987286831645,57.564294881648195,60.614723384448254,61.477354532444835,62.398290513507774,60.80747756198495,57.28322435367106,63.31439465050305,60.45351447846285,58.58163100182962,60.53611682161379,62.030575734361875,63.705617009839145,63.62701044961675,64.41921107637852,62.259799258756786,64.5244849524485,67.21686235871555,63.95426009782629,62.17310889268508,58.99148300336917,64.305807269108,61.560746814308615,62.70528453892864,61.44088519291351,60.77263421139166,59.455597922372064,61.93171355738984,62.41287824488488,63.577625472144675,62.81055842517769,64.66460219081152,63.81739482606888,64.89628774909458,65.2056976909759,64.95621854990411,64.22157894791114,63.3362301381009,65.0056035277618,63.35244385968933,59.010112640195686,64.02552667133084,66.21652988057274,62.565167301074936,63.24150208637245,64.53098888751508,63.11676252081331,64.4564703433886,59.253923894199644,64.13409865106466,58.91292255539399,58.270595079166625,64.22399485651356,61.06262458329245,59.117848551718154,63.649728096260034,64.72862101574235,64.15435426091669,66.53485967179101,59.837110500646915,64.95947051138016,62.135849619839675,61.82481368569522,61.396332058483196,66.2586671031119,66.15822506283682,66.02619161914724,66.90745239486084,65.56532867223966,65.77267057183296,59.75537609293194,61.27975429348105,60.53298897840675,63.709736923231205,61.547073128504664,60.77759016346924,58.85144376415944,58.257711325578086,60.71928533659472,61.64347328359388,61.64914116723473,59.35848584355942,66.105666116108,63.45375384295282,63.5939172052919,57.134265269147974,61.41991764365473,59.81451696829997,56.489521870133714,62.540901665861995,63.642512235247224,63.350105942556795,56.61426143939268,55.936300667514544,57.946675395151644,61.38832625896127],\"type\":\"scatter\",\"marker\":{\"size\":3}},{\"line\":{\"color\":\"red\"},\"name\":\"RBF model\",\"x\":[5.0,6.0,30.0,41.0,50.0,59.0,92.0,109.0,121.0,124.0,131.0,147.0,169.0,172.0,188.0,199.0,201.0,212.0,213.0,223.0,236.0,243.0,248.0,261.0,265.0,273.0,275.0,278.0,289.0,301.0,335.0,349.0,367.0,386.0,387.0,398.0,419.0,424.0,437.0,449.0,462.0,464.0,469.0,470.0,474.0,478.0,480.0,484.0,487.0,496.0,498.0,511.0,560.0,568.0,572.0,591.0,601.0,624.0,656.0,670.0,683.0,712.0,715.0,718.0,737.0,739.0,740.0,741.0,756.0,763.0,767.0,768.0,810.0,818.0,829.0,832.0,841.0,849.0,852.0,856.0,858.0,860.0,864.0,866.0,884.0,913.0,918.0,933.0,958.0,962.0,972.0,976.0,980.0,987.0,995.0,999.0,1004.0,1013.0,1018.0,1024.0,1026.0,1043.0,1063.0,1079.0,1098.0,1100.0,1142.0,1163.0,1164.0,1166.0,1174.0,1189.0,1195.0,1196.0,1200.0,1219.0,1221.0,1234.0,1248.0,1271.0,1275.0,1284.0,1287.0,1314.0,1334.0,1339.0,1349.0,1374.0,1377.0,1387.0,1391.0,1401.0,1425.0,1433.0,1435.0,1439.0,1443.0,1444.0,1447.0,1465.0,1466.0,1519.0,1527.0,1542.0,1554.0,1558.0,1578.0,1580.0,1603.0,1605.0,1607.0,1620.0,1641.0,1658.0,1668.0,1669.0,1670.0,1672.0,1682.0,1692.0,1693.0,1701.0,1703.0,1709.0,1719.0,1727.0,1732.0,1735.0,1740.0,1743.0,1762.0,1768.0,1789.0,1804.0,1809.0,1826.0,1848.0,1852.0,1867.0,1879.0,1888.0,1895.0,1902.0,1927.0,1930.0,1937.0,1942.0,1948.0,1953.0,1959.0,1962.0,1964.0,1990.0,2006.0,2024.0,2026.0,2041.0,2044.0,2048.0,2050.0,2051.0,2052.0,2080.0,2101.0,2104.0,2113.0,2127.0,2136.0,2141.0,2157.0,2158.0,2160.0,2175.0,2178.0,2196.0,2215.0,2234.0,2248.0,2256.0,2257.0,2281.0,2305.0,2307.0,2310.0,2311.0,2325.0,2332.0,2356.0,2362.0,2366.0,2371.0,2374.0,2397.0,2399.0,2406.0,2414.0,2416.0,2417.0,2427.0,2445.0,2457.0,2463.0,2477.0,2488.0,2494.0,2499.0,2505.0,2513.0,2514.0,2522.0,2524.0,2527.0,2537.0],\"y\":[63.14437372832574,63.212564088573906,61.88575475575266,57.35870266506474,65.11619248332129,54.919469984607545,38.69665037991476,45.239078374731534,46.545694711691425,46.10590180965429,52.91153499806263,61.687523587640115,67.39838513456885,67.80491525544048,59.52500978593829,67.17694602299218,66.51185932425064,60.1544728537724,62.46949805133761,63.41674034254764,53.04001631626666,63.10867029758901,63.59218789975891,61.126747973507726,66.20255182813783,68.41765297697197,63.78691559893476,68.41366741654994,64.0154265266149,69.66281452193954,65.10842531744237,72.66359051181233,70.7901115908219,62.17493750204621,63.11767003566299,71.80643100591188,69.53563854701021,65.79199118305593,67.30018469461776,56.44149596681413,44.88823891398992,49.48671491667636,50.1746477368969,59.96462262296393,61.01130808409661,47.90588617193398,50.89148913602738,45.748505217936184,45.354622568699426,62.440973885891445,61.197734285215674,42.13517901414783,64.4685749885016,70.39030671338297,63.21628233260315,67.43821288524688,64.70947921917836,60.08682051068547,47.13956310390721,48.34054576110536,52.577238386251025,63.95560315328491,56.45976712648111,65.78320002711634,63.792228823446465,55.007307589935124,60.41297483369611,63.46251002760466,61.72586768536891,57.15391697440493,58.260189604431865,57.85993460813032,63.6805228015554,62.85392331906667,66.2477747281733,67.12818634003143,61.20065340718745,71.56445430505302,65.95730143513165,67.56573867934105,64.52465215856363,58.419540666467384,64.33658940462935,63.46789078011193,56.778848120253464,57.91952110107594,60.51109339083599,58.47581778659684,63.25886396810019,58.545528554157855,65.578793862142,66.16596473773178,57.08342882995364,61.13400695752431,65.9840587344724,66.93558839788511,56.55049821614811,65.72487170372143,68.60868783832768,65.0120122982354,62.2349431269056,67.00596367778836,63.64481582808541,65.10887747698732,62.87415596608779,65.59963312015316,69.08854310756843,68.29213255862017,67.36900185394653,69.21212993177703,62.6477650561932,66.62365398657221,57.64502651086446,56.870346045568155,62.83732272315805,57.367283901946564,62.21237413137903,66.47996877820603,66.30306136649024,56.27468413936256,60.942961387122615,65.52134868371577,65.07350787460992,60.914744056620336,61.03046983875784,59.71738270231057,65.10361293503337,62.0385946244713,57.524457523580416,60.60231502374511,58.99998951557579,63.9233479806679,62.85580203518772,62.40486867234797,61.001764921879385,61.58230441440266,65.39876498098323,63.929245569837875,67.19525236228553,57.84333255026732,57.382167438749526,64.39965167402926,64.6957268691382,64.0969996132149,55.78834102045489,52.360211837632455,57.28954095127476,54.68839828798299,60.2540008726267,63.84190570354586,62.9734429739582,60.04121453984501,56.63322150478146,52.51452731263043,56.49629217876616,56.260054614785076,58.304942569890926,53.37850950894541,56.90070713298595,58.34624737214855,60.19740293694361,60.86426936260218,60.52472947137001,57.78332152583161,64.41542791704002,63.69974627324143,60.77998767043734,62.00471019153338,63.627434826120236,63.155470106759125,58.40284875185257,64.68291177249716,63.35412151142414,66.60713862714742,64.91846901652758,76.88559198258532,62.767026278754656,62.06346611707328,62.31958755595615,63.200207119793255,56.26329518077176,64.03787410442375,63.06108888997934,55.73996653023615,52.45549369231418,58.86501721697607,62.986404249064464,63.079589194076014,63.99420240349508,63.05730037066836,63.13847330346589,63.42819973991905,66.07033277334286,63.65564348761954,63.21043124061585,61.78938729921768,68.01660092769492,62.05400078578192,63.511606087678246,64.02634795624483,65.41092263182061,64.66136819913896,64.79733030186907,64.16396581951952,64.74150952298922,61.13397273051442,64.00873837313995,60.5611946820771,62.497916818019185,60.75967830231954,58.3033084854131,60.194530294951676,63.299545300277124,63.54040220287699,63.64793875517209,58.86127237269512,61.8631524534763,64.60169231556685,62.79683236189031,65.01209896495439,62.277376328182,60.32181399330486,65.22271456888892,57.59207052937775,63.28154181970706,64.09052790162367,64.04788065967976,64.35314753617108,60.82325148059,62.506427567026805,63.540923589286834,64.18679598517633,60.60903289874308,58.08248004363562,65.86912804340237,60.6490090191566,61.40915212968267,57.09906085242007,66.78286098037371,66.23759715780807,60.54621418745928,64.4070884234789,53.30897129479849,58.563146666004855,62.80126736492275,56.828860439603865,60.30426530581389,62.18809442919693,62.81125030462756,50.73421242577662,54.41293466957731,53.35774211440544,55.95986449291395],\"type\":\"scatter\",\"marker\":{\"size\":3}},{\"line\":{\"color\":\"blue\"},\"name\":\"Polynomial model\",\"x\":[5.0,6.0,30.0,41.0,50.0,59.0,92.0,109.0,121.0,124.0,131.0,147.0,169.0,172.0,188.0,199.0,201.0,212.0,213.0,223.0,236.0,243.0,248.0,261.0,265.0,273.0,275.0,278.0,289.0,301.0,335.0,349.0,367.0,386.0,387.0,398.0,419.0,424.0,437.0,449.0,462.0,464.0,469.0,470.0,474.0,478.0,480.0,484.0,487.0,496.0,498.0,511.0,560.0,568.0,572.0,591.0,601.0,624.0,656.0,670.0,683.0,712.0,715.0,718.0,737.0,739.0,740.0,741.0,756.0,763.0,767.0,768.0,810.0,818.0,829.0,832.0,841.0,849.0,852.0,856.0,858.0,860.0,864.0,866.0,884.0,913.0,918.0,933.0,958.0,962.0,972.0,976.0,980.0,987.0,995.0,999.0,1004.0,1013.0,1018.0,1024.0,1026.0,1043.0,1063.0,1079.0,1098.0,1100.0,1142.0,1163.0,1164.0,1166.0,1174.0,1189.0,1195.0,1196.0,1200.0,1219.0,1221.0,1234.0,1248.0,1271.0,1275.0,1284.0,1287.0,1314.0,1334.0,1339.0,1349.0,1374.0,1377.0,1387.0,1391.0,1401.0,1425.0,1433.0,1435.0,1439.0,1443.0,1444.0,1447.0,1465.0,1466.0,1519.0,1527.0,1542.0,1554.0,1558.0,1578.0,1580.0,1603.0,1605.0,1607.0,1620.0,1641.0,1658.0,1668.0,1669.0,1670.0,1672.0,1682.0,1692.0,1693.0,1701.0,1703.0,1709.0,1719.0,1727.0,1732.0,1735.0,1740.0,1743.0,1762.0,1768.0,1789.0,1804.0,1809.0,1826.0,1848.0,1852.0,1867.0,1879.0,1888.0,1895.0,1902.0,1927.0,1930.0,1937.0,1942.0,1948.0,1953.0,1959.0,1962.0,1964.0,1990.0,2006.0,2024.0,2026.0,2041.0,2044.0,2048.0,2050.0,2051.0,2052.0,2080.0,2101.0,2104.0,2113.0,2127.0,2136.0,2141.0,2157.0,2158.0,2160.0,2175.0,2178.0,2196.0,2215.0,2234.0,2248.0,2256.0,2257.0,2281.0,2305.0,2307.0,2310.0,2311.0,2325.0,2332.0,2356.0,2362.0,2366.0,2371.0,2374.0,2397.0,2399.0,2406.0,2414.0,2416.0,2417.0,2427.0,2445.0,2457.0,2463.0,2477.0,2488.0,2494.0,2499.0,2505.0,2513.0,2514.0,2522.0,2524.0,2527.0,2537.0],\"y\":[62.43342074053022,63.219993598822725,63.07992545345216,60.11672735010596,62.322074919529996,58.58665836762849,57.60945804039641,57.98844606396301,59.171699734087326,59.73690426364743,58.276093412946025,60.178968478980664,62.143124779594686,63.044831289785066,61.7501371508732,64.01162310839786,64.37939753578014,61.35637650374877,61.62206318691704,62.999285160886814,60.28346198760569,61.524883123475874,63.16570381745193,60.84405071368538,61.9755929338768,64.96082636568181,63.99942551410328,64.91515100663082,61.38846758009696,65.0269813067839,65.52363039154156,66.33224966714262,65.04450775103297,60.9024337500873,61.54224493505147,66.08458922861834,63.162836034744544,64.33600318518734,59.12170754807906,62.67432118148125,58.49550166824586,59.784618831428666,59.0093495345658,59.99841696228435,61.19313190043477,59.06121832554466,58.33370321928889,58.18589783312707,58.97759359607022,60.531401251705354,61.21116282021646,58.54962649735738,63.050388194874046,65.95269868663564,66.9354273072939,64.28357043889434,60.34219856663984,60.53921936538169,59.54126074492539,58.218003952001155,59.36058368558032,64.10986516162482,62.71486447862963,62.010585490125266,64.55914345930348,63.02177845362701,62.67152329309015,61.256973772257716,61.45819689582794,62.1598814985278,60.41266505342212,59.86888619217885,64.87164342522982,58.42992922771648,63.30122102977114,64.61129879696057,60.84912189143159,69.17123986560172,67.24412923920187,66.71494640437794,66.1478964330047,65.10245933993374,66.12481612862777,66.13056225537949,60.79871037214256,58.698003902107175,59.30341859399764,60.70838074230661,61.75555414752982,59.20009715895592,62.47328974280521,64.77722491876762,63.1191825070121,58.53632266747451,63.92271622632597,64.65270248615013,62.9545620930646,59.57924574808777,66.08710789563338,64.45321320185232,63.826988124897674,62.83415039308335,62.55246735692077,66.39577257159803,65.97420502722863,66.60900521562974,65.63762108803343,64.70545626897898,65.04925118967965,65.34497644288888,62.8631227987913,63.80077583602837,63.46092286960999,62.511680913461674,60.70202456464328,62.752802351464425,62.023182078787585,67.52302470718197,63.278369885418,59.380994667948016,58.545968715178,62.452824875838445,63.76765363710884,63.67392913249458,61.87217853632399,63.71906499659586,59.43285459636437,59.40465008260013,62.36062272874982,63.827889551773666,59.69976496259666,62.8220031036276,63.3774795230255,64.24571318805073,64.24821101475081,61.47711857493846,60.148917659820775,59.43730302976507,62.04841201536644,58.66479977306634,58.24384726884832,60.96084969535004,64.10269797217893,62.67526554465243,63.83299948322741,60.71269484905781,62.75480169967044,61.75468905593977,63.51278560374911,62.132883411458636,60.788223295146125,59.10087601505691,62.17789819443181,58.22437008803032,59.37294007010237,59.778245946621624,60.194101143230185,59.84531733298951,58.335244676807534,60.78801656315426,61.51664316976177,61.796204231417484,60.32977216185668,58.55614039354497,63.260617915459946,60.04298393289146,59.08468008852385,60.65484340301815,62.235410208226796,63.71767439848073,63.490536968648954,64.4504619513257,62.34230169733521,63.957593497480545,67.26679772622717,63.31704046383969,61.53711418759437,59.32347599062241,63.98962613317691,61.407979897039056,62.46422761870175,60.86979726517875,60.71038108289936,59.958191554234205,62.06330177291565,62.05663111971968,62.977703907187745,62.24135364717989,64.39051451627014,63.85067354584454,64.80439883903728,64.99337387452022,64.5438534771617,64.48545968968632,63.013951479131045,64.83290754600272,62.688731401558314,59.33467273473401,63.666698278965995,66.1465145676855,62.9874458443168,63.609745617739996,64.58875211808669,63.30685411737957,64.49643958317344,59.24529138947727,64.23332500710947,58.96536109060688,59.032198585806036,63.745943923656114,60.54055613770521,59.10015925516702,63.65157675493191,64.59676580579773,64.72893795844355,66.34395009461471,59.705830913679975,65.12879358686459,61.502572063435224,61.23681401340049,60.86551930957661,66.00361428954591,65.8314434542571,65.70436062367101,66.7991330584589,65.36061406426752,65.36604758924076,59.868243076404184,61.659692647898964,60.5349192252162,63.38235682177015,61.036067076203196,60.36621256298713,58.92808298023919,59.209708226214346,60.71049020100143,61.42241328474202,61.34591640153333,59.51554880762309,66.15672845915951,63.31654316450842,63.66194343755969,58.533853231619304,61.20056763057391,59.58751718141714,57.994461596704866,62.51129947535825,63.48688853534399,63.05867104335822,57.92860378465209,57.922036492908475,59.203656042814416,61.091006600577586],\"type\":\"scatter\",\"marker\":{\"size\":3}}],                        {\"template\":{\"data\":{\"bar\":[{\"error_x\":{\"color\":\"#2a3f5f\"},\"error_y\":{\"color\":\"#2a3f5f\"},\"marker\":{\"line\":{\"color\":\"#E5ECF6\",\"width\":0.5},\"pattern\":{\"fillmode\":\"overlay\",\"size\":10,\"solidity\":0.2}},\"type\":\"bar\"}],\"barpolar\":[{\"marker\":{\"line\":{\"color\":\"#E5ECF6\",\"width\":0.5},\"pattern\":{\"fillmode\":\"overlay\",\"size\":10,\"solidity\":0.2}},\"type\":\"barpolar\"}],\"carpet\":[{\"aaxis\":{\"endlinecolor\":\"#2a3f5f\",\"gridcolor\":\"white\",\"linecolor\":\"white\",\"minorgridcolor\":\"white\",\"startlinecolor\":\"#2a3f5f\"},\"baxis\":{\"endlinecolor\":\"#2a3f5f\",\"gridcolor\":\"white\",\"linecolor\":\"white\",\"minorgridcolor\":\"white\",\"startlinecolor\":\"#2a3f5f\"},\"type\":\"carpet\"}],\"choropleth\":[{\"colorbar\":{\"outlinewidth\":0,\"ticks\":\"\"},\"type\":\"choropleth\"}],\"contour\":[{\"colorbar\":{\"outlinewidth\":0,\"ticks\":\"\"},\"colorscale\":[[0.0,\"#0d0887\"],[0.1111111111111111,\"#46039f\"],[0.2222222222222222,\"#7201a8\"],[0.3333333333333333,\"#9c179e\"],[0.4444444444444444,\"#bd3786\"],[0.5555555555555556,\"#d8576b\"],[0.6666666666666666,\"#ed7953\"],[0.7777777777777778,\"#fb9f3a\"],[0.8888888888888888,\"#fdca26\"],[1.0,\"#f0f921\"]],\"type\":\"contour\"}],\"contourcarpet\":[{\"colorbar\":{\"outlinewidth\":0,\"ticks\":\"\"},\"type\":\"contourcarpet\"}],\"heatmap\":[{\"colorbar\":{\"outlinewidth\":0,\"ticks\":\"\"},\"colorscale\":[[0.0,\"#0d0887\"],[0.1111111111111111,\"#46039f\"],[0.2222222222222222,\"#7201a8\"],[0.3333333333333333,\"#9c179e\"],[0.4444444444444444,\"#bd3786\"],[0.5555555555555556,\"#d8576b\"],[0.6666666666666666,\"#ed7953\"],[0.7777777777777778,\"#fb9f3a\"],[0.8888888888888888,\"#fdca26\"],[1.0,\"#f0f921\"]],\"type\":\"heatmap\"}],\"heatmapgl\":[{\"colorbar\":{\"outlinewidth\":0,\"ticks\":\"\"},\"colorscale\":[[0.0,\"#0d0887\"],[0.1111111111111111,\"#46039f\"],[0.2222222222222222,\"#7201a8\"],[0.3333333333333333,\"#9c179e\"],[0.4444444444444444,\"#bd3786\"],[0.5555555555555556,\"#d8576b\"],[0.6666666666666666,\"#ed7953\"],[0.7777777777777778,\"#fb9f3a\"],[0.8888888888888888,\"#fdca26\"],[1.0,\"#f0f921\"]],\"type\":\"heatmapgl\"}],\"histogram\":[{\"marker\":{\"pattern\":{\"fillmode\":\"overlay\",\"size\":10,\"solidity\":0.2}},\"type\":\"histogram\"}],\"histogram2d\":[{\"colorbar\":{\"outlinewidth\":0,\"ticks\":\"\"},\"colorscale\":[[0.0,\"#0d0887\"],[0.1111111111111111,\"#46039f\"],[0.2222222222222222,\"#7201a8\"],[0.3333333333333333,\"#9c179e\"],[0.4444444444444444,\"#bd3786\"],[0.5555555555555556,\"#d8576b\"],[0.6666666666666666,\"#ed7953\"],[0.7777777777777778,\"#fb9f3a\"],[0.8888888888888888,\"#fdca26\"],[1.0,\"#f0f921\"]],\"type\":\"histogram2d\"}],\"histogram2dcontour\":[{\"colorbar\":{\"outlinewidth\":0,\"ticks\":\"\"},\"colorscale\":[[0.0,\"#0d0887\"],[0.1111111111111111,\"#46039f\"],[0.2222222222222222,\"#7201a8\"],[0.3333333333333333,\"#9c179e\"],[0.4444444444444444,\"#bd3786\"],[0.5555555555555556,\"#d8576b\"],[0.6666666666666666,\"#ed7953\"],[0.7777777777777778,\"#fb9f3a\"],[0.8888888888888888,\"#fdca26\"],[1.0,\"#f0f921\"]],\"type\":\"histogram2dcontour\"}],\"mesh3d\":[{\"colorbar\":{\"outlinewidth\":0,\"ticks\":\"\"},\"type\":\"mesh3d\"}],\"parcoords\":[{\"line\":{\"colorbar\":{\"outlinewidth\":0,\"ticks\":\"\"}},\"type\":\"parcoords\"}],\"pie\":[{\"automargin\":true,\"type\":\"pie\"}],\"scatter\":[{\"marker\":{\"colorbar\":{\"outlinewidth\":0,\"ticks\":\"\"}},\"type\":\"scatter\"}],\"scatter3d\":[{\"line\":{\"colorbar\":{\"outlinewidth\":0,\"ticks\":\"\"}},\"marker\":{\"colorbar\":{\"outlinewidth\":0,\"ticks\":\"\"}},\"type\":\"scatter3d\"}],\"scattercarpet\":[{\"marker\":{\"colorbar\":{\"outlinewidth\":0,\"ticks\":\"\"}},\"type\":\"scattercarpet\"}],\"scattergeo\":[{\"marker\":{\"colorbar\":{\"outlinewidth\":0,\"ticks\":\"\"}},\"type\":\"scattergeo\"}],\"scattergl\":[{\"marker\":{\"colorbar\":{\"outlinewidth\":0,\"ticks\":\"\"}},\"type\":\"scattergl\"}],\"scattermapbox\":[{\"marker\":{\"colorbar\":{\"outlinewidth\":0,\"ticks\":\"\"}},\"type\":\"scattermapbox\"}],\"scatterpolar\":[{\"marker\":{\"colorbar\":{\"outlinewidth\":0,\"ticks\":\"\"}},\"type\":\"scatterpolar\"}],\"scatterpolargl\":[{\"marker\":{\"colorbar\":{\"outlinewidth\":0,\"ticks\":\"\"}},\"type\":\"scatterpolargl\"}],\"scatterternary\":[{\"marker\":{\"colorbar\":{\"outlinewidth\":0,\"ticks\":\"\"}},\"type\":\"scatterternary\"}],\"surface\":[{\"colorbar\":{\"outlinewidth\":0,\"ticks\":\"\"},\"colorscale\":[[0.0,\"#0d0887\"],[0.1111111111111111,\"#46039f\"],[0.2222222222222222,\"#7201a8\"],[0.3333333333333333,\"#9c179e\"],[0.4444444444444444,\"#bd3786\"],[0.5555555555555556,\"#d8576b\"],[0.6666666666666666,\"#ed7953\"],[0.7777777777777778,\"#fb9f3a\"],[0.8888888888888888,\"#fdca26\"],[1.0,\"#f0f921\"]],\"type\":\"surface\"}],\"table\":[{\"cells\":{\"fill\":{\"color\":\"#EBF0F8\"},\"line\":{\"color\":\"white\"}},\"header\":{\"fill\":{\"color\":\"#C8D4E3\"},\"line\":{\"color\":\"white\"}},\"type\":\"table\"}]},\"layout\":{\"annotationdefaults\":{\"arrowcolor\":\"#2a3f5f\",\"arrowhead\":0,\"arrowwidth\":1},\"autotypenumbers\":\"strict\",\"coloraxis\":{\"colorbar\":{\"outlinewidth\":0,\"ticks\":\"\"}},\"colorscale\":{\"diverging\":[[0,\"#8e0152\"],[0.1,\"#c51b7d\"],[0.2,\"#de77ae\"],[0.3,\"#f1b6da\"],[0.4,\"#fde0ef\"],[0.5,\"#f7f7f7\"],[0.6,\"#e6f5d0\"],[0.7,\"#b8e186\"],[0.8,\"#7fbc41\"],[0.9,\"#4d9221\"],[1,\"#276419\"]],\"sequential\":[[0.0,\"#0d0887\"],[0.1111111111111111,\"#46039f\"],[0.2222222222222222,\"#7201a8\"],[0.3333333333333333,\"#9c179e\"],[0.4444444444444444,\"#bd3786\"],[0.5555555555555556,\"#d8576b\"],[0.6666666666666666,\"#ed7953\"],[0.7777777777777778,\"#fb9f3a\"],[0.8888888888888888,\"#fdca26\"],[1.0,\"#f0f921\"]],\"sequentialminus\":[[0.0,\"#0d0887\"],[0.1111111111111111,\"#46039f\"],[0.2222222222222222,\"#7201a8\"],[0.3333333333333333,\"#9c179e\"],[0.4444444444444444,\"#bd3786\"],[0.5555555555555556,\"#d8576b\"],[0.6666666666666666,\"#ed7953\"],[0.7777777777777778,\"#fb9f3a\"],[0.8888888888888888,\"#fdca26\"],[1.0,\"#f0f921\"]]},\"colorway\":[\"#636efa\",\"#EF553B\",\"#00cc96\",\"#ab63fa\",\"#FFA15A\",\"#19d3f3\",\"#FF6692\",\"#B6E880\",\"#FF97FF\",\"#FECB52\"],\"font\":{\"color\":\"#2a3f5f\"},\"geo\":{\"bgcolor\":\"white\",\"lakecolor\":\"white\",\"landcolor\":\"#E5ECF6\",\"showlakes\":true,\"showland\":true,\"subunitcolor\":\"white\"},\"hoverlabel\":{\"align\":\"left\"},\"hovermode\":\"closest\",\"mapbox\":{\"style\":\"light\"},\"paper_bgcolor\":\"white\",\"plot_bgcolor\":\"#E5ECF6\",\"polar\":{\"angularaxis\":{\"gridcolor\":\"white\",\"linecolor\":\"white\",\"ticks\":\"\"},\"bgcolor\":\"#E5ECF6\",\"radialaxis\":{\"gridcolor\":\"white\",\"linecolor\":\"white\",\"ticks\":\"\"}},\"scene\":{\"xaxis\":{\"backgroundcolor\":\"#E5ECF6\",\"gridcolor\":\"white\",\"gridwidth\":2,\"linecolor\":\"white\",\"showbackground\":true,\"ticks\":\"\",\"zerolinecolor\":\"white\"},\"yaxis\":{\"backgroundcolor\":\"#E5ECF6\",\"gridcolor\":\"white\",\"gridwidth\":2,\"linecolor\":\"white\",\"showbackground\":true,\"ticks\":\"\",\"zerolinecolor\":\"white\"},\"zaxis\":{\"backgroundcolor\":\"#E5ECF6\",\"gridcolor\":\"white\",\"gridwidth\":2,\"linecolor\":\"white\",\"showbackground\":true,\"ticks\":\"\",\"zerolinecolor\":\"white\"}},\"shapedefaults\":{\"line\":{\"color\":\"#2a3f5f\"}},\"ternary\":{\"aaxis\":{\"gridcolor\":\"white\",\"linecolor\":\"white\",\"ticks\":\"\"},\"baxis\":{\"gridcolor\":\"white\",\"linecolor\":\"white\",\"ticks\":\"\"},\"bgcolor\":\"#E5ECF6\",\"caxis\":{\"gridcolor\":\"white\",\"linecolor\":\"white\",\"ticks\":\"\"}},\"title\":{\"x\":0.05},\"xaxis\":{\"automargin\":true,\"gridcolor\":\"white\",\"linecolor\":\"white\",\"ticks\":\"\",\"title\":{\"standoff\":15},\"zerolinecolor\":\"white\",\"zerolinewidth\":2},\"yaxis\":{\"automargin\":true,\"gridcolor\":\"white\",\"linecolor\":\"white\",\"ticks\":\"\",\"title\":{\"standoff\":15},\"zerolinecolor\":\"white\",\"zerolinewidth\":2}}},\"xaxis\":{\"anchor\":\"y\",\"domain\":[0.0,1.0],\"title\":{\"text\":\"x\"},\"showgrid\":true,\"gridwidth\":1,\"gridcolor\":\"lightgrey\",\"zeroline\":true,\"zerolinewidth\":1,\"zerolinecolor\":\"lightgrey\",\"showline\":true,\"linewidth\":1,\"linecolor\":\"black\"},\"yaxis\":{\"anchor\":\"x\",\"domain\":[0.0,1.0],\"title\":{\"text\":\"y\"},\"showgrid\":true,\"gridwidth\":1,\"gridcolor\":\"lightgrey\",\"zeroline\":true,\"zerolinewidth\":1,\"zerolinecolor\":\"lightgrey\",\"showline\":true,\"linewidth\":1,\"linecolor\":\"black\"},\"legend\":{\"tracegroupgap\":0},\"margin\":{\"t\":60},\"plot_bgcolor\":\"white\"},                        {\"responsive\": true}                    ).then(function(){\n",
       "                            \n",
       "var gd = document.getElementById('77c7f030-3d22-4f27-bb35-acced75c2d54');\n",
       "var x = new MutationObserver(function (mutations, observer) {{\n",
       "        var display = window.getComputedStyle(gd).display;\n",
       "        if (!display || display === 'none') {{\n",
       "            console.log([gd, 'removed!']);\n",
       "            Plotly.purge(gd);\n",
       "            observer.disconnect();\n",
       "        }}\n",
       "}});\n",
       "\n",
       "// Listen for the removal of the full notebook cells\n",
       "var notebookContainer = gd.closest('#notebook-container');\n",
       "if (notebookContainer) {{\n",
       "    x.observe(notebookContainer, {childList: true});\n",
       "}}\n",
       "\n",
       "// Listen for the clearing of the current output cell\n",
       "var outputEl = gd.closest('.output');\n",
       "if (outputEl) {{\n",
       "    x.observe(outputEl, {childList: true});\n",
       "}}\n",
       "\n",
       "                        })                };                            </script>        </div>\n",
       "</body>\n",
       "</html>"
      ]
     },
     "metadata": {}
    }
   ],
   "metadata": {
    "tags": [],
    "deepnote_to_be_reexecuted": false,
    "source_hash": "98e3fc5c",
    "execution_start": 1640666776012,
    "execution_millis": 9300,
    "deepnote_output_heights": [
     null,
     527
    ],
    "cell_id": "00023-099a5b81-ec53-4523-bc43-0af6cadea691",
    "deepnote_cell_type": "code"
   }
  },
  {
   "cell_type": "code",
   "execution_count": 24,
   "source": [
    "rbf_pred, lin_pred, poly_pred = predictions\n",
    "\n",
    "print('RBF Prediction:', rbf_pred[5])\n",
    "print('Linear Prediction:', lin_pred[5])\n",
    "print('Polynomial Prediction:', poly_pred[5])\n",
    "\n",
    "print('Actual Value:', y_test[5])"
   ],
   "outputs": [
    {
     "output_type": "stream",
     "name": "stdout",
     "text": [
      "RBF Prediction: 60.5342722112279\n",
      "Linear Prediction: 58.47581778659684\n",
      "Polynomial Prediction: 60.70838074230661\n",
      "Actual Value: 60.7\n"
     ]
    }
   ],
   "metadata": {
    "tags": [],
    "deepnote_to_be_reexecuted": false,
    "source_hash": "4e744d56",
    "execution_start": 1640666833645,
    "execution_millis": 3,
    "cell_id": "00025-3bde6107-8970-4c9b-8a90-6bfe67734cc6",
    "deepnote_cell_type": "code"
   }
  },
  {
   "cell_type": "markdown",
   "source": [
    "## Evaluation: Root Mean Squared Error"
   ],
   "metadata": {
    "tags": [],
    "cell_id": "00026-7f80cfb8-31b8-44b0-b4a7-8ab1e5432523",
    "deepnote_cell_type": "markdown"
   }
  },
  {
   "cell_type": "code",
   "execution_count": 25,
   "source": [
    "from sklearn.metrics import mean_squared_error\n",
    "from math import sqrt\n",
    "\n",
    "expected = y_test\n",
    "\n",
    "rmse_rbf = sqrt(mean_squared_error(expected, rbf_pred))\n",
    "rmse_lin = sqrt(mean_squared_error(expected, lin_pred))\n",
    "rmse_poly = sqrt(mean_squared_error(expected, poly_pred))\n",
    "\n",
    "print(\"RBF Error:\", rmse_rbf)\n",
    "print(\"Linear Error:\", rmse_lin)\n",
    "print(\"Polynomial Error:\", rmse_poly)"
   ],
   "outputs": [
    {
     "output_type": "stream",
     "name": "stdout",
     "text": [
      "RBF Error: 4.680190275310275\n",
      "Linear Error: 3.6095578358925\n",
      "Polynomial Error: 4.76933809370472\n"
     ]
    }
   ],
   "metadata": {
    "tags": [],
    "deepnote_to_be_reexecuted": false,
    "source_hash": "caa63c78",
    "execution_start": 1640666837243,
    "execution_millis": 5,
    "cell_id": "00026-d149d947-1596-4d4e-b2ce-627ed33bb8c6",
    "deepnote_cell_type": "code"
   }
  },
  {
   "cell_type": "markdown",
   "source": [
    "## Pickling\n",
    "\n",
    "In order to generate a `.plk` file for a lab specified in the section commented with `# call all functions to preprocess and prepare data`, we call `generate_models()`, which will return three model objects that correspond to the SVR linear, polynomial, and radial basis function models for humidity. \n",
    "\n",
    "Next, we create paths for the model `.pkl` files, which correspond to the syntax described in the documentation. Note that the model name (in the example case below, we use lab H353) needs to be edited to include the correct lab name.\n",
    "\n",
    "Finally, we **pickle** the models, which is a way of compressing the model objects into their own file, which can be uploaded to the Flask app directory when replacing models."
   ],
   "metadata": {
    "tags": [],
    "cell_id": "00029-e7479aaa-b09e-4876-ab65-f41aa0feedc6",
    "deepnote_cell_type": "markdown"
   }
  },
  {
   "cell_type": "code",
   "execution_count": null,
   "source": [
    "# loop that generates pickles for every lab, if possible\n",
    "\n",
    "lablist = ['H309', 'H351', 'H353', 'H355', 'H424', 'H460', 'T303', 'T449', 'T454', 'TB01', 'TB15']\n",
    "\n",
    "import pickle\n",
    "\n",
    "for lab in lablist:\n",
    "    # call all functions to preprocess and prepare data\n",
    "\n",
    "    data = prepareCols(labs[lab], lab)\n",
    "    data = addGeneral(data, TlabGeneral)\n",
    "    try:\n",
    "        X_train, X_test, y_train, y_test, times_train, times_test = make_model_data(data)\n",
    "    except:\n",
    "        print(lab)\n",
    "        continue\n",
    "\n",
    "    rbf_model, lin_model, poly_model = generate_models(X_train, y_train, X_test, y_test, times_train, times_test)\n",
    "\n",
    "    my_path_rbf = './pred_svr_rbf_' + lab +  '_humidity.pkl'\n",
    "    my_path_lin = './pred_svr_lin_' + lab +  '_humidity.pkl'\n",
    "    my_path_poly = './pred_svr_poly_' + lab +  '_humidity.pkl'\n",
    "\n",
    "    with open(my_path_rbf, 'wb') as pickle_file:\n",
    "        pickle.dump(rbf_model, pickle_file)\n",
    "\n",
    "    with open(my_path_lin, 'wb') as pickle_file:\n",
    "        pickle.dump(lin_model, pickle_file)\n",
    "\n",
    "    with open(my_path_poly, 'wb') as pickle_file:\n",
    "        pickle.dump(poly_model, pickle_file)\n",
    "\n",
    "\n"
   ],
   "outputs": [
    {
     "output_type": "stream",
     "name": "stderr",
     "text": [
      "/shared-libs/python3.7/py-core/lib/python3.7/site-packages/dateutil/parser/_parser.py:1212: UnknownTimezoneWarning: tzname EDT identified but not understood.  Pass `tzinfos` argument in order to correctly return a timezone-aware datetime.  In a future version, this will raise an exception.\n",
      "  category=UnknownTimezoneWarning)\n",
      "/shared-libs/python3.7/py-core/lib/python3.7/site-packages/ipykernel_launcher.py:5: DeprecationWarning: The truth value of an empty array is ambiguous. Returning False, but in future this will result in an error. Use `array.size > 0` to check that an array is not empty.\n",
      "  \"\"\"\n",
      "                        Time Trend (deg F) HUMIDITY %. Trend (%RH) Hour  \\\n",
      "697   5/26/21 1:00:00 PM EDT      69.91908                74.24472   13   \n",
      "698   5/26/21 2:00:00 PM EDT      69.91908               77.359985   14   \n",
      "699   5/26/21 3:00:00 PM EDT      69.91908                77.16266   15   \n",
      "700   5/26/21 4:00:00 PM EDT      69.91908               77.466736   16   \n",
      "701   5/26/21 5:00:00 PM EDT     70.019226                72.49786   17   \n",
      "...                      ...           ...                     ...  ...   \n",
      "3231             9/9/21 3:00            70                      48    3   \n",
      "3232             9/9/21 4:00            70                      47    4   \n",
      "3233             9/9/21 5:00            70                      48    5   \n",
      "3234             9/9/21 6:00          70.1                      49    6   \n",
      "3235             9/9/21 7:00          69.5                      51    7   \n",
      "\n",
      "      Month  Setback Outside Humidity  \n",
      "697       5        0        53.485672  \n",
      "698       5        0        57.959625  \n",
      "699       5        0        59.137146  \n",
      "700       5        0        59.295654  \n",
      "701       5        0        60.528183  \n",
      "...     ...      ...              ...  \n",
      "3231      9        1             76.6  \n",
      "3232      9        1             78.3  \n",
      "3233      9        1             76.4  \n",
      "3234      9        1             69.9  \n",
      "3235      9        1             71.4  \n",
      "\n",
      "[2535 rows x 7 columns]\n",
      "[['14' '7' '0' '57.7']\n",
      " ['21' '6' '1' '61.5']\n",
      " ['20' '8' '1' '54.5']\n",
      " ...\n",
      " ['4' '8' '1' '85.1']\n",
      " ['11' '8' '1' '91.8']\n",
      " ['0' '7' '1' '65.3']]\n",
      "/shared-libs/python3.7/py-core/lib/python3.7/site-packages/dateutil/parser/_parser.py:1212: UnknownTimezoneWarning: tzname EDT identified but not understood.  Pass `tzinfos` argument in order to correctly return a timezone-aware datetime.  In a future version, this will raise an exception.\n",
      "  category=UnknownTimezoneWarning)\n",
      "/shared-libs/python3.7/py-core/lib/python3.7/site-packages/ipykernel_launcher.py:5: DeprecationWarning: The truth value of an empty array is ambiguous. Returning False, but in future this will result in an error. Use `array.size > 0` to check that an array is not empty.\n",
      "  \"\"\"\n",
      "                        Time Trend (deg F) Hour  Month  Setback  \\\n",
      "697   5/26/21 1:00:00 PM EDT      72.59839   13      5        0   \n",
      "698   5/26/21 2:00:00 PM EDT      71.77974   14      5        0   \n",
      "699   5/26/21 3:00:00 PM EDT      71.47249   15      5        0   \n",
      "700   5/26/21 4:00:00 PM EDT      71.27028   16      5        0   \n",
      "701   5/26/21 5:00:00 PM EDT      71.88839   17      5        0   \n",
      "...                      ...           ...  ...    ...      ...   \n",
      "3231             9/9/21 3:00          69.9    3      9        1   \n",
      "3232             9/9/21 4:00          69.9    4      9        1   \n",
      "3233             9/9/21 5:00          69.9    5      9        1   \n",
      "3234             9/9/21 6:00          69.8    6      9        1   \n",
      "3235             9/9/21 7:00          69.9    7      9        1   \n",
      "\n",
      "     Outside Humidity  \n",
      "697         53.485672  \n",
      "698         57.959625  \n",
      "699         59.137146  \n",
      "700         59.295654  \n",
      "701         60.528183  \n",
      "...               ...  \n",
      "3231             76.6  \n",
      "3232             78.3  \n",
      "3233             76.4  \n",
      "3234             69.9  \n",
      "3235             71.4  \n",
      "\n",
      "[2538 rows x 6 columns]\n",
      "H351\n",
      "               Time HUMIDITY %. Trend (%RH) Trend (deg F) Hour  Month  \\\n",
      "1317   6/21/21 9:00                      76          72.5    9      6   \n",
      "1318  6/21/21 10:00                      76          72.6   10      6   \n",
      "1319  6/21/21 11:00                      73          72.6   11      6   \n",
      "1320  6/21/21 12:00                      71          72.6   12      6   \n",
      "1321  6/21/21 13:00                      72          72.7   13      6   \n",
      "...             ...                     ...           ...  ...    ...   \n",
      "3231    9/9/21 3:00                      60          70.6    3      9   \n",
      "3232    9/9/21 4:00                      59          70.6    4      9   \n",
      "3233    9/9/21 5:00                      59          70.5    5      9   \n",
      "3234    9/9/21 6:00                      60          70.5    6      9   \n",
      "3235    9/9/21 7:00                      58          70.4    7      9   \n",
      "\n",
      "      Setback Outside Humidity  \n",
      "1317        0             71.1  \n",
      "1318        0             68.8  \n",
      "1319        0             65.3  \n",
      "1320        0             58.5  \n",
      "1321        0             58.7  \n",
      "...       ...              ...  \n",
      "3231        1             76.6  \n",
      "3232        1             78.3  \n",
      "3233        1             76.4  \n",
      "3234        1             69.9  \n",
      "3235        1             71.4  \n",
      "\n",
      "[1919 rows x 7 columns]\n",
      "[['14' '8' '1' '57.8']\n",
      " ['0' '8' '1' '58.3']\n",
      " ['12' '7' '0' '78.7']\n",
      " ...\n",
      " ['12' '6' '0' '68.8']\n",
      " ['8' '7' '0' '90.2']\n",
      " ['6' '8' '1' '67.5']]\n",
      "/shared-libs/python3.7/py-core/lib/python3.7/site-packages/dateutil/parser/_parser.py:1212: UnknownTimezoneWarning: tzname EDT identified but not understood.  Pass `tzinfos` argument in order to correctly return a timezone-aware datetime.  In a future version, this will raise an exception.\n",
      "  category=UnknownTimezoneWarning)\n",
      "/shared-libs/python3.7/py-core/lib/python3.7/site-packages/ipykernel_launcher.py:5: DeprecationWarning: The truth value of an empty array is ambiguous. Returning False, but in future this will result in an error. Use `array.size > 0` to check that an array is not empty.\n",
      "  \"\"\"\n",
      "                        Time Trend (deg F) Hour  Month  Setback  \\\n",
      "697   5/26/21 1:00:00 PM EDT      68.38679   13      5        0   \n",
      "698   5/26/21 2:00:00 PM EDT      68.48487   14      5        0   \n",
      "699   5/26/21 3:00:00 PM EDT      68.48945   15      5        0   \n",
      "700   5/26/21 4:00:00 PM EDT      68.48945   16      5        0   \n",
      "701   5/26/21 5:00:00 PM EDT      68.59115   17      5        0   \n",
      "...                      ...           ...  ...    ...      ...   \n",
      "3231             9/9/21 3:00          68.7    3      9        1   \n",
      "3232             9/9/21 4:00          68.7    4      9        1   \n",
      "3233             9/9/21 5:00          68.7    5      9        1   \n",
      "3234             9/9/21 6:00          68.6    6      9        1   \n",
      "3235             9/9/21 7:00          68.6    7      9        1   \n",
      "\n",
      "     Outside Humidity  \n",
      "697         53.485672  \n",
      "698         57.959625  \n",
      "699         59.137146  \n",
      "700         59.295654  \n",
      "701         60.528183  \n",
      "...               ...  \n",
      "3231             76.6  \n",
      "3232             78.3  \n",
      "3233             76.4  \n",
      "3234             69.9  \n",
      "3235             71.4  \n",
      "\n",
      "[2538 rows x 6 columns]\n",
      "H355\n",
      "/shared-libs/python3.7/py-core/lib/python3.7/site-packages/ipykernel_launcher.py:5: DeprecationWarning: The truth value of an empty array is ambiguous. Returning False, but in future this will result in an error. Use `array.size > 0` to check that an array is not empty.\n",
      "  \"\"\"\n",
      "Empty DataFrame\n",
      "Columns: [Time, Trend (deg F), Hour, Month, Setback, Outside Humidity]\n",
      "Index: []\n",
      "H424\n",
      "/shared-libs/python3.7/py-core/lib/python3.7/site-packages/dateutil/parser/_parser.py:1212: UnknownTimezoneWarning: tzname EDT identified but not understood.  Pass `tzinfos` argument in order to correctly return a timezone-aware datetime.  In a future version, this will raise an exception.\n",
      "  category=UnknownTimezoneWarning)\n",
      "/shared-libs/python3.7/py-core/lib/python3.7/site-packages/ipykernel_launcher.py:5: DeprecationWarning: The truth value of an empty array is ambiguous. Returning False, but in future this will result in an error. Use `array.size > 0` to check that an array is not empty.\n",
      "  \"\"\"\n",
      "                        Time Trend (deg F) Hour  Month  Setback  \\\n",
      "697   5/26/21 1:00:00 PM EDT      70.46475   13      5        0   \n",
      "698   5/26/21 2:00:00 PM EDT      70.03938   14      5        0   \n",
      "699   5/26/21 3:00:00 PM EDT     70.452156   15      5        0   \n",
      "700   5/26/21 4:00:00 PM EDT       70.7564   16      5        0   \n",
      "701   5/26/21 5:00:00 PM EDT       71.2131   17      5        0   \n",
      "...                      ...           ...  ...    ...      ...   \n",
      "3231             9/9/21 3:00          71.3    3      9        1   \n",
      "3232             9/9/21 4:00          71.1    4      9        1   \n",
      "3233             9/9/21 5:00          70.9    5      9        1   \n",
      "3234             9/9/21 6:00          70.6    6      9        1   \n",
      "3235             9/9/21 7:00          69.8    7      9        1   \n",
      "\n",
      "     Outside Humidity  \n",
      "697         53.485672  \n",
      "698         57.959625  \n",
      "699         59.137146  \n",
      "700         59.295654  \n",
      "701         60.528183  \n",
      "...               ...  \n",
      "3231             76.6  \n",
      "3232             78.3  \n",
      "3233             76.4  \n",
      "3234             69.9  \n",
      "3235             71.4  \n",
      "\n",
      "[2538 rows x 6 columns]\n",
      "H460\n",
      "/shared-libs/python3.7/py-core/lib/python3.7/site-packages/dateutil/parser/_parser.py:1212: UnknownTimezoneWarning: tzname EDT identified but not understood.  Pass `tzinfos` argument in order to correctly return a timezone-aware datetime.  In a future version, this will raise an exception.\n",
      "  category=UnknownTimezoneWarning)\n",
      "/shared-libs/python3.7/py-core/lib/python3.7/site-packages/ipykernel_launcher.py:5: DeprecationWarning: The truth value of an empty array is ambiguous. Returning False, but in future this will result in an error. Use `array.size > 0` to check that an array is not empty.\n",
      "  \"\"\"\n",
      "                        Time Trend (deg F) Hour  Month  Setback  \\\n",
      "698   5/26/21 1:00:00 PM EDT     70.635284   13      5        1   \n",
      "699   5/26/21 2:00:00 PM EDT     70.791016   14      5        1   \n",
      "700   5/26/21 3:00:00 PM EDT     70.842896   15      5        1   \n",
      "701   5/26/21 4:00:00 PM EDT      70.22015   16      5        1   \n",
      "702   5/26/21 5:00:00 PM EDT      69.46762   17      5        1   \n",
      "...                      ...           ...  ...    ...      ...   \n",
      "3231             9/9/21 3:00          69.4    3      9        1   \n",
      "3232             9/9/21 4:00          69.6    4      9        1   \n",
      "3233             9/9/21 5:00          70.2    5      9        1   \n",
      "3234             9/9/21 6:00          70.2    6      9        1   \n",
      "3235             9/9/21 7:00          70.4    7      9        1   \n",
      "\n",
      "     Outside Humidity  \n",
      "698         53.485672  \n",
      "699         57.959625  \n",
      "700         59.137146  \n",
      "701         59.295654  \n",
      "702         60.528183  \n",
      "...               ...  \n",
      "3231             76.6  \n",
      "3232             78.3  \n",
      "3233             76.4  \n",
      "3234             69.9  \n",
      "3235             71.4  \n",
      "\n",
      "[2538 rows x 6 columns]\n",
      "T303\n",
      "/shared-libs/python3.7/py-core/lib/python3.7/site-packages/dateutil/parser/_parser.py:1212: UnknownTimezoneWarning: tzname EDT identified but not understood.  Pass `tzinfos` argument in order to correctly return a timezone-aware datetime.  In a future version, this will raise an exception.\n",
      "  category=UnknownTimezoneWarning)\n",
      "/shared-libs/python3.7/py-core/lib/python3.7/site-packages/ipykernel_launcher.py:5: DeprecationWarning: The truth value of an empty array is ambiguous. Returning False, but in future this will result in an error. Use `array.size > 0` to check that an array is not empty.\n",
      "  \"\"\"\n",
      "                        Time Trend (deg F) Hour  Month  Setback  \\\n",
      "697   5/26/21 1:00:00 PM EDT      72.45172   13      5        0   \n",
      "698   5/26/21 2:00:00 PM EDT      72.60739   14      5        0   \n",
      "699   5/26/21 3:00:00 PM EDT      72.29602   15      5        0   \n",
      "700   5/26/21 4:00:00 PM EDT       72.5036   16      5        0   \n",
      "701   5/26/21 5:00:00 PM EDT      72.60739   17      5        0   \n",
      "...                      ...           ...  ...    ...      ...   \n",
      "3231             9/9/21 3:00            72    3      9        0   \n",
      "3232             9/9/21 4:00          71.9    4      9        0   \n",
      "3233             9/9/21 5:00          71.9    5      9        0   \n",
      "3234             9/9/21 6:00          71.9    6      9        0   \n",
      "3235             9/9/21 7:00          71.8    7      9        0   \n",
      "\n",
      "     Outside Humidity  \n",
      "697         53.485672  \n",
      "698         57.959625  \n",
      "699         59.137146  \n",
      "700         59.295654  \n",
      "701         60.528183  \n",
      "...               ...  \n",
      "3231             76.6  \n",
      "3232             78.3  \n",
      "3233             76.4  \n",
      "3234             69.9  \n",
      "3235             71.4  \n",
      "\n",
      "[2539 rows x 6 columns]\n",
      "T449\n",
      "/shared-libs/python3.7/py-core/lib/python3.7/site-packages/dateutil/parser/_parser.py:1212: UnknownTimezoneWarning: tzname EDT identified but not understood.  Pass `tzinfos` argument in order to correctly return a timezone-aware datetime.  In a future version, this will raise an exception.\n",
      "  category=UnknownTimezoneWarning)\n",
      "/shared-libs/python3.7/py-core/lib/python3.7/site-packages/ipykernel_launcher.py:5: DeprecationWarning: The truth value of an empty array is ambiguous. Returning False, but in future this will result in an error. Use `array.size > 0` to check that an array is not empty.\n",
      "  \"\"\"\n",
      "                        Time Trend (deg F) HUMIDITY %. Trend (%RH) Hour  \\\n",
      "697   5/26/21 1:00:00 PM EDT       73.9827                53.74446   13   \n",
      "698   5/26/21 2:00:00 PM EDT      75.15039                58.56456   14   \n",
      "699   5/26/21 3:00:00 PM EDT      75.69528               59.108032   15   \n",
      "700   5/26/21 4:00:00 PM EDT       75.9548                59.38623   16   \n",
      "701   5/26/21 5:00:00 PM EDT     76.162384               59.438004   17   \n",
      "...                      ...           ...                     ...  ...   \n",
      "3231             9/9/21 3:00          73.8                    60.9    3   \n",
      "3232             9/9/21 4:00          73.7                    60.6    4   \n",
      "3233             9/9/21 5:00            74                      60    5   \n",
      "3234             9/9/21 6:00          74.1                    58.6    6   \n",
      "3235             9/9/21 7:00            74                    55.4    7   \n",
      "\n",
      "      Month  Setback Outside Humidity  \n",
      "697       5        0        53.485672  \n",
      "698       5        0        57.959625  \n",
      "699       5        0        59.137146  \n",
      "700       5        0        59.295654  \n",
      "701       5        0        60.528183  \n",
      "...     ...      ...              ...  \n",
      "3231      9        0             76.6  \n",
      "3232      9        0             78.3  \n",
      "3233      9        0             76.4  \n",
      "3234      9        0             69.9  \n",
      "3235      9        0             71.4  \n",
      "\n",
      "[2539 rows x 7 columns]\n",
      "[['16' '6' '0' '31.1']\n",
      " ['13' '8' '0' '61.4']\n",
      " ['17' '8' '0' '68.1']\n",
      " ...\n",
      " ['18' '6' '0' '50']\n",
      " ['4' '7' '0' '77.1']\n",
      " ['6' '7' '0' '82.4']]\n",
      "/shared-libs/python3.7/py-core/lib/python3.7/site-packages/dateutil/parser/_parser.py:1212: UnknownTimezoneWarning: tzname EDT identified but not understood.  Pass `tzinfos` argument in order to correctly return a timezone-aware datetime.  In a future version, this will raise an exception.\n",
      "  category=UnknownTimezoneWarning)\n",
      "/shared-libs/python3.7/py-core/lib/python3.7/site-packages/ipykernel_launcher.py:5: DeprecationWarning: The truth value of an empty array is ambiguous. Returning False, but in future this will result in an error. Use `array.size > 0` to check that an array is not empty.\n",
      "  \"\"\"\n",
      "                        Time HUMIDITY %. Trend (%RH) Trend (deg F) Hour  \\\n",
      "697   5/26/21 1:00:00 PM EDT               53.485672          73.4   13   \n",
      "698   5/26/21 2:00:00 PM EDT               57.959625          73.6   14   \n",
      "699   5/26/21 3:00:00 PM EDT               59.137146          73.6   15   \n",
      "700   5/26/21 4:00:00 PM EDT               59.295654          73.6   16   \n",
      "701   5/26/21 5:00:00 PM EDT               60.528183          73.7   17   \n",
      "...                      ...                     ...           ...  ...   \n",
      "3231             9/9/21 3:00                    57.7          72.7    3   \n",
      "3232             9/9/21 4:00                    57.8          72.6    4   \n",
      "3233             9/9/21 5:00                    56.7          72.6    5   \n",
      "3234             9/9/21 6:00                    56.2          72.6    6   \n",
      "3235             9/9/21 7:00                    55.5          72.6    7   \n",
      "\n",
      "      Month  Setback Outside Humidity  \n",
      "697       5        0        53.485672  \n",
      "698       5        0        57.959625  \n",
      "699       5        0        59.137146  \n",
      "700       5        0        59.295654  \n",
      "701       5        0        60.528183  \n",
      "...     ...      ...              ...  \n",
      "3231      9        1             76.6  \n",
      "3232      9        1             78.3  \n",
      "3233      9        1             76.4  \n",
      "3234      9        1             69.9  \n",
      "3235      9        1             71.4  \n",
      "\n",
      "[2539 rows x 7 columns]\n",
      "[['0' '7' '1' '50']\n",
      " ['15' '8' '1' '41.9']\n",
      " ['19' '8' '1' '86.7']\n",
      " ...\n",
      " ['17' '6' '0' '62.7']\n",
      " ['0' '8' '1' '66.4']\n",
      " ['13' '7' '0' '49.2']]\n",
      "/shared-libs/python3.7/py-core/lib/python3.7/site-packages/dateutil/parser/_parser.py:1212: UnknownTimezoneWarning: tzname EDT identified but not understood.  Pass `tzinfos` argument in order to correctly return a timezone-aware datetime.  In a future version, this will raise an exception.\n",
      "  category=UnknownTimezoneWarning)\n",
      "/shared-libs/python3.7/py-core/lib/python3.7/site-packages/ipykernel_launcher.py:5: DeprecationWarning: The truth value of an empty array is ambiguous. Returning False, but in future this will result in an error. Use `array.size > 0` to check that an array is not empty.\n",
      "  \"\"\"\n",
      "                        Time Trend (deg F) Hour  Month  Setback  \\\n",
      "697   5/26/21 1:00:00 PM EDT       72.6593   13      5        0   \n",
      "698   5/26/21 2:00:00 PM EDT       72.6593   14      5        0   \n",
      "699   5/26/21 3:00:00 PM EDT      72.34793   15      5        0   \n",
      "700   5/26/21 4:00:00 PM EDT      72.14032   16      5        0   \n",
      "701   5/26/21 5:00:00 PM EDT      72.08844   17      5        0   \n",
      "...                      ...           ...  ...    ...      ...   \n",
      "3231             9/9/21 3:00          73.5    3      9        0   \n",
      "3232             9/9/21 4:00          73.5    4      9        0   \n",
      "3233             9/9/21 5:00          73.5    5      9        0   \n",
      "3234             9/9/21 6:00          72.7    6      9        0   \n",
      "3235             9/9/21 7:00          72.7    7      9        0   \n",
      "\n",
      "     Outside Humidity  \n",
      "697         53.485672  \n",
      "698         57.959625  \n",
      "699         59.137146  \n",
      "700         59.295654  \n",
      "701         60.528183  \n",
      "...               ...  \n",
      "3231             76.6  \n",
      "3232             78.3  \n",
      "3233             76.4  \n",
      "3234             69.9  \n",
      "3235             71.4  \n",
      "\n",
      "[2454 rows x 6 columns]\n",
      "TB15\n"
     ]
    }
   ],
   "metadata": {
    "tags": [],
    "cell_id": "00031-1bdfd943-8535-4f1f-b116-9dcde956a7e5",
    "deepnote_to_be_reexecuted": true,
    "source_hash": "9f3ce517",
    "execution_start": 1640586721792,
    "execution_millis": 197103,
    "deepnote_cell_type": "code"
   }
  },
  {
   "cell_type": "code",
   "execution_count": null,
   "source": [
    "rbf_model, lin_model, poly_model = generate_models(X_train, y_train, X_test, y_test, times_train, times_test)\n",
    "\n",
    "my_path_rbf = \"./pred_svr_H353_humidity_rbf.pkl\"\n",
    "my_path_lin = \"./pred_svr_H353_humidity_lin.pkl\"\n",
    "my_path_poly = \"./pred_svr_H353_humidity_poly.pkl\""
   ],
   "outputs": [],
   "metadata": {
    "tags": [],
    "deepnote_to_be_reexecuted": true,
    "source_hash": "e739c8c9",
    "execution_start": 1640582364219,
    "execution_millis": 9776,
    "cell_id": "00029-aef5c3d0-f211-40e3-9506-42b340b2b63a",
    "deepnote_cell_type": "code"
   }
  },
  {
   "cell_type": "code",
   "execution_count": null,
   "source": [
    "import pickle\n",
    "\n",
    "with open(my_path_rbf, 'wb') as pickle_file:\n",
    "    pickle.dump(rbf_model, pickle_file)\n",
    "\n",
    "with open(my_path_lin, 'wb') as pickle_file:\n",
    "    pickle.dump(lin_model, pickle_file)\n",
    "\n",
    "with open(my_path_poly, 'wb') as pickle_file:\n",
    "    pickle.dump(poly_model, pickle_file)"
   ],
   "outputs": [],
   "metadata": {
    "tags": [],
    "deepnote_to_be_reexecuted": true,
    "source_hash": "cfc55c5e",
    "execution_start": 1640582376535,
    "execution_millis": 17,
    "cell_id": "00030-6aa5ccbe-a519-407c-ab59-7eb989e76782",
    "deepnote_cell_type": "code"
   }
  },
  {
   "cell_type": "markdown",
   "source": [
    "Next, we test the pickled model, which in our example case is for Lab H353 humidity. We do this by using the `pandas` function `read_pickle()`. We input four parameters when predicting a value: month, day, setback (either 0 for no or 1 for yes), and outside temperature."
   ],
   "metadata": {
    "tags": [],
    "cell_id": "00033-ff5441a1-1385-4e79-ae9c-edf2a0bb27c7",
    "deepnote_cell_type": "markdown"
   }
  },
  {
   "cell_type": "code",
   "execution_count": null,
   "source": [
    "import pandas as pd\n",
    "\n",
    "my_path_rbf = \"./pred_svr_H353_humidity_rbf.pkl\"\n",
    "\n",
    "test_rbf = pd.read_pickle(my_path_rbf)"
   ],
   "outputs": [],
   "metadata": {
    "tags": [],
    "deepnote_to_be_reexecuted": true,
    "source_hash": "32d3fa39",
    "execution_start": 1640582381709,
    "execution_millis": 8,
    "cell_id": "00031-e4c0669d-ff4f-4ae2-ac1e-5b1b71a80615",
    "deepnote_cell_type": "code"
   }
  },
  {
   "cell_type": "code",
   "execution_count": null,
   "source": [
    "test_rbf.predict([[10, 4, 0, 81.4]])"
   ],
   "outputs": [
    {
     "output_type": "execute_result",
     "data": {
      "text/plain": [
       "array([83.70914002])"
      ]
     },
     "metadata": {},
     "execution_count": 24
    }
   ],
   "metadata": {
    "tags": [],
    "deepnote_to_be_reexecuted": true,
    "source_hash": "83c5bca4",
    "execution_start": 1640582402405,
    "execution_millis": 8,
    "deepnote_output_heights": [
     21.1875
    ],
    "cell_id": "00033-f27306e1-7db6-4fbd-bf22-a6a656e8157b",
    "deepnote_cell_type": "code"
   }
  },
  {
   "cell_type": "markdown",
   "source": [
    "<a style='text-decoration:none;line-height:16px;display:flex;color:#5B5B62;padding:10px;justify-content:end;' href='https://deepnote.com?utm_source=created-in-deepnote-cell&projectId=bf8e464d-6614-4785-bf90-eb5b6d8a76b5' target=\"_blank\">\n",
    "<img alt='Created in deepnote.com' style='display:inline;max-height:16px;margin:0px;margin-right:7.5px;' src='data:image/svg+xml;base64,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' > </img>\n",
    "Created in <span style='font-weight:600;margin-left:4px;'>Deepnote</span></a>"
   ],
   "metadata": {
    "tags": [],
    "created_in_deepnote_cell": true,
    "deepnote_cell_type": "markdown"
   }
  }
 ],
 "nbformat": 4,
 "nbformat_minor": 2,
 "metadata": {
  "orig_nbformat": 2,
  "deepnote": {
   "is_reactive": false
  },
  "deepnote_notebook_id": "596d1d19-4e27-4be6-9e12-a37a264f0514",
  "deepnote_execution_queue": [],
  "language_info": {
   "name": "python"
  }
 }
}