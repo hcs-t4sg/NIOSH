{
 "cells": [
  {
   "cell_type": "code",
   "execution_count": 1,
   "source": [
    "import pandas as pd\n",
    "import numpy as np\n",
    "import sklearn\n",
    "from matplotlib import pyplot as plt \n",
    "from sklearn.metrics import mean_squared_error, r2_score\n",
    "# from hyperopt import hp, tpe, Trials, fmin\n",
    "import time\n",
    "import datetime\n",
    "import random"
   ],
   "outputs": [],
   "metadata": {
    "tags": [],
    "deepnote_to_be_reexecuted": false,
    "source_hash": "de5a129a",
    "execution_start": 1640550080723,
    "execution_millis": 3227,
    "cell_id": "00000-e071c76d-3bf3-4a20-8e2b-b6be5523f5ad",
    "deepnote_cell_type": "code"
   }
  },
  {
   "cell_type": "markdown",
   "source": [
    "# HCS T4SG x NIOSH Lab Temperature Prediction Model\n",
    "### via Support Vector Regression (SVR)"
   ],
   "metadata": {
    "tags": [],
    "cell_id": "00001-40e72486-4844-4da0-85b5-368b35374781",
    "deepnote_cell_type": "markdown"
   }
  },
  {
   "cell_type": "code",
   "execution_count": 2,
   "source": [
    "# open and read data\n",
    "\n",
    "path = \"./LabTempTrends.csv\"\n",
    "df = pd.read_csv(path)\n",
    "df.head(10)"
   ],
   "outputs": [
    {
     "output_type": "execute_result",
     "data": {
      "text/plain": [
       "                     TB15     Unnamed: 1  T302     Unnamed: 3  \\\n",
       "0                    Time  Trend (deg F)  Time  Trend (deg F)   \n",
       "1  4/27/21 1:00:00 PM EDT       74.99469   NaN            NaN   \n",
       "2  4/27/21 2:00:00 PM EDT       74.29407   NaN            NaN   \n",
       "3  4/27/21 3:00:00 PM EDT       74.78711   NaN            NaN   \n",
       "4  4/27/21 4:00:00 PM EDT       74.47571   NaN            NaN   \n",
       "5  4/27/21 5:00:00 PM EDT       74.47571   NaN            NaN   \n",
       "6  4/27/21 6:00:00 PM EDT        74.8909   NaN            NaN   \n",
       "7  4/27/21 7:00:00 PM EDT       75.20227   NaN            NaN   \n",
       "8  4/27/21 8:00:00 PM EDT       75.46176   NaN            NaN   \n",
       "9  4/27/21 9:00:00 PM EDT       75.53958   NaN            NaN   \n",
       "\n",
       "                      T303     Unnamed: 5                    T446  \\\n",
       "0                     Time  Trend (deg F)                    Time   \n",
       "1  4/27/21 12:00:00 PM EDT       71.69919  4/27/21 1:00:00 PM EDT   \n",
       "2   4/27/21 1:00:00 PM EDT        71.7511  4/27/21 2:00:00 PM EDT   \n",
       "3   4/27/21 2:00:00 PM EDT       71.64728  4/27/21 3:00:00 PM EDT   \n",
       "4   4/27/21 3:00:00 PM EDT       70.06445  4/27/21 4:00:00 PM EDT   \n",
       "5   4/27/21 4:00:00 PM EDT      70.583405  4/27/21 5:00:00 PM EDT   \n",
       "6   4/27/21 5:00:00 PM EDT      70.920746  4/27/21 6:00:00 PM EDT   \n",
       "7   4/27/21 6:00:00 PM EDT       71.28403  4/27/21 7:00:00 PM EDT   \n",
       "8   4/27/21 7:00:00 PM EDT       71.38782  4/27/21 8:00:00 PM EDT   \n",
       "9   4/27/21 8:00:00 PM EDT       71.07645  4/27/21 9:00:00 PM EDT   \n",
       "\n",
       "      Unnamed: 7                    T449     Unnamed: 9  ...  H460  \\\n",
       "0  Trend (deg F)                    Time  Trend (deg F)  ...  Time   \n",
       "1        72.0625  4/27/21 1:00:00 PM EDT       72.86691  ...   NaN   \n",
       "2       72.91879  4/27/21 2:00:00 PM EDT       72.45172  ...   NaN   \n",
       "3        72.0625  4/27/21 3:00:00 PM EDT       72.55551  ...   NaN   \n",
       "4       72.01059  4/27/21 4:00:00 PM EDT       72.71118  ...   NaN   \n",
       "5       72.01059  4/27/21 5:00:00 PM EDT       72.86691  ...   NaN   \n",
       "6       73.12637  4/27/21 6:00:00 PM EDT       73.12637  ...   NaN   \n",
       "7      73.411804  4/27/21 7:00:00 PM EDT         72.815  ...   NaN   \n",
       "8      73.515594  4/27/21 8:00:00 PM EDT       72.24414  ...   NaN   \n",
       "9      73.671295  4/27/21 9:00:00 PM EDT       73.12637  ...   NaN   \n",
       "\n",
       "     Unnamed: 31 H309.1              Unnamed: 33  H353  \\\n",
       "0  Trend (deg F)   Time  HUMIDITY %. Trend (%RH)  Time   \n",
       "1            NaN    NaN                      NaN   NaN   \n",
       "2            NaN    NaN                      NaN   NaN   \n",
       "3            NaN    NaN                      NaN   NaN   \n",
       "4            NaN    NaN                      NaN   NaN   \n",
       "5            NaN    NaN                      NaN   NaN   \n",
       "6            NaN    NaN                      NaN   NaN   \n",
       "7            NaN    NaN                      NaN   NaN   \n",
       "8            NaN    NaN                      NaN   NaN   \n",
       "9            NaN    NaN                      NaN   NaN   \n",
       "\n",
       "               Unnamed: 35 H353.1    Unnamed: 37 TB01.1    Unnamed: 39  \n",
       "0  HUMIDITY %. Trend (%RH)   Time  Trend (deg F)   Time  Trend (deg F)  \n",
       "1                      NaN    NaN            NaN    NaN            NaN  \n",
       "2                      NaN    NaN            NaN    NaN            NaN  \n",
       "3                      NaN    NaN            NaN    NaN            NaN  \n",
       "4                      NaN    NaN            NaN    NaN            NaN  \n",
       "5                      NaN    NaN            NaN    NaN            NaN  \n",
       "6                      NaN    NaN            NaN    NaN            NaN  \n",
       "7                      NaN    NaN            NaN    NaN            NaN  \n",
       "8                      NaN    NaN            NaN    NaN            NaN  \n",
       "9                      NaN    NaN            NaN    NaN            NaN  \n",
       "\n",
       "[10 rows x 40 columns]"
      ],
      "text/html": [
       "<div>\n",
       "<style scoped>\n",
       "    .dataframe tbody tr th:only-of-type {\n",
       "        vertical-align: middle;\n",
       "    }\n",
       "\n",
       "    .dataframe tbody tr th {\n",
       "        vertical-align: top;\n",
       "    }\n",
       "\n",
       "    .dataframe thead th {\n",
       "        text-align: right;\n",
       "    }\n",
       "</style>\n",
       "<table border=\"1\" class=\"dataframe\">\n",
       "  <thead>\n",
       "    <tr style=\"text-align: right;\">\n",
       "      <th></th>\n",
       "      <th>TB15</th>\n",
       "      <th>Unnamed: 1</th>\n",
       "      <th>T302</th>\n",
       "      <th>Unnamed: 3</th>\n",
       "      <th>T303</th>\n",
       "      <th>Unnamed: 5</th>\n",
       "      <th>T446</th>\n",
       "      <th>Unnamed: 7</th>\n",
       "      <th>T449</th>\n",
       "      <th>Unnamed: 9</th>\n",
       "      <th>...</th>\n",
       "      <th>H460</th>\n",
       "      <th>Unnamed: 31</th>\n",
       "      <th>H309.1</th>\n",
       "      <th>Unnamed: 33</th>\n",
       "      <th>H353</th>\n",
       "      <th>Unnamed: 35</th>\n",
       "      <th>H353.1</th>\n",
       "      <th>Unnamed: 37</th>\n",
       "      <th>TB01.1</th>\n",
       "      <th>Unnamed: 39</th>\n",
       "    </tr>\n",
       "  </thead>\n",
       "  <tbody>\n",
       "    <tr>\n",
       "      <th>0</th>\n",
       "      <td>Time</td>\n",
       "      <td>Trend (deg F)</td>\n",
       "      <td>Time</td>\n",
       "      <td>Trend (deg F)</td>\n",
       "      <td>Time</td>\n",
       "      <td>Trend (deg F)</td>\n",
       "      <td>Time</td>\n",
       "      <td>Trend (deg F)</td>\n",
       "      <td>Time</td>\n",
       "      <td>Trend (deg F)</td>\n",
       "      <td>...</td>\n",
       "      <td>Time</td>\n",
       "      <td>Trend (deg F)</td>\n",
       "      <td>Time</td>\n",
       "      <td>HUMIDITY %. Trend (%RH)</td>\n",
       "      <td>Time</td>\n",
       "      <td>HUMIDITY %. Trend (%RH)</td>\n",
       "      <td>Time</td>\n",
       "      <td>Trend (deg F)</td>\n",
       "      <td>Time</td>\n",
       "      <td>Trend (deg F)</td>\n",
       "    </tr>\n",
       "    <tr>\n",
       "      <th>1</th>\n",
       "      <td>4/27/21 1:00:00 PM EDT</td>\n",
       "      <td>74.99469</td>\n",
       "      <td>NaN</td>\n",
       "      <td>NaN</td>\n",
       "      <td>4/27/21 12:00:00 PM EDT</td>\n",
       "      <td>71.69919</td>\n",
       "      <td>4/27/21 1:00:00 PM EDT</td>\n",
       "      <td>72.0625</td>\n",
       "      <td>4/27/21 1:00:00 PM EDT</td>\n",
       "      <td>72.86691</td>\n",
       "      <td>...</td>\n",
       "      <td>NaN</td>\n",
       "      <td>NaN</td>\n",
       "      <td>NaN</td>\n",
       "      <td>NaN</td>\n",
       "      <td>NaN</td>\n",
       "      <td>NaN</td>\n",
       "      <td>NaN</td>\n",
       "      <td>NaN</td>\n",
       "      <td>NaN</td>\n",
       "      <td>NaN</td>\n",
       "    </tr>\n",
       "    <tr>\n",
       "      <th>2</th>\n",
       "      <td>4/27/21 2:00:00 PM EDT</td>\n",
       "      <td>74.29407</td>\n",
       "      <td>NaN</td>\n",
       "      <td>NaN</td>\n",
       "      <td>4/27/21 1:00:00 PM EDT</td>\n",
       "      <td>71.7511</td>\n",
       "      <td>4/27/21 2:00:00 PM EDT</td>\n",
       "      <td>72.91879</td>\n",
       "      <td>4/27/21 2:00:00 PM EDT</td>\n",
       "      <td>72.45172</td>\n",
       "      <td>...</td>\n",
       "      <td>NaN</td>\n",
       "      <td>NaN</td>\n",
       "      <td>NaN</td>\n",
       "      <td>NaN</td>\n",
       "      <td>NaN</td>\n",
       "      <td>NaN</td>\n",
       "      <td>NaN</td>\n",
       "      <td>NaN</td>\n",
       "      <td>NaN</td>\n",
       "      <td>NaN</td>\n",
       "    </tr>\n",
       "    <tr>\n",
       "      <th>3</th>\n",
       "      <td>4/27/21 3:00:00 PM EDT</td>\n",
       "      <td>74.78711</td>\n",
       "      <td>NaN</td>\n",
       "      <td>NaN</td>\n",
       "      <td>4/27/21 2:00:00 PM EDT</td>\n",
       "      <td>71.64728</td>\n",
       "      <td>4/27/21 3:00:00 PM EDT</td>\n",
       "      <td>72.0625</td>\n",
       "      <td>4/27/21 3:00:00 PM EDT</td>\n",
       "      <td>72.55551</td>\n",
       "      <td>...</td>\n",
       "      <td>NaN</td>\n",
       "      <td>NaN</td>\n",
       "      <td>NaN</td>\n",
       "      <td>NaN</td>\n",
       "      <td>NaN</td>\n",
       "      <td>NaN</td>\n",
       "      <td>NaN</td>\n",
       "      <td>NaN</td>\n",
       "      <td>NaN</td>\n",
       "      <td>NaN</td>\n",
       "    </tr>\n",
       "    <tr>\n",
       "      <th>4</th>\n",
       "      <td>4/27/21 4:00:00 PM EDT</td>\n",
       "      <td>74.47571</td>\n",
       "      <td>NaN</td>\n",
       "      <td>NaN</td>\n",
       "      <td>4/27/21 3:00:00 PM EDT</td>\n",
       "      <td>70.06445</td>\n",
       "      <td>4/27/21 4:00:00 PM EDT</td>\n",
       "      <td>72.01059</td>\n",
       "      <td>4/27/21 4:00:00 PM EDT</td>\n",
       "      <td>72.71118</td>\n",
       "      <td>...</td>\n",
       "      <td>NaN</td>\n",
       "      <td>NaN</td>\n",
       "      <td>NaN</td>\n",
       "      <td>NaN</td>\n",
       "      <td>NaN</td>\n",
       "      <td>NaN</td>\n",
       "      <td>NaN</td>\n",
       "      <td>NaN</td>\n",
       "      <td>NaN</td>\n",
       "      <td>NaN</td>\n",
       "    </tr>\n",
       "    <tr>\n",
       "      <th>5</th>\n",
       "      <td>4/27/21 5:00:00 PM EDT</td>\n",
       "      <td>74.47571</td>\n",
       "      <td>NaN</td>\n",
       "      <td>NaN</td>\n",
       "      <td>4/27/21 4:00:00 PM EDT</td>\n",
       "      <td>70.583405</td>\n",
       "      <td>4/27/21 5:00:00 PM EDT</td>\n",
       "      <td>72.01059</td>\n",
       "      <td>4/27/21 5:00:00 PM EDT</td>\n",
       "      <td>72.86691</td>\n",
       "      <td>...</td>\n",
       "      <td>NaN</td>\n",
       "      <td>NaN</td>\n",
       "      <td>NaN</td>\n",
       "      <td>NaN</td>\n",
       "      <td>NaN</td>\n",
       "      <td>NaN</td>\n",
       "      <td>NaN</td>\n",
       "      <td>NaN</td>\n",
       "      <td>NaN</td>\n",
       "      <td>NaN</td>\n",
       "    </tr>\n",
       "    <tr>\n",
       "      <th>6</th>\n",
       "      <td>4/27/21 6:00:00 PM EDT</td>\n",
       "      <td>74.8909</td>\n",
       "      <td>NaN</td>\n",
       "      <td>NaN</td>\n",
       "      <td>4/27/21 5:00:00 PM EDT</td>\n",
       "      <td>70.920746</td>\n",
       "      <td>4/27/21 6:00:00 PM EDT</td>\n",
       "      <td>73.12637</td>\n",
       "      <td>4/27/21 6:00:00 PM EDT</td>\n",
       "      <td>73.12637</td>\n",
       "      <td>...</td>\n",
       "      <td>NaN</td>\n",
       "      <td>NaN</td>\n",
       "      <td>NaN</td>\n",
       "      <td>NaN</td>\n",
       "      <td>NaN</td>\n",
       "      <td>NaN</td>\n",
       "      <td>NaN</td>\n",
       "      <td>NaN</td>\n",
       "      <td>NaN</td>\n",
       "      <td>NaN</td>\n",
       "    </tr>\n",
       "    <tr>\n",
       "      <th>7</th>\n",
       "      <td>4/27/21 7:00:00 PM EDT</td>\n",
       "      <td>75.20227</td>\n",
       "      <td>NaN</td>\n",
       "      <td>NaN</td>\n",
       "      <td>4/27/21 6:00:00 PM EDT</td>\n",
       "      <td>71.28403</td>\n",
       "      <td>4/27/21 7:00:00 PM EDT</td>\n",
       "      <td>73.411804</td>\n",
       "      <td>4/27/21 7:00:00 PM EDT</td>\n",
       "      <td>72.815</td>\n",
       "      <td>...</td>\n",
       "      <td>NaN</td>\n",
       "      <td>NaN</td>\n",
       "      <td>NaN</td>\n",
       "      <td>NaN</td>\n",
       "      <td>NaN</td>\n",
       "      <td>NaN</td>\n",
       "      <td>NaN</td>\n",
       "      <td>NaN</td>\n",
       "      <td>NaN</td>\n",
       "      <td>NaN</td>\n",
       "    </tr>\n",
       "    <tr>\n",
       "      <th>8</th>\n",
       "      <td>4/27/21 8:00:00 PM EDT</td>\n",
       "      <td>75.46176</td>\n",
       "      <td>NaN</td>\n",
       "      <td>NaN</td>\n",
       "      <td>4/27/21 7:00:00 PM EDT</td>\n",
       "      <td>71.38782</td>\n",
       "      <td>4/27/21 8:00:00 PM EDT</td>\n",
       "      <td>73.515594</td>\n",
       "      <td>4/27/21 8:00:00 PM EDT</td>\n",
       "      <td>72.24414</td>\n",
       "      <td>...</td>\n",
       "      <td>NaN</td>\n",
       "      <td>NaN</td>\n",
       "      <td>NaN</td>\n",
       "      <td>NaN</td>\n",
       "      <td>NaN</td>\n",
       "      <td>NaN</td>\n",
       "      <td>NaN</td>\n",
       "      <td>NaN</td>\n",
       "      <td>NaN</td>\n",
       "      <td>NaN</td>\n",
       "    </tr>\n",
       "    <tr>\n",
       "      <th>9</th>\n",
       "      <td>4/27/21 9:00:00 PM EDT</td>\n",
       "      <td>75.53958</td>\n",
       "      <td>NaN</td>\n",
       "      <td>NaN</td>\n",
       "      <td>4/27/21 8:00:00 PM EDT</td>\n",
       "      <td>71.07645</td>\n",
       "      <td>4/27/21 9:00:00 PM EDT</td>\n",
       "      <td>73.671295</td>\n",
       "      <td>4/27/21 9:00:00 PM EDT</td>\n",
       "      <td>73.12637</td>\n",
       "      <td>...</td>\n",
       "      <td>NaN</td>\n",
       "      <td>NaN</td>\n",
       "      <td>NaN</td>\n",
       "      <td>NaN</td>\n",
       "      <td>NaN</td>\n",
       "      <td>NaN</td>\n",
       "      <td>NaN</td>\n",
       "      <td>NaN</td>\n",
       "      <td>NaN</td>\n",
       "      <td>NaN</td>\n",
       "    </tr>\n",
       "  </tbody>\n",
       "</table>\n",
       "<p>10 rows × 40 columns</p>\n",
       "</div>"
      ],
      "application/vnd.deepnote.dataframe.v3+json": {
       "column_count": 40,
       "row_count": 10,
       "columns": [
        {
         "name": "TB15",
         "dtype": "object",
         "stats": {
          "unique_count": 10,
          "nan_count": 0,
          "categories": [
           {
            "name": "Time",
            "count": 1
           },
           {
            "name": "4/27/21 1:00:00 PM EDT",
            "count": 1
           },
           {
            "name": "8 others",
            "count": 8
           }
          ]
         }
        },
        {
         "name": "Unnamed: 1",
         "dtype": "object",
         "stats": {
          "unique_count": 9,
          "nan_count": 0,
          "categories": [
           {
            "name": "74.47571",
            "count": 2
           },
           {
            "name": "Trend (deg F)",
            "count": 1
           },
           {
            "name": "7 others",
            "count": 7
           }
          ]
         }
        },
        {
         "name": "T302",
         "dtype": "object",
         "stats": {
          "unique_count": 1,
          "nan_count": 9,
          "categories": [
           {
            "name": "Time",
            "count": 1
           },
           {
            "name": "Missing",
            "count": 9
           }
          ]
         }
        },
        {
         "name": "Unnamed: 3",
         "dtype": "object",
         "stats": {
          "unique_count": 1,
          "nan_count": 9,
          "categories": [
           {
            "name": "Trend (deg F)",
            "count": 1
           },
           {
            "name": "Missing",
            "count": 9
           }
          ]
         }
        },
        {
         "name": "T303",
         "dtype": "object",
         "stats": {
          "unique_count": 10,
          "nan_count": 0,
          "categories": [
           {
            "name": "Time",
            "count": 1
           },
           {
            "name": "4/27/21 12:00:00 PM EDT",
            "count": 1
           },
           {
            "name": "8 others",
            "count": 8
           }
          ]
         }
        },
        {
         "name": "Unnamed: 5",
         "dtype": "object",
         "stats": {
          "unique_count": 10,
          "nan_count": 0,
          "categories": [
           {
            "name": "Trend (deg F)",
            "count": 1
           },
           {
            "name": "71.69919",
            "count": 1
           },
           {
            "name": "8 others",
            "count": 8
           }
          ]
         }
        },
        {
         "name": "T446",
         "dtype": "object",
         "stats": {
          "unique_count": 10,
          "nan_count": 0,
          "categories": [
           {
            "name": "Time",
            "count": 1
           },
           {
            "name": "4/27/21 1:00:00 PM EDT",
            "count": 1
           },
           {
            "name": "8 others",
            "count": 8
           }
          ]
         }
        },
        {
         "name": "Unnamed: 7",
         "dtype": "object",
         "stats": {
          "unique_count": 8,
          "nan_count": 0,
          "categories": [
           {
            "name": "72.0625",
            "count": 2
           },
           {
            "name": "72.01059",
            "count": 2
           },
           {
            "name": "6 others",
            "count": 6
           }
          ]
         }
        },
        {
         "name": "T449",
         "dtype": "object",
         "stats": {
          "unique_count": 10,
          "nan_count": 0,
          "categories": [
           {
            "name": "Time",
            "count": 1
           },
           {
            "name": "4/27/21 1:00:00 PM EDT",
            "count": 1
           },
           {
            "name": "8 others",
            "count": 8
           }
          ]
         }
        },
        {
         "name": "Unnamed: 9",
         "dtype": "object",
         "stats": {
          "unique_count": 8,
          "nan_count": 0,
          "categories": [
           {
            "name": "72.86691",
            "count": 2
           },
           {
            "name": "73.12637",
            "count": 2
           },
           {
            "name": "6 others",
            "count": 6
           }
          ]
         }
        },
        {
         "name": "T454",
         "dtype": "object",
         "stats": {
          "unique_count": 10,
          "nan_count": 0,
          "categories": [
           {
            "name": "Time",
            "count": 1
           },
           {
            "name": "4/27/21 1:00:00 PM EDT",
            "count": 1
           },
           {
            "name": "8 others",
            "count": 8
           }
          ]
         }
        },
        {
         "name": "Unnamed: 11",
         "dtype": "object",
         "stats": {
          "unique_count": 10,
          "nan_count": 0,
          "categories": [
           {
            "name": "Trend (deg F)",
            "count": 1
           },
           {
            "name": "71.9068",
            "count": 1
           },
           {
            "name": "8 others",
            "count": 8
           }
          ]
         }
        },
        {
         "name": "T Building",
         "dtype": "object",
         "stats": {
          "unique_count": 1,
          "nan_count": 9,
          "categories": [
           {
            "name": "Time",
            "count": 1
           },
           {
            "name": "Missing",
            "count": 9
           }
          ]
         }
        },
        {
         "name": "Unnamed: 13",
         "dtype": "object",
         "stats": {
          "unique_count": 1,
          "nan_count": 9,
          "categories": [
           {
            "name": "OUTSIDE HUMIDTY.Trend (RH%)",
            "count": 1
           },
           {
            "name": "Missing",
            "count": 9
           }
          ]
         }
        },
        {
         "name": "T Building.1",
         "dtype": "object",
         "stats": {
          "unique_count": 1,
          "nan_count": 9,
          "categories": [
           {
            "name": "Time",
            "count": 1
           },
           {
            "name": "Missing",
            "count": 9
           }
          ]
         }
        },
        {
         "name": "Unnamed: 15",
         "dtype": "object",
         "stats": {
          "unique_count": 1,
          "nan_count": 9,
          "categories": [
           {
            "name": "OA-T.Trend (deg F)",
            "count": 1
           },
           {
            "name": "Missing",
            "count": 9
           }
          ]
         }
        },
        {
         "name": "T Building.2",
         "dtype": "object",
         "stats": {
          "unique_count": 1,
          "nan_count": 9,
          "categories": [
           {
            "name": "Time",
            "count": 1
           },
           {
            "name": "Missing",
            "count": 9
           }
          ]
         }
        },
        {
         "name": "Unnamed: 17",
         "dtype": "object",
         "stats": {
          "unique_count": 1,
          "nan_count": 9,
          "categories": [
           {
            "name": "OUTSIDE ENTHALPY.Trend (Btu/lb)",
            "count": 1
           },
           {
            "name": "Missing",
            "count": 9
           }
          ]
         }
        },
        {
         "name": "TB01",
         "dtype": "object",
         "stats": {
          "unique_count": 1,
          "nan_count": 9,
          "categories": [
           {
            "name": "Time",
            "count": 1
           },
           {
            "name": "Missing",
            "count": 9
           }
          ]
         }
        },
        {
         "name": "Unnamed: 19",
         "dtype": "object",
         "stats": {
          "unique_count": 1,
          "nan_count": 9,
          "categories": [
           {
            "name": "HUMIDITY %. Trend (%RH)",
            "count": 1
           },
           {
            "name": "Missing",
            "count": 9
           }
          ]
         }
        },
        {
         "name": "T454.1",
         "dtype": "object",
         "stats": {
          "unique_count": 1,
          "nan_count": 9,
          "categories": [
           {
            "name": "Time",
            "count": 1
           },
           {
            "name": "Missing",
            "count": 9
           }
          ]
         }
        },
        {
         "name": "Unnamed: 21",
         "dtype": "object",
         "stats": {
          "unique_count": 1,
          "nan_count": 9,
          "categories": [
           {
            "name": "HUMIDITY %. Trend (%RH)",
            "count": 1
           },
           {
            "name": "Missing",
            "count": 9
           }
          ]
         }
        },
        {
         "name": "H309",
         "dtype": "object",
         "stats": {
          "unique_count": 1,
          "nan_count": 9,
          "categories": [
           {
            "name": "Time",
            "count": 1
           },
           {
            "name": "Missing",
            "count": 9
           }
          ]
         }
        },
        {
         "name": "Unnamed: 23",
         "dtype": "object",
         "stats": {
          "unique_count": 1,
          "nan_count": 9,
          "categories": [
           {
            "name": "Trend (deg F)",
            "count": 1
           },
           {
            "name": "Missing",
            "count": 9
           }
          ]
         }
        },
        {
         "name": "H351",
         "dtype": "object",
         "stats": {
          "unique_count": 1,
          "nan_count": 9,
          "categories": [
           {
            "name": "Time",
            "count": 1
           },
           {
            "name": "Missing",
            "count": 9
           }
          ]
         }
        },
        {
         "name": "Unnamed: 25",
         "dtype": "object",
         "stats": {
          "unique_count": 1,
          "nan_count": 9,
          "categories": [
           {
            "name": "Trend (deg F)",
            "count": 1
           },
           {
            "name": "Missing",
            "count": 9
           }
          ]
         }
        },
        {
         "name": "H355",
         "dtype": "object",
         "stats": {
          "unique_count": 1,
          "nan_count": 9,
          "categories": [
           {
            "name": "Time",
            "count": 1
           },
           {
            "name": "Missing",
            "count": 9
           }
          ]
         }
        },
        {
         "name": "Unnamed: 27",
         "dtype": "object",
         "stats": {
          "unique_count": 1,
          "nan_count": 9,
          "categories": [
           {
            "name": "Trend (deg F)",
            "count": 1
           },
           {
            "name": "Missing",
            "count": 9
           }
          ]
         }
        },
        {
         "name": "H424",
         "dtype": "object",
         "stats": {
          "unique_count": 1,
          "nan_count": 9,
          "categories": [
           {
            "name": "Time",
            "count": 1
           },
           {
            "name": "Missing",
            "count": 9
           }
          ]
         }
        },
        {
         "name": "Unnamed: 29",
         "dtype": "object",
         "stats": {
          "unique_count": 1,
          "nan_count": 9,
          "categories": [
           {
            "name": "Trend (deg F)",
            "count": 1
           },
           {
            "name": "Missing",
            "count": 9
           }
          ]
         }
        },
        {
         "name": "H460",
         "dtype": "object",
         "stats": {
          "unique_count": 1,
          "nan_count": 9,
          "categories": [
           {
            "name": "Time",
            "count": 1
           },
           {
            "name": "Missing",
            "count": 9
           }
          ]
         }
        },
        {
         "name": "Unnamed: 31",
         "dtype": "object",
         "stats": {
          "unique_count": 1,
          "nan_count": 9,
          "categories": [
           {
            "name": "Trend (deg F)",
            "count": 1
           },
           {
            "name": "Missing",
            "count": 9
           }
          ]
         }
        },
        {
         "name": "H309.1",
         "dtype": "object",
         "stats": {
          "unique_count": 1,
          "nan_count": 9,
          "categories": [
           {
            "name": "Time",
            "count": 1
           },
           {
            "name": "Missing",
            "count": 9
           }
          ]
         }
        },
        {
         "name": "Unnamed: 33",
         "dtype": "object",
         "stats": {
          "unique_count": 1,
          "nan_count": 9,
          "categories": [
           {
            "name": "HUMIDITY %. Trend (%RH)",
            "count": 1
           },
           {
            "name": "Missing",
            "count": 9
           }
          ]
         }
        },
        {
         "name": "H353",
         "dtype": "object",
         "stats": {
          "unique_count": 1,
          "nan_count": 9,
          "categories": [
           {
            "name": "Time",
            "count": 1
           },
           {
            "name": "Missing",
            "count": 9
           }
          ]
         }
        },
        {
         "name": "Unnamed: 35",
         "dtype": "object",
         "stats": {
          "unique_count": 1,
          "nan_count": 9,
          "categories": [
           {
            "name": "HUMIDITY %. Trend (%RH)",
            "count": 1
           },
           {
            "name": "Missing",
            "count": 9
           }
          ]
         }
        },
        {
         "name": "H353.1",
         "dtype": "object",
         "stats": {
          "unique_count": 1,
          "nan_count": 9,
          "categories": [
           {
            "name": "Time",
            "count": 1
           },
           {
            "name": "Missing",
            "count": 9
           }
          ]
         }
        },
        {
         "name": "Unnamed: 37",
         "dtype": "object",
         "stats": {
          "unique_count": 1,
          "nan_count": 9,
          "categories": [
           {
            "name": "Trend (deg F)",
            "count": 1
           },
           {
            "name": "Missing",
            "count": 9
           }
          ]
         }
        },
        {
         "name": "TB01.1",
         "dtype": "object",
         "stats": {
          "unique_count": 1,
          "nan_count": 9,
          "categories": [
           {
            "name": "Time",
            "count": 1
           },
           {
            "name": "Missing",
            "count": 9
           }
          ]
         }
        },
        {
         "name": "Unnamed: 39",
         "dtype": "object",
         "stats": {
          "unique_count": 1,
          "nan_count": 9,
          "categories": [
           {
            "name": "Trend (deg F)",
            "count": 1
           },
           {
            "name": "Missing",
            "count": 9
           }
          ]
         }
        },
        {
         "name": "_deepnote_index_column",
         "dtype": "int64"
        }
       ],
       "rows": [
        {
         "TB15": "Time",
         "Unnamed: 1": "Trend (deg F)",
         "T302": "Time",
         "Unnamed: 3": "Trend (deg F)",
         "T303": "Time",
         "Unnamed: 5": "Trend (deg F)",
         "T446": "Time",
         "Unnamed: 7": "Trend (deg F)",
         "T449": "Time",
         "Unnamed: 9": "Trend (deg F)",
         "T454": "Time",
         "Unnamed: 11": "Trend (deg F)",
         "T Building": "Time",
         "Unnamed: 13": "OUTSIDE HUMIDTY.Trend (RH%)",
         "T Building.1": "Time",
         "Unnamed: 15": "OA-T.Trend (deg F)",
         "T Building.2": "Time",
         "Unnamed: 17": "OUTSIDE ENTHALPY.Trend (Btu/lb)",
         "TB01": "Time",
         "Unnamed: 19": "HUMIDITY %. Trend (%RH)",
         "T454.1": "Time",
         "Unnamed: 21": "HUMIDITY %. Trend (%RH)",
         "H309": "Time",
         "Unnamed: 23": "Trend (deg F)",
         "H351": "Time",
         "Unnamed: 25": "Trend (deg F)",
         "H355": "Time",
         "Unnamed: 27": "Trend (deg F)",
         "H424": "Time",
         "Unnamed: 29": "Trend (deg F)",
         "H460": "Time",
         "Unnamed: 31": "Trend (deg F)",
         "H309.1": "Time",
         "Unnamed: 33": "HUMIDITY %. Trend (%RH)",
         "H353": "Time",
         "Unnamed: 35": "HUMIDITY %. Trend (%RH)",
         "H353.1": "Time",
         "Unnamed: 37": "Trend (deg F)",
         "TB01.1": "Time",
         "Unnamed: 39": "Trend (deg F)",
         "_deepnote_index_column": 0
        },
        {
         "TB15": "4/27/21 1:00:00 PM EDT",
         "Unnamed: 1": "74.99469",
         "T302": "nan",
         "Unnamed: 3": "nan",
         "T303": "4/27/21 12:00:00 PM EDT",
         "Unnamed: 5": "71.69919",
         "T446": "4/27/21 1:00:00 PM EDT",
         "Unnamed: 7": "72.0625",
         "T449": "4/27/21 1:00:00 PM EDT",
         "Unnamed: 9": "72.86691",
         "T454": "4/27/21 1:00:00 PM EDT",
         "Unnamed: 11": "71.9068",
         "T Building": "nan",
         "Unnamed: 13": "nan",
         "T Building.1": "nan",
         "Unnamed: 15": "nan",
         "T Building.2": "nan",
         "Unnamed: 17": "nan",
         "TB01": "nan",
         "Unnamed: 19": "nan",
         "T454.1": "nan",
         "Unnamed: 21": "nan",
         "H309": "nan",
         "Unnamed: 23": "nan",
         "H351": "nan",
         "Unnamed: 25": "nan",
         "H355": "nan",
         "Unnamed: 27": "nan",
         "H424": "nan",
         "Unnamed: 29": "nan",
         "H460": "nan",
         "Unnamed: 31": "nan",
         "H309.1": "nan",
         "Unnamed: 33": "nan",
         "H353": "nan",
         "Unnamed: 35": "nan",
         "H353.1": "nan",
         "Unnamed: 37": "nan",
         "TB01.1": "nan",
         "Unnamed: 39": "nan",
         "_deepnote_index_column": 1
        },
        {
         "TB15": "4/27/21 2:00:00 PM EDT",
         "Unnamed: 1": "74.29407",
         "T302": "nan",
         "Unnamed: 3": "nan",
         "T303": "4/27/21 1:00:00 PM EDT",
         "Unnamed: 5": "71.7511",
         "T446": "4/27/21 2:00:00 PM EDT",
         "Unnamed: 7": "72.91879",
         "T449": "4/27/21 2:00:00 PM EDT",
         "Unnamed: 9": "72.45172",
         "T454": "4/27/21 2:00:00 PM EDT",
         "Unnamed: 11": "72.45172",
         "T Building": "nan",
         "Unnamed: 13": "nan",
         "T Building.1": "nan",
         "Unnamed: 15": "nan",
         "T Building.2": "nan",
         "Unnamed: 17": "nan",
         "TB01": "nan",
         "Unnamed: 19": "nan",
         "T454.1": "nan",
         "Unnamed: 21": "nan",
         "H309": "nan",
         "Unnamed: 23": "nan",
         "H351": "nan",
         "Unnamed: 25": "nan",
         "H355": "nan",
         "Unnamed: 27": "nan",
         "H424": "nan",
         "Unnamed: 29": "nan",
         "H460": "nan",
         "Unnamed: 31": "nan",
         "H309.1": "nan",
         "Unnamed: 33": "nan",
         "H353": "nan",
         "Unnamed: 35": "nan",
         "H353.1": "nan",
         "Unnamed: 37": "nan",
         "TB01.1": "nan",
         "Unnamed: 39": "nan",
         "_deepnote_index_column": 2
        },
        {
         "TB15": "4/27/21 3:00:00 PM EDT",
         "Unnamed: 1": "74.78711",
         "T302": "nan",
         "Unnamed: 3": "nan",
         "T303": "4/27/21 2:00:00 PM EDT",
         "Unnamed: 5": "71.64728",
         "T446": "4/27/21 3:00:00 PM EDT",
         "Unnamed: 7": "72.0625",
         "T449": "4/27/21 3:00:00 PM EDT",
         "Unnamed: 9": "72.55551",
         "T454": "4/27/21 3:00:00 PM EDT",
         "Unnamed: 11": "72.0625",
         "T Building": "nan",
         "Unnamed: 13": "nan",
         "T Building.1": "nan",
         "Unnamed: 15": "nan",
         "T Building.2": "nan",
         "Unnamed: 17": "nan",
         "TB01": "nan",
         "Unnamed: 19": "nan",
         "T454.1": "nan",
         "Unnamed: 21": "nan",
         "H309": "nan",
         "Unnamed: 23": "nan",
         "H351": "nan",
         "Unnamed: 25": "nan",
         "H355": "nan",
         "Unnamed: 27": "nan",
         "H424": "nan",
         "Unnamed: 29": "nan",
         "H460": "nan",
         "Unnamed: 31": "nan",
         "H309.1": "nan",
         "Unnamed: 33": "nan",
         "H353": "nan",
         "Unnamed: 35": "nan",
         "H353.1": "nan",
         "Unnamed: 37": "nan",
         "TB01.1": "nan",
         "Unnamed: 39": "nan",
         "_deepnote_index_column": 3
        },
        {
         "TB15": "4/27/21 4:00:00 PM EDT",
         "Unnamed: 1": "74.47571",
         "T302": "nan",
         "Unnamed: 3": "nan",
         "T303": "4/27/21 3:00:00 PM EDT",
         "Unnamed: 5": "70.06445",
         "T446": "4/27/21 4:00:00 PM EDT",
         "Unnamed: 7": "72.01059",
         "T449": "4/27/21 4:00:00 PM EDT",
         "Unnamed: 9": "72.71118",
         "T454": "4/27/21 4:00:00 PM EDT",
         "Unnamed: 11": "72.01059",
         "T Building": "nan",
         "Unnamed: 13": "nan",
         "T Building.1": "nan",
         "Unnamed: 15": "nan",
         "T Building.2": "nan",
         "Unnamed: 17": "nan",
         "TB01": "nan",
         "Unnamed: 19": "nan",
         "T454.1": "nan",
         "Unnamed: 21": "nan",
         "H309": "nan",
         "Unnamed: 23": "nan",
         "H351": "nan",
         "Unnamed: 25": "nan",
         "H355": "nan",
         "Unnamed: 27": "nan",
         "H424": "nan",
         "Unnamed: 29": "nan",
         "H460": "nan",
         "Unnamed: 31": "nan",
         "H309.1": "nan",
         "Unnamed: 33": "nan",
         "H353": "nan",
         "Unnamed: 35": "nan",
         "H353.1": "nan",
         "Unnamed: 37": "nan",
         "TB01.1": "nan",
         "Unnamed: 39": "nan",
         "_deepnote_index_column": 4
        },
        {
         "TB15": "4/27/21 5:00:00 PM EDT",
         "Unnamed: 1": "74.47571",
         "T302": "nan",
         "Unnamed: 3": "nan",
         "T303": "4/27/21 4:00:00 PM EDT",
         "Unnamed: 5": "70.583405",
         "T446": "4/27/21 5:00:00 PM EDT",
         "Unnamed: 7": "72.01059",
         "T449": "4/27/21 5:00:00 PM EDT",
         "Unnamed: 9": "72.86691",
         "T454": "4/27/21 5:00:00 PM EDT",
         "Unnamed: 11": "72.14032",
         "T Building": "nan",
         "Unnamed: 13": "nan",
         "T Building.1": "nan",
         "Unnamed: 15": "nan",
         "T Building.2": "nan",
         "Unnamed: 17": "nan",
         "TB01": "nan",
         "Unnamed: 19": "nan",
         "T454.1": "nan",
         "Unnamed: 21": "nan",
         "H309": "nan",
         "Unnamed: 23": "nan",
         "H351": "nan",
         "Unnamed: 25": "nan",
         "H355": "nan",
         "Unnamed: 27": "nan",
         "H424": "nan",
         "Unnamed: 29": "nan",
         "H460": "nan",
         "Unnamed: 31": "nan",
         "H309.1": "nan",
         "Unnamed: 33": "nan",
         "H353": "nan",
         "Unnamed: 35": "nan",
         "H353.1": "nan",
         "Unnamed: 37": "nan",
         "TB01.1": "nan",
         "Unnamed: 39": "nan",
         "_deepnote_index_column": 5
        },
        {
         "TB15": "4/27/21 6:00:00 PM EDT",
         "Unnamed: 1": "74.8909",
         "T302": "nan",
         "Unnamed: 3": "nan",
         "T303": "4/27/21 5:00:00 PM EDT",
         "Unnamed: 5": "70.920746",
         "T446": "4/27/21 6:00:00 PM EDT",
         "Unnamed: 7": "73.12637",
         "T449": "4/27/21 6:00:00 PM EDT",
         "Unnamed: 9": "73.12637",
         "T454": "4/27/21 6:00:00 PM EDT",
         "Unnamed: 11": "72.815",
         "T Building": "nan",
         "Unnamed: 13": "nan",
         "T Building.1": "nan",
         "Unnamed: 15": "nan",
         "T Building.2": "nan",
         "Unnamed: 17": "nan",
         "TB01": "nan",
         "Unnamed: 19": "nan",
         "T454.1": "nan",
         "Unnamed: 21": "nan",
         "H309": "nan",
         "Unnamed: 23": "nan",
         "H351": "nan",
         "Unnamed: 25": "nan",
         "H355": "nan",
         "Unnamed: 27": "nan",
         "H424": "nan",
         "Unnamed: 29": "nan",
         "H460": "nan",
         "Unnamed: 31": "nan",
         "H309.1": "nan",
         "Unnamed: 33": "nan",
         "H353": "nan",
         "Unnamed: 35": "nan",
         "H353.1": "nan",
         "Unnamed: 37": "nan",
         "TB01.1": "nan",
         "Unnamed: 39": "nan",
         "_deepnote_index_column": 6
        },
        {
         "TB15": "4/27/21 7:00:00 PM EDT",
         "Unnamed: 1": "75.20227",
         "T302": "nan",
         "Unnamed: 3": "nan",
         "T303": "4/27/21 6:00:00 PM EDT",
         "Unnamed: 5": "71.28403",
         "T446": "4/27/21 7:00:00 PM EDT",
         "Unnamed: 7": "73.411804",
         "T449": "4/27/21 7:00:00 PM EDT",
         "Unnamed: 9": "72.815",
         "T454": "4/27/21 7:00:00 PM EDT",
         "Unnamed: 11": "73.256134",
         "T Building": "nan",
         "Unnamed: 13": "nan",
         "T Building.1": "nan",
         "Unnamed: 15": "nan",
         "T Building.2": "nan",
         "Unnamed: 17": "nan",
         "TB01": "nan",
         "Unnamed: 19": "nan",
         "T454.1": "nan",
         "Unnamed: 21": "nan",
         "H309": "nan",
         "Unnamed: 23": "nan",
         "H351": "nan",
         "Unnamed: 25": "nan",
         "H355": "nan",
         "Unnamed: 27": "nan",
         "H424": "nan",
         "Unnamed: 29": "nan",
         "H460": "nan",
         "Unnamed: 31": "nan",
         "H309.1": "nan",
         "Unnamed: 33": "nan",
         "H353": "nan",
         "Unnamed: 35": "nan",
         "H353.1": "nan",
         "Unnamed: 37": "nan",
         "TB01.1": "nan",
         "Unnamed: 39": "nan",
         "_deepnote_index_column": 7
        },
        {
         "TB15": "4/27/21 8:00:00 PM EDT",
         "Unnamed: 1": "75.46176",
         "T302": "nan",
         "Unnamed: 3": "nan",
         "T303": "4/27/21 7:00:00 PM EDT",
         "Unnamed: 5": "71.38782",
         "T446": "4/27/21 8:00:00 PM EDT",
         "Unnamed: 7": "73.515594",
         "T449": "4/27/21 8:00:00 PM EDT",
         "Unnamed: 9": "72.24414",
         "T454": "4/27/21 8:00:00 PM EDT",
         "Unnamed: 11": "73.411804",
         "T Building": "nan",
         "Unnamed: 13": "nan",
         "T Building.1": "nan",
         "Unnamed: 15": "nan",
         "T Building.2": "nan",
         "Unnamed: 17": "nan",
         "TB01": "nan",
         "Unnamed: 19": "nan",
         "T454.1": "nan",
         "Unnamed: 21": "nan",
         "H309": "nan",
         "Unnamed: 23": "nan",
         "H351": "nan",
         "Unnamed: 25": "nan",
         "H355": "nan",
         "Unnamed: 27": "nan",
         "H424": "nan",
         "Unnamed: 29": "nan",
         "H460": "nan",
         "Unnamed: 31": "nan",
         "H309.1": "nan",
         "Unnamed: 33": "nan",
         "H353": "nan",
         "Unnamed: 35": "nan",
         "H353.1": "nan",
         "Unnamed: 37": "nan",
         "TB01.1": "nan",
         "Unnamed: 39": "nan",
         "_deepnote_index_column": 8
        },
        {
         "TB15": "4/27/21 9:00:00 PM EDT",
         "Unnamed: 1": "75.53958",
         "T302": "nan",
         "Unnamed: 3": "nan",
         "T303": "4/27/21 8:00:00 PM EDT",
         "Unnamed: 5": "71.07645",
         "T446": "4/27/21 9:00:00 PM EDT",
         "Unnamed: 7": "73.671295",
         "T449": "4/27/21 9:00:00 PM EDT",
         "Unnamed: 9": "73.12637",
         "T454": "4/27/21 9:00:00 PM EDT",
         "Unnamed: 11": "73.567505",
         "T Building": "nan",
         "Unnamed: 13": "nan",
         "T Building.1": "nan",
         "Unnamed: 15": "nan",
         "T Building.2": "nan",
         "Unnamed: 17": "nan",
         "TB01": "nan",
         "Unnamed: 19": "nan",
         "T454.1": "nan",
         "Unnamed: 21": "nan",
         "H309": "nan",
         "Unnamed: 23": "nan",
         "H351": "nan",
         "Unnamed: 25": "nan",
         "H355": "nan",
         "Unnamed: 27": "nan",
         "H424": "nan",
         "Unnamed: 29": "nan",
         "H460": "nan",
         "Unnamed: 31": "nan",
         "H309.1": "nan",
         "Unnamed: 33": "nan",
         "H353": "nan",
         "Unnamed: 35": "nan",
         "H353.1": "nan",
         "Unnamed: 37": "nan",
         "TB01.1": "nan",
         "Unnamed: 39": "nan",
         "_deepnote_index_column": 9
        }
       ]
      }
     },
     "metadata": {},
     "execution_count": 2
    }
   ],
   "metadata": {
    "tags": [],
    "deepnote_to_be_reexecuted": false,
    "source_hash": "f6405d54",
    "execution_start": 1640550083959,
    "execution_millis": 559,
    "cell_id": "00003-aa0aebab-2279-4a8f-8869-67a08c136afa",
    "deepnote_cell_type": "code"
   }
  },
  {
   "cell_type": "markdown",
   "source": [
    "## Raw Data Analysis\n",
    "What the data is trying to show is the temperature or humidity measurements for each lab for each time step. As we can see, there are some problems with the raw data that make it hard to process:\n",
    "\n",
    "1. For each lab, we have the <em>x</em> column (Time) and the <em>y</em> column (Temperature or Humidity). Because of the structure of the dataframe, if you query a lab name, you will only get the column of time steps because the <em>y</em> column is under an 'Unnamed' header.\n",
    "\n",
    "2. For some columns, such as Lab TB01, the information is very scattered and temperature is found in a different spot than the data for humidity, meaning there are multiple column headers for 'TB01'\n",
    "\n",
    "3. Some columns and subcolumns are unlabeled or labeled differently (lab name uses 'Hamilton' instead of 'H')."
   ],
   "metadata": {
    "cell_id": "00004-1792c42d-223e-4ce7-8070-a2b75205a659",
    "deepnote_cell_type": "markdown"
   }
  },
  {
   "cell_type": "markdown",
   "source": [
    "## Initial Data Transformation\n",
    "To address the problems above, we'll perform the following transformations on the data:\n",
    "<ul>\n",
    "    <li>Before opening and reading the csv file into our program, we make the following changes (if needed) to the file:\n",
    "        <ul>\n",
    "            <li>Make sure all lab names begin with the first letter of the building name ('T' or 'H') followed by their building number (ex: H309).</li>\n",
    "            <li>Make sure all columns related to a specific lab are consolidated in one place, for example, all meausurements for TB01 are in consecutive columns such that there is only one `Time` column for  TB01.</li>\n",
    "            <li>Make sure all subcolumns are named and are identical across all labs. In this case, all columns for temperature have been named 'Trend (deg F)' and all columns for humidity have been named `HUMIDITY %. Trend (%RH)`.</li>\n",
    "            <li>General metrics that include building measurements (ex: Outside Temperature) should be named `T Building` or `H Building`. What matters is the key word 'Building.'</li>\n",
    "            <li>Note: in order for the program to run, the structure of the data must match this exactly, including the namings for the columns and subcolumns. The transformed csv file can be found in 'Documentation'.</li>\n",
    "        </ul>\n",
    "    </li>\n",
    "    <li>Next, we'll alter the overarching data structure `labs` to be a collection of dataframes rather than just one dataframe that contains all the information. The keys of the this dictionary will be the lab name which will point to a dataframe which contains columns for Time, Temperature, and Humidity (if applicable).</li>\n",
    "    <li>Finally, to store the general metrics, we create a deparate dataframe called `TlabGeneral` to store measurements regarding 'T Building.'</li>\n",
    "</ul>"
   ],
   "metadata": {
    "cell_id": "00005-fc535b83-9b1a-4ef2-a254-58c5d372267f",
    "deepnote_cell_type": "markdown"
   }
  },
  {
   "cell_type": "code",
   "execution_count": 3,
   "source": [
    "labs = {}\n",
    "TlabGeneral = pd.DataFrame(columns=[])\n",
    "\n",
    "for col in df:\n",
    "    # the structure of the data implies the info under each named column (i.e. 'TB01') is the Time column\n",
    "    if 'Unnamed' not in col:\n",
    "        # get the column to the right of the Time column (i.e. Temperature column)\n",
    "        temp_col = df.iloc[:,df.columns.get_indexer([col])+1]\n",
    "        for a in temp_col:\n",
    "            next_col = temp_col[a]\n",
    "        col1 = df[col][1:]\n",
    "        col2 = next_col[1:]\n",
    "\n",
    "        # if lab has already been visited, just insert new column into the existing dataframe for that lab\n",
    "        if col[:4] in labs:\n",
    "            labs[col[:4]][next_col[0]] = col2\n",
    "        else:\n",
    "            # otherwise, create a new dataframe for that lab\n",
    "            df2 = pd.DataFrame(columns=[df[col][0],next_col[0]])\n",
    "            df2[df[col][0]] = col1\n",
    "            df2[next_col[0]] = col2\n",
    "\n",
    "            # add to general metrics data structure\n",
    "            if 'Building' in col:\n",
    "                if df[col][0] not in TlabGeneral.columns:\n",
    "                    TlabGeneral[df[col][0]] = col1\n",
    "                TlabGeneral[next_col[0]] = col2\n",
    "            # add to labs data structure\n",
    "            else:\n",
    "                labs[col[:4]] = df2\n",
    "print(labs)"
   ],
   "outputs": [
    {
     "output_type": "stream",
     "name": "stdout",
     "text": [
      "{'TB15':                         Time Trend (deg F)\n",
      "1     4/27/21 1:00:00 PM EDT      74.99469\n",
      "2     4/27/21 2:00:00 PM EDT      74.29407\n",
      "3     4/27/21 3:00:00 PM EDT      74.78711\n",
      "4     4/27/21 4:00:00 PM EDT      74.47571\n",
      "5     4/27/21 5:00:00 PM EDT      74.47571\n",
      "...                      ...           ...\n",
      "3231             9/9/21 3:00          73.5\n",
      "3232             9/9/21 4:00          73.5\n",
      "3233             9/9/21 5:00          73.5\n",
      "3234             9/9/21 6:00          72.7\n",
      "3235             9/9/21 7:00          72.7\n",
      "\n",
      "[3235 rows x 2 columns], 'T302':              Time Trend (deg F)\n",
      "1             NaN           NaN\n",
      "2             NaN           NaN\n",
      "3             NaN           NaN\n",
      "4             NaN           NaN\n",
      "5             NaN           NaN\n",
      "...           ...           ...\n",
      "3231  9/9/21 3:00          72.3\n",
      "3232  9/9/21 4:00          72.3\n",
      "3233  9/9/21 5:00          72.3\n",
      "3234  9/9/21 6:00          72.2\n",
      "3235  9/9/21 7:00          72.2\n",
      "\n",
      "[3235 rows x 2 columns], 'T303':                          Time Trend (deg F)\n",
      "1     4/27/21 12:00:00 PM EDT      71.69919\n",
      "2      4/27/21 1:00:00 PM EDT       71.7511\n",
      "3      4/27/21 2:00:00 PM EDT      71.64728\n",
      "4      4/27/21 3:00:00 PM EDT      70.06445\n",
      "5      4/27/21 4:00:00 PM EDT     70.583405\n",
      "...                       ...           ...\n",
      "3231              9/9/21 3:00          69.4\n",
      "3232              9/9/21 4:00          69.6\n",
      "3233              9/9/21 5:00          70.2\n",
      "3234              9/9/21 6:00          70.2\n",
      "3235              9/9/21 7:00          70.4\n",
      "\n",
      "[3235 rows x 2 columns], 'T446':                         Time Trend (deg F)\n",
      "1     4/27/21 1:00:00 PM EDT       72.0625\n",
      "2     4/27/21 2:00:00 PM EDT      72.91879\n",
      "3     4/27/21 3:00:00 PM EDT       72.0625\n",
      "4     4/27/21 4:00:00 PM EDT      72.01059\n",
      "5     4/27/21 5:00:00 PM EDT      72.01059\n",
      "...                      ...           ...\n",
      "3231             9/9/21 3:00          69.2\n",
      "3232             9/9/21 4:00          69.1\n",
      "3233             9/9/21 5:00          68.9\n",
      "3234             9/9/21 6:00          68.8\n",
      "3235             9/9/21 7:00          68.9\n",
      "\n",
      "[3235 rows x 2 columns], 'T449':                         Time Trend (deg F)\n",
      "1     4/27/21 1:00:00 PM EDT      72.86691\n",
      "2     4/27/21 2:00:00 PM EDT      72.45172\n",
      "3     4/27/21 3:00:00 PM EDT      72.55551\n",
      "4     4/27/21 4:00:00 PM EDT      72.71118\n",
      "5     4/27/21 5:00:00 PM EDT      72.86691\n",
      "...                      ...           ...\n",
      "3231             9/9/21 3:00            72\n",
      "3232             9/9/21 4:00          71.9\n",
      "3233             9/9/21 5:00          71.9\n",
      "3234             9/9/21 6:00          71.9\n",
      "3235             9/9/21 7:00          71.8\n",
      "\n",
      "[3235 rows x 2 columns], 'T454':                         Time Trend (deg F) HUMIDITY %. Trend (%RH)\n",
      "1     4/27/21 1:00:00 PM EDT       71.9068                     NaN\n",
      "2     4/27/21 2:00:00 PM EDT      72.45172                     NaN\n",
      "3     4/27/21 3:00:00 PM EDT       72.0625                     NaN\n",
      "4     4/27/21 4:00:00 PM EDT      72.01059                     NaN\n",
      "5     4/27/21 5:00:00 PM EDT      72.14032                     NaN\n",
      "...                      ...           ...                     ...\n",
      "3231             9/9/21 3:00          73.8                    60.9\n",
      "3232             9/9/21 4:00          73.7                    60.6\n",
      "3233             9/9/21 5:00            74                      60\n",
      "3234             9/9/21 6:00          74.1                    58.6\n",
      "3235             9/9/21 7:00            74                    55.4\n",
      "\n",
      "[3235 rows x 3 columns], 'TB01':              Time HUMIDITY %. Trend (%RH) Trend (deg F)\n",
      "1             NaN                     NaN           NaN\n",
      "2             NaN                     NaN           NaN\n",
      "3             NaN                     NaN           NaN\n",
      "4             NaN                     NaN           NaN\n",
      "5             NaN                     NaN           NaN\n",
      "...           ...                     ...           ...\n",
      "3231  9/9/21 3:00                    57.7          72.7\n",
      "3232  9/9/21 4:00                    57.8          72.6\n",
      "3233  9/9/21 5:00                    56.7          72.6\n",
      "3234  9/9/21 6:00                    56.2          72.6\n",
      "3235  9/9/21 7:00                    55.5          72.6\n",
      "\n",
      "[3235 rows x 3 columns], 'H309':              Time Trend (deg F) HUMIDITY %. Trend (%RH)\n",
      "1             NaN           NaN                     NaN\n",
      "2             NaN           NaN                     NaN\n",
      "3             NaN           NaN                     NaN\n",
      "4             NaN           NaN                     NaN\n",
      "5             NaN           NaN                     NaN\n",
      "...           ...           ...                     ...\n",
      "3231  9/9/21 3:00            70                      48\n",
      "3232  9/9/21 4:00            70                      47\n",
      "3233  9/9/21 5:00            70                      48\n",
      "3234  9/9/21 6:00          70.1                      49\n",
      "3235  9/9/21 7:00          69.5                      51\n",
      "\n",
      "[3235 rows x 3 columns], 'H351':              Time Trend (deg F)\n",
      "1             NaN           NaN\n",
      "2             NaN           NaN\n",
      "3             NaN           NaN\n",
      "4             NaN           NaN\n",
      "5             NaN           NaN\n",
      "...           ...           ...\n",
      "3231  9/9/21 3:00          69.9\n",
      "3232  9/9/21 4:00          69.9\n",
      "3233  9/9/21 5:00          69.9\n",
      "3234  9/9/21 6:00          69.8\n",
      "3235  9/9/21 7:00          69.9\n",
      "\n",
      "[3235 rows x 2 columns], 'H355':              Time Trend (deg F)\n",
      "1             NaN           NaN\n",
      "2             NaN           NaN\n",
      "3             NaN           NaN\n",
      "4             NaN           NaN\n",
      "5             NaN           NaN\n",
      "...           ...           ...\n",
      "3231  9/9/21 3:00          68.7\n",
      "3232  9/9/21 4:00          68.7\n",
      "3233  9/9/21 5:00          68.7\n",
      "3234  9/9/21 6:00          68.6\n",
      "3235  9/9/21 7:00          68.6\n",
      "\n",
      "[3235 rows x 2 columns], 'H424':              Time Trend (deg F)\n",
      "1             NaN           NaN\n",
      "2             NaN           NaN\n",
      "3             NaN           NaN\n",
      "4             NaN           NaN\n",
      "5             NaN           NaN\n",
      "...           ...           ...\n",
      "3231  9/9/21 3:00          70.6\n",
      "3232  9/9/21 4:00          70.6\n",
      "3233  9/9/21 5:00          70.6\n",
      "3234  9/9/21 6:00          70.6\n",
      "3235  9/9/21 7:00          70.4\n",
      "\n",
      "[3235 rows x 2 columns], 'H460':              Time Trend (deg F)\n",
      "1             NaN           NaN\n",
      "2             NaN           NaN\n",
      "3             NaN           NaN\n",
      "4             NaN           NaN\n",
      "5             NaN           NaN\n",
      "...           ...           ...\n",
      "3231  9/9/21 3:00          71.3\n",
      "3232  9/9/21 4:00          71.1\n",
      "3233  9/9/21 5:00          70.9\n",
      "3234  9/9/21 6:00          70.6\n",
      "3235  9/9/21 7:00          69.8\n",
      "\n",
      "[3235 rows x 2 columns], 'H353':              Time HUMIDITY %. Trend (%RH) Trend (deg F)\n",
      "1             NaN                     NaN           NaN\n",
      "2             NaN                     NaN           NaN\n",
      "3             NaN                     NaN           NaN\n",
      "4             NaN                     NaN           NaN\n",
      "5             NaN                     NaN           NaN\n",
      "...           ...                     ...           ...\n",
      "3231  9/9/21 3:00                      60          70.6\n",
      "3232  9/9/21 4:00                      59          70.6\n",
      "3233  9/9/21 5:00                      59          70.5\n",
      "3234  9/9/21 6:00                      60          70.5\n",
      "3235  9/9/21 7:00                      58          70.4\n",
      "\n",
      "[3235 rows x 3 columns]}\n"
     ]
    }
   ],
   "metadata": {
    "tags": [],
    "deepnote_to_be_reexecuted": false,
    "source_hash": "3545af8",
    "execution_start": 1640550084524,
    "execution_millis": 254,
    "cell_id": "00006-06bf1d0f-660e-489e-b635-a1d96d9e67d5",
    "deepnote_cell_type": "code"
   }
  },
  {
   "cell_type": "code",
   "execution_count": 4,
   "source": [
    "# drop all null values\n",
    "\n",
    "for lab in labs.values():\n",
    "    lab.dropna(inplace=True)\n",
    "    \n",
    "TlabGeneral.dropna(inplace=True)"
   ],
   "outputs": [],
   "metadata": {
    "tags": [],
    "deepnote_to_be_reexecuted": false,
    "source_hash": "2b0441db",
    "execution_start": 1640550084786,
    "execution_millis": 52,
    "cell_id": "00007-6d96bc9b-8b8c-4956-b5b4-0ba003e7dba9",
    "deepnote_cell_type": "code"
   }
  },
  {
   "cell_type": "markdown",
   "source": [
    "### Column Adjustment and Setback\n",
    "\n",
    "`labsetback` is a dictionary used to store the setback information for all of the labs. Each lab has three conditions for the three time periods:\n",
    "<ul>\n",
    "    <li>Past - 7/28/21</li>\n",
    "    <li>7/29/21 - 11/9/21</li>\n",
    "    <li>11/10/21 - Present</li>\n",
    "</ul>\n",
    "\n",
    "The limits of these three time period can be found and altered in the `if` statements of `prepareCols()` below. Dates are formatted in datetime format such that `datetime.time(6, 0)` indicates 6 hours and 0 minutes or 6:00, and `datetime.datetime(2021, 7, 28)` indicates 7/28/2021 in month/day/year format. In `labsetback`, there is a start time and end time for each of the time periods. For example for lab H309, the first tuple is `(datetime.time(6, 0), datetime.time(18, 0))`, meaning that for Past - 7/28/21, the setback is turned on at 18:00 (or 6:00pm) and turned off at 6:00 (or 6:00am)."
   ],
   "metadata": {
    "tags": [],
    "cell_id": "00008-6045e1d1-16f1-4eb4-be99-f7c1499a4925",
    "deepnote_cell_type": "markdown"
   }
  },
  {
   "cell_type": "code",
   "execution_count": 5,
   "source": [
    "labsetback = {\n",
    "    'H309': [\n",
    "        (datetime.time(6, 0), datetime.time(18, 0)), \n",
    "        (datetime.time(0, 0), datetime.time(0, 0)), \n",
    "        (datetime.time(5, 0), datetime.time(19, 0))\n",
    "    ],\n",
    "    'H351': [\n",
    "        (datetime.time(6, 0), datetime.time(18, 0)), \n",
    "        (datetime.time(0, 0), datetime.time(0, 0)), \n",
    "        (datetime.time(5, 0), datetime.time(19, 0))\n",
    "    ],\n",
    "    'H353': [\n",
    "        (datetime.time(6, 0), datetime.time(18, 0)), \n",
    "        (datetime.time(0, 0), datetime.time(0, 0)), \n",
    "        (datetime.time(5, 0), datetime.time(19, 0))\n",
    "    ],\n",
    "    'H355': [\n",
    "        (datetime.time(6, 0), datetime.time(18, 0)), \n",
    "        (datetime.time(0, 0), datetime.time(0, 0)), \n",
    "        (datetime.time(5, 0), datetime.time(19, 0))\n",
    "    ],\n",
    "    'H424': [\n",
    "        (datetime.time(6, 0), datetime.time(18, 0)), \n",
    "        (datetime.time(0, 0), datetime.time(0, 0)), \n",
    "        (datetime.time(5, 0), datetime.time(19, 0))\n",
    "    ],\n",
    "    'H460': [\n",
    "        (datetime.time(6, 0), datetime.time(18, 0)), \n",
    "        (datetime.time(0, 0), datetime.time(0, 0)), \n",
    "        (datetime.time(5, 0), datetime.time(19, 0))\n",
    "    ],\n",
    "    'TB01': [\n",
    "        (datetime.time(6, 0), datetime.time(19, 0)), \n",
    "        (datetime.time(0, 0), datetime.time(0, 0)), \n",
    "        (datetime.time(5, 0), datetime.time(19, 0))\n",
    "    ],\n",
    "    'T446': [\n",
    "        (datetime.time(0, 0), datetime.time(0, 0)), \n",
    "        (datetime.time(0, 0), datetime.time(0, 0)), \n",
    "        (datetime.time(0, 0), datetime.time(0, 0))\n",
    "    ],\n",
    "    'T302': [\n",
    "        (datetime.time(0, 0), datetime.time(0, 0)), \n",
    "        (datetime.time(0, 0), datetime.time(0, 0)), \n",
    "        (datetime.time(0, 0), datetime.time(0, 0))\n",
    "    ],\n",
    "    'T303': [\n",
    "        (datetime.time(0, 0), datetime.time(0, 0)), \n",
    "        (datetime.time(0, 0), datetime.time(0, 0)), \n",
    "        (datetime.time(0, 0), datetime.time(0, 0))\n",
    "    ],\n",
    "}"
   ],
   "outputs": [],
   "metadata": {
    "tags": [],
    "deepnote_to_be_reexecuted": false,
    "source_hash": "c62ff7f3",
    "execution_start": 1640550084842,
    "execution_millis": 49,
    "cell_id": "00009-a18d0dd6-dae1-4505-840c-6aa16c7a1fd3",
    "deepnote_cell_type": "code"
   }
  },
  {
   "cell_type": "markdown",
   "source": [
    "#### Hour and Month Parameters\n",
    "Rather than doing a time series split, we thought that the hour of the day and the month was more important than the sequential temporal order of the data. We consider the hour of the day since the setback condition and internal lab conditions often change similarly throughout the day, and we consider the month to account for seasonal cycles.\n",
    "\n",
    "Note: `prepareCols()` takes in the lab data (dataframe) as well as its name (string). Thus, an example call would be `prepareCols(labs['TB01'], 'TB01')` where `labs['TB01']` fetches the specific dataframe from the `labs` dictionary."
   ],
   "metadata": {
    "tags": [],
    "cell_id": "00010-27ab3111-b63c-4f9c-b12a-443a76616506",
    "deepnote_cell_type": "markdown"
   }
  },
  {
   "cell_type": "code",
   "execution_count": 6,
   "source": [
    "def prepareCols(lab, labname):\n",
    "    datetimes = pd.to_datetime(lab['Time'])\n",
    "    lab['Hour'] = [datetime.datetime.time(d) for d in datetimes]\n",
    "    lab['Month'] = [d.month for d in datetimes]\n",
    "    # lab['Weekday'] = pd.to_datetime(lab['Time']).apply(lambda x: x.weekday())\n",
    "\n",
    "    if labname in labsetback:\n",
    "        setbacks = []\n",
    "        setbackdict = labsetback[labname]\n",
    "\n",
    "        for index, row in lab.iterrows():\n",
    "            # first time period Past - 7/28/21\n",
    "            if pd.to_datetime(row['Time']) <= datetime.datetime(2021, 7, 28):\n",
    "                end, start = setbackdict[0]\n",
    "                if row['Hour'] <= end or row['Hour'] >= start:\n",
    "                    setbacks.append(1)\n",
    "                else:\n",
    "                    setbacks.append(0)\n",
    "            # second time period 7/29/21 - 11/9/2021\n",
    "            elif pd.to_datetime(row['Time']) <= datetime.datetime(2021, 11, 9):\n",
    "                end, start = setbackdict[1]\n",
    "                if row['Hour'] <= end or row['Hour'] >= start:\n",
    "                    setbacks.append(1)\n",
    "                else:\n",
    "                    setbacks.append(0)\n",
    "            # third time period 11/10/21 - Present\n",
    "            else:\n",
    "                end, start = setbackdict[2]\n",
    "                if row['Hour'] <= end or row['Hour'] >= start:\n",
    "                    setbacks.append(1)\n",
    "                else:\n",
    "                    setbacks.append(0)\n",
    "    # if lab is not in labsetback, it means setback is never turned on\n",
    "    else:\n",
    "        setbacks = [0] * len(datetimes)\n",
    "\n",
    "\n",
    "\n",
    "    lab['Setback'] = setbacks\n",
    "    # lab.drop([\"Weekday\"], 1, inplace=True)\n",
    "\n",
    "    for index, row in lab.iterrows():\n",
    "        lab.loc[index, 'Hour'] = row['Hour'].hour\n",
    "\n",
    "    return lab\n"
   ],
   "outputs": [],
   "metadata": {
    "tags": [],
    "deepnote_to_be_reexecuted": false,
    "source_hash": "44cf83ef",
    "execution_start": 1640550084905,
    "execution_millis": 22,
    "cell_id": "00010-76a2cd8c-8888-4dea-8f2b-163bc8c6986d",
    "deepnote_cell_type": "code"
   }
  },
  {
   "cell_type": "markdown",
   "source": [
    "### Adding General Metrics\n",
    "\n",
    "We write `addGeneral()` to add Outside Temperature as a parameter in our temperature model.\n",
    "<br />\n",
    "Note: Measurements for Outside Temperature for the general T Building do not begin until after measurements for individual labs have already begun. To keep the data consistent in the training and testing of our model, we drop all data for the timesteps that are missing one or more of the parameters. So if Outside Temperature is not measured for the first 100 timesteps, we drop all of the data for those first 100 timesteps and do not take it into account for our model. We only consider data where all measurements - Time, Temperature, Setback, Outside Temperature - exist."
   ],
   "metadata": {
    "tags": [],
    "cell_id": "00012-d0f12c4a-2ea6-4608-a5ec-9bfb8e9b9380",
    "deepnote_cell_type": "markdown"
   }
  },
  {
   "cell_type": "code",
   "execution_count": 7,
   "source": [
    "def addGeneral(lab, TlabGeneral):\n",
    "    lab['Outside Temp'] = [np.nan] * len(list(lab['Time']))\n",
    "    for index, row in lab.iterrows():\n",
    "        gen_row = np.where(TlabGeneral[\"Time\"] == row['Time'])\n",
    "        if gen_row[0]:\n",
    "            lab.loc[index, 'Outside Temp'] = TlabGeneral.iloc[gen_row[0][0]]['OA-T.Trend (deg F)']\n",
    "    lab.dropna(inplace=True)\n",
    "    print(lab)\n",
    "    return lab\n"
   ],
   "outputs": [],
   "metadata": {
    "tags": [],
    "deepnote_to_be_reexecuted": false,
    "source_hash": "a14ba27",
    "execution_start": 1640550084936,
    "execution_millis": 17,
    "cell_id": "00013-44baec20-c87a-4d25-a4d0-a693c5bebe48",
    "deepnote_cell_type": "code"
   }
  },
  {
   "cell_type": "markdown",
   "source": [
    "### Summary Lab\n",
    "\n",
    "This dataframe contains all the data about the features for each lab. As shown in the table, these include features such as number of windows, quantitiy of hoods, floor number, and equipment systems."
   ],
   "metadata": {
    "tags": [],
    "cell_id": "00014-a84c743c-9380-48a0-b2b0-f954d2d70997",
    "deepnote_cell_type": "markdown"
   }
  },
  {
   "cell_type": "code",
   "execution_count": 8,
   "source": [
    "path = \"./HVACSummary.csv\"\n",
    "df_s = pd.read_csv(path)\n",
    "df_s.head()"
   ],
   "outputs": [
    {
     "output_type": "execute_result",
     "data": {
      "text/plain": [
       "  LabTitle Building   Room # Floor  Qty of Hoods  Windows (North)  \\\n",
       "0     TB15        T     B-15   B-1           1.0              NaN   \n",
       "1     T302        T      302     3           1.0              NaN   \n",
       "2     T303        T      303     3           1.0              NaN   \n",
       "3     T446        T      446     4           1.0              NaN   \n",
       "4     T449        T  449/451     4           1.0              NaN   \n",
       "\n",
       "   Windows (West)  Windows (South)  Windows (East) Augmented Controls  \\\n",
       "0             NaN              NaN             2.0             A/C-43   \n",
       "1             2.0              NaN             NaN             A/C-23   \n",
       "2             NaN              NaN             2.0            A/C-23A   \n",
       "3             2.0              NaN             NaN             A/C-22   \n",
       "4             NaN              NaN             2.0            A/C-13B   \n",
       "\n",
       "           Sensors Description HVAC Systems Supplying Room  \\\n",
       "0  JCI  TE-6314P-1 Temperature                       AHU-8   \n",
       "1              JCI  TE-6314P-1                       AHU-6   \n",
       "2              JCI  TE-6314P-1                       AHU-8   \n",
       "3              JCI  TE-6314P-1                      AHU-12   \n",
       "4              JCI  TE-6314P-1                      AHU-15   \n",
       "\n",
       "  Exhaust/Return System  Unnamed: 13  \n",
       "0                  EF-4          NaN  \n",
       "1                  EF-4          NaN  \n",
       "2                  EF-4          NaN  \n",
       "3                 EF-11          NaN  \n",
       "4                 EF-11          NaN  "
      ],
      "text/html": [
       "<div>\n",
       "<style scoped>\n",
       "    .dataframe tbody tr th:only-of-type {\n",
       "        vertical-align: middle;\n",
       "    }\n",
       "\n",
       "    .dataframe tbody tr th {\n",
       "        vertical-align: top;\n",
       "    }\n",
       "\n",
       "    .dataframe thead th {\n",
       "        text-align: right;\n",
       "    }\n",
       "</style>\n",
       "<table border=\"1\" class=\"dataframe\">\n",
       "  <thead>\n",
       "    <tr style=\"text-align: right;\">\n",
       "      <th></th>\n",
       "      <th>LabTitle</th>\n",
       "      <th>Building</th>\n",
       "      <th>Room #</th>\n",
       "      <th>Floor</th>\n",
       "      <th>Qty of Hoods</th>\n",
       "      <th>Windows (North)</th>\n",
       "      <th>Windows (West)</th>\n",
       "      <th>Windows (South)</th>\n",
       "      <th>Windows (East)</th>\n",
       "      <th>Augmented Controls</th>\n",
       "      <th>Sensors Description</th>\n",
       "      <th>HVAC Systems Supplying Room</th>\n",
       "      <th>Exhaust/Return System</th>\n",
       "      <th>Unnamed: 13</th>\n",
       "    </tr>\n",
       "  </thead>\n",
       "  <tbody>\n",
       "    <tr>\n",
       "      <th>0</th>\n",
       "      <td>TB15</td>\n",
       "      <td>T</td>\n",
       "      <td>B-15</td>\n",
       "      <td>B-1</td>\n",
       "      <td>1.0</td>\n",
       "      <td>NaN</td>\n",
       "      <td>NaN</td>\n",
       "      <td>NaN</td>\n",
       "      <td>2.0</td>\n",
       "      <td>A/C-43</td>\n",
       "      <td>JCI  TE-6314P-1 Temperature</td>\n",
       "      <td>AHU-8</td>\n",
       "      <td>EF-4</td>\n",
       "      <td>NaN</td>\n",
       "    </tr>\n",
       "    <tr>\n",
       "      <th>1</th>\n",
       "      <td>T302</td>\n",
       "      <td>T</td>\n",
       "      <td>302</td>\n",
       "      <td>3</td>\n",
       "      <td>1.0</td>\n",
       "      <td>NaN</td>\n",
       "      <td>2.0</td>\n",
       "      <td>NaN</td>\n",
       "      <td>NaN</td>\n",
       "      <td>A/C-23</td>\n",
       "      <td>JCI  TE-6314P-1</td>\n",
       "      <td>AHU-6</td>\n",
       "      <td>EF-4</td>\n",
       "      <td>NaN</td>\n",
       "    </tr>\n",
       "    <tr>\n",
       "      <th>2</th>\n",
       "      <td>T303</td>\n",
       "      <td>T</td>\n",
       "      <td>303</td>\n",
       "      <td>3</td>\n",
       "      <td>1.0</td>\n",
       "      <td>NaN</td>\n",
       "      <td>NaN</td>\n",
       "      <td>NaN</td>\n",
       "      <td>2.0</td>\n",
       "      <td>A/C-23A</td>\n",
       "      <td>JCI  TE-6314P-1</td>\n",
       "      <td>AHU-8</td>\n",
       "      <td>EF-4</td>\n",
       "      <td>NaN</td>\n",
       "    </tr>\n",
       "    <tr>\n",
       "      <th>3</th>\n",
       "      <td>T446</td>\n",
       "      <td>T</td>\n",
       "      <td>446</td>\n",
       "      <td>4</td>\n",
       "      <td>1.0</td>\n",
       "      <td>NaN</td>\n",
       "      <td>2.0</td>\n",
       "      <td>NaN</td>\n",
       "      <td>NaN</td>\n",
       "      <td>A/C-22</td>\n",
       "      <td>JCI  TE-6314P-1</td>\n",
       "      <td>AHU-12</td>\n",
       "      <td>EF-11</td>\n",
       "      <td>NaN</td>\n",
       "    </tr>\n",
       "    <tr>\n",
       "      <th>4</th>\n",
       "      <td>T449</td>\n",
       "      <td>T</td>\n",
       "      <td>449/451</td>\n",
       "      <td>4</td>\n",
       "      <td>1.0</td>\n",
       "      <td>NaN</td>\n",
       "      <td>NaN</td>\n",
       "      <td>NaN</td>\n",
       "      <td>2.0</td>\n",
       "      <td>A/C-13B</td>\n",
       "      <td>JCI  TE-6314P-1</td>\n",
       "      <td>AHU-15</td>\n",
       "      <td>EF-11</td>\n",
       "      <td>NaN</td>\n",
       "    </tr>\n",
       "  </tbody>\n",
       "</table>\n",
       "</div>"
      ],
      "application/vnd.deepnote.dataframe.v3+json": {
       "column_count": 14,
       "row_count": 5,
       "columns": [
        {
         "name": "LabTitle",
         "dtype": "object",
         "stats": {
          "unique_count": 5,
          "nan_count": 0,
          "categories": [
           {
            "name": "TB15",
            "count": 1
           },
           {
            "name": "T302",
            "count": 1
           },
           {
            "name": "3 others",
            "count": 3
           }
          ]
         }
        },
        {
         "name": "Building",
         "dtype": "object",
         "stats": {
          "unique_count": 1,
          "nan_count": 0,
          "categories": [
           {
            "name": "T",
            "count": 5
           }
          ]
         }
        },
        {
         "name": "Room #",
         "dtype": "object",
         "stats": {
          "unique_count": 5,
          "nan_count": 0,
          "categories": [
           {
            "name": "B-15",
            "count": 1
           },
           {
            "name": "302",
            "count": 1
           },
           {
            "name": "3 others",
            "count": 3
           }
          ]
         }
        },
        {
         "name": "Floor",
         "dtype": "object",
         "stats": {
          "unique_count": 3,
          "nan_count": 0,
          "categories": [
           {
            "name": "3",
            "count": 2
           },
           {
            "name": "4",
            "count": 2
           },
           {
            "name": "B-1",
            "count": 1
           }
          ]
         }
        },
        {
         "name": "Qty of Hoods",
         "dtype": "float64",
         "stats": {
          "unique_count": 1,
          "nan_count": 0,
          "min": "1.0",
          "max": "1.0",
          "histogram": [
           {
            "bin_start": 0.5,
            "bin_end": 0.6,
            "count": 0
           },
           {
            "bin_start": 0.6,
            "bin_end": 0.7,
            "count": 0
           },
           {
            "bin_start": 0.7,
            "bin_end": 0.8,
            "count": 0
           },
           {
            "bin_start": 0.8,
            "bin_end": 0.9,
            "count": 0
           },
           {
            "bin_start": 0.9,
            "bin_end": 1,
            "count": 0
           },
           {
            "bin_start": 1,
            "bin_end": 1.1,
            "count": 5
           },
           {
            "bin_start": 1.1,
            "bin_end": 1.2000000000000002,
            "count": 0
           },
           {
            "bin_start": 1.2000000000000002,
            "bin_end": 1.3,
            "count": 0
           },
           {
            "bin_start": 1.3,
            "bin_end": 1.4,
            "count": 0
           },
           {
            "bin_start": 1.4,
            "bin_end": 1.5,
            "count": 0
           }
          ]
         }
        },
        {
         "name": "Windows (North)",
         "dtype": "float64",
         "stats": {
          "unique_count": 0,
          "nan_count": 5,
          "min": null,
          "max": null,
          "histogram": [
           {
            "bin_start": 0,
            "bin_end": 0.1,
            "count": 0
           },
           {
            "bin_start": 0.1,
            "bin_end": 0.2,
            "count": 0
           },
           {
            "bin_start": 0.2,
            "bin_end": 0.30000000000000004,
            "count": 0
           },
           {
            "bin_start": 0.30000000000000004,
            "bin_end": 0.4,
            "count": 0
           },
           {
            "bin_start": 0.4,
            "bin_end": 0.5,
            "count": 0
           },
           {
            "bin_start": 0.5,
            "bin_end": 0.6000000000000001,
            "count": 0
           },
           {
            "bin_start": 0.6000000000000001,
            "bin_end": 0.7000000000000001,
            "count": 0
           },
           {
            "bin_start": 0.7000000000000001,
            "bin_end": 0.8,
            "count": 0
           },
           {
            "bin_start": 0.8,
            "bin_end": 0.9,
            "count": 0
           },
           {
            "bin_start": 0.9,
            "bin_end": 1,
            "count": 0
           }
          ]
         }
        },
        {
         "name": "Windows (West)",
         "dtype": "float64",
         "stats": {
          "unique_count": 1,
          "nan_count": 3,
          "min": "2.0",
          "max": "2.0",
          "histogram": [
           {
            "bin_start": 1.5,
            "bin_end": 1.6,
            "count": 0
           },
           {
            "bin_start": 1.6,
            "bin_end": 1.7,
            "count": 0
           },
           {
            "bin_start": 1.7,
            "bin_end": 1.8,
            "count": 0
           },
           {
            "bin_start": 1.8,
            "bin_end": 1.9,
            "count": 0
           },
           {
            "bin_start": 1.9,
            "bin_end": 2,
            "count": 0
           },
           {
            "bin_start": 2,
            "bin_end": 2.1,
            "count": 2
           },
           {
            "bin_start": 2.1,
            "bin_end": 2.2,
            "count": 0
           },
           {
            "bin_start": 2.2,
            "bin_end": 2.3,
            "count": 0
           },
           {
            "bin_start": 2.3,
            "bin_end": 2.4,
            "count": 0
           },
           {
            "bin_start": 2.4,
            "bin_end": 2.5,
            "count": 0
           }
          ]
         }
        },
        {
         "name": "Windows (South)",
         "dtype": "float64",
         "stats": {
          "unique_count": 0,
          "nan_count": 5,
          "min": null,
          "max": null,
          "histogram": [
           {
            "bin_start": 0,
            "bin_end": 0.1,
            "count": 0
           },
           {
            "bin_start": 0.1,
            "bin_end": 0.2,
            "count": 0
           },
           {
            "bin_start": 0.2,
            "bin_end": 0.30000000000000004,
            "count": 0
           },
           {
            "bin_start": 0.30000000000000004,
            "bin_end": 0.4,
            "count": 0
           },
           {
            "bin_start": 0.4,
            "bin_end": 0.5,
            "count": 0
           },
           {
            "bin_start": 0.5,
            "bin_end": 0.6000000000000001,
            "count": 0
           },
           {
            "bin_start": 0.6000000000000001,
            "bin_end": 0.7000000000000001,
            "count": 0
           },
           {
            "bin_start": 0.7000000000000001,
            "bin_end": 0.8,
            "count": 0
           },
           {
            "bin_start": 0.8,
            "bin_end": 0.9,
            "count": 0
           },
           {
            "bin_start": 0.9,
            "bin_end": 1,
            "count": 0
           }
          ]
         }
        },
        {
         "name": "Windows (East)",
         "dtype": "float64",
         "stats": {
          "unique_count": 1,
          "nan_count": 2,
          "min": "2.0",
          "max": "2.0",
          "histogram": [
           {
            "bin_start": 1.5,
            "bin_end": 1.6,
            "count": 0
           },
           {
            "bin_start": 1.6,
            "bin_end": 1.7,
            "count": 0
           },
           {
            "bin_start": 1.7,
            "bin_end": 1.8,
            "count": 0
           },
           {
            "bin_start": 1.8,
            "bin_end": 1.9,
            "count": 0
           },
           {
            "bin_start": 1.9,
            "bin_end": 2,
            "count": 0
           },
           {
            "bin_start": 2,
            "bin_end": 2.1,
            "count": 3
           },
           {
            "bin_start": 2.1,
            "bin_end": 2.2,
            "count": 0
           },
           {
            "bin_start": 2.2,
            "bin_end": 2.3,
            "count": 0
           },
           {
            "bin_start": 2.3,
            "bin_end": 2.4,
            "count": 0
           },
           {
            "bin_start": 2.4,
            "bin_end": 2.5,
            "count": 0
           }
          ]
         }
        },
        {
         "name": "Augmented Controls",
         "dtype": "object",
         "stats": {
          "unique_count": 5,
          "nan_count": 0,
          "categories": [
           {
            "name": "A/C-43",
            "count": 1
           },
           {
            "name": "A/C-23",
            "count": 1
           },
           {
            "name": "3 others",
            "count": 3
           }
          ]
         }
        },
        {
         "name": "Sensors Description",
         "dtype": "object",
         "stats": {
          "unique_count": 2,
          "nan_count": 0,
          "categories": [
           {
            "name": "JCI  TE-6314P-1",
            "count": 4
           },
           {
            "name": "JCI  TE-6314P-1 Temperature",
            "count": 1
           }
          ]
         }
        },
        {
         "name": "HVAC Systems Supplying Room",
         "dtype": "object",
         "stats": {
          "unique_count": 4,
          "nan_count": 0,
          "categories": [
           {
            "name": "AHU-8",
            "count": 2
           },
           {
            "name": "AHU-6",
            "count": 1
           },
           {
            "name": "2 others",
            "count": 2
           }
          ]
         }
        },
        {
         "name": "Exhaust/Return System",
         "dtype": "object",
         "stats": {
          "unique_count": 2,
          "nan_count": 0,
          "categories": [
           {
            "name": "EF-4",
            "count": 3
           },
           {
            "name": "EF-11",
            "count": 2
           }
          ]
         }
        },
        {
         "name": "Unnamed: 13",
         "dtype": "float64",
         "stats": {
          "unique_count": 0,
          "nan_count": 5,
          "min": null,
          "max": null,
          "histogram": [
           {
            "bin_start": 0,
            "bin_end": 0.1,
            "count": 0
           },
           {
            "bin_start": 0.1,
            "bin_end": 0.2,
            "count": 0
           },
           {
            "bin_start": 0.2,
            "bin_end": 0.30000000000000004,
            "count": 0
           },
           {
            "bin_start": 0.30000000000000004,
            "bin_end": 0.4,
            "count": 0
           },
           {
            "bin_start": 0.4,
            "bin_end": 0.5,
            "count": 0
           },
           {
            "bin_start": 0.5,
            "bin_end": 0.6000000000000001,
            "count": 0
           },
           {
            "bin_start": 0.6000000000000001,
            "bin_end": 0.7000000000000001,
            "count": 0
           },
           {
            "bin_start": 0.7000000000000001,
            "bin_end": 0.8,
            "count": 0
           },
           {
            "bin_start": 0.8,
            "bin_end": 0.9,
            "count": 0
           },
           {
            "bin_start": 0.9,
            "bin_end": 1,
            "count": 0
           }
          ]
         }
        },
        {
         "name": "_deepnote_index_column",
         "dtype": "int64"
        }
       ],
       "rows": [
        {
         "LabTitle": "TB15",
         "Building": "T",
         "Room #": "B-15",
         "Floor": "B-1",
         "Qty of Hoods": 1,
         "Windows (North)": "nan",
         "Windows (West)": "nan",
         "Windows (South)": "nan",
         "Windows (East)": 2,
         "Augmented Controls": "A/C-43",
         "Sensors Description": "JCI  TE-6314P-1 Temperature",
         "HVAC Systems Supplying Room": "AHU-8",
         "Exhaust/Return System": "EF-4",
         "Unnamed: 13": "nan",
         "_deepnote_index_column": 0
        },
        {
         "LabTitle": "T302",
         "Building": "T",
         "Room #": "302",
         "Floor": "3",
         "Qty of Hoods": 1,
         "Windows (North)": "nan",
         "Windows (West)": 2,
         "Windows (South)": "nan",
         "Windows (East)": "nan",
         "Augmented Controls": "A/C-23",
         "Sensors Description": "JCI  TE-6314P-1",
         "HVAC Systems Supplying Room": "AHU-6",
         "Exhaust/Return System": "EF-4",
         "Unnamed: 13": "nan",
         "_deepnote_index_column": 1
        },
        {
         "LabTitle": "T303",
         "Building": "T",
         "Room #": "303",
         "Floor": "3",
         "Qty of Hoods": 1,
         "Windows (North)": "nan",
         "Windows (West)": "nan",
         "Windows (South)": "nan",
         "Windows (East)": 2,
         "Augmented Controls": "A/C-23A",
         "Sensors Description": "JCI  TE-6314P-1",
         "HVAC Systems Supplying Room": "AHU-8",
         "Exhaust/Return System": "EF-4",
         "Unnamed: 13": "nan",
         "_deepnote_index_column": 2
        },
        {
         "LabTitle": "T446",
         "Building": "T",
         "Room #": "446",
         "Floor": "4",
         "Qty of Hoods": 1,
         "Windows (North)": "nan",
         "Windows (West)": 2,
         "Windows (South)": "nan",
         "Windows (East)": "nan",
         "Augmented Controls": "A/C-22",
         "Sensors Description": "JCI  TE-6314P-1",
         "HVAC Systems Supplying Room": "AHU-12",
         "Exhaust/Return System": "EF-11",
         "Unnamed: 13": "nan",
         "_deepnote_index_column": 3
        },
        {
         "LabTitle": "T449",
         "Building": "T",
         "Room #": "449/451",
         "Floor": "4",
         "Qty of Hoods": 1,
         "Windows (North)": "nan",
         "Windows (West)": "nan",
         "Windows (South)": "nan",
         "Windows (East)": 2,
         "Augmented Controls": "A/C-13B",
         "Sensors Description": "JCI  TE-6314P-1",
         "HVAC Systems Supplying Room": "AHU-15",
         "Exhaust/Return System": "EF-11",
         "Unnamed: 13": "nan",
         "_deepnote_index_column": 4
        }
       ]
      }
     },
     "metadata": {},
     "execution_count": 8
    }
   ],
   "metadata": {
    "tags": [],
    "deepnote_to_be_reexecuted": false,
    "source_hash": "377247de",
    "execution_start": 1640550084976,
    "execution_millis": 184,
    "cell_id": "00015-7f2952f7-ea35-4342-afd4-94d8195ff772",
    "deepnote_cell_type": "code"
   }
  },
  {
   "cell_type": "code",
   "execution_count": 9,
   "source": [
    "labSummary = {}\n",
    "\n",
    "for index, row in df_s.iterrows():\n",
    "    lab_title = row[0]\n",
    "\n",
    "    labSummary[lab_title] = pd.DataFrame([row], columns=df_s.columns)\n"
   ],
   "outputs": [],
   "metadata": {
    "tags": [],
    "deepnote_to_be_reexecuted": false,
    "source_hash": "f76a9e2e",
    "execution_start": 1640550085167,
    "execution_millis": 97,
    "cell_id": "00016-c83954d3-9089-432c-9a6d-3ce1936ea6e9",
    "deepnote_cell_type": "code"
   }
  },
  {
   "cell_type": "markdown",
   "source": [
    "## Prediction Model\n",
    "\n",
    "Here, we write our SVR (support vector regression) model `predict_value()`. This function takes in the following values:\n",
    "\n",
    "`X_train`: input parameters (hour, month, setback, outside temperature) that we train our model on\n",
    "<br />\n",
    "`y_train`: output (temperature) correspoding to each input that we train our model on\n",
    "<br />\n",
    "`X_test`: input parameters that we then have our model predict\n",
    "<br />\n",
    "`y_test`: actual value that we compare our prediction values to\n",
    "<br />\n",
    "`t_train` + `t_test`: timesteps that correspond to our data (this is to order our data sequentially when we graph it and is not considered in our model)\n",
    "\n",
    "Rather than using a time series split, we randomly split our data into the train and test sets. Because the data is all randomized, we have the `sort_data()` function to sort it for our graph visualisations.\n",
    "\n",
    "We've also used the built-in `svr_lin.coef_` function to identify the weights of each input parameter on the final prediction. Note: the function calculates this based on the results produced when `kernel = 'linear'`.\n",
    "\n",
    "The `predict_value()` function will use the linear, polynomial, and rbf kernels to fit and predict the values. It will print out the weights for each feature and draw a graph of the predictions modeled against the actual values, and its return values will be the lists of predicted values that each of the linear, polynomial, and rbf models have made (Note: the data will still be randomized to match `y_test`. It is only for the graph that all the lists are sorted)."
   ],
   "metadata": {
    "tags": [],
    "cell_id": "00017-5646bd72-2c0b-4c89-bed0-175fd7ae56ed",
    "deepnote_cell_type": "markdown"
   }
  },
  {
   "cell_type": "code",
   "execution_count": 10,
   "source": [
    "from sklearn.svm import SVR "
   ],
   "outputs": [],
   "metadata": {
    "tags": [],
    "deepnote_to_be_reexecuted": false,
    "source_hash": "9de844f7",
    "execution_start": 1640550085270,
    "execution_millis": 124,
    "cell_id": "00018-7fc62ec0-6c1e-4c4f-8422-979a9e7a1113",
    "deepnote_cell_type": "code"
   }
  },
  {
   "cell_type": "code",
   "execution_count": 11,
   "source": [
    "import plotly.express as px # for data visualization\n",
    "import plotly.graph_objects as go\n",
    "\n",
    "def predict_value(X_train, y_train, X_test, y_test, t_train, t_test):\n",
    "    \n",
    "    svr_lin  = SVR(kernel='linear', C=10)\n",
    "    svr_poly = SVR(kernel='poly', C=10, degree=2)\n",
    "    svr_rbf = SVR(kernel='rbf', C=100, gamma=0.1)\n",
    "    \n",
    "    # Fit regression model\n",
    "    svr_lin .fit(X_train, y_train)\n",
    "    svr_poly.fit(X_train, y_train)\n",
    "    svr_rbf.fit(X_train, y_train)\n",
    "\n",
    "    # Feature weights\n",
    "    lin_weights = svr_lin.coef_\n",
    "    print(lin_weights)\n",
    "\n",
    "    # Plot actual values\n",
    "    fig = px.scatter(df, x=t_test, y=y_test, \n",
    "                 opacity=0.8, color_discrete_sequence=['black'])\n",
    "\n",
    "    # Make predictions\n",
    "    lin = svr_lin.predict(X_test)\n",
    "    rbf = svr_rbf.predict(X_test)\n",
    "    poly = svr_poly.predict(X_test)\n",
    "\n",
    "    # Sort data sequentially\n",
    "    sorted_t, sorted_lin = sort_data(t_test, lin)\n",
    "    sorted_t, sorted_rbf = sort_data(t_test, rbf)\n",
    "    sorted_t, sorted_poly = sort_data(t_test, poly)\n",
    "\n",
    "    # Plot predicted values with actual values\n",
    "    fig.add_traces(go.Scatter(x=sorted_t, y=sorted_lin, name='Linear model', line=dict(color='green')))\n",
    "    fig.add_traces(go.Scatter(x=sorted_t, y=sorted_rbf, name='RBF model', line=dict(color='red')))\n",
    "    fig.add_traces(go.Scatter(x=sorted_t, y=sorted_poly, name='Polynomial model', line=dict(color='blue')))\n",
    "    \n",
    "\n",
    "    # Change chart background color\n",
    "    fig.update_layout(dict(plot_bgcolor = 'white'))\n",
    "\n",
    "    # Update axes lines\n",
    "    fig.update_xaxes(showgrid=True, gridwidth=1, gridcolor='lightgrey', \n",
    "                    zeroline=True, zerolinewidth=1, zerolinecolor='lightgrey', \n",
    "                    showline=True, linewidth=1, linecolor='black')\n",
    "\n",
    "    fig.update_yaxes(showgrid=True, gridwidth=1, gridcolor='lightgrey', \n",
    "                    zeroline=True, zerolinewidth=1, zerolinecolor='lightgrey', \n",
    "                    showline=True, linewidth=1, linecolor='black')\n",
    "\n",
    "    # Update marker size\n",
    "    fig.update_traces(marker=dict(size=3))\n",
    "\n",
    "    fig.show()\n",
    "    \n",
    "    return lin, rbf, poly\n",
    "\n",
    "\n",
    "# function to sort values sequentially\n",
    "def sort_data(x, y):\n",
    "    merged_list = [(x[i], y[i]) for i in range(0, len(x))]\n",
    "    sorted_list = sorted(merged_list, key=lambda y: y[0])\n",
    "    sorted_x, sorted_y = zip(*sorted_list)\n",
    "    return list(sorted_x), list(sorted_y)\n",
    "\n",
    "\n"
   ],
   "outputs": [],
   "metadata": {
    "tags": [],
    "deepnote_to_be_reexecuted": false,
    "source_hash": "3d1e38ba",
    "execution_start": 1640550085403,
    "execution_millis": 383,
    "cell_id": "00019-cf6565f5-08a3-45c3-9ff9-92153899e672",
    "deepnote_cell_type": "code"
   }
  },
  {
   "cell_type": "markdown",
   "source": [
    "### Preparing Data for SVR Model\n",
    "In `make_model_data()`, we extract and reshape our parameters to group each row into our <em>X</em> and <em>y</em> values. For each timestep, Time, Hour, Month, Setback, and Outside Temperature are the input features and Temperature (or Trend(deg F)) is the output feature we want to predict. Then, the data is randomized and split into the training and testing data in a 9:1 ratio."
   ],
   "metadata": {
    "tags": [],
    "cell_id": "00020-e3671726-fc14-4c36-b1e3-f4ca41132858",
    "deepnote_cell_type": "markdown"
   }
  },
  {
   "cell_type": "code",
   "execution_count": 12,
   "source": [
    "def make_model_data(lab):\n",
    "\n",
    "    # extract column values\n",
    "\n",
    "    t = [float(i) for i in range(0, len(lab['Time']))]\n",
    "    lab['Time'] = t\n",
    "\n",
    "    d = lab['Trend (deg F)'].apply(pd.to_numeric)\n",
    "    d = d.astype(float)\n",
    "    lab['Trend (deg F)'] = d\n",
    "\n",
    "    def get_data(df):  \n",
    "        t = df['Time'].values\n",
    "        # input features\n",
    "        X1 = df['Hour'].values\n",
    "        X2 = df['Month'].values\n",
    "        X3 = df['Setback'].values\n",
    "        X4 = df['Outside Temp'].values\n",
    "        y = df['Trend (deg F)']\n",
    "\n",
    "        # reshape data\n",
    "        vals = np.vstack((t, X1, X2, X3, X4, y)).T\n",
    "        vals.reshape(-6, 6)\n",
    "\n",
    "        return list(vals) # Convert Series to list\n",
    "\n",
    "    data = get_data(lab)\n",
    "\n",
    "    # randomize data\n",
    "    rand_data = random.sample(list(data), k=len(data))\n",
    "\n",
    "    rand_time = []\n",
    "    rand_hr = []\n",
    "    rand_mnth = []\n",
    "    rand_setback = []\n",
    "    rand_outemp = []\n",
    "    rand_y = []\n",
    "\n",
    "    for time, hour, month, setback, temp, y in rand_data:\n",
    "        rand_time.append(time)\n",
    "        rand_hr.append(hour)\n",
    "        rand_mnth.append(month)\n",
    "        rand_setback.append(setback)\n",
    "        rand_outemp.append(temp)\n",
    "        rand_y.append(y)\n",
    "\n",
    "    rand_X = np.vstack((rand_hr, rand_mnth, rand_setback, rand_outemp)).T\n",
    "    rand_X.reshape(-4, 4)\n",
    "\n",
    "    # train/test split\n",
    "    ratio = 10\n",
    "    n = int(len(rand_data) / ratio)\n",
    "\n",
    "    X_train = rand_X[n:]\n",
    "    X_test = rand_X[:n]\n",
    "    y_train = rand_y[n:]\n",
    "    y_test = rand_y[:n]\n",
    "    t_train = rand_time[n:]\n",
    "    t_test = rand_time[:n]\n",
    "\n",
    "\n",
    "    return X_train, X_test, y_train, y_test, t_train, t_test\n",
    "\n"
   ],
   "outputs": [],
   "metadata": {
    "tags": [],
    "deepnote_to_be_reexecuted": false,
    "source_hash": "c87c02f5",
    "execution_start": 1640550085797,
    "execution_millis": 25,
    "cell_id": "00021-d96bd0cc-c5c0-420f-b9ba-6ab8ef3d0136",
    "deepnote_cell_type": "code"
   }
  },
  {
   "cell_type": "code",
   "execution_count": 59,
   "source": [
    "# call all functions to preprocess and prepare data\n",
    "\n",
    "data = prepareCols(labs['H353'], 'H353')\n",
    "data = addGeneral(data, TlabGeneral)\n",
    "X_train, X_test, y_train, y_test, times_train, times_test = make_model_data(data)"
   ],
   "outputs": [
    {
     "output_type": "stream",
     "name": "stdout",
     "text": [
      "               Time HUMIDITY %. Trend (%RH) Trend (deg F) Hour  Month  \\\n",
      "1317   6/21/21 9:00                      76          72.5    9      6   \n",
      "1318  6/21/21 10:00                      76          72.6   10      6   \n",
      "1319  6/21/21 11:00                      73          72.6   11      6   \n",
      "1320  6/21/21 12:00                      71          72.6   12      6   \n",
      "1321  6/21/21 13:00                      72          72.7   13      6   \n",
      "...             ...                     ...           ...  ...    ...   \n",
      "3231    9/9/21 3:00                      60          70.6    3      9   \n",
      "3232    9/9/21 4:00                      59          70.6    4      9   \n",
      "3233    9/9/21 5:00                      59          70.5    5      9   \n",
      "3234    9/9/21 6:00                      60          70.5    6      9   \n",
      "3235    9/9/21 7:00                      58          70.4    7      9   \n",
      "\n",
      "      Setback Outside Temp  \n",
      "1317        0         81.4  \n",
      "1318        0         82.8  \n",
      "1319        0         83.8  \n",
      "1320        0         85.4  \n",
      "1321        0         85.6  \n",
      "...       ...          ...  \n",
      "3231        1         64.8  \n",
      "3232        1         63.6  \n",
      "3233        1         63.5  \n",
      "3234        1         62.8  \n",
      "3235        1         62.5  \n",
      "\n",
      "[1919 rows x 7 columns]\n"
     ]
    }
   ],
   "metadata": {
    "tags": [],
    "deepnote_to_be_reexecuted": false,
    "source_hash": "29582762",
    "execution_start": 1640551968298,
    "execution_millis": 7837,
    "cell_id": "00023-5ca72127-4fcc-46b2-aa37-0c3d1f63171e",
    "deepnote_cell_type": "code"
   }
  },
  {
   "cell_type": "markdown",
   "source": [
    "Here is an example of what the final dataframe should look like:"
   ],
   "metadata": {
    "tags": [],
    "cell_id": "00023-442938c2-c70e-4e4d-a537-85a10811c40e",
    "deepnote_cell_type": "markdown"
   }
  },
  {
   "cell_type": "code",
   "execution_count": 60,
   "source": [
    "data"
   ],
   "outputs": [
    {
     "output_type": "execute_result",
     "data": {
      "text/plain": [
       "        Time HUMIDITY %. Trend (%RH)  Trend (deg F) Hour  Month  Setback  \\\n",
       "1317     0.0                      76           72.5    9      6        0   \n",
       "1318     1.0                      76           72.6   10      6        0   \n",
       "1319     2.0                      73           72.6   11      6        0   \n",
       "1320     3.0                      71           72.6   12      6        0   \n",
       "1321     4.0                      72           72.7   13      6        0   \n",
       "...      ...                     ...            ...  ...    ...      ...   \n",
       "3231  1914.0                      60           70.6    3      9        1   \n",
       "3232  1915.0                      59           70.6    4      9        1   \n",
       "3233  1916.0                      59           70.5    5      9        1   \n",
       "3234  1917.0                      60           70.5    6      9        1   \n",
       "3235  1918.0                      58           70.4    7      9        1   \n",
       "\n",
       "     Outside Temp  \n",
       "1317         81.4  \n",
       "1318         82.8  \n",
       "1319         83.8  \n",
       "1320         85.4  \n",
       "1321         85.6  \n",
       "...           ...  \n",
       "3231         64.8  \n",
       "3232         63.6  \n",
       "3233         63.5  \n",
       "3234         62.8  \n",
       "3235         62.5  \n",
       "\n",
       "[1919 rows x 7 columns]"
      ],
      "text/html": [
       "<div>\n",
       "<style scoped>\n",
       "    .dataframe tbody tr th:only-of-type {\n",
       "        vertical-align: middle;\n",
       "    }\n",
       "\n",
       "    .dataframe tbody tr th {\n",
       "        vertical-align: top;\n",
       "    }\n",
       "\n",
       "    .dataframe thead th {\n",
       "        text-align: right;\n",
       "    }\n",
       "</style>\n",
       "<table border=\"1\" class=\"dataframe\">\n",
       "  <thead>\n",
       "    <tr style=\"text-align: right;\">\n",
       "      <th></th>\n",
       "      <th>Time</th>\n",
       "      <th>HUMIDITY %. Trend (%RH)</th>\n",
       "      <th>Trend (deg F)</th>\n",
       "      <th>Hour</th>\n",
       "      <th>Month</th>\n",
       "      <th>Setback</th>\n",
       "      <th>Outside Temp</th>\n",
       "    </tr>\n",
       "  </thead>\n",
       "  <tbody>\n",
       "    <tr>\n",
       "      <th>1317</th>\n",
       "      <td>0.0</td>\n",
       "      <td>76</td>\n",
       "      <td>72.5</td>\n",
       "      <td>9</td>\n",
       "      <td>6</td>\n",
       "      <td>0</td>\n",
       "      <td>81.4</td>\n",
       "    </tr>\n",
       "    <tr>\n",
       "      <th>1318</th>\n",
       "      <td>1.0</td>\n",
       "      <td>76</td>\n",
       "      <td>72.6</td>\n",
       "      <td>10</td>\n",
       "      <td>6</td>\n",
       "      <td>0</td>\n",
       "      <td>82.8</td>\n",
       "    </tr>\n",
       "    <tr>\n",
       "      <th>1319</th>\n",
       "      <td>2.0</td>\n",
       "      <td>73</td>\n",
       "      <td>72.6</td>\n",
       "      <td>11</td>\n",
       "      <td>6</td>\n",
       "      <td>0</td>\n",
       "      <td>83.8</td>\n",
       "    </tr>\n",
       "    <tr>\n",
       "      <th>1320</th>\n",
       "      <td>3.0</td>\n",
       "      <td>71</td>\n",
       "      <td>72.6</td>\n",
       "      <td>12</td>\n",
       "      <td>6</td>\n",
       "      <td>0</td>\n",
       "      <td>85.4</td>\n",
       "    </tr>\n",
       "    <tr>\n",
       "      <th>1321</th>\n",
       "      <td>4.0</td>\n",
       "      <td>72</td>\n",
       "      <td>72.7</td>\n",
       "      <td>13</td>\n",
       "      <td>6</td>\n",
       "      <td>0</td>\n",
       "      <td>85.6</td>\n",
       "    </tr>\n",
       "    <tr>\n",
       "      <th>...</th>\n",
       "      <td>...</td>\n",
       "      <td>...</td>\n",
       "      <td>...</td>\n",
       "      <td>...</td>\n",
       "      <td>...</td>\n",
       "      <td>...</td>\n",
       "      <td>...</td>\n",
       "    </tr>\n",
       "    <tr>\n",
       "      <th>3231</th>\n",
       "      <td>1914.0</td>\n",
       "      <td>60</td>\n",
       "      <td>70.6</td>\n",
       "      <td>3</td>\n",
       "      <td>9</td>\n",
       "      <td>1</td>\n",
       "      <td>64.8</td>\n",
       "    </tr>\n",
       "    <tr>\n",
       "      <th>3232</th>\n",
       "      <td>1915.0</td>\n",
       "      <td>59</td>\n",
       "      <td>70.6</td>\n",
       "      <td>4</td>\n",
       "      <td>9</td>\n",
       "      <td>1</td>\n",
       "      <td>63.6</td>\n",
       "    </tr>\n",
       "    <tr>\n",
       "      <th>3233</th>\n",
       "      <td>1916.0</td>\n",
       "      <td>59</td>\n",
       "      <td>70.5</td>\n",
       "      <td>5</td>\n",
       "      <td>9</td>\n",
       "      <td>1</td>\n",
       "      <td>63.5</td>\n",
       "    </tr>\n",
       "    <tr>\n",
       "      <th>3234</th>\n",
       "      <td>1917.0</td>\n",
       "      <td>60</td>\n",
       "      <td>70.5</td>\n",
       "      <td>6</td>\n",
       "      <td>9</td>\n",
       "      <td>1</td>\n",
       "      <td>62.8</td>\n",
       "    </tr>\n",
       "    <tr>\n",
       "      <th>3235</th>\n",
       "      <td>1918.0</td>\n",
       "      <td>58</td>\n",
       "      <td>70.4</td>\n",
       "      <td>7</td>\n",
       "      <td>9</td>\n",
       "      <td>1</td>\n",
       "      <td>62.5</td>\n",
       "    </tr>\n",
       "  </tbody>\n",
       "</table>\n",
       "<p>1919 rows × 7 columns</p>\n",
       "</div>"
      ],
      "application/vnd.deepnote.dataframe.v3+json": {
       "column_count": 7,
       "row_count": 1919,
       "columns": [
        {
         "name": "Time",
         "dtype": "float64",
         "stats": {
          "unique_count": 1919,
          "nan_count": 0,
          "min": "0.0",
          "max": "1918.0",
          "histogram": [
           {
            "bin_start": 0,
            "bin_end": 191.8,
            "count": 192
           },
           {
            "bin_start": 191.8,
            "bin_end": 383.6,
            "count": 192
           },
           {
            "bin_start": 383.6,
            "bin_end": 575.4000000000001,
            "count": 192
           },
           {
            "bin_start": 575.4000000000001,
            "bin_end": 767.2,
            "count": 192
           },
           {
            "bin_start": 767.2,
            "bin_end": 959,
            "count": 191
           },
           {
            "bin_start": 959,
            "bin_end": 1150.8000000000002,
            "count": 192
           },
           {
            "bin_start": 1150.8000000000002,
            "bin_end": 1342.6000000000001,
            "count": 192
           },
           {
            "bin_start": 1342.6000000000001,
            "bin_end": 1534.4,
            "count": 192
           },
           {
            "bin_start": 1534.4,
            "bin_end": 1726.2,
            "count": 192
           },
           {
            "bin_start": 1726.2,
            "bin_end": 1918,
            "count": 192
           }
          ]
         }
        },
        {
         "name": "HUMIDITY %. Trend (%RH)",
         "dtype": "object",
         "stats": {
          "unique_count": 45,
          "nan_count": 0,
          "categories": [
           {
            "name": "77",
            "count": 156
           },
           {
            "name": "80",
            "count": 132
           },
           {
            "name": "43 others",
            "count": 1631
           }
          ]
         }
        },
        {
         "name": "Trend (deg F)",
         "dtype": "float64",
         "stats": {
          "unique_count": 39,
          "nan_count": 0,
          "min": "67.2",
          "max": "73.5",
          "histogram": [
           {
            "bin_start": 67.2,
            "bin_end": 67.83,
            "count": 1
           },
           {
            "bin_start": 67.83,
            "bin_end": 68.46000000000001,
            "count": 0
           },
           {
            "bin_start": 68.46000000000001,
            "bin_end": 69.09,
            "count": 2
           },
           {
            "bin_start": 69.09,
            "bin_end": 69.72,
            "count": 4
           },
           {
            "bin_start": 69.72,
            "bin_end": 70.35,
            "count": 5
           },
           {
            "bin_start": 70.35,
            "bin_end": 70.98,
            "count": 971
           },
           {
            "bin_start": 70.98,
            "bin_end": 71.61,
            "count": 65
           },
           {
            "bin_start": 71.61,
            "bin_end": 72.24,
            "count": 72
           },
           {
            "bin_start": 72.24,
            "bin_end": 72.87,
            "count": 783
           },
           {
            "bin_start": 72.87,
            "bin_end": 73.5,
            "count": 16
           }
          ]
         }
        },
        {
         "name": "Hour",
         "dtype": "object",
         "stats": {
          "unique_count": 24,
          "nan_count": 0,
          "categories": [
           {
            "name": "9",
            "count": 80
           },
           {
            "name": "10",
            "count": 80
           },
           {
            "name": "22 others",
            "count": 1759
           }
          ]
         }
        },
        {
         "name": "Month",
         "dtype": "int64",
         "stats": {
          "unique_count": 4,
          "nan_count": 0,
          "min": "6",
          "max": "9",
          "histogram": [
           {
            "bin_start": 6,
            "bin_end": 6.3,
            "count": 231
           },
           {
            "bin_start": 6.3,
            "bin_end": 6.6,
            "count": 0
           },
           {
            "bin_start": 6.6,
            "bin_end": 6.9,
            "count": 0
           },
           {
            "bin_start": 6.9,
            "bin_end": 7.2,
            "count": 744
           },
           {
            "bin_start": 7.2,
            "bin_end": 7.5,
            "count": 0
           },
           {
            "bin_start": 7.5,
            "bin_end": 7.8,
            "count": 0
           },
           {
            "bin_start": 7.8,
            "bin_end": 8.1,
            "count": 744
           },
           {
            "bin_start": 8.1,
            "bin_end": 8.4,
            "count": 0
           },
           {
            "bin_start": 8.4,
            "bin_end": 8.7,
            "count": 0
           },
           {
            "bin_start": 8.7,
            "bin_end": 9,
            "count": 200
           }
          ]
         }
        },
        {
         "name": "Setback",
         "dtype": "int64",
         "stats": {
          "unique_count": 2,
          "nan_count": 0,
          "min": "0",
          "max": "1",
          "histogram": [
           {
            "bin_start": 0,
            "bin_end": 0.1,
            "count": 405
           },
           {
            "bin_start": 0.1,
            "bin_end": 0.2,
            "count": 0
           },
           {
            "bin_start": 0.2,
            "bin_end": 0.30000000000000004,
            "count": 0
           },
           {
            "bin_start": 0.30000000000000004,
            "bin_end": 0.4,
            "count": 0
           },
           {
            "bin_start": 0.4,
            "bin_end": 0.5,
            "count": 0
           },
           {
            "bin_start": 0.5,
            "bin_end": 0.6000000000000001,
            "count": 0
           },
           {
            "bin_start": 0.6000000000000001,
            "bin_end": 0.7000000000000001,
            "count": 0
           },
           {
            "bin_start": 0.7000000000000001,
            "bin_end": 0.8,
            "count": 0
           },
           {
            "bin_start": 0.8,
            "bin_end": 0.9,
            "count": 0
           },
           {
            "bin_start": 0.9,
            "bin_end": 1,
            "count": 1514
           }
          ]
         }
        },
        {
         "name": "Outside Temp",
         "dtype": "object",
         "stats": {
          "unique_count": 350,
          "nan_count": 0,
          "categories": [
           {
            "name": "72.8",
            "count": 19
           },
           {
            "name": "74.2",
            "count": 19
           },
           {
            "name": "348 others",
            "count": 1881
           }
          ]
         }
        },
        {
         "name": "_deepnote_index_column",
         "dtype": "int64"
        }
       ],
       "rows": [
        {
         "Time": 0,
         "HUMIDITY %. Trend (%RH)": "76",
         "Trend (deg F)": 72.5,
         "Hour": "9",
         "Month": 6,
         "Setback": 0,
         "Outside Temp": "81.4",
         "_deepnote_index_column": 1317
        },
        {
         "Time": 1,
         "HUMIDITY %. Trend (%RH)": "76",
         "Trend (deg F)": 72.6,
         "Hour": "10",
         "Month": 6,
         "Setback": 0,
         "Outside Temp": "82.8",
         "_deepnote_index_column": 1318
        },
        {
         "Time": 2,
         "HUMIDITY %. Trend (%RH)": "73",
         "Trend (deg F)": 72.6,
         "Hour": "11",
         "Month": 6,
         "Setback": 0,
         "Outside Temp": "83.8",
         "_deepnote_index_column": 1319
        },
        {
         "Time": 3,
         "HUMIDITY %. Trend (%RH)": "71",
         "Trend (deg F)": 72.6,
         "Hour": "12",
         "Month": 6,
         "Setback": 0,
         "Outside Temp": "85.4",
         "_deepnote_index_column": 1320
        },
        {
         "Time": 4,
         "HUMIDITY %. Trend (%RH)": "72",
         "Trend (deg F)": 72.7,
         "Hour": "13",
         "Month": 6,
         "Setback": 0,
         "Outside Temp": "85.6",
         "_deepnote_index_column": 1321
        },
        {
         "Time": 5,
         "HUMIDITY %. Trend (%RH)": "80",
         "Trend (deg F)": 72.4,
         "Hour": "14",
         "Month": 6,
         "Setback": 0,
         "Outside Temp": "78.7",
         "_deepnote_index_column": 1322
        },
        {
         "Time": 6,
         "HUMIDITY %. Trend (%RH)": "80",
         "Trend (deg F)": 72.4,
         "Hour": "15",
         "Month": 6,
         "Setback": 0,
         "Outside Temp": "80.3",
         "_deepnote_index_column": 1323
        },
        {
         "Time": 7,
         "HUMIDITY %. Trend (%RH)": "78",
         "Trend (deg F)": 72.4,
         "Hour": "16",
         "Month": 6,
         "Setback": 0,
         "Outside Temp": "78.9",
         "_deepnote_index_column": 1324
        },
        {
         "Time": 8,
         "HUMIDITY %. Trend (%RH)": "71",
         "Trend (deg F)": 72.6,
         "Hour": "17",
         "Month": 6,
         "Setback": 0,
         "Outside Temp": "78.5",
         "_deepnote_index_column": 1325
        },
        {
         "Time": 9,
         "HUMIDITY %. Trend (%RH)": "70",
         "Trend (deg F)": 72.5,
         "Hour": "18",
         "Month": 6,
         "Setback": 1,
         "Outside Temp": "76",
         "_deepnote_index_column": 1326
        }
       ]
      }
     },
     "metadata": {},
     "execution_count": 60
    }
   ],
   "metadata": {
    "tags": [],
    "deepnote_to_be_reexecuted": false,
    "source_hash": "e6928a8f",
    "execution_start": 1640551982328,
    "execution_millis": 92,
    "cell_id": "00024-1cfc02d0-6c26-4bf8-876c-d58f70928040",
    "deepnote_cell_type": "code"
   }
  },
  {
   "cell_type": "markdown",
   "source": [
    "### Making Predictions"
   ],
   "metadata": {
    "tags": [],
    "cell_id": "00024-923065e8-08a8-4c11-a25b-e8728bb9537f",
    "deepnote_cell_type": "markdown"
   }
  },
  {
   "cell_type": "markdown",
   "source": [
    "When we run `predict_value()` on our data, we can see the weights have been printed corresponding to the coordinates [hour month setback outside_temperature]. This site (https://stats.stackexchange.com/questions/39243/how-does-one-interpret-svm-feature-weights) goes more in depth of how to read this vector value, but to generalize, the absolute size of a feature relative to the others gives an indication of how important it is."
   ],
   "metadata": {
    "tags": [],
    "cell_id": "00026-3f378428-ee28-4f33-a410-64b8cb1e26fa",
    "deepnote_cell_type": "markdown"
   }
  },
  {
   "cell_type": "code",
   "execution_count": 61,
   "source": [
    "predictions = predict_value(X_train, y_train, X_test, y_test, times_train, times_test)"
   ],
   "outputs": [
    {
     "output_type": "stream",
     "name": "stdout",
     "text": [
      "[[ 0.00308754 -0.77209818 -0.3981722   0.01580724]]\n"
     ]
    },
    {
     "output_type": "display_data",
     "data": {
      "text/html": [
       "<html>\n",
       "<head><meta charset=\"utf-8\" /></head>\n",
       "<body>\n",
       "    <div>            <script src=\"https://cdnjs.cloudflare.com/ajax/libs/mathjax/2.7.5/MathJax.js?config=TeX-AMS-MML_SVG\"></script><script type=\"text/javascript\">if (window.MathJax) {MathJax.Hub.Config({SVG: {font: \"STIX-Web\"}});}</script>                <script type=\"text/javascript\">window.PlotlyConfig = {MathJaxConfig: 'local'};</script>\n",
       "        <script src=\"https://cdn.plot.ly/plotly-2.6.3.min.js\"></script>                <div id=\"ff9439f1-77cf-485b-af58-5bf835f2eb57\" class=\"plotly-graph-div\" style=\"height:525px; width:100%;\"></div>            <script type=\"text/javascript\">                                    window.PLOTLYENV=window.PLOTLYENV || {};                                    if (document.getElementById(\"ff9439f1-77cf-485b-af58-5bf835f2eb57\")) {                    Plotly.newPlot(                        \"ff9439f1-77cf-485b-af58-5bf835f2eb57\",                        [{\"hovertemplate\":\"x=%{x}<br>y=%{y}<extra></extra>\",\"legendgroup\":\"\",\"marker\":{\"color\":\"black\",\"opacity\":0.8,\"symbol\":\"circle\",\"size\":3},\"mode\":\"markers\",\"name\":\"\",\"orientation\":\"v\",\"showlegend\":false,\"x\":[117.0,1344.0,1652.0,1619.0,1859.0,704.0,492.0,1469.0,1061.0,1332.0,472.0,1585.0,218.0,1832.0,626.0,1326.0,1452.0,611.0,618.0,473.0,930.0,1270.0,559.0,193.0,1886.0,224.0,1302.0,131.0,69.0,266.0,45.0,1067.0,1848.0,1778.0,539.0,468.0,267.0,1381.0,1229.0,299.0,807.0,1712.0,1623.0,490.0,782.0,874.0,1350.0,1658.0,1030.0,25.0,1675.0,337.0,1408.0,1489.0,1753.0,162.0,1314.0,259.0,1466.0,1188.0,927.0,1315.0,1113.0,1678.0,544.0,1806.0,1760.0,67.0,1851.0,965.0,1547.0,1898.0,1607.0,1237.0,276.0,1876.0,130.0,53.0,722.0,913.0,1647.0,691.0,1779.0,1734.0,1606.0,564.0,914.0,1257.0,1488.0,446.0,677.0,1707.0,1066.0,1871.0,486.0,1483.0,460.0,1168.0,154.0,670.0,610.0,63.0,594.0,1657.0,1908.0,1730.0,1376.0,1383.0,895.0,175.0,1464.0,1669.0,555.0,1105.0,767.0,525.0,1283.0,943.0,424.0,59.0,1137.0,1258.0,1915.0,1233.0,360.0,1118.0,738.0,477.0,731.0,420.0,645.0,498.0,378.0,1027.0,1451.0,288.0,1437.0,409.0,1817.0,970.0,791.0,1434.0,1412.0,1537.0,1600.0,825.0,1804.0,1193.0,1354.0,1142.0,1666.0,1565.0,100.0,1556.0,1448.0,120.0,1256.0,316.0,433.0,890.0,157.0,1516.0,1428.0,1254.0,910.0,542.0,886.0,205.0,1021.0,583.0,824.0,527.0,1628.0,18.0,1852.0,151.0,655.0,1892.0,1129.0,1620.0,1249.0,744.0,569.0,479.0,1881.0,1905.0,399.0,1033.0,607.0,1018.0,1421.0],\"xaxis\":\"x\",\"y\":[72.6,70.7,70.7,70.8,70.8,72.7,72.5,70.8,70.6,70.7,72.4,70.8,72.5,70.7,72.4,70.7,70.8,72.6,72.4,72.3,70.7,70.7,72.6,72.6,70.7,72.7,70.8,72.8,70.3,72.3,68.9,70.8,70.5,70.5,72.5,72.4,72.3,70.8,70.8,72.5,72.7,70.7,70.8,72.6,72.4,72.8,70.6,70.8,70.6,72.4,70.8,72.6,70.8,70.8,70.6,72.9,70.7,71.8,70.8,70.8,71.1,70.7,70.9,70.7,72.4,70.6,70.6,70.8,70.7,70.7,71.3,70.5,70.8,71.0,72.3,70.6,72.9,72.4,72.3,70.6,70.8,72.3,70.6,70.7,70.7,72.6,70.7,71.5,70.8,72.2,72.5,70.6,70.8,70.5,72.5,70.8,72.2,70.8,72.9,71.9,72.6,72.3,72.6,70.7,70.7,70.6,70.8,70.7,72.7,72.6,70.8,70.8,72.5,70.7,72.4,72.4,70.9,70.6,72.4,72.5,70.8,71.6,70.6,71.2,72.5,70.8,72.4,72.3,72.6,72.6,72.0,72.4,72.5,70.7,70.8,70.9,70.8,72.4,70.6,70.7,72.6,70.8,70.7,70.8,70.8,72.8,70.6,70.7,70.7,70.8,70.8,70.7,72.5,70.7,70.7,72.6,70.9,72.6,72.2,72.6,73.0,70.7,70.8,71.2,72.5,72.4,72.5,72.7,70.7,72.7,72.8,72.3,70.8,71.5,70.7,72.8,72.6,70.6,70.8,70.8,70.8,72.4,72.5,72.2,70.7,70.7,72.6,71.9,72.4,70.7,70.7],\"yaxis\":\"y\",\"type\":\"scatter\"},{\"line\":{\"color\":\"green\"},\"name\":\"Linear model\",\"x\":[18.0,25.0,45.0,53.0,59.0,63.0,67.0,69.0,100.0,117.0,120.0,130.0,131.0,151.0,154.0,157.0,162.0,175.0,193.0,205.0,218.0,224.0,259.0,266.0,267.0,276.0,288.0,299.0,316.0,337.0,360.0,378.0,399.0,409.0,420.0,424.0,433.0,446.0,460.0,468.0,472.0,473.0,477.0,479.0,486.0,490.0,492.0,498.0,525.0,527.0,539.0,542.0,544.0,555.0,559.0,564.0,569.0,583.0,594.0,607.0,610.0,611.0,618.0,626.0,645.0,655.0,670.0,677.0,691.0,704.0,722.0,731.0,738.0,744.0,767.0,782.0,791.0,807.0,824.0,825.0,874.0,886.0,890.0,895.0,910.0,913.0,914.0,927.0,930.0,943.0,965.0,970.0,1018.0,1021.0,1027.0,1030.0,1033.0,1061.0,1066.0,1067.0,1105.0,1113.0,1118.0,1129.0,1137.0,1142.0,1168.0,1188.0,1193.0,1229.0,1233.0,1237.0,1249.0,1254.0,1256.0,1257.0,1258.0,1270.0,1283.0,1302.0,1314.0,1315.0,1326.0,1332.0,1344.0,1350.0,1354.0,1376.0,1381.0,1383.0,1408.0,1412.0,1421.0,1428.0,1434.0,1437.0,1448.0,1451.0,1452.0,1464.0,1466.0,1469.0,1483.0,1488.0,1489.0,1516.0,1537.0,1547.0,1556.0,1565.0,1585.0,1600.0,1606.0,1607.0,1619.0,1620.0,1623.0,1628.0,1647.0,1652.0,1657.0,1658.0,1666.0,1669.0,1675.0,1678.0,1707.0,1712.0,1730.0,1734.0,1753.0,1760.0,1778.0,1779.0,1804.0,1806.0,1817.0,1832.0,1848.0,1851.0,1852.0,1859.0,1871.0,1876.0,1881.0,1886.0,1892.0,1898.0,1905.0,1908.0,1915.0],\"y\":[72.41851372280415,72.80036133103475,72.28709193104349,73.01504411931727,72.74130563547713,72.45825354007592,72.38050244490931,72.36770883822372,73.05463611981303,72.53368482564746,72.98221846318391,72.88206395073847,72.8472141228185,73.34526755578462,72.93264711306891,72.79016025210784,72.60503911818431,73.28203860724805,73.10702172853688,72.7538036093092,73.07217189686251,73.18712127282105,71.68111755351764,72.1340977276477,72.16879973997764,71.8316105811309,72.0583708049662,71.93127008312784,72.32679820001702,72.29382472565975,72.26386488733168,71.80448791059369,71.80787108187268,72.2195307128777,71.93593834681722,71.7746019767137,72.09939571483754,71.77455671353435,72.16240293787904,71.86164433434077,71.75247184448288,71.74607504188951,71.72364927426587,72.13115800593276,72.32190821057064,72.06096333612275,71.94068051869452,71.79026139637334,71.77581315750193,72.17541826698924,71.8822676508489,71.83778565958254,71.73824533040805,72.28103111990548,72.50361752830848,71.97861788854696,71.81562688363827,72.51626331450005,71.83452165754623,72.20960292230937,71.9582162964425,71.92968936118176,71.75074330384722,72.20364957152104,71.71416493330524,72.46409943741217,72.10594033470896,72.3804688979353,71.7348621610572,72.44663756532007,72.19258450260439,71.92020502029389,71.69857942103316,72.10105034729985,72.06476760931308,71.90575678123331,72.12167366388074,71.86003496374813,72.56993401588169,72.09423244128173,72.13209590197128,71.74728622296878,71.92087019541121,72.10228387654114,71.80893444910815,71.86878022147629,71.9240316455898,71.8869072659936,71.85190962089744,72.02008624529752,71.87164603516338,71.81595116452716,71.1987639018689,71.07366500606348,70.8726627238493,70.85347231820832,70.94651328656526,71.11693581197231,71.1434385728271,71.12439598132094,71.01922657769227,71.27629327432713,71.1241742541233,71.0666482901497,71.32213425951248,71.11468991461787,71.05466767596134,71.08954615210585,70.97239613606415,71.28923469613709,71.42330057340494,71.25228678207257,71.16307243191748,71.35555118270621,71.44866606328922,71.45175360228221,71.39793508995261,71.03209409153258,71.2745647366455,71.18009085534776,70.96758005791979,70.96908686985897,71.06944019429555,71.04212444129278,70.94184502654296,71.19905953432952,71.16398798039062,71.23684908687481,71.11318309893885,71.01522349240894,71.09576648810524,71.05437204347162,71.14222739257728,71.19861608860718,71.0023559769388,70.98158484290524,71.33643468088756,71.23978881023412,71.1970353606075,71.00191252538114,71.090285236648,71.21968285054662,71.00860496250151,71.02088121063478,71.068229012998,71.25453268289037,71.10142421114777,71.35834308350512,71.06385638395203,71.10745147168107,71.068229012998,70.98353510705691,70.96570369937307,70.97669485687855,71.0991044024622,71.08322325599782,71.0025777019391,70.99746598973341,71.0863560570351,71.04962986733061,71.11881217144308,71.1724828674114,71.30625311208767,71.20486507029908,71.06076884472621,70.99889889597306,71.05543540459529,71.0882610622857,70.22966652812373,70.33053721038503,70.13963918632997,70.41890991960007,70.18698698631395,70.23433479008143,70.33858864565899,70.42063846105064,70.1576184130963,70.3999412356561,70.076484147502,70.29282156725002,70.32278140959441,70.37758937843954,70.14452917384823,70.36862239408127,70.56742403834413,70.31888087645983,70.16055813478214,70.22334363306344,70.4536119329632,70.29847928506841,70.06104645224603],\"type\":\"scatter\",\"marker\":{\"size\":3}},{\"line\":{\"color\":\"red\"},\"name\":\"RBF model\",\"x\":[18.0,25.0,45.0,53.0,59.0,63.0,67.0,69.0,100.0,117.0,120.0,130.0,131.0,151.0,154.0,157.0,162.0,175.0,193.0,205.0,218.0,224.0,259.0,266.0,267.0,276.0,288.0,299.0,316.0,337.0,360.0,378.0,399.0,409.0,420.0,424.0,433.0,446.0,460.0,468.0,472.0,473.0,477.0,479.0,486.0,490.0,492.0,498.0,525.0,527.0,539.0,542.0,544.0,555.0,559.0,564.0,569.0,583.0,594.0,607.0,610.0,611.0,618.0,626.0,645.0,655.0,670.0,677.0,691.0,704.0,722.0,731.0,738.0,744.0,767.0,782.0,791.0,807.0,824.0,825.0,874.0,886.0,890.0,895.0,910.0,913.0,914.0,927.0,930.0,943.0,965.0,970.0,1018.0,1021.0,1027.0,1030.0,1033.0,1061.0,1066.0,1067.0,1105.0,1113.0,1118.0,1129.0,1137.0,1142.0,1168.0,1188.0,1193.0,1229.0,1233.0,1237.0,1249.0,1254.0,1256.0,1257.0,1258.0,1270.0,1283.0,1302.0,1314.0,1315.0,1326.0,1332.0,1344.0,1350.0,1354.0,1376.0,1381.0,1383.0,1408.0,1412.0,1421.0,1428.0,1434.0,1437.0,1448.0,1451.0,1452.0,1464.0,1466.0,1469.0,1483.0,1488.0,1489.0,1516.0,1537.0,1547.0,1556.0,1565.0,1585.0,1600.0,1606.0,1607.0,1619.0,1620.0,1623.0,1628.0,1647.0,1652.0,1657.0,1658.0,1666.0,1669.0,1675.0,1678.0,1707.0,1712.0,1730.0,1734.0,1753.0,1760.0,1778.0,1779.0,1804.0,1806.0,1817.0,1832.0,1848.0,1851.0,1852.0,1859.0,1871.0,1876.0,1881.0,1886.0,1892.0,1898.0,1905.0,1908.0,1915.0],\"y\":[71.78071724928284,72.1597325980935,69.51203482884993,72.38470777170241,72.81253970926134,72.30034238004545,70.88534240884485,70.34957680321412,72.41148477752215,72.66001822931261,72.3900435813733,73.28955760541251,72.96338942089528,72.87880622198841,72.77059655017706,72.83804599056256,72.76321567870575,72.83494307645338,72.42928098962943,72.84903861256193,72.57403314309747,72.83349643194187,72.13956116330301,72.16947319233047,72.131455131592,72.12432718766718,71.26114878227676,72.53476389352333,72.59796783815617,72.60031458419527,72.48590375374128,72.58804832108459,72.42924327752985,72.38806420137537,72.5027245813601,72.31916112038913,71.60493367329278,71.75193519421282,72.1703748690623,72.36265866495673,72.3421739018188,72.37586137174051,72.21301764084694,72.14071298973208,72.48894014924419,72.706132970538,72.50772209061476,72.53805233572417,72.44828958587524,72.31392609044312,72.45621787232784,72.37204141623089,72.4078106479335,72.45819165942189,72.64766884708602,72.64366200428694,72.58275805555584,72.64100662101539,72.61474283553083,72.44108154788543,72.59850009291515,72.53269775470952,72.31660186822145,72.42663559108543,72.31847165755981,72.61732070954343,72.1815873537798,72.6371240584584,72.32512282952871,72.6284061821133,72.40838374719658,72.52789089715118,72.12200168432435,71.51368964106821,71.6397113788856,72.52014148046143,71.9866171033151,72.68837173856912,72.7360311167665,72.60322853848643,72.76280640836765,71.69134644207085,70.70364307082495,71.36003427187624,72.07689922127393,71.321189004096,70.79986020632472,72.69671769302705,72.49961739995301,70.93390794169025,70.74847456227474,72.28648922674469,70.88600392028333,70.77383741155106,70.70586970332265,70.79093215675088,70.5577933252542,70.72129472655459,70.7788939544447,70.77338997876744,70.71265434011771,70.82414576594263,70.77700339652255,70.70715687979713,70.81852491942749,70.78292318015944,70.79772963774693,70.79895066845211,70.75458722356073,70.74467871343306,70.8845029939448,71.06137579050174,70.70518138728407,70.82426559485516,71.13074761353168,71.46211414792252,71.41086464331406,70.7338452290214,70.86736138913508,70.67276146016452,70.81507317714122,70.8132373235474,70.59338444996844,70.57047228736499,70.54160005747966,70.62782606351995,70.88559529001701,70.74045426161294,70.79658158862158,70.83042218336107,70.84772280584394,70.74081629199668,70.81455355905199,70.89406497593416,70.80757889413178,70.75667146043527,70.7996529549421,70.80083058623204,70.89033481800824,70.70296524937008,70.68129630973728,70.75725272363348,70.76913071401432,70.73079571051402,70.71001308811479,70.80021936881585,70.76148752695241,71.43195834540427,70.77589102264085,70.68563934774791,70.71001308811479,70.69601551848308,70.71094326033715,70.70020808796532,70.795165467759,70.80029205231332,70.8164907488436,70.77286692671777,70.87404378810047,70.73184080801947,70.72658631165442,70.78101025748943,70.89382137212819,70.90035838752641,70.72536224034707,70.69760734318861,70.66115430435174,70.77764917295946,70.523619874908,70.60610334165362,70.58079323268139,70.62987800058563,70.5504031539303,70.58168316862485,70.79481903159368,70.5673208177062,70.68550795947128,70.7710143515755,70.35251378617608,70.48945456289043,70.64062199012471,70.63599625293936,70.53080355864822,70.74474937383984,69.541695245356,70.54180134105037,70.59133461275384,70.5026455351411,70.77571914791795,70.70140592656429,70.47542479049878],\"type\":\"scatter\",\"marker\":{\"size\":3}},{\"line\":{\"color\":\"blue\"},\"name\":\"Polynomial model\",\"x\":[18.0,25.0,45.0,53.0,59.0,63.0,67.0,69.0,100.0,117.0,120.0,130.0,131.0,151.0,154.0,157.0,162.0,175.0,193.0,205.0,218.0,224.0,259.0,266.0,267.0,276.0,288.0,299.0,316.0,337.0,360.0,378.0,399.0,409.0,420.0,424.0,433.0,446.0,460.0,468.0,472.0,473.0,477.0,479.0,486.0,490.0,492.0,498.0,525.0,527.0,539.0,542.0,544.0,555.0,559.0,564.0,569.0,583.0,594.0,607.0,610.0,611.0,618.0,626.0,645.0,655.0,670.0,677.0,691.0,704.0,722.0,731.0,738.0,744.0,767.0,782.0,791.0,807.0,824.0,825.0,874.0,886.0,890.0,895.0,910.0,913.0,914.0,927.0,930.0,943.0,965.0,970.0,1018.0,1021.0,1027.0,1030.0,1033.0,1061.0,1066.0,1067.0,1105.0,1113.0,1118.0,1129.0,1137.0,1142.0,1168.0,1188.0,1193.0,1229.0,1233.0,1237.0,1249.0,1254.0,1256.0,1257.0,1258.0,1270.0,1283.0,1302.0,1314.0,1315.0,1326.0,1332.0,1344.0,1350.0,1354.0,1376.0,1381.0,1383.0,1408.0,1412.0,1421.0,1428.0,1434.0,1437.0,1448.0,1451.0,1452.0,1464.0,1466.0,1469.0,1483.0,1488.0,1489.0,1516.0,1537.0,1547.0,1556.0,1565.0,1585.0,1600.0,1606.0,1607.0,1619.0,1620.0,1623.0,1628.0,1647.0,1652.0,1657.0,1658.0,1666.0,1669.0,1675.0,1678.0,1707.0,1712.0,1730.0,1734.0,1753.0,1760.0,1778.0,1779.0,1804.0,1806.0,1817.0,1832.0,1848.0,1851.0,1852.0,1859.0,1871.0,1876.0,1881.0,1886.0,1892.0,1898.0,1905.0,1908.0,1915.0],\"y\":[72.31147406918932,72.71707737362794,72.22452553893284,72.9700618835283,72.62589361594871,72.45116455987731,72.26741788708301,72.22689737212224,73.02540433010893,72.3244970951377,72.92210346090235,72.8268766749692,72.7857508985534,73.6984129799187,72.931440194414,72.76009161793445,72.49816411819376,73.52624957648302,73.13543201259884,72.71218401698755,73.05842100094068,73.31509197130566,71.64304103864475,72.12436176042927,72.14780469698431,71.79568979295874,72.09597181282103,71.78226941889741,72.3020900255082,72.26945627471255,72.24327243960985,71.72201453035547,71.85147021340369,72.18740678526433,71.82041678042481,71.7805652026418,72.10764396919295,71.90247473397301,72.15190595037448,71.7977534753682,71.76729371346205,71.72431468676803,71.60482406166297,72.13457430751761,72.31052781404104,71.85922033446062,71.82271242689853,71.7125928087092,71.62101010055959,72.16673870686994,71.7633268134488,71.88949218951277,71.75993373434933,72.24541685987667,72.6042006303308,71.844745505671,71.76832528689313,72.62923426560599,71.74491613794495,72.22641668845189,71.76697573871247,71.7814885566013,71.69123265739773,72.17034988434611,71.60320566745517,72.53064030904518,72.13180079997306,72.38010385140157,71.65443063325424,72.51311239536483,72.16156756119287,71.77704111753508,71.67387116803796,72.11082358588703,72.10296913821017,71.89573774425145,72.12883664767801,71.90176171810526,72.75067180077926,71.87958308687533,71.95110071139581,71.59311078811493,71.64802922505288,71.86488331441855,71.6173691129753,71.6148006239467,71.6507669274536,71.93248076066035,71.760042878971,71.76068460620505,71.62128416100668,71.71821433822402,70.95100759003469,71.09337681938548,71.00059837276673,70.96774754568429,70.88431033153037,70.85065365348915,70.95117518614539,70.98845999016322,70.85177179854713,70.95139702129899,71.11711434355965,70.8434566147294,70.97994574029383,71.12108461826759,71.06664466600773,71.04029093861338,71.01982362910371,70.91418725531436,71.07664021445494,71.06194667377264,70.85796967851721,70.97592769543871,71.09768536865668,71.11219021227814,71.06523010913983,70.87968818741099,71.00049970518381,70.86772761550638,70.98653633758909,70.95661583285366,70.87120996848455,71.06735440827907,70.88909793832666,70.87270042535442,70.94949407598887,70.91437227578734,71.07397047680456,71.10385569222139,71.08223150928829,70.92374331708615,70.85155708561777,71.01671081091084,70.98235003308983,70.90686825697405,70.97523804294416,70.98862103815752,71.01666764807581,70.86195248595382,70.83891971312815,70.87235206204835,70.95075995477268,70.85677644798275,70.84335491279407,70.88896930785413,70.84383425394327,71.05161638615617,70.9249270315402,70.85106203267208,70.84335491279407,71.05775225628537,70.89553904994516,70.87923761039065,70.99648503072231,71.04331072480855,71.10228549335872,70.92519947993445,71.12618799617007,70.92330428931598,70.84607778069213,70.85371559175212,70.99032706786252,71.05619668810448,70.95386410607588,70.88511740421794,70.84368936891379,70.90709213562586,70.1423160037766,70.09240235749112,70.24658250144076,70.07823745010121,70.18943255455315,70.14256115948876,70.06423089303513,70.0448606861756,70.35005762739785,70.08705948963485,70.33890331827305,70.08998108015695,70.07435293064205,70.18752432732842,70.2440840426531,70.04811787457177,70.08180692402902,70.37482807028672,70.26605624245434,70.14877548129866,70.08777539540577,70.30242503917376,70.41095904938803],\"type\":\"scatter\",\"marker\":{\"size\":3}}],                        {\"template\":{\"data\":{\"bar\":[{\"error_x\":{\"color\":\"#2a3f5f\"},\"error_y\":{\"color\":\"#2a3f5f\"},\"marker\":{\"line\":{\"color\":\"#E5ECF6\",\"width\":0.5},\"pattern\":{\"fillmode\":\"overlay\",\"size\":10,\"solidity\":0.2}},\"type\":\"bar\"}],\"barpolar\":[{\"marker\":{\"line\":{\"color\":\"#E5ECF6\",\"width\":0.5},\"pattern\":{\"fillmode\":\"overlay\",\"size\":10,\"solidity\":0.2}},\"type\":\"barpolar\"}],\"carpet\":[{\"aaxis\":{\"endlinecolor\":\"#2a3f5f\",\"gridcolor\":\"white\",\"linecolor\":\"white\",\"minorgridcolor\":\"white\",\"startlinecolor\":\"#2a3f5f\"},\"baxis\":{\"endlinecolor\":\"#2a3f5f\",\"gridcolor\":\"white\",\"linecolor\":\"white\",\"minorgridcolor\":\"white\",\"startlinecolor\":\"#2a3f5f\"},\"type\":\"carpet\"}],\"choropleth\":[{\"colorbar\":{\"outlinewidth\":0,\"ticks\":\"\"},\"type\":\"choropleth\"}],\"contour\":[{\"colorbar\":{\"outlinewidth\":0,\"ticks\":\"\"},\"colorscale\":[[0.0,\"#0d0887\"],[0.1111111111111111,\"#46039f\"],[0.2222222222222222,\"#7201a8\"],[0.3333333333333333,\"#9c179e\"],[0.4444444444444444,\"#bd3786\"],[0.5555555555555556,\"#d8576b\"],[0.6666666666666666,\"#ed7953\"],[0.7777777777777778,\"#fb9f3a\"],[0.8888888888888888,\"#fdca26\"],[1.0,\"#f0f921\"]],\"type\":\"contour\"}],\"contourcarpet\":[{\"colorbar\":{\"outlinewidth\":0,\"ticks\":\"\"},\"type\":\"contourcarpet\"}],\"heatmap\":[{\"colorbar\":{\"outlinewidth\":0,\"ticks\":\"\"},\"colorscale\":[[0.0,\"#0d0887\"],[0.1111111111111111,\"#46039f\"],[0.2222222222222222,\"#7201a8\"],[0.3333333333333333,\"#9c179e\"],[0.4444444444444444,\"#bd3786\"],[0.5555555555555556,\"#d8576b\"],[0.6666666666666666,\"#ed7953\"],[0.7777777777777778,\"#fb9f3a\"],[0.8888888888888888,\"#fdca26\"],[1.0,\"#f0f921\"]],\"type\":\"heatmap\"}],\"heatmapgl\":[{\"colorbar\":{\"outlinewidth\":0,\"ticks\":\"\"},\"colorscale\":[[0.0,\"#0d0887\"],[0.1111111111111111,\"#46039f\"],[0.2222222222222222,\"#7201a8\"],[0.3333333333333333,\"#9c179e\"],[0.4444444444444444,\"#bd3786\"],[0.5555555555555556,\"#d8576b\"],[0.6666666666666666,\"#ed7953\"],[0.7777777777777778,\"#fb9f3a\"],[0.8888888888888888,\"#fdca26\"],[1.0,\"#f0f921\"]],\"type\":\"heatmapgl\"}],\"histogram\":[{\"marker\":{\"pattern\":{\"fillmode\":\"overlay\",\"size\":10,\"solidity\":0.2}},\"type\":\"histogram\"}],\"histogram2d\":[{\"colorbar\":{\"outlinewidth\":0,\"ticks\":\"\"},\"colorscale\":[[0.0,\"#0d0887\"],[0.1111111111111111,\"#46039f\"],[0.2222222222222222,\"#7201a8\"],[0.3333333333333333,\"#9c179e\"],[0.4444444444444444,\"#bd3786\"],[0.5555555555555556,\"#d8576b\"],[0.6666666666666666,\"#ed7953\"],[0.7777777777777778,\"#fb9f3a\"],[0.8888888888888888,\"#fdca26\"],[1.0,\"#f0f921\"]],\"type\":\"histogram2d\"}],\"histogram2dcontour\":[{\"colorbar\":{\"outlinewidth\":0,\"ticks\":\"\"},\"colorscale\":[[0.0,\"#0d0887\"],[0.1111111111111111,\"#46039f\"],[0.2222222222222222,\"#7201a8\"],[0.3333333333333333,\"#9c179e\"],[0.4444444444444444,\"#bd3786\"],[0.5555555555555556,\"#d8576b\"],[0.6666666666666666,\"#ed7953\"],[0.7777777777777778,\"#fb9f3a\"],[0.8888888888888888,\"#fdca26\"],[1.0,\"#f0f921\"]],\"type\":\"histogram2dcontour\"}],\"mesh3d\":[{\"colorbar\":{\"outlinewidth\":0,\"ticks\":\"\"},\"type\":\"mesh3d\"}],\"parcoords\":[{\"line\":{\"colorbar\":{\"outlinewidth\":0,\"ticks\":\"\"}},\"type\":\"parcoords\"}],\"pie\":[{\"automargin\":true,\"type\":\"pie\"}],\"scatter\":[{\"marker\":{\"colorbar\":{\"outlinewidth\":0,\"ticks\":\"\"}},\"type\":\"scatter\"}],\"scatter3d\":[{\"line\":{\"colorbar\":{\"outlinewidth\":0,\"ticks\":\"\"}},\"marker\":{\"colorbar\":{\"outlinewidth\":0,\"ticks\":\"\"}},\"type\":\"scatter3d\"}],\"scattercarpet\":[{\"marker\":{\"colorbar\":{\"outlinewidth\":0,\"ticks\":\"\"}},\"type\":\"scattercarpet\"}],\"scattergeo\":[{\"marker\":{\"colorbar\":{\"outlinewidth\":0,\"ticks\":\"\"}},\"type\":\"scattergeo\"}],\"scattergl\":[{\"marker\":{\"colorbar\":{\"outlinewidth\":0,\"ticks\":\"\"}},\"type\":\"scattergl\"}],\"scattermapbox\":[{\"marker\":{\"colorbar\":{\"outlinewidth\":0,\"ticks\":\"\"}},\"type\":\"scattermapbox\"}],\"scatterpolar\":[{\"marker\":{\"colorbar\":{\"outlinewidth\":0,\"ticks\":\"\"}},\"type\":\"scatterpolar\"}],\"scatterpolargl\":[{\"marker\":{\"colorbar\":{\"outlinewidth\":0,\"ticks\":\"\"}},\"type\":\"scatterpolargl\"}],\"scatterternary\":[{\"marker\":{\"colorbar\":{\"outlinewidth\":0,\"ticks\":\"\"}},\"type\":\"scatterternary\"}],\"surface\":[{\"colorbar\":{\"outlinewidth\":0,\"ticks\":\"\"},\"colorscale\":[[0.0,\"#0d0887\"],[0.1111111111111111,\"#46039f\"],[0.2222222222222222,\"#7201a8\"],[0.3333333333333333,\"#9c179e\"],[0.4444444444444444,\"#bd3786\"],[0.5555555555555556,\"#d8576b\"],[0.6666666666666666,\"#ed7953\"],[0.7777777777777778,\"#fb9f3a\"],[0.8888888888888888,\"#fdca26\"],[1.0,\"#f0f921\"]],\"type\":\"surface\"}],\"table\":[{\"cells\":{\"fill\":{\"color\":\"#EBF0F8\"},\"line\":{\"color\":\"white\"}},\"header\":{\"fill\":{\"color\":\"#C8D4E3\"},\"line\":{\"color\":\"white\"}},\"type\":\"table\"}]},\"layout\":{\"annotationdefaults\":{\"arrowcolor\":\"#2a3f5f\",\"arrowhead\":0,\"arrowwidth\":1},\"autotypenumbers\":\"strict\",\"coloraxis\":{\"colorbar\":{\"outlinewidth\":0,\"ticks\":\"\"}},\"colorscale\":{\"diverging\":[[0,\"#8e0152\"],[0.1,\"#c51b7d\"],[0.2,\"#de77ae\"],[0.3,\"#f1b6da\"],[0.4,\"#fde0ef\"],[0.5,\"#f7f7f7\"],[0.6,\"#e6f5d0\"],[0.7,\"#b8e186\"],[0.8,\"#7fbc41\"],[0.9,\"#4d9221\"],[1,\"#276419\"]],\"sequential\":[[0.0,\"#0d0887\"],[0.1111111111111111,\"#46039f\"],[0.2222222222222222,\"#7201a8\"],[0.3333333333333333,\"#9c179e\"],[0.4444444444444444,\"#bd3786\"],[0.5555555555555556,\"#d8576b\"],[0.6666666666666666,\"#ed7953\"],[0.7777777777777778,\"#fb9f3a\"],[0.8888888888888888,\"#fdca26\"],[1.0,\"#f0f921\"]],\"sequentialminus\":[[0.0,\"#0d0887\"],[0.1111111111111111,\"#46039f\"],[0.2222222222222222,\"#7201a8\"],[0.3333333333333333,\"#9c179e\"],[0.4444444444444444,\"#bd3786\"],[0.5555555555555556,\"#d8576b\"],[0.6666666666666666,\"#ed7953\"],[0.7777777777777778,\"#fb9f3a\"],[0.8888888888888888,\"#fdca26\"],[1.0,\"#f0f921\"]]},\"colorway\":[\"#636efa\",\"#EF553B\",\"#00cc96\",\"#ab63fa\",\"#FFA15A\",\"#19d3f3\",\"#FF6692\",\"#B6E880\",\"#FF97FF\",\"#FECB52\"],\"font\":{\"color\":\"#2a3f5f\"},\"geo\":{\"bgcolor\":\"white\",\"lakecolor\":\"white\",\"landcolor\":\"#E5ECF6\",\"showlakes\":true,\"showland\":true,\"subunitcolor\":\"white\"},\"hoverlabel\":{\"align\":\"left\"},\"hovermode\":\"closest\",\"mapbox\":{\"style\":\"light\"},\"paper_bgcolor\":\"white\",\"plot_bgcolor\":\"#E5ECF6\",\"polar\":{\"angularaxis\":{\"gridcolor\":\"white\",\"linecolor\":\"white\",\"ticks\":\"\"},\"bgcolor\":\"#E5ECF6\",\"radialaxis\":{\"gridcolor\":\"white\",\"linecolor\":\"white\",\"ticks\":\"\"}},\"scene\":{\"xaxis\":{\"backgroundcolor\":\"#E5ECF6\",\"gridcolor\":\"white\",\"gridwidth\":2,\"linecolor\":\"white\",\"showbackground\":true,\"ticks\":\"\",\"zerolinecolor\":\"white\"},\"yaxis\":{\"backgroundcolor\":\"#E5ECF6\",\"gridcolor\":\"white\",\"gridwidth\":2,\"linecolor\":\"white\",\"showbackground\":true,\"ticks\":\"\",\"zerolinecolor\":\"white\"},\"zaxis\":{\"backgroundcolor\":\"#E5ECF6\",\"gridcolor\":\"white\",\"gridwidth\":2,\"linecolor\":\"white\",\"showbackground\":true,\"ticks\":\"\",\"zerolinecolor\":\"white\"}},\"shapedefaults\":{\"line\":{\"color\":\"#2a3f5f\"}},\"ternary\":{\"aaxis\":{\"gridcolor\":\"white\",\"linecolor\":\"white\",\"ticks\":\"\"},\"baxis\":{\"gridcolor\":\"white\",\"linecolor\":\"white\",\"ticks\":\"\"},\"bgcolor\":\"#E5ECF6\",\"caxis\":{\"gridcolor\":\"white\",\"linecolor\":\"white\",\"ticks\":\"\"}},\"title\":{\"x\":0.05},\"xaxis\":{\"automargin\":true,\"gridcolor\":\"white\",\"linecolor\":\"white\",\"ticks\":\"\",\"title\":{\"standoff\":15},\"zerolinecolor\":\"white\",\"zerolinewidth\":2},\"yaxis\":{\"automargin\":true,\"gridcolor\":\"white\",\"linecolor\":\"white\",\"ticks\":\"\",\"title\":{\"standoff\":15},\"zerolinecolor\":\"white\",\"zerolinewidth\":2}}},\"xaxis\":{\"anchor\":\"y\",\"domain\":[0.0,1.0],\"title\":{\"text\":\"x\"},\"showgrid\":true,\"gridwidth\":1,\"gridcolor\":\"lightgrey\",\"zeroline\":true,\"zerolinewidth\":1,\"zerolinecolor\":\"lightgrey\",\"showline\":true,\"linewidth\":1,\"linecolor\":\"black\"},\"yaxis\":{\"anchor\":\"x\",\"domain\":[0.0,1.0],\"title\":{\"text\":\"y\"},\"showgrid\":true,\"gridwidth\":1,\"gridcolor\":\"lightgrey\",\"zeroline\":true,\"zerolinewidth\":1,\"zerolinecolor\":\"lightgrey\",\"showline\":true,\"linewidth\":1,\"linecolor\":\"black\"},\"legend\":{\"tracegroupgap\":0},\"margin\":{\"t\":60},\"plot_bgcolor\":\"white\"},                        {\"responsive\": true}                    ).then(function(){\n",
       "                            \n",
       "var gd = document.getElementById('ff9439f1-77cf-485b-af58-5bf835f2eb57');\n",
       "var x = new MutationObserver(function (mutations, observer) {{\n",
       "        var display = window.getComputedStyle(gd).display;\n",
       "        if (!display || display === 'none') {{\n",
       "            console.log([gd, 'removed!']);\n",
       "            Plotly.purge(gd);\n",
       "            observer.disconnect();\n",
       "        }}\n",
       "}});\n",
       "\n",
       "// Listen for the removal of the full notebook cells\n",
       "var notebookContainer = gd.closest('#notebook-container');\n",
       "if (notebookContainer) {{\n",
       "    x.observe(notebookContainer, {childList: true});\n",
       "}}\n",
       "\n",
       "// Listen for the clearing of the current output cell\n",
       "var outputEl = gd.closest('.output');\n",
       "if (outputEl) {{\n",
       "    x.observe(outputEl, {childList: true});\n",
       "}}\n",
       "\n",
       "                        })                };                            </script>        </div>\n",
       "</body>\n",
       "</html>"
      ]
     },
     "metadata": {}
    }
   ],
   "metadata": {
    "tags": [],
    "deepnote_to_be_reexecuted": false,
    "source_hash": "98e3fc5c",
    "execution_start": 1640551989676,
    "execution_millis": 18997,
    "deepnote_output_heights": [
     527,
     527
    ],
    "cell_id": "00025-e871982d-a0eb-4510-93b9-96f256c123c1",
    "deepnote_cell_type": "code"
   }
  },
  {
   "cell_type": "code",
   "execution_count": 62,
   "source": [
    "rbf_pred, lin_pred, poly_pred = predictions\n",
    "\n",
    "print('RBF Prediction:', rbf_pred[5])\n",
    "print('Linear Prediction:', lin_pred[5])\n",
    "print('Polynomial Prediction:', poly_pred[5])\n",
    "\n",
    "print('Actual Value:', y_test[5])"
   ],
   "outputs": [
    {
     "output_type": "stream",
     "name": "stdout",
     "text": [
      "RBF Prediction: 72.44663756532007\n",
      "Linear Prediction: 72.6284061821133\n",
      "Polynomial Prediction: 72.51311239536483\n",
      "Actual Value: 72.7\n"
     ]
    }
   ],
   "metadata": {
    "tags": [],
    "deepnote_to_be_reexecuted": false,
    "source_hash": "4e744d56",
    "execution_start": 1640552045391,
    "execution_millis": 8,
    "cell_id": "00026-4c47d6a1-b245-43af-a4c6-8ff01973093e",
    "deepnote_cell_type": "code"
   }
  },
  {
   "cell_type": "markdown",
   "source": [
    "### Evaluation: Root Mean Squared Error"
   ],
   "metadata": {
    "tags": [],
    "cell_id": "00027-2bc4adf6-8c34-44df-b9d1-2eeec12af67a",
    "deepnote_cell_type": "markdown"
   }
  },
  {
   "cell_type": "code",
   "execution_count": 63,
   "source": [
    "from sklearn.metrics import mean_squared_error\n",
    "from math import sqrt\n",
    "\n",
    "expected = y_test\n",
    "\n",
    "rmse_rbf = sqrt(mean_squared_error(expected, rbf_pred))\n",
    "rmse_lin = sqrt(mean_squared_error(expected, lin_pred))\n",
    "rmse_poly = sqrt(mean_squared_error(expected, poly_pred))\n",
    "\n",
    "print(\"RBF Error:\", rmse_rbf)\n",
    "print(\"Linear Error:\", rmse_lin)\n",
    "print(\"Polynomial Error:\", rmse_poly)"
   ],
   "outputs": [
    {
     "output_type": "stream",
     "name": "stdout",
     "text": [
      "RBF Error: 0.5670540056556231\n",
      "Linear Error: 0.35094471414900424\n",
      "Polynomial Error: 0.5600089536183134\n"
     ]
    }
   ],
   "metadata": {
    "tags": [],
    "deepnote_to_be_reexecuted": false,
    "source_hash": "caa63c78",
    "execution_start": 1640552049093,
    "execution_millis": 213,
    "cell_id": "00027-1cc3c24c-2e32-4680-8617-98a1b7644551",
    "deepnote_cell_type": "code"
   }
  },
  {
   "cell_type": "code",
   "execution_count": 18,
   "source": [
    "error = [1, 2, 3]\n",
    "error[4]"
   ],
   "outputs": [
    {
     "output_type": "error",
     "ename": "IndexError",
     "evalue": "list index out of range",
     "traceback": [
      "\u001b[0;31m---------------------------------------------------------------------------\u001b[0m",
      "\u001b[0;31mIndexError\u001b[0m                                Traceback (most recent call last)",
      "\u001b[0;32m<ipython-input-18-5df4c461d55b>\u001b[0m in \u001b[0;36m<module>\u001b[0;34m\u001b[0m\n\u001b[1;32m      1\u001b[0m \u001b[0merror\u001b[0m \u001b[0;34m=\u001b[0m \u001b[0;34m[\u001b[0m\u001b[0;36m1\u001b[0m\u001b[0;34m,\u001b[0m \u001b[0;36m2\u001b[0m\u001b[0;34m,\u001b[0m \u001b[0;36m3\u001b[0m\u001b[0;34m]\u001b[0m\u001b[0;34m\u001b[0m\u001b[0;34m\u001b[0m\u001b[0m\n\u001b[0;32m----> 2\u001b[0;31m \u001b[0merror\u001b[0m\u001b[0;34m[\u001b[0m\u001b[0;36m4\u001b[0m\u001b[0;34m]\u001b[0m\u001b[0;34m\u001b[0m\u001b[0;34m\u001b[0m\u001b[0m\n\u001b[0m",
      "\u001b[0;31mIndexError\u001b[0m: list index out of range"
     ]
    }
   ],
   "metadata": {
    "tags": [],
    "deepnote_to_be_reexecuted": false,
    "source_hash": "e05f12bd",
    "execution_start": 1640550123548,
    "execution_millis": 503,
    "cell_id": "00028-7ce60f97-50d5-4e10-94b8-a8f6ea8fe347",
    "deepnote_cell_type": "code"
   }
  },
  {
   "cell_type": "markdown",
   "source": [
    "## Pickling\n",
    "\n",
    "exporting the trained models to the backend of our webapp"
   ],
   "metadata": {
    "tags": [],
    "cell_id": "00031-44df3892-e4bd-4fd2-b727-50d0c5453249",
    "deepnote_cell_type": "markdown"
   }
  },
  {
   "cell_type": "code",
   "execution_count": null,
   "source": [
    "print(predictions)\n",
    "\n",
    "rbf_model, lin_model, poly_model = predictions\n",
    "\n",
    "my_path_rbf = \"./pred_svr_H353_humid_rbf.pkl\"\n",
    "my_path_lin = \"./pred_svr_H353_humid_lin.pkl\"\n",
    "my_path_poly = \"./pred_svr_H353_humid_poly.pkl\"\n",
    "\n"
   ],
   "outputs": [
    {
     "output_type": "stream",
     "name": "stdout",
     "text": [
      "(SVR(C=10, kernel='linear'), SVR(C=10, gamma=0.2), SVR(C=10, degree=2, kernel='poly'))\n"
     ]
    }
   ],
   "metadata": {
    "tags": [],
    "deepnote_to_be_reexecuted": true,
    "source_hash": "b0dc8007",
    "execution_start": 1637002204178,
    "execution_millis": 1,
    "cell_id": "00030-8e904cdb-525f-4063-91d5-3a225bfaa0d3",
    "deepnote_cell_type": "code"
   }
  },
  {
   "cell_type": "code",
   "execution_count": null,
   "source": [
    "import pickle\n",
    "\n",
    "with open(my_path_rbf, 'wb') as pickle_file:\n",
    "    pickle.dump(rbf_model, pickle_file)\n",
    "\n",
    "with open(my_path_lin, 'wb') as pickle_file:\n",
    "    pickle.dump(lin_model, pickle_file)\n",
    "\n",
    "with open(my_path_poly, 'wb') as pickle_file:\n",
    "    pickle.dump(poly_model, pickle_file)"
   ],
   "outputs": [],
   "metadata": {
    "tags": [],
    "deepnote_to_be_reexecuted": true,
    "source_hash": "cfc55c5e",
    "execution_start": 1637002207120,
    "execution_millis": 13,
    "cell_id": "00031-51727a53-7c48-40d2-aef4-d63cc8238a54",
    "deepnote_cell_type": "code"
   }
  },
  {
   "cell_type": "code",
   "execution_count": null,
   "source": [
    "import pandas as pd\n",
    "\n",
    "my_path_rbf = \"./pred_svr_H353_humid_rbf.pkl\"\n",
    "\n",
    "test_rbf = pd.read_pickle(my_path_rbf)"
   ],
   "outputs": [],
   "metadata": {
    "tags": [],
    "deepnote_to_be_reexecuted": true,
    "source_hash": "bb9077a8",
    "execution_start": 1637002208840,
    "execution_millis": 4,
    "cell_id": "00032-4212bd9b-f1c0-47d1-88fb-037dbdb3cd63",
    "deepnote_cell_type": "code"
   }
  },
  {
   "cell_type": "code",
   "execution_count": null,
   "source": [
    "print(X_test[0][2])\n",
    "print(type(test_rbf))\n",
    "\n",
    "goal = np.reshape(X_test[0][2],(1, 1))\n",
    "\n",
    "print(goal)"
   ],
   "outputs": [
    {
     "output_type": "stream",
     "name": "stdout",
     "text": [
      "1\n",
      "<class 'sklearn.svm._classes.SVR'>\n",
      "[[1]]\n"
     ]
    }
   ],
   "metadata": {
    "tags": [],
    "deepnote_to_be_reexecuted": true,
    "source_hash": "52afddba",
    "execution_start": 1637002210863,
    "execution_millis": 8,
    "cell_id": "00033-73a7352e-f29d-45dd-8858-682a81e95101",
    "deepnote_cell_type": "code"
   }
  },
  {
   "cell_type": "code",
   "execution_count": null,
   "source": [
    "test_rbf.predict([[10, 4, 0]])"
   ],
   "outputs": [
    {
     "output_type": "execute_result",
     "data": {
      "text/plain": [
       "array([74.6400581])"
      ]
     },
     "metadata": {},
     "execution_count": 51
    }
   ],
   "metadata": {
    "tags": [],
    "deepnote_to_be_reexecuted": true,
    "source_hash": "bb05d41a",
    "execution_start": 1637002222734,
    "execution_millis": 2,
    "deepnote_output_heights": [
     21.1875
    ],
    "cell_id": "00034-9576f53b-f735-4447-9324-bbb765119a3f",
    "deepnote_cell_type": "code"
   }
  },
  {
   "cell_type": "code",
   "execution_count": null,
   "source": [
    "rbf_model, lin_model, poly_model = results\n",
    "\n",
    "my_path_rbf = \"./pred_svr_H353_humid_rbf.pkl\"\n",
    "my_path_lin = \"./pred_svr_H353_humid_lin.pkl\"\n",
    "my_path_poly = \"./pred_svr_H353_humid_poly.pkl\"\n",
    "\n"
   ],
   "outputs": [],
   "metadata": {
    "tags": [],
    "deepnote_to_be_reexecuted": true,
    "source_hash": "83a9b4c0",
    "cell_id": "00038-3c41e86c-cbd4-4a2a-a6de-d8e56067e2a7",
    "deepnote_cell_type": "code"
   }
  },
  {
   "cell_type": "markdown",
   "source": [
    "<a style='text-decoration:none;line-height:16px;display:flex;color:#5B5B62;padding:10px;justify-content:end;' href='https://deepnote.com?utm_source=created-in-deepnote-cell&projectId=bf8e464d-6614-4785-bf90-eb5b6d8a76b5' target=\"_blank\">\n",
    "<img alt='Created in deepnote.com' style='display:inline;max-height:16px;margin:0px;margin-right:7.5px;' src='data:image/svg+xml;base64,PD94bWwgdmVyc2lvbj0iMS4wIiBlbmNvZGluZz0iVVRGLTgiPz4KPHN2ZyB3aWR0aD0iODBweCIgaGVpZ2h0PSI4MHB4IiB2aWV3Qm94PSIwIDAgODAgODAiIHZlcnNpb249IjEuMSIgeG1sbnM9Imh0dHA6Ly93d3cudzMub3JnLzIwMDAvc3ZnIiB4bWxuczp4bGluaz0iaHR0cDovL3d3dy53My5vcmcvMTk5OS94bGluayI+CiAgICA8IS0tIEdlbmVyYXRvcjogU2tldGNoIDU0LjEgKDc2NDkwKSAtIGh0dHBzOi8vc2tldGNoYXBwLmNvbSAtLT4KICAgIDx0aXRsZT5Hcm91cCAzPC90aXRsZT4KICAgIDxkZXNjPkNyZWF0ZWQgd2l0aCBTa2V0Y2guPC9kZXNjPgogICAgPGcgaWQ9IkxhbmRpbmciIHN0cm9rZT0ibm9uZSIgc3Ryb2tlLXdpZHRoPSIxIiBmaWxsPSJub25lIiBmaWxsLXJ1bGU9ImV2ZW5vZGQiPgogICAgICAgIDxnIGlkPSJBcnRib2FyZCIgdHJhbnNmb3JtPSJ0cmFuc2xhdGUoLTEyMzUuMDAwMDAwLCAtNzkuMDAwMDAwKSI+CiAgICAgICAgICAgIDxnIGlkPSJHcm91cC0zIiB0cmFuc2Zvcm09InRyYW5zbGF0ZSgxMjM1LjAwMDAwMCwgNzkuMDAwMDAwKSI+CiAgICAgICAgICAgICAgICA8cG9seWdvbiBpZD0iUGF0aC0yMCIgZmlsbD0iIzAyNjVCNCIgcG9pbnRzPSIyLjM3NjIzNzYyIDgwIDM4LjA0NzY2NjcgODAgNTcuODIxNzgyMiA3My44MDU3NTkyIDU3LjgyMTc4MjIgMzIuNzU5MjczOSAzOS4xNDAyMjc4IDMxLjY4MzE2ODMiPjwvcG9seWdvbj4KICAgICAgICAgICAgICAgIDxwYXRoIGQ9Ik0zNS4wMDc3MTgsODAgQzQyLjkwNjIwMDcsNzYuNDU0OTM1OCA0Ny41NjQ5MTY3LDcxLjU0MjI2NzEgNDguOTgzODY2LDY1LjI2MTk5MzkgQzUxLjExMjI4OTksNTUuODQxNTg0MiA0MS42NzcxNzk1LDQ5LjIxMjIyODQgMjUuNjIzOTg0Niw0OS4yMTIyMjg0IEMyNS40ODQ5Mjg5LDQ5LjEyNjg0NDggMjkuODI2MTI5Niw0My4yODM4MjQ4IDM4LjY0NzU4NjksMzEuNjgzMTY4MyBMNzIuODcxMjg3MSwzMi41NTQ0MjUgTDY1LjI4MDk3Myw2Ny42NzYzNDIxIEw1MS4xMTIyODk5LDc3LjM3NjE0NCBMMzUuMDA3NzE4LDgwIFoiIGlkPSJQYXRoLTIyIiBmaWxsPSIjMDAyODY4Ij48L3BhdGg+CiAgICAgICAgICAgICAgICA8cGF0aCBkPSJNMCwzNy43MzA0NDA1IEwyNy4xMTQ1MzcsMC4yNTcxMTE0MzYgQzYyLjM3MTUxMjMsLTEuOTkwNzE3MDEgODAsMTAuNTAwMzkyNyA4MCwzNy43MzA0NDA1IEM4MCw2NC45NjA0ODgyIDY0Ljc3NjUwMzgsNzkuMDUwMzQxNCAzNC4zMjk1MTEzLDgwIEM0Ny4wNTUzNDg5LDc3LjU2NzA4MDggNTMuNDE4MjY3Nyw3MC4zMTM2MTAzIDUzLjQxODI2NzcsNTguMjM5NTg4NSBDNTMuNDE4MjY3Nyw0MC4xMjg1NTU3IDM2LjMwMzk1NDQsMzcuNzMwNDQwNSAyNS4yMjc0MTcsMzcuNzMwNDQwNSBDMTcuODQzMDU4NiwzNy43MzA0NDA1IDkuNDMzOTE5NjYsMzcuNzMwNDQwNSAwLDM3LjczMDQ0MDUgWiIgaWQ9IlBhdGgtMTkiIGZpbGw9IiMzNzkzRUYiPjwvcGF0aD4KICAgICAgICAgICAgPC9nPgogICAgICAgIDwvZz4KICAgIDwvZz4KPC9zdmc+' > </img>\n",
    "Created in <span style='font-weight:600;margin-left:4px;'>Deepnote</span></a>"
   ],
   "metadata": {
    "tags": [],
    "created_in_deepnote_cell": true,
    "deepnote_cell_type": "markdown"
   }
  }
 ],
 "nbformat": 4,
 "nbformat_minor": 2,
 "metadata": {
  "orig_nbformat": 2,
  "deepnote": {
   "is_reactive": false
  },
  "deepnote_notebook_id": "80fc4155-c96e-4124-926c-26dcb1ce280e",
  "deepnote_execution_queue": [],
  "language_info": {
   "name": "python",
   "version": "3.9.5",
   "mimetype": "text/x-python",
   "codemirror_mode": {
    "name": "ipython",
    "version": 3
   },
   "pygments_lexer": "ipython3",
   "nbconvert_exporter": "python",
   "file_extension": ".py"
  },
  "kernelspec": {
   "name": "python3",
   "display_name": "Python 3.9.5 64-bit"
  },
  "interpreter": {
   "hash": "aee8b7b246df8f9039afb4144a1f6fd8d2ca17a180786b69acc140d282b71a49"
  }
 }
}