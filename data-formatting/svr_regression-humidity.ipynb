{
 "cells": [
  {
   "cell_type": "code",
   "metadata": {
    "tags": [],
    "deepnote_to_be_reexecuted": false,
    "source_hash": "8ad57f32",
    "execution_start": 1640547824880,
    "execution_millis": 294203,
    "cell_id": "00000-933d49a1-d2b5-48a3-adcb-47ccea3cb48f",
    "deepnote_cell_type": "code"
   },
   "source": "# Start writing code here...",
   "execution_count": 1,
   "outputs": []
  },
  {
   "cell_type": "code",
   "metadata": {
    "tags": [],
    "deepnote_to_be_reexecuted": false,
    "source_hash": "ffe3dee0",
    "execution_start": 1640547824880,
    "execution_millis": 4821,
    "cell_id": "00001-43736703-38ae-4ae3-8521-b7f9a48f7a15",
    "deepnote_cell_type": "code"
   },
   "source": "import pandas as pd\nimport numpy as np\nimport sklearn\nfrom matplotlib import pyplot as plt \nfrom sklearn.metrics import mean_squared_error, r2_score\nfrom hyperopt import hp, tpe, Trials, fmin\nimport time\nimport datetime\nimport random",
   "execution_count": 2,
   "outputs": []
  },
  {
   "cell_type": "markdown",
   "source": "# HCS T4SG x NIOSH Lab Humidity Prediction Model\n#### via Support Vector Regression (SVR)",
   "metadata": {
    "tags": [],
    "cell_id": "00002-8fe49590-5148-493f-bb6a-6552a4acefc2",
    "deepnote_cell_type": "markdown"
   }
  },
  {
   "cell_type": "code",
   "metadata": {
    "tags": [],
    "deepnote_to_be_reexecuted": false,
    "source_hash": "44618aa6",
    "execution_start": 1640547829701,
    "execution_millis": 528,
    "cell_id": "00004-86310e1d-1036-4a18-8a2d-eddf011772ba",
    "deepnote_cell_type": "code"
   },
   "source": "path = \"./LabTempTrends.csv\"\ndf = pd.read_csv(path)\ndf.head(10)",
   "execution_count": 3,
   "outputs": [
    {
     "output_type": "execute_result",
     "execution_count": 3,
     "data": {
      "application/vnd.deepnote.dataframe.v3+json": {
       "column_count": 40,
       "row_count": 10,
       "columns": [
        {
         "name": "TB15",
         "dtype": "object",
         "stats": {
          "unique_count": 10,
          "nan_count": 0,
          "categories": [
           {
            "name": "Time",
            "count": 1
           },
           {
            "name": "4/27/21 1:00:00 PM EDT",
            "count": 1
           },
           {
            "name": "8 others",
            "count": 8
           }
          ]
         }
        },
        {
         "name": "Unnamed: 1",
         "dtype": "object",
         "stats": {
          "unique_count": 9,
          "nan_count": 0,
          "categories": [
           {
            "name": "74.47571",
            "count": 2
           },
           {
            "name": "Trend (deg F)",
            "count": 1
           },
           {
            "name": "7 others",
            "count": 7
           }
          ]
         }
        },
        {
         "name": "T302",
         "dtype": "object",
         "stats": {
          "unique_count": 1,
          "nan_count": 9,
          "categories": [
           {
            "name": "Time",
            "count": 1
           },
           {
            "name": "Missing",
            "count": 9
           }
          ]
         }
        },
        {
         "name": "Unnamed: 3",
         "dtype": "object",
         "stats": {
          "unique_count": 1,
          "nan_count": 9,
          "categories": [
           {
            "name": "Trend (deg F)",
            "count": 1
           },
           {
            "name": "Missing",
            "count": 9
           }
          ]
         }
        },
        {
         "name": "T303",
         "dtype": "object",
         "stats": {
          "unique_count": 10,
          "nan_count": 0,
          "categories": [
           {
            "name": "Time",
            "count": 1
           },
           {
            "name": "4/27/21 12:00:00 PM EDT",
            "count": 1
           },
           {
            "name": "8 others",
            "count": 8
           }
          ]
         }
        },
        {
         "name": "Unnamed: 5",
         "dtype": "object",
         "stats": {
          "unique_count": 10,
          "nan_count": 0,
          "categories": [
           {
            "name": "Trend (deg F)",
            "count": 1
           },
           {
            "name": "71.69919",
            "count": 1
           },
           {
            "name": "8 others",
            "count": 8
           }
          ]
         }
        },
        {
         "name": "T446",
         "dtype": "object",
         "stats": {
          "unique_count": 10,
          "nan_count": 0,
          "categories": [
           {
            "name": "Time",
            "count": 1
           },
           {
            "name": "4/27/21 1:00:00 PM EDT",
            "count": 1
           },
           {
            "name": "8 others",
            "count": 8
           }
          ]
         }
        },
        {
         "name": "Unnamed: 7",
         "dtype": "object",
         "stats": {
          "unique_count": 8,
          "nan_count": 0,
          "categories": [
           {
            "name": "72.0625",
            "count": 2
           },
           {
            "name": "72.01059",
            "count": 2
           },
           {
            "name": "6 others",
            "count": 6
           }
          ]
         }
        },
        {
         "name": "T449",
         "dtype": "object",
         "stats": {
          "unique_count": 10,
          "nan_count": 0,
          "categories": [
           {
            "name": "Time",
            "count": 1
           },
           {
            "name": "4/27/21 1:00:00 PM EDT",
            "count": 1
           },
           {
            "name": "8 others",
            "count": 8
           }
          ]
         }
        },
        {
         "name": "Unnamed: 9",
         "dtype": "object",
         "stats": {
          "unique_count": 8,
          "nan_count": 0,
          "categories": [
           {
            "name": "72.86691",
            "count": 2
           },
           {
            "name": "73.12637",
            "count": 2
           },
           {
            "name": "6 others",
            "count": 6
           }
          ]
         }
        },
        {
         "name": "T454",
         "dtype": "object",
         "stats": {
          "unique_count": 10,
          "nan_count": 0,
          "categories": [
           {
            "name": "Time",
            "count": 1
           },
           {
            "name": "4/27/21 1:00:00 PM EDT",
            "count": 1
           },
           {
            "name": "8 others",
            "count": 8
           }
          ]
         }
        },
        {
         "name": "Unnamed: 11",
         "dtype": "object",
         "stats": {
          "unique_count": 10,
          "nan_count": 0,
          "categories": [
           {
            "name": "Trend (deg F)",
            "count": 1
           },
           {
            "name": "71.9068",
            "count": 1
           },
           {
            "name": "8 others",
            "count": 8
           }
          ]
         }
        },
        {
         "name": "T Building",
         "dtype": "object",
         "stats": {
          "unique_count": 1,
          "nan_count": 9,
          "categories": [
           {
            "name": "Time",
            "count": 1
           },
           {
            "name": "Missing",
            "count": 9
           }
          ]
         }
        },
        {
         "name": "Unnamed: 13",
         "dtype": "object",
         "stats": {
          "unique_count": 1,
          "nan_count": 9,
          "categories": [
           {
            "name": "OUTSIDE HUMIDTY.Trend (RH%)",
            "count": 1
           },
           {
            "name": "Missing",
            "count": 9
           }
          ]
         }
        },
        {
         "name": "T Building.1",
         "dtype": "object",
         "stats": {
          "unique_count": 1,
          "nan_count": 9,
          "categories": [
           {
            "name": "Time",
            "count": 1
           },
           {
            "name": "Missing",
            "count": 9
           }
          ]
         }
        },
        {
         "name": "Unnamed: 15",
         "dtype": "object",
         "stats": {
          "unique_count": 1,
          "nan_count": 9,
          "categories": [
           {
            "name": "OA-T.Trend (deg F)",
            "count": 1
           },
           {
            "name": "Missing",
            "count": 9
           }
          ]
         }
        },
        {
         "name": "T Building.2",
         "dtype": "object",
         "stats": {
          "unique_count": 1,
          "nan_count": 9,
          "categories": [
           {
            "name": "Time",
            "count": 1
           },
           {
            "name": "Missing",
            "count": 9
           }
          ]
         }
        },
        {
         "name": "Unnamed: 17",
         "dtype": "object",
         "stats": {
          "unique_count": 1,
          "nan_count": 9,
          "categories": [
           {
            "name": "OUTSIDE ENTHALPY.Trend (Btu/lb)",
            "count": 1
           },
           {
            "name": "Missing",
            "count": 9
           }
          ]
         }
        },
        {
         "name": "TB01",
         "dtype": "object",
         "stats": {
          "unique_count": 1,
          "nan_count": 9,
          "categories": [
           {
            "name": "Time",
            "count": 1
           },
           {
            "name": "Missing",
            "count": 9
           }
          ]
         }
        },
        {
         "name": "Unnamed: 19",
         "dtype": "object",
         "stats": {
          "unique_count": 1,
          "nan_count": 9,
          "categories": [
           {
            "name": "HUMIDITY %. Trend (%RH)",
            "count": 1
           },
           {
            "name": "Missing",
            "count": 9
           }
          ]
         }
        },
        {
         "name": "T454.1",
         "dtype": "object",
         "stats": {
          "unique_count": 1,
          "nan_count": 9,
          "categories": [
           {
            "name": "Time",
            "count": 1
           },
           {
            "name": "Missing",
            "count": 9
           }
          ]
         }
        },
        {
         "name": "Unnamed: 21",
         "dtype": "object",
         "stats": {
          "unique_count": 1,
          "nan_count": 9,
          "categories": [
           {
            "name": "HUMIDITY %. Trend (%RH)",
            "count": 1
           },
           {
            "name": "Missing",
            "count": 9
           }
          ]
         }
        },
        {
         "name": "H309",
         "dtype": "object",
         "stats": {
          "unique_count": 1,
          "nan_count": 9,
          "categories": [
           {
            "name": "Time",
            "count": 1
           },
           {
            "name": "Missing",
            "count": 9
           }
          ]
         }
        },
        {
         "name": "Unnamed: 23",
         "dtype": "object",
         "stats": {
          "unique_count": 1,
          "nan_count": 9,
          "categories": [
           {
            "name": "Trend (deg F)",
            "count": 1
           },
           {
            "name": "Missing",
            "count": 9
           }
          ]
         }
        },
        {
         "name": "H351",
         "dtype": "object",
         "stats": {
          "unique_count": 1,
          "nan_count": 9,
          "categories": [
           {
            "name": "Time",
            "count": 1
           },
           {
            "name": "Missing",
            "count": 9
           }
          ]
         }
        },
        {
         "name": "Unnamed: 25",
         "dtype": "object",
         "stats": {
          "unique_count": 1,
          "nan_count": 9,
          "categories": [
           {
            "name": "Trend (deg F)",
            "count": 1
           },
           {
            "name": "Missing",
            "count": 9
           }
          ]
         }
        },
        {
         "name": "H355",
         "dtype": "object",
         "stats": {
          "unique_count": 1,
          "nan_count": 9,
          "categories": [
           {
            "name": "Time",
            "count": 1
           },
           {
            "name": "Missing",
            "count": 9
           }
          ]
         }
        },
        {
         "name": "Unnamed: 27",
         "dtype": "object",
         "stats": {
          "unique_count": 1,
          "nan_count": 9,
          "categories": [
           {
            "name": "Trend (deg F)",
            "count": 1
           },
           {
            "name": "Missing",
            "count": 9
           }
          ]
         }
        },
        {
         "name": "H424",
         "dtype": "object",
         "stats": {
          "unique_count": 1,
          "nan_count": 9,
          "categories": [
           {
            "name": "Time",
            "count": 1
           },
           {
            "name": "Missing",
            "count": 9
           }
          ]
         }
        },
        {
         "name": "Unnamed: 29",
         "dtype": "object",
         "stats": {
          "unique_count": 1,
          "nan_count": 9,
          "categories": [
           {
            "name": "Trend (deg F)",
            "count": 1
           },
           {
            "name": "Missing",
            "count": 9
           }
          ]
         }
        },
        {
         "name": "H460",
         "dtype": "object",
         "stats": {
          "unique_count": 1,
          "nan_count": 9,
          "categories": [
           {
            "name": "Time",
            "count": 1
           },
           {
            "name": "Missing",
            "count": 9
           }
          ]
         }
        },
        {
         "name": "Unnamed: 31",
         "dtype": "object",
         "stats": {
          "unique_count": 1,
          "nan_count": 9,
          "categories": [
           {
            "name": "Trend (deg F)",
            "count": 1
           },
           {
            "name": "Missing",
            "count": 9
           }
          ]
         }
        },
        {
         "name": "H309.1",
         "dtype": "object",
         "stats": {
          "unique_count": 1,
          "nan_count": 9,
          "categories": [
           {
            "name": "Time",
            "count": 1
           },
           {
            "name": "Missing",
            "count": 9
           }
          ]
         }
        },
        {
         "name": "Unnamed: 33",
         "dtype": "object",
         "stats": {
          "unique_count": 1,
          "nan_count": 9,
          "categories": [
           {
            "name": "HUMIDITY %. Trend (%RH)",
            "count": 1
           },
           {
            "name": "Missing",
            "count": 9
           }
          ]
         }
        },
        {
         "name": "H353",
         "dtype": "object",
         "stats": {
          "unique_count": 1,
          "nan_count": 9,
          "categories": [
           {
            "name": "Time",
            "count": 1
           },
           {
            "name": "Missing",
            "count": 9
           }
          ]
         }
        },
        {
         "name": "Unnamed: 35",
         "dtype": "object",
         "stats": {
          "unique_count": 1,
          "nan_count": 9,
          "categories": [
           {
            "name": "HUMIDITY %. Trend (%RH)",
            "count": 1
           },
           {
            "name": "Missing",
            "count": 9
           }
          ]
         }
        },
        {
         "name": "H353.1",
         "dtype": "object",
         "stats": {
          "unique_count": 1,
          "nan_count": 9,
          "categories": [
           {
            "name": "Time",
            "count": 1
           },
           {
            "name": "Missing",
            "count": 9
           }
          ]
         }
        },
        {
         "name": "Unnamed: 37",
         "dtype": "object",
         "stats": {
          "unique_count": 1,
          "nan_count": 9,
          "categories": [
           {
            "name": "Trend (deg F)",
            "count": 1
           },
           {
            "name": "Missing",
            "count": 9
           }
          ]
         }
        },
        {
         "name": "TB01.1",
         "dtype": "object",
         "stats": {
          "unique_count": 1,
          "nan_count": 9,
          "categories": [
           {
            "name": "Time",
            "count": 1
           },
           {
            "name": "Missing",
            "count": 9
           }
          ]
         }
        },
        {
         "name": "Unnamed: 39",
         "dtype": "object",
         "stats": {
          "unique_count": 1,
          "nan_count": 9,
          "categories": [
           {
            "name": "Trend (deg F)",
            "count": 1
           },
           {
            "name": "Missing",
            "count": 9
           }
          ]
         }
        },
        {
         "name": "_deepnote_index_column",
         "dtype": "int64"
        }
       ],
       "rows": [
        {
         "TB15": "Time",
         "Unnamed: 1": "Trend (deg F)",
         "T302": "Time",
         "Unnamed: 3": "Trend (deg F)",
         "T303": "Time",
         "Unnamed: 5": "Trend (deg F)",
         "T446": "Time",
         "Unnamed: 7": "Trend (deg F)",
         "T449": "Time",
         "Unnamed: 9": "Trend (deg F)",
         "T454": "Time",
         "Unnamed: 11": "Trend (deg F)",
         "T Building": "Time",
         "Unnamed: 13": "OUTSIDE HUMIDTY.Trend (RH%)",
         "T Building.1": "Time",
         "Unnamed: 15": "OA-T.Trend (deg F)",
         "T Building.2": "Time",
         "Unnamed: 17": "OUTSIDE ENTHALPY.Trend (Btu/lb)",
         "TB01": "Time",
         "Unnamed: 19": "HUMIDITY %. Trend (%RH)",
         "T454.1": "Time",
         "Unnamed: 21": "HUMIDITY %. Trend (%RH)",
         "H309": "Time",
         "Unnamed: 23": "Trend (deg F)",
         "H351": "Time",
         "Unnamed: 25": "Trend (deg F)",
         "H355": "Time",
         "Unnamed: 27": "Trend (deg F)",
         "H424": "Time",
         "Unnamed: 29": "Trend (deg F)",
         "H460": "Time",
         "Unnamed: 31": "Trend (deg F)",
         "H309.1": "Time",
         "Unnamed: 33": "HUMIDITY %. Trend (%RH)",
         "H353": "Time",
         "Unnamed: 35": "HUMIDITY %. Trend (%RH)",
         "H353.1": "Time",
         "Unnamed: 37": "Trend (deg F)",
         "TB01.1": "Time",
         "Unnamed: 39": "Trend (deg F)",
         "_deepnote_index_column": 0
        },
        {
         "TB15": "4/27/21 1:00:00 PM EDT",
         "Unnamed: 1": "74.99469",
         "T302": "nan",
         "Unnamed: 3": "nan",
         "T303": "4/27/21 12:00:00 PM EDT",
         "Unnamed: 5": "71.69919",
         "T446": "4/27/21 1:00:00 PM EDT",
         "Unnamed: 7": "72.0625",
         "T449": "4/27/21 1:00:00 PM EDT",
         "Unnamed: 9": "72.86691",
         "T454": "4/27/21 1:00:00 PM EDT",
         "Unnamed: 11": "71.9068",
         "T Building": "nan",
         "Unnamed: 13": "nan",
         "T Building.1": "nan",
         "Unnamed: 15": "nan",
         "T Building.2": "nan",
         "Unnamed: 17": "nan",
         "TB01": "nan",
         "Unnamed: 19": "nan",
         "T454.1": "nan",
         "Unnamed: 21": "nan",
         "H309": "nan",
         "Unnamed: 23": "nan",
         "H351": "nan",
         "Unnamed: 25": "nan",
         "H355": "nan",
         "Unnamed: 27": "nan",
         "H424": "nan",
         "Unnamed: 29": "nan",
         "H460": "nan",
         "Unnamed: 31": "nan",
         "H309.1": "nan",
         "Unnamed: 33": "nan",
         "H353": "nan",
         "Unnamed: 35": "nan",
         "H353.1": "nan",
         "Unnamed: 37": "nan",
         "TB01.1": "nan",
         "Unnamed: 39": "nan",
         "_deepnote_index_column": 1
        },
        {
         "TB15": "4/27/21 2:00:00 PM EDT",
         "Unnamed: 1": "74.29407",
         "T302": "nan",
         "Unnamed: 3": "nan",
         "T303": "4/27/21 1:00:00 PM EDT",
         "Unnamed: 5": "71.7511",
         "T446": "4/27/21 2:00:00 PM EDT",
         "Unnamed: 7": "72.91879",
         "T449": "4/27/21 2:00:00 PM EDT",
         "Unnamed: 9": "72.45172",
         "T454": "4/27/21 2:00:00 PM EDT",
         "Unnamed: 11": "72.45172",
         "T Building": "nan",
         "Unnamed: 13": "nan",
         "T Building.1": "nan",
         "Unnamed: 15": "nan",
         "T Building.2": "nan",
         "Unnamed: 17": "nan",
         "TB01": "nan",
         "Unnamed: 19": "nan",
         "T454.1": "nan",
         "Unnamed: 21": "nan",
         "H309": "nan",
         "Unnamed: 23": "nan",
         "H351": "nan",
         "Unnamed: 25": "nan",
         "H355": "nan",
         "Unnamed: 27": "nan",
         "H424": "nan",
         "Unnamed: 29": "nan",
         "H460": "nan",
         "Unnamed: 31": "nan",
         "H309.1": "nan",
         "Unnamed: 33": "nan",
         "H353": "nan",
         "Unnamed: 35": "nan",
         "H353.1": "nan",
         "Unnamed: 37": "nan",
         "TB01.1": "nan",
         "Unnamed: 39": "nan",
         "_deepnote_index_column": 2
        },
        {
         "TB15": "4/27/21 3:00:00 PM EDT",
         "Unnamed: 1": "74.78711",
         "T302": "nan",
         "Unnamed: 3": "nan",
         "T303": "4/27/21 2:00:00 PM EDT",
         "Unnamed: 5": "71.64728",
         "T446": "4/27/21 3:00:00 PM EDT",
         "Unnamed: 7": "72.0625",
         "T449": "4/27/21 3:00:00 PM EDT",
         "Unnamed: 9": "72.55551",
         "T454": "4/27/21 3:00:00 PM EDT",
         "Unnamed: 11": "72.0625",
         "T Building": "nan",
         "Unnamed: 13": "nan",
         "T Building.1": "nan",
         "Unnamed: 15": "nan",
         "T Building.2": "nan",
         "Unnamed: 17": "nan",
         "TB01": "nan",
         "Unnamed: 19": "nan",
         "T454.1": "nan",
         "Unnamed: 21": "nan",
         "H309": "nan",
         "Unnamed: 23": "nan",
         "H351": "nan",
         "Unnamed: 25": "nan",
         "H355": "nan",
         "Unnamed: 27": "nan",
         "H424": "nan",
         "Unnamed: 29": "nan",
         "H460": "nan",
         "Unnamed: 31": "nan",
         "H309.1": "nan",
         "Unnamed: 33": "nan",
         "H353": "nan",
         "Unnamed: 35": "nan",
         "H353.1": "nan",
         "Unnamed: 37": "nan",
         "TB01.1": "nan",
         "Unnamed: 39": "nan",
         "_deepnote_index_column": 3
        },
        {
         "TB15": "4/27/21 4:00:00 PM EDT",
         "Unnamed: 1": "74.47571",
         "T302": "nan",
         "Unnamed: 3": "nan",
         "T303": "4/27/21 3:00:00 PM EDT",
         "Unnamed: 5": "70.06445",
         "T446": "4/27/21 4:00:00 PM EDT",
         "Unnamed: 7": "72.01059",
         "T449": "4/27/21 4:00:00 PM EDT",
         "Unnamed: 9": "72.71118",
         "T454": "4/27/21 4:00:00 PM EDT",
         "Unnamed: 11": "72.01059",
         "T Building": "nan",
         "Unnamed: 13": "nan",
         "T Building.1": "nan",
         "Unnamed: 15": "nan",
         "T Building.2": "nan",
         "Unnamed: 17": "nan",
         "TB01": "nan",
         "Unnamed: 19": "nan",
         "T454.1": "nan",
         "Unnamed: 21": "nan",
         "H309": "nan",
         "Unnamed: 23": "nan",
         "H351": "nan",
         "Unnamed: 25": "nan",
         "H355": "nan",
         "Unnamed: 27": "nan",
         "H424": "nan",
         "Unnamed: 29": "nan",
         "H460": "nan",
         "Unnamed: 31": "nan",
         "H309.1": "nan",
         "Unnamed: 33": "nan",
         "H353": "nan",
         "Unnamed: 35": "nan",
         "H353.1": "nan",
         "Unnamed: 37": "nan",
         "TB01.1": "nan",
         "Unnamed: 39": "nan",
         "_deepnote_index_column": 4
        },
        {
         "TB15": "4/27/21 5:00:00 PM EDT",
         "Unnamed: 1": "74.47571",
         "T302": "nan",
         "Unnamed: 3": "nan",
         "T303": "4/27/21 4:00:00 PM EDT",
         "Unnamed: 5": "70.583405",
         "T446": "4/27/21 5:00:00 PM EDT",
         "Unnamed: 7": "72.01059",
         "T449": "4/27/21 5:00:00 PM EDT",
         "Unnamed: 9": "72.86691",
         "T454": "4/27/21 5:00:00 PM EDT",
         "Unnamed: 11": "72.14032",
         "T Building": "nan",
         "Unnamed: 13": "nan",
         "T Building.1": "nan",
         "Unnamed: 15": "nan",
         "T Building.2": "nan",
         "Unnamed: 17": "nan",
         "TB01": "nan",
         "Unnamed: 19": "nan",
         "T454.1": "nan",
         "Unnamed: 21": "nan",
         "H309": "nan",
         "Unnamed: 23": "nan",
         "H351": "nan",
         "Unnamed: 25": "nan",
         "H355": "nan",
         "Unnamed: 27": "nan",
         "H424": "nan",
         "Unnamed: 29": "nan",
         "H460": "nan",
         "Unnamed: 31": "nan",
         "H309.1": "nan",
         "Unnamed: 33": "nan",
         "H353": "nan",
         "Unnamed: 35": "nan",
         "H353.1": "nan",
         "Unnamed: 37": "nan",
         "TB01.1": "nan",
         "Unnamed: 39": "nan",
         "_deepnote_index_column": 5
        },
        {
         "TB15": "4/27/21 6:00:00 PM EDT",
         "Unnamed: 1": "74.8909",
         "T302": "nan",
         "Unnamed: 3": "nan",
         "T303": "4/27/21 5:00:00 PM EDT",
         "Unnamed: 5": "70.920746",
         "T446": "4/27/21 6:00:00 PM EDT",
         "Unnamed: 7": "73.12637",
         "T449": "4/27/21 6:00:00 PM EDT",
         "Unnamed: 9": "73.12637",
         "T454": "4/27/21 6:00:00 PM EDT",
         "Unnamed: 11": "72.815",
         "T Building": "nan",
         "Unnamed: 13": "nan",
         "T Building.1": "nan",
         "Unnamed: 15": "nan",
         "T Building.2": "nan",
         "Unnamed: 17": "nan",
         "TB01": "nan",
         "Unnamed: 19": "nan",
         "T454.1": "nan",
         "Unnamed: 21": "nan",
         "H309": "nan",
         "Unnamed: 23": "nan",
         "H351": "nan",
         "Unnamed: 25": "nan",
         "H355": "nan",
         "Unnamed: 27": "nan",
         "H424": "nan",
         "Unnamed: 29": "nan",
         "H460": "nan",
         "Unnamed: 31": "nan",
         "H309.1": "nan",
         "Unnamed: 33": "nan",
         "H353": "nan",
         "Unnamed: 35": "nan",
         "H353.1": "nan",
         "Unnamed: 37": "nan",
         "TB01.1": "nan",
         "Unnamed: 39": "nan",
         "_deepnote_index_column": 6
        },
        {
         "TB15": "4/27/21 7:00:00 PM EDT",
         "Unnamed: 1": "75.20227",
         "T302": "nan",
         "Unnamed: 3": "nan",
         "T303": "4/27/21 6:00:00 PM EDT",
         "Unnamed: 5": "71.28403",
         "T446": "4/27/21 7:00:00 PM EDT",
         "Unnamed: 7": "73.411804",
         "T449": "4/27/21 7:00:00 PM EDT",
         "Unnamed: 9": "72.815",
         "T454": "4/27/21 7:00:00 PM EDT",
         "Unnamed: 11": "73.256134",
         "T Building": "nan",
         "Unnamed: 13": "nan",
         "T Building.1": "nan",
         "Unnamed: 15": "nan",
         "T Building.2": "nan",
         "Unnamed: 17": "nan",
         "TB01": "nan",
         "Unnamed: 19": "nan",
         "T454.1": "nan",
         "Unnamed: 21": "nan",
         "H309": "nan",
         "Unnamed: 23": "nan",
         "H351": "nan",
         "Unnamed: 25": "nan",
         "H355": "nan",
         "Unnamed: 27": "nan",
         "H424": "nan",
         "Unnamed: 29": "nan",
         "H460": "nan",
         "Unnamed: 31": "nan",
         "H309.1": "nan",
         "Unnamed: 33": "nan",
         "H353": "nan",
         "Unnamed: 35": "nan",
         "H353.1": "nan",
         "Unnamed: 37": "nan",
         "TB01.1": "nan",
         "Unnamed: 39": "nan",
         "_deepnote_index_column": 7
        },
        {
         "TB15": "4/27/21 8:00:00 PM EDT",
         "Unnamed: 1": "75.46176",
         "T302": "nan",
         "Unnamed: 3": "nan",
         "T303": "4/27/21 7:00:00 PM EDT",
         "Unnamed: 5": "71.38782",
         "T446": "4/27/21 8:00:00 PM EDT",
         "Unnamed: 7": "73.515594",
         "T449": "4/27/21 8:00:00 PM EDT",
         "Unnamed: 9": "72.24414",
         "T454": "4/27/21 8:00:00 PM EDT",
         "Unnamed: 11": "73.411804",
         "T Building": "nan",
         "Unnamed: 13": "nan",
         "T Building.1": "nan",
         "Unnamed: 15": "nan",
         "T Building.2": "nan",
         "Unnamed: 17": "nan",
         "TB01": "nan",
         "Unnamed: 19": "nan",
         "T454.1": "nan",
         "Unnamed: 21": "nan",
         "H309": "nan",
         "Unnamed: 23": "nan",
         "H351": "nan",
         "Unnamed: 25": "nan",
         "H355": "nan",
         "Unnamed: 27": "nan",
         "H424": "nan",
         "Unnamed: 29": "nan",
         "H460": "nan",
         "Unnamed: 31": "nan",
         "H309.1": "nan",
         "Unnamed: 33": "nan",
         "H353": "nan",
         "Unnamed: 35": "nan",
         "H353.1": "nan",
         "Unnamed: 37": "nan",
         "TB01.1": "nan",
         "Unnamed: 39": "nan",
         "_deepnote_index_column": 8
        },
        {
         "TB15": "4/27/21 9:00:00 PM EDT",
         "Unnamed: 1": "75.53958",
         "T302": "nan",
         "Unnamed: 3": "nan",
         "T303": "4/27/21 8:00:00 PM EDT",
         "Unnamed: 5": "71.07645",
         "T446": "4/27/21 9:00:00 PM EDT",
         "Unnamed: 7": "73.671295",
         "T449": "4/27/21 9:00:00 PM EDT",
         "Unnamed: 9": "73.12637",
         "T454": "4/27/21 9:00:00 PM EDT",
         "Unnamed: 11": "73.567505",
         "T Building": "nan",
         "Unnamed: 13": "nan",
         "T Building.1": "nan",
         "Unnamed: 15": "nan",
         "T Building.2": "nan",
         "Unnamed: 17": "nan",
         "TB01": "nan",
         "Unnamed: 19": "nan",
         "T454.1": "nan",
         "Unnamed: 21": "nan",
         "H309": "nan",
         "Unnamed: 23": "nan",
         "H351": "nan",
         "Unnamed: 25": "nan",
         "H355": "nan",
         "Unnamed: 27": "nan",
         "H424": "nan",
         "Unnamed: 29": "nan",
         "H460": "nan",
         "Unnamed: 31": "nan",
         "H309.1": "nan",
         "Unnamed: 33": "nan",
         "H353": "nan",
         "Unnamed: 35": "nan",
         "H353.1": "nan",
         "Unnamed: 37": "nan",
         "TB01.1": "nan",
         "Unnamed: 39": "nan",
         "_deepnote_index_column": 9
        }
       ]
      },
      "text/plain": "                     TB15     Unnamed: 1  T302     Unnamed: 3  \\\n0                    Time  Trend (deg F)  Time  Trend (deg F)   \n1  4/27/21 1:00:00 PM EDT       74.99469   NaN            NaN   \n2  4/27/21 2:00:00 PM EDT       74.29407   NaN            NaN   \n3  4/27/21 3:00:00 PM EDT       74.78711   NaN            NaN   \n4  4/27/21 4:00:00 PM EDT       74.47571   NaN            NaN   \n5  4/27/21 5:00:00 PM EDT       74.47571   NaN            NaN   \n6  4/27/21 6:00:00 PM EDT        74.8909   NaN            NaN   \n7  4/27/21 7:00:00 PM EDT       75.20227   NaN            NaN   \n8  4/27/21 8:00:00 PM EDT       75.46176   NaN            NaN   \n9  4/27/21 9:00:00 PM EDT       75.53958   NaN            NaN   \n\n                      T303     Unnamed: 5                    T446  \\\n0                     Time  Trend (deg F)                    Time   \n1  4/27/21 12:00:00 PM EDT       71.69919  4/27/21 1:00:00 PM EDT   \n2   4/27/21 1:00:00 PM EDT        71.7511  4/27/21 2:00:00 PM EDT   \n3   4/27/21 2:00:00 PM EDT       71.64728  4/27/21 3:00:00 PM EDT   \n4   4/27/21 3:00:00 PM EDT       70.06445  4/27/21 4:00:00 PM EDT   \n5   4/27/21 4:00:00 PM EDT      70.583405  4/27/21 5:00:00 PM EDT   \n6   4/27/21 5:00:00 PM EDT      70.920746  4/27/21 6:00:00 PM EDT   \n7   4/27/21 6:00:00 PM EDT       71.28403  4/27/21 7:00:00 PM EDT   \n8   4/27/21 7:00:00 PM EDT       71.38782  4/27/21 8:00:00 PM EDT   \n9   4/27/21 8:00:00 PM EDT       71.07645  4/27/21 9:00:00 PM EDT   \n\n      Unnamed: 7                    T449     Unnamed: 9  ...  H460  \\\n0  Trend (deg F)                    Time  Trend (deg F)  ...  Time   \n1        72.0625  4/27/21 1:00:00 PM EDT       72.86691  ...   NaN   \n2       72.91879  4/27/21 2:00:00 PM EDT       72.45172  ...   NaN   \n3        72.0625  4/27/21 3:00:00 PM EDT       72.55551  ...   NaN   \n4       72.01059  4/27/21 4:00:00 PM EDT       72.71118  ...   NaN   \n5       72.01059  4/27/21 5:00:00 PM EDT       72.86691  ...   NaN   \n6       73.12637  4/27/21 6:00:00 PM EDT       73.12637  ...   NaN   \n7      73.411804  4/27/21 7:00:00 PM EDT         72.815  ...   NaN   \n8      73.515594  4/27/21 8:00:00 PM EDT       72.24414  ...   NaN   \n9      73.671295  4/27/21 9:00:00 PM EDT       73.12637  ...   NaN   \n\n     Unnamed: 31 H309.1              Unnamed: 33  H353  \\\n0  Trend (deg F)   Time  HUMIDITY %. Trend (%RH)  Time   \n1            NaN    NaN                      NaN   NaN   \n2            NaN    NaN                      NaN   NaN   \n3            NaN    NaN                      NaN   NaN   \n4            NaN    NaN                      NaN   NaN   \n5            NaN    NaN                      NaN   NaN   \n6            NaN    NaN                      NaN   NaN   \n7            NaN    NaN                      NaN   NaN   \n8            NaN    NaN                      NaN   NaN   \n9            NaN    NaN                      NaN   NaN   \n\n               Unnamed: 35 H353.1    Unnamed: 37 TB01.1    Unnamed: 39  \n0  HUMIDITY %. Trend (%RH)   Time  Trend (deg F)   Time  Trend (deg F)  \n1                      NaN    NaN            NaN    NaN            NaN  \n2                      NaN    NaN            NaN    NaN            NaN  \n3                      NaN    NaN            NaN    NaN            NaN  \n4                      NaN    NaN            NaN    NaN            NaN  \n5                      NaN    NaN            NaN    NaN            NaN  \n6                      NaN    NaN            NaN    NaN            NaN  \n7                      NaN    NaN            NaN    NaN            NaN  \n8                      NaN    NaN            NaN    NaN            NaN  \n9                      NaN    NaN            NaN    NaN            NaN  \n\n[10 rows x 40 columns]",
      "text/html": "<div>\n<style scoped>\n    .dataframe tbody tr th:only-of-type {\n        vertical-align: middle;\n    }\n\n    .dataframe tbody tr th {\n        vertical-align: top;\n    }\n\n    .dataframe thead th {\n        text-align: right;\n    }\n</style>\n<table border=\"1\" class=\"dataframe\">\n  <thead>\n    <tr style=\"text-align: right;\">\n      <th></th>\n      <th>TB15</th>\n      <th>Unnamed: 1</th>\n      <th>T302</th>\n      <th>Unnamed: 3</th>\n      <th>T303</th>\n      <th>Unnamed: 5</th>\n      <th>T446</th>\n      <th>Unnamed: 7</th>\n      <th>T449</th>\n      <th>Unnamed: 9</th>\n      <th>...</th>\n      <th>H460</th>\n      <th>Unnamed: 31</th>\n      <th>H309.1</th>\n      <th>Unnamed: 33</th>\n      <th>H353</th>\n      <th>Unnamed: 35</th>\n      <th>H353.1</th>\n      <th>Unnamed: 37</th>\n      <th>TB01.1</th>\n      <th>Unnamed: 39</th>\n    </tr>\n  </thead>\n  <tbody>\n    <tr>\n      <th>0</th>\n      <td>Time</td>\n      <td>Trend (deg F)</td>\n      <td>Time</td>\n      <td>Trend (deg F)</td>\n      <td>Time</td>\n      <td>Trend (deg F)</td>\n      <td>Time</td>\n      <td>Trend (deg F)</td>\n      <td>Time</td>\n      <td>Trend (deg F)</td>\n      <td>...</td>\n      <td>Time</td>\n      <td>Trend (deg F)</td>\n      <td>Time</td>\n      <td>HUMIDITY %. Trend (%RH)</td>\n      <td>Time</td>\n      <td>HUMIDITY %. Trend (%RH)</td>\n      <td>Time</td>\n      <td>Trend (deg F)</td>\n      <td>Time</td>\n      <td>Trend (deg F)</td>\n    </tr>\n    <tr>\n      <th>1</th>\n      <td>4/27/21 1:00:00 PM EDT</td>\n      <td>74.99469</td>\n      <td>NaN</td>\n      <td>NaN</td>\n      <td>4/27/21 12:00:00 PM EDT</td>\n      <td>71.69919</td>\n      <td>4/27/21 1:00:00 PM EDT</td>\n      <td>72.0625</td>\n      <td>4/27/21 1:00:00 PM EDT</td>\n      <td>72.86691</td>\n      <td>...</td>\n      <td>NaN</td>\n      <td>NaN</td>\n      <td>NaN</td>\n      <td>NaN</td>\n      <td>NaN</td>\n      <td>NaN</td>\n      <td>NaN</td>\n      <td>NaN</td>\n      <td>NaN</td>\n      <td>NaN</td>\n    </tr>\n    <tr>\n      <th>2</th>\n      <td>4/27/21 2:00:00 PM EDT</td>\n      <td>74.29407</td>\n      <td>NaN</td>\n      <td>NaN</td>\n      <td>4/27/21 1:00:00 PM EDT</td>\n      <td>71.7511</td>\n      <td>4/27/21 2:00:00 PM EDT</td>\n      <td>72.91879</td>\n      <td>4/27/21 2:00:00 PM EDT</td>\n      <td>72.45172</td>\n      <td>...</td>\n      <td>NaN</td>\n      <td>NaN</td>\n      <td>NaN</td>\n      <td>NaN</td>\n      <td>NaN</td>\n      <td>NaN</td>\n      <td>NaN</td>\n      <td>NaN</td>\n      <td>NaN</td>\n      <td>NaN</td>\n    </tr>\n    <tr>\n      <th>3</th>\n      <td>4/27/21 3:00:00 PM EDT</td>\n      <td>74.78711</td>\n      <td>NaN</td>\n      <td>NaN</td>\n      <td>4/27/21 2:00:00 PM EDT</td>\n      <td>71.64728</td>\n      <td>4/27/21 3:00:00 PM EDT</td>\n      <td>72.0625</td>\n      <td>4/27/21 3:00:00 PM EDT</td>\n      <td>72.55551</td>\n      <td>...</td>\n      <td>NaN</td>\n      <td>NaN</td>\n      <td>NaN</td>\n      <td>NaN</td>\n      <td>NaN</td>\n      <td>NaN</td>\n      <td>NaN</td>\n      <td>NaN</td>\n      <td>NaN</td>\n      <td>NaN</td>\n    </tr>\n    <tr>\n      <th>4</th>\n      <td>4/27/21 4:00:00 PM EDT</td>\n      <td>74.47571</td>\n      <td>NaN</td>\n      <td>NaN</td>\n      <td>4/27/21 3:00:00 PM EDT</td>\n      <td>70.06445</td>\n      <td>4/27/21 4:00:00 PM EDT</td>\n      <td>72.01059</td>\n      <td>4/27/21 4:00:00 PM EDT</td>\n      <td>72.71118</td>\n      <td>...</td>\n      <td>NaN</td>\n      <td>NaN</td>\n      <td>NaN</td>\n      <td>NaN</td>\n      <td>NaN</td>\n      <td>NaN</td>\n      <td>NaN</td>\n      <td>NaN</td>\n      <td>NaN</td>\n      <td>NaN</td>\n    </tr>\n    <tr>\n      <th>5</th>\n      <td>4/27/21 5:00:00 PM EDT</td>\n      <td>74.47571</td>\n      <td>NaN</td>\n      <td>NaN</td>\n      <td>4/27/21 4:00:00 PM EDT</td>\n      <td>70.583405</td>\n      <td>4/27/21 5:00:00 PM EDT</td>\n      <td>72.01059</td>\n      <td>4/27/21 5:00:00 PM EDT</td>\n      <td>72.86691</td>\n      <td>...</td>\n      <td>NaN</td>\n      <td>NaN</td>\n      <td>NaN</td>\n      <td>NaN</td>\n      <td>NaN</td>\n      <td>NaN</td>\n      <td>NaN</td>\n      <td>NaN</td>\n      <td>NaN</td>\n      <td>NaN</td>\n    </tr>\n    <tr>\n      <th>6</th>\n      <td>4/27/21 6:00:00 PM EDT</td>\n      <td>74.8909</td>\n      <td>NaN</td>\n      <td>NaN</td>\n      <td>4/27/21 5:00:00 PM EDT</td>\n      <td>70.920746</td>\n      <td>4/27/21 6:00:00 PM EDT</td>\n      <td>73.12637</td>\n      <td>4/27/21 6:00:00 PM EDT</td>\n      <td>73.12637</td>\n      <td>...</td>\n      <td>NaN</td>\n      <td>NaN</td>\n      <td>NaN</td>\n      <td>NaN</td>\n      <td>NaN</td>\n      <td>NaN</td>\n      <td>NaN</td>\n      <td>NaN</td>\n      <td>NaN</td>\n      <td>NaN</td>\n    </tr>\n    <tr>\n      <th>7</th>\n      <td>4/27/21 7:00:00 PM EDT</td>\n      <td>75.20227</td>\n      <td>NaN</td>\n      <td>NaN</td>\n      <td>4/27/21 6:00:00 PM EDT</td>\n      <td>71.28403</td>\n      <td>4/27/21 7:00:00 PM EDT</td>\n      <td>73.411804</td>\n      <td>4/27/21 7:00:00 PM EDT</td>\n      <td>72.815</td>\n      <td>...</td>\n      <td>NaN</td>\n      <td>NaN</td>\n      <td>NaN</td>\n      <td>NaN</td>\n      <td>NaN</td>\n      <td>NaN</td>\n      <td>NaN</td>\n      <td>NaN</td>\n      <td>NaN</td>\n      <td>NaN</td>\n    </tr>\n    <tr>\n      <th>8</th>\n      <td>4/27/21 8:00:00 PM EDT</td>\n      <td>75.46176</td>\n      <td>NaN</td>\n      <td>NaN</td>\n      <td>4/27/21 7:00:00 PM EDT</td>\n      <td>71.38782</td>\n      <td>4/27/21 8:00:00 PM EDT</td>\n      <td>73.515594</td>\n      <td>4/27/21 8:00:00 PM EDT</td>\n      <td>72.24414</td>\n      <td>...</td>\n      <td>NaN</td>\n      <td>NaN</td>\n      <td>NaN</td>\n      <td>NaN</td>\n      <td>NaN</td>\n      <td>NaN</td>\n      <td>NaN</td>\n      <td>NaN</td>\n      <td>NaN</td>\n      <td>NaN</td>\n    </tr>\n    <tr>\n      <th>9</th>\n      <td>4/27/21 9:00:00 PM EDT</td>\n      <td>75.53958</td>\n      <td>NaN</td>\n      <td>NaN</td>\n      <td>4/27/21 8:00:00 PM EDT</td>\n      <td>71.07645</td>\n      <td>4/27/21 9:00:00 PM EDT</td>\n      <td>73.671295</td>\n      <td>4/27/21 9:00:00 PM EDT</td>\n      <td>73.12637</td>\n      <td>...</td>\n      <td>NaN</td>\n      <td>NaN</td>\n      <td>NaN</td>\n      <td>NaN</td>\n      <td>NaN</td>\n      <td>NaN</td>\n      <td>NaN</td>\n      <td>NaN</td>\n      <td>NaN</td>\n      <td>NaN</td>\n    </tr>\n  </tbody>\n</table>\n<p>10 rows × 40 columns</p>\n</div>"
     },
     "metadata": {}
    }
   ]
  },
  {
   "cell_type": "markdown",
   "source": "## Raw Data Analysis\nWhat the data is trying to show is the temperature or humidity measurements for each lab for each time step. As we can see, there are some problems with the raw data that make it hard to process:\n\n1. (1) For each lab, we have the <em>x</em> column (Time) and the <em>y</em> column (Temperature or Humidity). Because of the structure of the dataframe, if you query a lab name, you will only get the column of time steps because the <em>y</em> column is under an 'Unnamed' header.\n\n2. (2) For some columns, such as Lab TB01, the information is very scattered and temperature is found in a different spot than the data for humidity, meaning there are multiple column headers for 'TB01'\n\n3. (3) Some columns and subcolumns are unlabeled or labeled differently (lab name uses 'Hamilton' instead of 'H').\n\n## Initial Data Transformation\nTo address the problems above, we'll perform the following transformations on the data:\n<ul>\n    <li>(1) Before opening and reading the csv file into our program, we make the following changes (if needed) to the file:\n        <ul>\n            <li>a) Make sure all lab names begin with the first letter of the building name ('T' or 'H') followed by their building number (ex: H309).</li>\n            <li>b) Make sure all columns related to a specific lab are consolidated in one place, for example, all meausurements for TB01 are in consecutive columns such that there is only one `Time` column for  TB01.</li>\n            <li>c) Make sure all subcolumns are named and are identical across all labs. In this case, all columns for temperature have been named 'Trend (deg F)' and all columns for humidity have been named `HUMIDITY %. Trend (%RH)`.</li>\n            <li>d) General metrics that include building measurements (ex: Outside Temperature) should be named `T Building` or `H Building`. What matters is the key word 'Building.'</li>\n            <li>Note: in order for the program to run, the structure of the data must match this exactly, including the namings for the columns and subcolumns.</li>\n        </ul>\n    </li>\n    <li>(2) Next, we'll alter the overarching data structure `labs` to be a collection of dataframes rather than just one dataframe that contains all the information. The keys of the this dictionary will be the lab name which will point to a dataframe which contains columns for Time, Temperature, and Humidity (if applicable).</li>\n    <li>(3) Finally, to store the general metrics, we create a deparate dataframe called `TlabGeneral` to store measurements regarding 'T Building.'</li>\n</ul>",
   "metadata": {
    "tags": [],
    "cell_id": "00004-e6e02369-93f5-448a-9c03-ddf99cb445e1",
    "deepnote_cell_type": "markdown"
   }
  },
  {
   "cell_type": "code",
   "metadata": {
    "tags": [],
    "deepnote_to_be_reexecuted": false,
    "source_hash": "3545af8",
    "execution_start": 1640547830139,
    "execution_millis": 201,
    "cell_id": "00005-efcca055-d788-4cd1-998e-3980ad45687a",
    "deepnote_cell_type": "code"
   },
   "source": "labs = {}\nTlabGeneral = pd.DataFrame(columns=[])\n\nfor col in df:\n    # the structure of the data implies the info under each named column (i.e. 'TB01') is the Time column\n    if 'Unnamed' not in col:\n        # get the column to the right of the Time column (i.e. Temperature column)\n        temp_col = df.iloc[:,df.columns.get_indexer([col])+1]\n        for a in temp_col:\n            next_col = temp_col[a]\n        col1 = df[col][1:]\n        col2 = next_col[1:]\n\n        # if lab has already been visited, just insert new column into the existing dataframe for that lab\n        if col[:4] in labs:\n            labs[col[:4]][next_col[0]] = col2\n        else:\n            # otherwise, create a new dataframe for that lab\n            df2 = pd.DataFrame(columns=[df[col][0],next_col[0]])\n            df2[df[col][0]] = col1\n            df2[next_col[0]] = col2\n\n            # add to general metrics data structure\n            if 'Building' in col:\n                if df[col][0] not in TlabGeneral.columns:\n                    TlabGeneral[df[col][0]] = col1\n                TlabGeneral[next_col[0]] = col2\n            # add to labs data structure\n            else:\n                labs[col[:4]] = df2\nprint(labs)",
   "execution_count": 4,
   "outputs": [
    {
     "name": "stdout",
     "text": "{'TB15':                         Time Trend (deg F)\n1     4/27/21 1:00:00 PM EDT      74.99469\n2     4/27/21 2:00:00 PM EDT      74.29407\n3     4/27/21 3:00:00 PM EDT      74.78711\n4     4/27/21 4:00:00 PM EDT      74.47571\n5     4/27/21 5:00:00 PM EDT      74.47571\n...                      ...           ...\n3231             9/9/21 3:00          73.5\n3232             9/9/21 4:00          73.5\n3233             9/9/21 5:00          73.5\n3234             9/9/21 6:00          72.7\n3235             9/9/21 7:00          72.7\n\n[3235 rows x 2 columns], 'T302':              Time Trend (deg F)\n1             NaN           NaN\n2             NaN           NaN\n3             NaN           NaN\n4             NaN           NaN\n5             NaN           NaN\n...           ...           ...\n3231  9/9/21 3:00          72.3\n3232  9/9/21 4:00          72.3\n3233  9/9/21 5:00          72.3\n3234  9/9/21 6:00          72.2\n3235  9/9/21 7:00          72.2\n\n[3235 rows x 2 columns], 'T303':                          Time Trend (deg F)\n1     4/27/21 12:00:00 PM EDT      71.69919\n2      4/27/21 1:00:00 PM EDT       71.7511\n3      4/27/21 2:00:00 PM EDT      71.64728\n4      4/27/21 3:00:00 PM EDT      70.06445\n5      4/27/21 4:00:00 PM EDT     70.583405\n...                       ...           ...\n3231              9/9/21 3:00          69.4\n3232              9/9/21 4:00          69.6\n3233              9/9/21 5:00          70.2\n3234              9/9/21 6:00          70.2\n3235              9/9/21 7:00          70.4\n\n[3235 rows x 2 columns], 'T446':                         Time Trend (deg F)\n1     4/27/21 1:00:00 PM EDT       72.0625\n2     4/27/21 2:00:00 PM EDT      72.91879\n3     4/27/21 3:00:00 PM EDT       72.0625\n4     4/27/21 4:00:00 PM EDT      72.01059\n5     4/27/21 5:00:00 PM EDT      72.01059\n...                      ...           ...\n3231             9/9/21 3:00          69.2\n3232             9/9/21 4:00          69.1\n3233             9/9/21 5:00          68.9\n3234             9/9/21 6:00          68.8\n3235             9/9/21 7:00          68.9\n\n[3235 rows x 2 columns], 'T449':                         Time Trend (deg F)\n1     4/27/21 1:00:00 PM EDT      72.86691\n2     4/27/21 2:00:00 PM EDT      72.45172\n3     4/27/21 3:00:00 PM EDT      72.55551\n4     4/27/21 4:00:00 PM EDT      72.71118\n5     4/27/21 5:00:00 PM EDT      72.86691\n...                      ...           ...\n3231             9/9/21 3:00            72\n3232             9/9/21 4:00          71.9\n3233             9/9/21 5:00          71.9\n3234             9/9/21 6:00          71.9\n3235             9/9/21 7:00          71.8\n\n[3235 rows x 2 columns], 'T454':                         Time Trend (deg F) HUMIDITY %. Trend (%RH)\n1     4/27/21 1:00:00 PM EDT       71.9068                     NaN\n2     4/27/21 2:00:00 PM EDT      72.45172                     NaN\n3     4/27/21 3:00:00 PM EDT       72.0625                     NaN\n4     4/27/21 4:00:00 PM EDT      72.01059                     NaN\n5     4/27/21 5:00:00 PM EDT      72.14032                     NaN\n...                      ...           ...                     ...\n3231             9/9/21 3:00          73.8                    60.9\n3232             9/9/21 4:00          73.7                    60.6\n3233             9/9/21 5:00            74                      60\n3234             9/9/21 6:00          74.1                    58.6\n3235             9/9/21 7:00            74                    55.4\n\n[3235 rows x 3 columns], 'TB01':              Time HUMIDITY %. Trend (%RH) Trend (deg F)\n1             NaN                     NaN           NaN\n2             NaN                     NaN           NaN\n3             NaN                     NaN           NaN\n4             NaN                     NaN           NaN\n5             NaN                     NaN           NaN\n...           ...                     ...           ...\n3231  9/9/21 3:00                    57.7          72.7\n3232  9/9/21 4:00                    57.8          72.6\n3233  9/9/21 5:00                    56.7          72.6\n3234  9/9/21 6:00                    56.2          72.6\n3235  9/9/21 7:00                    55.5          72.6\n\n[3235 rows x 3 columns], 'H309':              Time Trend (deg F) HUMIDITY %. Trend (%RH)\n1             NaN           NaN                     NaN\n2             NaN           NaN                     NaN\n3             NaN           NaN                     NaN\n4             NaN           NaN                     NaN\n5             NaN           NaN                     NaN\n...           ...           ...                     ...\n3231  9/9/21 3:00            70                      48\n3232  9/9/21 4:00            70                      47\n3233  9/9/21 5:00            70                      48\n3234  9/9/21 6:00          70.1                      49\n3235  9/9/21 7:00          69.5                      51\n\n[3235 rows x 3 columns], 'H351':              Time Trend (deg F)\n1             NaN           NaN\n2             NaN           NaN\n3             NaN           NaN\n4             NaN           NaN\n5             NaN           NaN\n...           ...           ...\n3231  9/9/21 3:00          69.9\n3232  9/9/21 4:00          69.9\n3233  9/9/21 5:00          69.9\n3234  9/9/21 6:00          69.8\n3235  9/9/21 7:00          69.9\n\n[3235 rows x 2 columns], 'H355':              Time Trend (deg F)\n1             NaN           NaN\n2             NaN           NaN\n3             NaN           NaN\n4             NaN           NaN\n5             NaN           NaN\n...           ...           ...\n3231  9/9/21 3:00          68.7\n3232  9/9/21 4:00          68.7\n3233  9/9/21 5:00          68.7\n3234  9/9/21 6:00          68.6\n3235  9/9/21 7:00          68.6\n\n[3235 rows x 2 columns], 'H424':              Time Trend (deg F)\n1             NaN           NaN\n2             NaN           NaN\n3             NaN           NaN\n4             NaN           NaN\n5             NaN           NaN\n...           ...           ...\n3231  9/9/21 3:00          70.6\n3232  9/9/21 4:00          70.6\n3233  9/9/21 5:00          70.6\n3234  9/9/21 6:00          70.6\n3235  9/9/21 7:00          70.4\n\n[3235 rows x 2 columns], 'H460':              Time Trend (deg F)\n1             NaN           NaN\n2             NaN           NaN\n3             NaN           NaN\n4             NaN           NaN\n5             NaN           NaN\n...           ...           ...\n3231  9/9/21 3:00          71.3\n3232  9/9/21 4:00          71.1\n3233  9/9/21 5:00          70.9\n3234  9/9/21 6:00          70.6\n3235  9/9/21 7:00          69.8\n\n[3235 rows x 2 columns], 'H353':              Time HUMIDITY %. Trend (%RH) Trend (deg F)\n1             NaN                     NaN           NaN\n2             NaN                     NaN           NaN\n3             NaN                     NaN           NaN\n4             NaN                     NaN           NaN\n5             NaN                     NaN           NaN\n...           ...                     ...           ...\n3231  9/9/21 3:00                      60          70.6\n3232  9/9/21 4:00                      59          70.6\n3233  9/9/21 5:00                      59          70.5\n3234  9/9/21 6:00                      60          70.5\n3235  9/9/21 7:00                      58          70.4\n\n[3235 rows x 3 columns]}\n",
     "output_type": "stream",
     "data": {}
    }
   ]
  },
  {
   "cell_type": "code",
   "metadata": {
    "tags": [],
    "deepnote_to_be_reexecuted": false,
    "source_hash": "d885a32f",
    "execution_start": 1640547830352,
    "execution_millis": 69,
    "cell_id": "00006-4bccc049-b6c6-48ac-ac61-950c02e2aaa3",
    "deepnote_cell_type": "code"
   },
   "source": "# drop null values\n\nfor lab in labs.values():\n    lab.dropna(inplace=True)\n    \nTlabGeneral.dropna(inplace=True)",
   "execution_count": 5,
   "outputs": []
  },
  {
   "cell_type": "markdown",
   "source": "### Column Adjustment and Setback\n\n`labsetback` is a dictionary used to store the setback information for all of the labs. Each lab has three conditions for the three time periods:\n<ul>\n    <li>Past - 7/28/21</li>\n    <li>7/29/21 - 11/9/21</li>\n    <li>11/10/21 - Present</li>\n</ul>\n\nThe limits of these three time period can be found and altered in the `if` statements of `prepareCols()` below. Dates are formatted in datetime format such that `datetime.time(6, 0)` indicates 6 hours and 0 minutes or 6:00, and `datetime.datetime(2021, 7, 28)` indicates 7/28/2021 in month/day/year format. In `labsetback`, there is a start time and end time for each of the time periods. For example for lab H309, the first tuple is `(datetime.time(6, 0), datetime.time(18, 0))`, meaning that for Past - 7/28/21, the setback is turned on at 18:00 (or 6:00pm) and turned off at 6:00 (or 6:00am).",
   "metadata": {
    "tags": [],
    "cell_id": "00007-e31b5964-b1d1-4c23-984c-1a0daf7857e5",
    "deepnote_cell_type": "markdown"
   }
  },
  {
   "cell_type": "code",
   "metadata": {
    "tags": [],
    "cell_id": "00008-79bee7a5-9bf7-473a-b9c7-3973f52ee99e",
    "deepnote_to_be_reexecuted": false,
    "source_hash": "c62ff7f3",
    "execution_start": 1640547830447,
    "execution_millis": 46,
    "deepnote_cell_type": "code"
   },
   "source": "labsetback = {\n    'H309': [\n        (datetime.time(6, 0), datetime.time(18, 0)), \n        (datetime.time(0, 0), datetime.time(0, 0)), \n        (datetime.time(5, 0), datetime.time(19, 0))\n    ],\n    'H351': [\n        (datetime.time(6, 0), datetime.time(18, 0)), \n        (datetime.time(0, 0), datetime.time(0, 0)), \n        (datetime.time(5, 0), datetime.time(19, 0))\n    ],\n    'H353': [\n        (datetime.time(6, 0), datetime.time(18, 0)), \n        (datetime.time(0, 0), datetime.time(0, 0)), \n        (datetime.time(5, 0), datetime.time(19, 0))\n    ],\n    'H355': [\n        (datetime.time(6, 0), datetime.time(18, 0)), \n        (datetime.time(0, 0), datetime.time(0, 0)), \n        (datetime.time(5, 0), datetime.time(19, 0))\n    ],\n    'H424': [\n        (datetime.time(6, 0), datetime.time(18, 0)), \n        (datetime.time(0, 0), datetime.time(0, 0)), \n        (datetime.time(5, 0), datetime.time(19, 0))\n    ],\n    'H460': [\n        (datetime.time(6, 0), datetime.time(18, 0)), \n        (datetime.time(0, 0), datetime.time(0, 0)), \n        (datetime.time(5, 0), datetime.time(19, 0))\n    ],\n    'TB01': [\n        (datetime.time(6, 0), datetime.time(19, 0)), \n        (datetime.time(0, 0), datetime.time(0, 0)), \n        (datetime.time(5, 0), datetime.time(19, 0))\n    ],\n    'T446': [\n        (datetime.time(0, 0), datetime.time(0, 0)), \n        (datetime.time(0, 0), datetime.time(0, 0)), \n        (datetime.time(0, 0), datetime.time(0, 0))\n    ],\n    'T302': [\n        (datetime.time(0, 0), datetime.time(0, 0)), \n        (datetime.time(0, 0), datetime.time(0, 0)), \n        (datetime.time(0, 0), datetime.time(0, 0))\n    ],\n    'T303': [\n        (datetime.time(0, 0), datetime.time(0, 0)), \n        (datetime.time(0, 0), datetime.time(0, 0)), \n        (datetime.time(0, 0), datetime.time(0, 0))\n    ],\n}",
   "execution_count": 6,
   "outputs": []
  },
  {
   "cell_type": "markdown",
   "source": "#### Hour and Month Parameters\nRather than doing a time series split, we thought that the hour of the day and the month was more important than the sequential temporal order of the data. We consider the hour of the day since the setback condition and internal lab conditions often change similarly throughout the day, and we consider the month to account for seasonal cycles.\n\nNote: `prepareCols()` takes in the lab data (dataframe) as well as its name (string). Thus, an example call would be `prepareCols(labs['TB01'], 'TB01')` where `labs['TB01']` fetches the specific dataframe from the `labs` dictionary.",
   "metadata": {
    "tags": [],
    "cell_id": "00009-eb3c8ce4-5765-45b5-a7b7-6e3043c730d2",
    "deepnote_cell_type": "markdown"
   }
  },
  {
   "cell_type": "code",
   "metadata": {
    "tags": [],
    "deepnote_to_be_reexecuted": false,
    "source_hash": "acdb1348",
    "execution_start": 1640547830506,
    "execution_millis": 44,
    "cell_id": "00008-680fba5c-1f45-45bd-8de0-40985773d1e4",
    "deepnote_cell_type": "code"
   },
   "source": "def prepareCols(lab, labname):\n    datetimes = pd.to_datetime(lab['Time'])\n    lab['Hour'] = [datetime.datetime.time(d) for d in datetimes]\n    lab['Month'] = [d.month for d in datetimes]\n    # lab['Weekday'] = pd.to_datetime(lab['Time']).apply(lambda x: x.weekday())\n\n    if labname in labsetback:\n        setbacks = []\n        setbackdict = labsetback[labname]\n\n        for index, row in lab.iterrows():\n            # first time period Past - 7/28/21\n            if pd.to_datetime(row['Time']) <= datetime.datetime(2021, 7, 28):\n                end, start = setbackdict[0]\n                if row['Hour'] <= end or row['Hour'] >= start:\n                    setbacks.append(1)\n                else:\n                    setbacks.append(0)\n            # second time period 7/29/21 - 11/9/2021\n            elif pd.to_datetime(row['Time']) <= datetime.datetime(2021, 11, 9):\n                end, start = setbackdict[1]\n                if row['Hour'] <= end or row['Hour'] >= start:\n                    setbacks.append(1)\n                else:\n                    setbacks.append(0)\n            # third time period 11/10/21 - Present\n            else:\n                end, start = setbackdict[2]\n                if row['Hour'] <= end or row['Hour'] >= start:\n                    setbacks.append(1)\n                else:\n                    setbacks.append(0)\n    # if lab is not in labsetback, it means setback is never turned on\n    else:\n        setbacks = [0] * len(datetimes)\n\n\n\n    lab['Setback'] = setbacks\n    # lab.drop([\"Weekday\"], 1, inplace=True)\n\n    for index, row in lab.iterrows():\n        lab.loc[index, 'Hour'] = row['Hour'].hour\n\n    return lab",
   "execution_count": 7,
   "outputs": []
  },
  {
   "cell_type": "markdown",
   "source": "### Adding General Metrics\n\nWe write `addGeneral()` to add Outside Humidity as a parameter in our humidity model.\n<br />\nNote: Measurements for Outside Humidity do not begin until after measurements for individual labs have already begun. To keep the data consistent in the training and testing of our model, we drop all data for the timesteps that are missing one or more of the parameters.  We only consider data where all measurements - Time, Temperature, Setback, Outside Humidity - exist.",
   "metadata": {
    "tags": [],
    "cell_id": "00011-183f45fc-8b83-48c4-83ba-932c56f4ce70",
    "deepnote_cell_type": "markdown"
   }
  },
  {
   "cell_type": "code",
   "metadata": {
    "tags": [],
    "deepnote_to_be_reexecuted": false,
    "source_hash": "d8f57a58",
    "execution_start": 1640547830591,
    "execution_millis": 3,
    "cell_id": "00010-3ed350bc-073d-417a-98ef-e5177fedff4a",
    "deepnote_cell_type": "code"
   },
   "source": "def addGeneral(lab, TlabGeneral):\n    lab['Outside Humidity'] = [np.nan] * len(list(lab['Time']))\n    for index, row in lab.iterrows():\n        gen_row = np.where(TlabGeneral[\"Time\"] == row['Time'])\n        if gen_row[0]:\n            lab.loc[index, 'Outside Humidity'] = TlabGeneral.iloc[gen_row[0][0]]['OUTSIDE HUMIDTY.Trend (RH%)']\n    lab.dropna(inplace=True)\n    print(lab)\n    return lab\n",
   "execution_count": 8,
   "outputs": []
  },
  {
   "cell_type": "markdown",
   "source": "### Summary Lab\n\nThis dataframe contains all the data about the features for each lab. As shown in the table, these include features such as number of windows, quantitiy of hoods, floor number, and equipment systems.",
   "metadata": {
    "tags": [],
    "cell_id": "00013-15b61e70-d379-49a4-9dbc-d1077709a2fe",
    "deepnote_cell_type": "markdown"
   }
  },
  {
   "cell_type": "code",
   "metadata": {
    "tags": [],
    "deepnote_to_be_reexecuted": false,
    "source_hash": "377247de",
    "execution_start": 1640547830618,
    "execution_millis": 222,
    "cell_id": "00012-d9a8972b-ece2-47fc-8109-64dd6910da8a",
    "deepnote_cell_type": "code"
   },
   "source": "path = \"./HVACSummary.csv\"\ndf_s = pd.read_csv(path)\ndf_s.head()",
   "execution_count": 9,
   "outputs": [
    {
     "output_type": "execute_result",
     "execution_count": 9,
     "data": {
      "application/vnd.deepnote.dataframe.v3+json": {
       "column_count": 14,
       "row_count": 5,
       "columns": [
        {
         "name": "LabTitle",
         "dtype": "object",
         "stats": {
          "unique_count": 5,
          "nan_count": 0,
          "categories": [
           {
            "name": "TB15",
            "count": 1
           },
           {
            "name": "T302",
            "count": 1
           },
           {
            "name": "3 others",
            "count": 3
           }
          ]
         }
        },
        {
         "name": "Building",
         "dtype": "object",
         "stats": {
          "unique_count": 1,
          "nan_count": 0,
          "categories": [
           {
            "name": "T",
            "count": 5
           }
          ]
         }
        },
        {
         "name": "Room #",
         "dtype": "object",
         "stats": {
          "unique_count": 5,
          "nan_count": 0,
          "categories": [
           {
            "name": "B-15",
            "count": 1
           },
           {
            "name": "302",
            "count": 1
           },
           {
            "name": "3 others",
            "count": 3
           }
          ]
         }
        },
        {
         "name": "Floor",
         "dtype": "object",
         "stats": {
          "unique_count": 3,
          "nan_count": 0,
          "categories": [
           {
            "name": "3",
            "count": 2
           },
           {
            "name": "4",
            "count": 2
           },
           {
            "name": "B-1",
            "count": 1
           }
          ]
         }
        },
        {
         "name": "Qty of Hoods",
         "dtype": "float64",
         "stats": {
          "unique_count": 1,
          "nan_count": 0,
          "min": "1.0",
          "max": "1.0",
          "histogram": [
           {
            "bin_start": 0.5,
            "bin_end": 0.6,
            "count": 0
           },
           {
            "bin_start": 0.6,
            "bin_end": 0.7,
            "count": 0
           },
           {
            "bin_start": 0.7,
            "bin_end": 0.8,
            "count": 0
           },
           {
            "bin_start": 0.8,
            "bin_end": 0.9,
            "count": 0
           },
           {
            "bin_start": 0.9,
            "bin_end": 1,
            "count": 0
           },
           {
            "bin_start": 1,
            "bin_end": 1.1,
            "count": 5
           },
           {
            "bin_start": 1.1,
            "bin_end": 1.2000000000000002,
            "count": 0
           },
           {
            "bin_start": 1.2000000000000002,
            "bin_end": 1.3,
            "count": 0
           },
           {
            "bin_start": 1.3,
            "bin_end": 1.4,
            "count": 0
           },
           {
            "bin_start": 1.4,
            "bin_end": 1.5,
            "count": 0
           }
          ]
         }
        },
        {
         "name": "Windows (North)",
         "dtype": "float64",
         "stats": {
          "unique_count": 0,
          "nan_count": 5,
          "min": null,
          "max": null,
          "histogram": [
           {
            "bin_start": 0,
            "bin_end": 0.1,
            "count": 0
           },
           {
            "bin_start": 0.1,
            "bin_end": 0.2,
            "count": 0
           },
           {
            "bin_start": 0.2,
            "bin_end": 0.30000000000000004,
            "count": 0
           },
           {
            "bin_start": 0.30000000000000004,
            "bin_end": 0.4,
            "count": 0
           },
           {
            "bin_start": 0.4,
            "bin_end": 0.5,
            "count": 0
           },
           {
            "bin_start": 0.5,
            "bin_end": 0.6000000000000001,
            "count": 0
           },
           {
            "bin_start": 0.6000000000000001,
            "bin_end": 0.7000000000000001,
            "count": 0
           },
           {
            "bin_start": 0.7000000000000001,
            "bin_end": 0.8,
            "count": 0
           },
           {
            "bin_start": 0.8,
            "bin_end": 0.9,
            "count": 0
           },
           {
            "bin_start": 0.9,
            "bin_end": 1,
            "count": 0
           }
          ]
         }
        },
        {
         "name": "Windows (West)",
         "dtype": "float64",
         "stats": {
          "unique_count": 1,
          "nan_count": 3,
          "min": "2.0",
          "max": "2.0",
          "histogram": [
           {
            "bin_start": 1.5,
            "bin_end": 1.6,
            "count": 0
           },
           {
            "bin_start": 1.6,
            "bin_end": 1.7,
            "count": 0
           },
           {
            "bin_start": 1.7,
            "bin_end": 1.8,
            "count": 0
           },
           {
            "bin_start": 1.8,
            "bin_end": 1.9,
            "count": 0
           },
           {
            "bin_start": 1.9,
            "bin_end": 2,
            "count": 0
           },
           {
            "bin_start": 2,
            "bin_end": 2.1,
            "count": 2
           },
           {
            "bin_start": 2.1,
            "bin_end": 2.2,
            "count": 0
           },
           {
            "bin_start": 2.2,
            "bin_end": 2.3,
            "count": 0
           },
           {
            "bin_start": 2.3,
            "bin_end": 2.4,
            "count": 0
           },
           {
            "bin_start": 2.4,
            "bin_end": 2.5,
            "count": 0
           }
          ]
         }
        },
        {
         "name": "Windows (South)",
         "dtype": "float64",
         "stats": {
          "unique_count": 0,
          "nan_count": 5,
          "min": null,
          "max": null,
          "histogram": [
           {
            "bin_start": 0,
            "bin_end": 0.1,
            "count": 0
           },
           {
            "bin_start": 0.1,
            "bin_end": 0.2,
            "count": 0
           },
           {
            "bin_start": 0.2,
            "bin_end": 0.30000000000000004,
            "count": 0
           },
           {
            "bin_start": 0.30000000000000004,
            "bin_end": 0.4,
            "count": 0
           },
           {
            "bin_start": 0.4,
            "bin_end": 0.5,
            "count": 0
           },
           {
            "bin_start": 0.5,
            "bin_end": 0.6000000000000001,
            "count": 0
           },
           {
            "bin_start": 0.6000000000000001,
            "bin_end": 0.7000000000000001,
            "count": 0
           },
           {
            "bin_start": 0.7000000000000001,
            "bin_end": 0.8,
            "count": 0
           },
           {
            "bin_start": 0.8,
            "bin_end": 0.9,
            "count": 0
           },
           {
            "bin_start": 0.9,
            "bin_end": 1,
            "count": 0
           }
          ]
         }
        },
        {
         "name": "Windows (East)",
         "dtype": "float64",
         "stats": {
          "unique_count": 1,
          "nan_count": 2,
          "min": "2.0",
          "max": "2.0",
          "histogram": [
           {
            "bin_start": 1.5,
            "bin_end": 1.6,
            "count": 0
           },
           {
            "bin_start": 1.6,
            "bin_end": 1.7,
            "count": 0
           },
           {
            "bin_start": 1.7,
            "bin_end": 1.8,
            "count": 0
           },
           {
            "bin_start": 1.8,
            "bin_end": 1.9,
            "count": 0
           },
           {
            "bin_start": 1.9,
            "bin_end": 2,
            "count": 0
           },
           {
            "bin_start": 2,
            "bin_end": 2.1,
            "count": 3
           },
           {
            "bin_start": 2.1,
            "bin_end": 2.2,
            "count": 0
           },
           {
            "bin_start": 2.2,
            "bin_end": 2.3,
            "count": 0
           },
           {
            "bin_start": 2.3,
            "bin_end": 2.4,
            "count": 0
           },
           {
            "bin_start": 2.4,
            "bin_end": 2.5,
            "count": 0
           }
          ]
         }
        },
        {
         "name": "Augmented Controls",
         "dtype": "object",
         "stats": {
          "unique_count": 5,
          "nan_count": 0,
          "categories": [
           {
            "name": "A/C-43",
            "count": 1
           },
           {
            "name": "A/C-23",
            "count": 1
           },
           {
            "name": "3 others",
            "count": 3
           }
          ]
         }
        },
        {
         "name": "Sensors Description",
         "dtype": "object",
         "stats": {
          "unique_count": 2,
          "nan_count": 0,
          "categories": [
           {
            "name": "JCI  TE-6314P-1",
            "count": 4
           },
           {
            "name": "JCI  TE-6314P-1 Temperature",
            "count": 1
           }
          ]
         }
        },
        {
         "name": "HVAC Systems Supplying Room",
         "dtype": "object",
         "stats": {
          "unique_count": 4,
          "nan_count": 0,
          "categories": [
           {
            "name": "AHU-8",
            "count": 2
           },
           {
            "name": "AHU-6",
            "count": 1
           },
           {
            "name": "2 others",
            "count": 2
           }
          ]
         }
        },
        {
         "name": "Exhaust/Return System",
         "dtype": "object",
         "stats": {
          "unique_count": 2,
          "nan_count": 0,
          "categories": [
           {
            "name": "EF-4",
            "count": 3
           },
           {
            "name": "EF-11",
            "count": 2
           }
          ]
         }
        },
        {
         "name": "Unnamed: 13",
         "dtype": "float64",
         "stats": {
          "unique_count": 0,
          "nan_count": 5,
          "min": null,
          "max": null,
          "histogram": [
           {
            "bin_start": 0,
            "bin_end": 0.1,
            "count": 0
           },
           {
            "bin_start": 0.1,
            "bin_end": 0.2,
            "count": 0
           },
           {
            "bin_start": 0.2,
            "bin_end": 0.30000000000000004,
            "count": 0
           },
           {
            "bin_start": 0.30000000000000004,
            "bin_end": 0.4,
            "count": 0
           },
           {
            "bin_start": 0.4,
            "bin_end": 0.5,
            "count": 0
           },
           {
            "bin_start": 0.5,
            "bin_end": 0.6000000000000001,
            "count": 0
           },
           {
            "bin_start": 0.6000000000000001,
            "bin_end": 0.7000000000000001,
            "count": 0
           },
           {
            "bin_start": 0.7000000000000001,
            "bin_end": 0.8,
            "count": 0
           },
           {
            "bin_start": 0.8,
            "bin_end": 0.9,
            "count": 0
           },
           {
            "bin_start": 0.9,
            "bin_end": 1,
            "count": 0
           }
          ]
         }
        },
        {
         "name": "_deepnote_index_column",
         "dtype": "int64"
        }
       ],
       "rows": [
        {
         "LabTitle": "TB15",
         "Building": "T",
         "Room #": "B-15",
         "Floor": "B-1",
         "Qty of Hoods": 1,
         "Windows (North)": "nan",
         "Windows (West)": "nan",
         "Windows (South)": "nan",
         "Windows (East)": 2,
         "Augmented Controls": "A/C-43",
         "Sensors Description": "JCI  TE-6314P-1 Temperature",
         "HVAC Systems Supplying Room": "AHU-8",
         "Exhaust/Return System": "EF-4",
         "Unnamed: 13": "nan",
         "_deepnote_index_column": 0
        },
        {
         "LabTitle": "T302",
         "Building": "T",
         "Room #": "302",
         "Floor": "3",
         "Qty of Hoods": 1,
         "Windows (North)": "nan",
         "Windows (West)": 2,
         "Windows (South)": "nan",
         "Windows (East)": "nan",
         "Augmented Controls": "A/C-23",
         "Sensors Description": "JCI  TE-6314P-1",
         "HVAC Systems Supplying Room": "AHU-6",
         "Exhaust/Return System": "EF-4",
         "Unnamed: 13": "nan",
         "_deepnote_index_column": 1
        },
        {
         "LabTitle": "T303",
         "Building": "T",
         "Room #": "303",
         "Floor": "3",
         "Qty of Hoods": 1,
         "Windows (North)": "nan",
         "Windows (West)": "nan",
         "Windows (South)": "nan",
         "Windows (East)": 2,
         "Augmented Controls": "A/C-23A",
         "Sensors Description": "JCI  TE-6314P-1",
         "HVAC Systems Supplying Room": "AHU-8",
         "Exhaust/Return System": "EF-4",
         "Unnamed: 13": "nan",
         "_deepnote_index_column": 2
        },
        {
         "LabTitle": "T446",
         "Building": "T",
         "Room #": "446",
         "Floor": "4",
         "Qty of Hoods": 1,
         "Windows (North)": "nan",
         "Windows (West)": 2,
         "Windows (South)": "nan",
         "Windows (East)": "nan",
         "Augmented Controls": "A/C-22",
         "Sensors Description": "JCI  TE-6314P-1",
         "HVAC Systems Supplying Room": "AHU-12",
         "Exhaust/Return System": "EF-11",
         "Unnamed: 13": "nan",
         "_deepnote_index_column": 3
        },
        {
         "LabTitle": "T449",
         "Building": "T",
         "Room #": "449/451",
         "Floor": "4",
         "Qty of Hoods": 1,
         "Windows (North)": "nan",
         "Windows (West)": "nan",
         "Windows (South)": "nan",
         "Windows (East)": 2,
         "Augmented Controls": "A/C-13B",
         "Sensors Description": "JCI  TE-6314P-1",
         "HVAC Systems Supplying Room": "AHU-15",
         "Exhaust/Return System": "EF-11",
         "Unnamed: 13": "nan",
         "_deepnote_index_column": 4
        }
       ]
      },
      "text/plain": "  LabTitle Building   Room # Floor  Qty of Hoods  Windows (North)  \\\n0     TB15        T     B-15   B-1           1.0              NaN   \n1     T302        T      302     3           1.0              NaN   \n2     T303        T      303     3           1.0              NaN   \n3     T446        T      446     4           1.0              NaN   \n4     T449        T  449/451     4           1.0              NaN   \n\n   Windows (West)  Windows (South)  Windows (East) Augmented Controls  \\\n0             NaN              NaN             2.0             A/C-43   \n1             2.0              NaN             NaN             A/C-23   \n2             NaN              NaN             2.0            A/C-23A   \n3             2.0              NaN             NaN             A/C-22   \n4             NaN              NaN             2.0            A/C-13B   \n\n           Sensors Description HVAC Systems Supplying Room  \\\n0  JCI  TE-6314P-1 Temperature                       AHU-8   \n1              JCI  TE-6314P-1                       AHU-6   \n2              JCI  TE-6314P-1                       AHU-8   \n3              JCI  TE-6314P-1                      AHU-12   \n4              JCI  TE-6314P-1                      AHU-15   \n\n  Exhaust/Return System  Unnamed: 13  \n0                  EF-4          NaN  \n1                  EF-4          NaN  \n2                  EF-4          NaN  \n3                 EF-11          NaN  \n4                 EF-11          NaN  ",
      "text/html": "<div>\n<style scoped>\n    .dataframe tbody tr th:only-of-type {\n        vertical-align: middle;\n    }\n\n    .dataframe tbody tr th {\n        vertical-align: top;\n    }\n\n    .dataframe thead th {\n        text-align: right;\n    }\n</style>\n<table border=\"1\" class=\"dataframe\">\n  <thead>\n    <tr style=\"text-align: right;\">\n      <th></th>\n      <th>LabTitle</th>\n      <th>Building</th>\n      <th>Room #</th>\n      <th>Floor</th>\n      <th>Qty of Hoods</th>\n      <th>Windows (North)</th>\n      <th>Windows (West)</th>\n      <th>Windows (South)</th>\n      <th>Windows (East)</th>\n      <th>Augmented Controls</th>\n      <th>Sensors Description</th>\n      <th>HVAC Systems Supplying Room</th>\n      <th>Exhaust/Return System</th>\n      <th>Unnamed: 13</th>\n    </tr>\n  </thead>\n  <tbody>\n    <tr>\n      <th>0</th>\n      <td>TB15</td>\n      <td>T</td>\n      <td>B-15</td>\n      <td>B-1</td>\n      <td>1.0</td>\n      <td>NaN</td>\n      <td>NaN</td>\n      <td>NaN</td>\n      <td>2.0</td>\n      <td>A/C-43</td>\n      <td>JCI  TE-6314P-1 Temperature</td>\n      <td>AHU-8</td>\n      <td>EF-4</td>\n      <td>NaN</td>\n    </tr>\n    <tr>\n      <th>1</th>\n      <td>T302</td>\n      <td>T</td>\n      <td>302</td>\n      <td>3</td>\n      <td>1.0</td>\n      <td>NaN</td>\n      <td>2.0</td>\n      <td>NaN</td>\n      <td>NaN</td>\n      <td>A/C-23</td>\n      <td>JCI  TE-6314P-1</td>\n      <td>AHU-6</td>\n      <td>EF-4</td>\n      <td>NaN</td>\n    </tr>\n    <tr>\n      <th>2</th>\n      <td>T303</td>\n      <td>T</td>\n      <td>303</td>\n      <td>3</td>\n      <td>1.0</td>\n      <td>NaN</td>\n      <td>NaN</td>\n      <td>NaN</td>\n      <td>2.0</td>\n      <td>A/C-23A</td>\n      <td>JCI  TE-6314P-1</td>\n      <td>AHU-8</td>\n      <td>EF-4</td>\n      <td>NaN</td>\n    </tr>\n    <tr>\n      <th>3</th>\n      <td>T446</td>\n      <td>T</td>\n      <td>446</td>\n      <td>4</td>\n      <td>1.0</td>\n      <td>NaN</td>\n      <td>2.0</td>\n      <td>NaN</td>\n      <td>NaN</td>\n      <td>A/C-22</td>\n      <td>JCI  TE-6314P-1</td>\n      <td>AHU-12</td>\n      <td>EF-11</td>\n      <td>NaN</td>\n    </tr>\n    <tr>\n      <th>4</th>\n      <td>T449</td>\n      <td>T</td>\n      <td>449/451</td>\n      <td>4</td>\n      <td>1.0</td>\n      <td>NaN</td>\n      <td>NaN</td>\n      <td>NaN</td>\n      <td>2.0</td>\n      <td>A/C-13B</td>\n      <td>JCI  TE-6314P-1</td>\n      <td>AHU-15</td>\n      <td>EF-11</td>\n      <td>NaN</td>\n    </tr>\n  </tbody>\n</table>\n</div>"
     },
     "metadata": {}
    }
   ]
  },
  {
   "cell_type": "code",
   "metadata": {
    "tags": [],
    "deepnote_to_be_reexecuted": false,
    "source_hash": "f76a9e2e",
    "execution_start": 1640547830850,
    "execution_millis": 66,
    "cell_id": "00013-0b3b6df2-57cc-480f-afc8-2138557311e7",
    "deepnote_cell_type": "code"
   },
   "source": "labSummary = {}\n\nfor index, row in df_s.iterrows():\n    lab_title = row[0]\n\n    labSummary[lab_title] = pd.DataFrame([row], columns=df_s.columns)\n",
   "execution_count": 10,
   "outputs": []
  },
  {
   "cell_type": "markdown",
   "source": "## Prediction Model\n\nHere, we write our SVR (support vector regression) model `predict_value()`. This function takes in the following values:\n\n`X_train`: input parameters (hour, month, setback, outside enthalpy) that we train our model on\n<br />\n`y_train`: output (humidity) correspoding to each input that we train our model on\n<br />\n`X_test`: input parameters that we then have our model predict\n<br />\n`y_test`: actual value that we compare our prediction values to\n<br />\n`t_train` + `t_test`: timesteps that correspond to our data (this is to order our data sequentially when we graph it and is not considered in our model)\n\nRather than using a time series split, we randomly split our data into the train and test sets. Because the data is all randomized, we have the `sort_data()` function to sort it for our graph visualisations.\n\nWe've also used the built-in `svr_lin.coef_` function to identify the weights of each input parameter on the final prediction. Note: the function calculates this based on the results produced when `kernel = 'linear'`.\n\nThe `predict_value()` function will use the linear, polynomial, and rbf kernels to fit and predict the values. It will print out the weights for each feature and draw a graph of the predictions modeled against the actual values, and its return values will be the lists of predicted values that each of the linear, polynomial, and rbf models have made (Note: the data will still be randomized to match `y_test`. It is only for the graph that all the lists are sorted).",
   "metadata": {
    "tags": [],
    "cell_id": "00016-fc49a3cd-a3bc-4c51-9c62-460e5d8c7789",
    "deepnote_cell_type": "markdown"
   }
  },
  {
   "cell_type": "code",
   "metadata": {
    "tags": [],
    "deepnote_to_be_reexecuted": false,
    "source_hash": "9de844f7",
    "execution_start": 1640547830930,
    "execution_millis": 144,
    "cell_id": "00015-7b1b2e83-45a8-4f7e-84f5-f858660d088d",
    "deepnote_cell_type": "code"
   },
   "source": "from sklearn.svm import SVR ",
   "execution_count": 11,
   "outputs": []
  },
  {
   "cell_type": "code",
   "metadata": {
    "tags": [],
    "deepnote_to_be_reexecuted": false,
    "source_hash": "9c451ee7",
    "execution_start": 1640547831074,
    "execution_millis": 344,
    "cell_id": "00016-127aba56-1ba9-43c3-93f2-e9616287f563",
    "deepnote_cell_type": "code"
   },
   "source": "import plotly.express as px # for data visualization\nimport plotly.graph_objects as go\n\ndef predict_value(X_train, y_train, X_test, y_test, t_train, t_test):\n    \n    svr_lin  = SVR(kernel='linear', C=10)\n    svr_poly = SVR(kernel='poly', C=10, degree=2)\n    svr_rbf = SVR(kernel='rbf', C=100, gamma=0.1)\n    \n    # Fit regression model\n    svr_lin .fit(X_train, y_train)\n    svr_poly.fit(X_train, y_train)\n    svr_rbf.fit(X_train, y_train)\n\n    # Feature weights\n    lin_weights = svr_lin.coef_\n    print(lin_weights)\n\n    # Plotting actual values\n    fig = px.scatter(df, x=t_test, y=y_test, \n                 opacity=0.8, color_discrete_sequence=['black'])\n\n    # Predicting Values\n    lin = svr_lin.predict(X_test)\n    rbf = svr_rbf.predict(X_test)\n    poly = svr_poly.predict(X_test)\n\n    # Sorting prediction results sequentially\n    sorted_t, sorted_lin = sort_data(t_test, lin)\n    sorted_t, sorted_rbf = sort_data(t_test, rbf)\n    sorted_t, sorted_poly = sort_data(t_test, poly)\n\n    # Plot predictions with actual values\n    fig.add_traces(go.Scatter(x=sorted_t, y=sorted_lin, name='Linear model', line=dict(color='green')))\n    fig.add_traces(go.Scatter(x=sorted_t, y=sorted_rbf, name='RBF model', line=dict(color='red')))\n    fig.add_traces(go.Scatter(x=sorted_t, y=sorted_poly, name='Polynomial model', line=dict(color='blue')))\n    \n\n    # Change chart background color\n    fig.update_layout(dict(plot_bgcolor = 'white'))\n\n    # Update axes lines\n    fig.update_xaxes(showgrid=True, gridwidth=1, gridcolor='lightgrey', \n                    zeroline=True, zerolinewidth=1, zerolinecolor='lightgrey', \n                    showline=True, linewidth=1, linecolor='black')\n\n    fig.update_yaxes(showgrid=True, gridwidth=1, gridcolor='lightgrey', \n                    zeroline=True, zerolinewidth=1, zerolinecolor='lightgrey', \n                    showline=True, linewidth=1, linecolor='black')\n\n    # Update marker size\n    fig.update_traces(marker=dict(size=3))\n\n    fig.show()\n    \n    return lin, rbf, poly\n\n\n# function to sort data points sequentially\ndef sort_data(x, y):\n    merged_list = [(x[i], y[i]) for i in range(0, len(x))]\n    sorted_list = sorted(merged_list, key=lambda y: y[0])\n    sorted_x, sorted_y = zip(*sorted_list)\n    return list(sorted_x), list(sorted_y)\n\n\n",
   "execution_count": 12,
   "outputs": []
  },
  {
   "cell_type": "markdown",
   "source": "### Preparing Data for SVR Model\nIn `make_model_data()`, we extract and reshape our parameters to group each row into our <em>X</em> and <em>y</em> values. For each timestep, Time, Hour, Month, Setback, and Outside Enthalpy are the input features and Humidity is the output feature we want to predict. Then, the data is randomized and split into the training and testing data in a 9:1 ratio.",
   "metadata": {
    "tags": [],
    "cell_id": "00019-76f0413a-343f-4cbe-9b86-53d94a7b13a2",
    "deepnote_cell_type": "markdown"
   }
  },
  {
   "cell_type": "code",
   "metadata": {
    "tags": [],
    "deepnote_to_be_reexecuted": false,
    "source_hash": "b7c5621f",
    "execution_start": 1640547831434,
    "execution_millis": 24,
    "cell_id": "00019-b36e0e50-1473-4c49-a2ca-56df150dcceb",
    "deepnote_cell_type": "code"
   },
   "source": "def make_model_data(lab):\n    t = [float(i) for i in range(0, len(lab['Time']))]\n    lab['Time'] = t\n\n    d = lab['HUMIDITY %. Trend (%RH)'].apply(pd.to_numeric)\n    d = d.astype(float)\n    lab['HUMIDITY %. Trend (%RH)'] = d\n\n    def get_data(df):  \n        t = df['Time'].values\n        X1 = df['Hour'].values\n        X2 = df['Month'].values\n        X3 = df['Setback'].values\n        X4 = df['Outside Humidity'].values\n        y = df['HUMIDITY %. Trend (%RH)']\n        vals = np.vstack((t, X1, X2, X3, X4, y)).T\n        vals.reshape(-6, 6)\n        return list(vals) # Convert Series to list\n\n    data = get_data(lab)\n    rand_data = random.sample(list(data), k=len(data))\n\n    rand_time = []\n    rand_hr = []\n    rand_mnth = []\n    rand_setback = []\n    rand_outside = []\n    rand_y = []\n\n    for time, hour, month, setback, out_hum, y in rand_data:\n        rand_time.append(time)\n        rand_hr.append(hour)\n        rand_mnth.append(month)\n        rand_setback.append(setback)\n        rand_outside.append(out_hum)\n        rand_y.append(y)\n\n    rand_X = np.vstack((rand_hr, rand_mnth, rand_setback, rand_outside)).T\n    rand_X.reshape(-4, 4)\n    print(rand_X)\n\n    # train/test split\n    ratio = 10\n    n = int(len(rand_data) / ratio)\n\n    X_train = rand_X[n:]\n    X_test = rand_X[:n]\n    y_train = rand_y[n:]\n    y_test = rand_y[:n]\n    t_train = rand_time[n:]\n    t_test = rand_time[:n]\n\n\n    return X_train, X_test, y_train, y_test, t_train, t_test\n\n",
   "execution_count": 13,
   "outputs": []
  },
  {
   "cell_type": "code",
   "metadata": {
    "tags": [],
    "deepnote_to_be_reexecuted": false,
    "source_hash": "9def43ac",
    "execution_start": 1640547989342,
    "execution_millis": 11953,
    "cell_id": "00021-73b21813-345b-4e34-870b-a1bd51a547c7",
    "deepnote_cell_type": "code"
   },
   "source": "# call all functions to process and prepare data\n\ndata = prepareCols(labs['H309'], 'H309')\ndata = addGeneral(data, TlabGeneral)\nX_train, X_test, y_train, y_test, times_train, times_test = make_model_data(data)",
   "execution_count": 20,
   "outputs": [
    {
     "name": "stderr",
     "text": "/shared-libs/python3.7/py-core/lib/python3.7/site-packages/dateutil/parser/_parser.py:1212: UnknownTimezoneWarning:\n\ntzname EDT identified but not understood.  Pass `tzinfos` argument in order to correctly return a timezone-aware datetime.  In a future version, this will raise an exception.\n\n/shared-libs/python3.7/py-core/lib/python3.7/site-packages/ipykernel_launcher.py:5: DeprecationWarning:\n\nThe truth value of an empty array is ambiguous. Returning False, but in future this will result in an error. Use `array.size > 0` to check that an array is not empty.\n\n                        Time Trend (deg F) HUMIDITY %. Trend (%RH) Hour  \\\n697   5/26/21 1:00:00 PM EDT      69.91908                74.24472   13   \n698   5/26/21 2:00:00 PM EDT      69.91908               77.359985   14   \n699   5/26/21 3:00:00 PM EDT      69.91908                77.16266   15   \n700   5/26/21 4:00:00 PM EDT      69.91908               77.466736   16   \n701   5/26/21 5:00:00 PM EDT     70.019226                72.49786   17   \n...                      ...           ...                     ...  ...   \n3231             9/9/21 3:00            70                      48    3   \n3232             9/9/21 4:00            70                      47    4   \n3233             9/9/21 5:00            70                      48    5   \n3234             9/9/21 6:00          70.1                      49    6   \n3235             9/9/21 7:00          69.5                      51    7   \n\n      Month  Setback Outside Humidity  \n697       5        0        53.485672  \n698       5        0        57.959625  \n699       5        0        59.137146  \n700       5        0        59.295654  \n701       5        0        60.528183  \n...     ...      ...              ...  \n3231      9        1             76.6  \n3232      9        1             78.3  \n3233      9        1             76.4  \n3234      9        1             69.9  \n3235      9        1             71.4  \n\n[2535 rows x 7 columns]\n[['2' '9' '1' '81.7']\n ['9' '8' '1' '79.7']\n ['12' '6' '0' '59']\n ...\n ['9' '8' '1' '83.4']\n ['1' '9' '1' '71.2']\n ['8' '9' '1' '75.5']]\n",
     "output_type": "stream",
     "data": {}
    }
   ]
  },
  {
   "cell_type": "code",
   "metadata": {
    "tags": [],
    "deepnote_to_be_reexecuted": false,
    "source_hash": "309af1f3",
    "execution_start": 1640548008538,
    "execution_millis": 202,
    "cell_id": "00022-aafaaed3-fe14-4e09-8a28-04d6318a7bdb",
    "deepnote_table_state": {
     "pageSize": 10,
     "pageIndex": 11,
     "filters": [],
     "sortBy": []
    },
    "deepnote_table_loading": false,
    "deepnote_cell_type": "code"
   },
   "source": "# final dataframe\n\ndata",
   "execution_count": 21,
   "outputs": [
    {
     "output_type": "execute_result",
     "execution_count": 21,
     "data": {
      "application/vnd.deepnote.dataframe.v3+json": {
       "column_count": 7,
       "row_count": 2535,
       "columns": [
        {
         "name": "Time",
         "dtype": "float64",
         "stats": {
          "unique_count": 2535,
          "nan_count": 0,
          "min": "0.0",
          "max": "2534.0",
          "histogram": [
           {
            "bin_start": 0,
            "bin_end": 253.4,
            "count": 254
           },
           {
            "bin_start": 253.4,
            "bin_end": 506.8,
            "count": 253
           },
           {
            "bin_start": 506.8,
            "bin_end": 760.2,
            "count": 254
           },
           {
            "bin_start": 760.2,
            "bin_end": 1013.6,
            "count": 253
           },
           {
            "bin_start": 1013.6,
            "bin_end": 1267,
            "count": 253
           },
           {
            "bin_start": 1267,
            "bin_end": 1520.4,
            "count": 254
           },
           {
            "bin_start": 1520.4,
            "bin_end": 1773.8,
            "count": 253
           },
           {
            "bin_start": 1773.8,
            "bin_end": 2027.2,
            "count": 254
           },
           {
            "bin_start": 2027.2,
            "bin_end": 2280.6,
            "count": 253
           },
           {
            "bin_start": 2280.6,
            "bin_end": 2534,
            "count": 254
           }
          ]
         }
        },
        {
         "name": "Trend (deg F)",
         "dtype": "object",
         "stats": {
          "unique_count": 236,
          "nan_count": 0,
          "categories": [
           {
            "name": "70.3",
            "count": 662
           },
           {
            "name": "70.2",
            "count": 474
           },
           {
            "name": "234 others",
            "count": 1399
           }
          ]
         }
        },
        {
         "name": "HUMIDITY %. Trend (%RH)",
         "dtype": "float64",
         "stats": {
          "unique_count": 337,
          "nan_count": 0,
          "min": "31.0",
          "max": "97.0",
          "histogram": [
           {
            "bin_start": 31,
            "bin_end": 37.6,
            "count": 24
           },
           {
            "bin_start": 37.6,
            "bin_end": 44.2,
            "count": 79
           },
           {
            "bin_start": 44.2,
            "bin_end": 50.8,
            "count": 168
           },
           {
            "bin_start": 50.8,
            "bin_end": 57.4,
            "count": 340
           },
           {
            "bin_start": 57.4,
            "bin_end": 64,
            "count": 365
           },
           {
            "bin_start": 64,
            "bin_end": 70.6,
            "count": 703
           },
           {
            "bin_start": 70.6,
            "bin_end": 77.19999999999999,
            "count": 500
           },
           {
            "bin_start": 77.19999999999999,
            "bin_end": 83.8,
            "count": 223
           },
           {
            "bin_start": 83.8,
            "bin_end": 90.4,
            "count": 116
           },
           {
            "bin_start": 90.4,
            "bin_end": 97,
            "count": 17
           }
          ]
         }
        },
        {
         "name": "Hour",
         "dtype": "object",
         "stats": {
          "unique_count": 24,
          "nan_count": 0,
          "categories": [
           {
            "name": "14",
            "count": 106
           },
           {
            "name": "15",
            "count": 106
           },
           {
            "name": "22 others",
            "count": 2323
           }
          ]
         }
        },
        {
         "name": "Month",
         "dtype": "int64",
         "stats": {
          "unique_count": 5,
          "nan_count": 0,
          "min": "5",
          "max": "9",
          "histogram": [
           {
            "bin_start": 5,
            "bin_end": 5.4,
            "count": 131
           },
           {
            "bin_start": 5.4,
            "bin_end": 5.8,
            "count": 0
           },
           {
            "bin_start": 5.8,
            "bin_end": 6.2,
            "count": 716
           },
           {
            "bin_start": 6.2,
            "bin_end": 6.6,
            "count": 0
           },
           {
            "bin_start": 6.6,
            "bin_end": 7,
            "count": 0
           },
           {
            "bin_start": 7,
            "bin_end": 7.4,
            "count": 744
           },
           {
            "bin_start": 7.4,
            "bin_end": 7.800000000000001,
            "count": 0
           },
           {
            "bin_start": 7.800000000000001,
            "bin_end": 8.2,
            "count": 744
           },
           {
            "bin_start": 8.2,
            "bin_end": 8.6,
            "count": 0
           },
           {
            "bin_start": 8.6,
            "bin_end": 9,
            "count": 200
           }
          ]
         }
        },
        {
         "name": "Setback",
         "dtype": "int64",
         "stats": {
          "unique_count": 2,
          "nan_count": 0,
          "min": "0",
          "max": "1",
          "histogram": [
           {
            "bin_start": 0,
            "bin_end": 0.1,
            "count": 684
           },
           {
            "bin_start": 0.1,
            "bin_end": 0.2,
            "count": 0
           },
           {
            "bin_start": 0.2,
            "bin_end": 0.30000000000000004,
            "count": 0
           },
           {
            "bin_start": 0.30000000000000004,
            "bin_end": 0.4,
            "count": 0
           },
           {
            "bin_start": 0.4,
            "bin_end": 0.5,
            "count": 0
           },
           {
            "bin_start": 0.5,
            "bin_end": 0.6000000000000001,
            "count": 0
           },
           {
            "bin_start": 0.6000000000000001,
            "bin_end": 0.7000000000000001,
            "count": 0
           },
           {
            "bin_start": 0.7000000000000001,
            "bin_end": 0.8,
            "count": 0
           },
           {
            "bin_start": 0.8,
            "bin_end": 0.9,
            "count": 0
           },
           {
            "bin_start": 0.9,
            "bin_end": 1,
            "count": 1851
           }
          ]
         }
        },
        {
         "name": "Outside Humidity",
         "dtype": "object",
         "stats": {
          "unique_count": 877,
          "nan_count": 0,
          "categories": [
           {
            "name": "85.9",
            "count": 14
           },
           {
            "name": "82",
            "count": 13
           },
           {
            "name": "875 others",
            "count": 2508
           }
          ]
         }
        },
        {
         "name": "_deepnote_index_column",
         "dtype": "int64"
        }
       ],
       "rows": [
        {
         "Time": 110,
         "Trend (deg F)": "70.050674",
         "HUMIDITY %. Trend (%RH)": 43.787582,
         "Hour": "3",
         "Month": 5,
         "Setback": 1,
         "Outside Humidity": "45.213867",
         "_deepnote_index_column": 807
        },
        {
         "Time": 111,
         "Trend (deg F)": "69.94698",
         "HUMIDITY %. Trend (%RH)": 42.99501,
         "Hour": "4",
         "Month": 5,
         "Setback": 1,
         "Outside Humidity": "45.094177",
         "_deepnote_index_column": 808
        },
        {
         "Time": 112,
         "Trend (deg F)": "69.94698",
         "HUMIDITY %. Trend (%RH)": 42.014816,
         "Hour": "5",
         "Month": 5,
         "Setback": 1,
         "Outside Humidity": "45.02301",
         "_deepnote_index_column": 809
        },
        {
         "Time": 113,
         "Trend (deg F)": "69.94698",
         "HUMIDITY %. Trend (%RH)": 41.206085,
         "Hour": "6",
         "Month": 5,
         "Setback": 1,
         "Outside Humidity": "44.845078",
         "_deepnote_index_column": 810
        },
        {
         "Time": 114,
         "Trend (deg F)": "69.83752",
         "HUMIDITY %. Trend (%RH)": 42.48065,
         "Hour": "7",
         "Month": 5,
         "Setback": 0,
         "Outside Humidity": "44.71245",
         "_deepnote_index_column": 811
        },
        {
         "Time": 115,
         "Trend (deg F)": "69.93936",
         "HUMIDITY %. Trend (%RH)": 43.70024,
         "Hour": "8",
         "Month": 5,
         "Setback": 0,
         "Outside Humidity": "44.80626",
         "_deepnote_index_column": 812
        },
        {
         "Time": 116,
         "Trend (deg F)": "69.834045",
         "HUMIDITY %. Trend (%RH)": 44.046387,
         "Hour": "9",
         "Month": 5,
         "Setback": 0,
         "Outside Humidity": "45.239746",
         "_deepnote_index_column": 813
        },
        {
         "Time": 117,
         "Trend (deg F)": "69.0052",
         "HUMIDITY %. Trend (%RH)": 44.08844,
         "Hour": "10",
         "Month": 5,
         "Setback": 0,
         "Outside Humidity": "46.349335",
         "_deepnote_index_column": 814
        },
        {
         "Time": 118,
         "Trend (deg F)": "69.82652",
         "HUMIDITY %. Trend (%RH)": 43.98491,
         "Hour": "11",
         "Month": 5,
         "Setback": 0,
         "Outside Humidity": "47.18396",
         "_deepnote_index_column": 815
        },
        {
         "Time": 119,
         "Trend (deg F)": "69.82652",
         "HUMIDITY %. Trend (%RH)": 43.33792,
         "Hour": "12",
         "Month": 5,
         "Setback": 0,
         "Outside Humidity": "46.70842",
         "_deepnote_index_column": 816
        }
       ]
      },
      "text/plain": "        Time Trend (deg F)  HUMIDITY %. Trend (%RH) Hour  Month  Setback  \\\n697      0.0      69.91908                74.244720   13      5        0   \n698      1.0      69.91908                77.359985   14      5        0   \n699      2.0      69.91908                77.162660   15      5        0   \n700      3.0      69.91908                77.466736   16      5        0   \n701      4.0     70.019226                72.497860   17      5        0   \n...      ...           ...                      ...  ...    ...      ...   \n3231  2530.0            70                48.000000    3      9        1   \n3232  2531.0            70                47.000000    4      9        1   \n3233  2532.0            70                48.000000    5      9        1   \n3234  2533.0          70.1                49.000000    6      9        1   \n3235  2534.0          69.5                51.000000    7      9        1   \n\n     Outside Humidity  \n697         53.485672  \n698         57.959625  \n699         59.137146  \n700         59.295654  \n701         60.528183  \n...               ...  \n3231             76.6  \n3232             78.3  \n3233             76.4  \n3234             69.9  \n3235             71.4  \n\n[2535 rows x 7 columns]",
      "text/html": "<div>\n<style scoped>\n    .dataframe tbody tr th:only-of-type {\n        vertical-align: middle;\n    }\n\n    .dataframe tbody tr th {\n        vertical-align: top;\n    }\n\n    .dataframe thead th {\n        text-align: right;\n    }\n</style>\n<table border=\"1\" class=\"dataframe\">\n  <thead>\n    <tr style=\"text-align: right;\">\n      <th></th>\n      <th>Time</th>\n      <th>Trend (deg F)</th>\n      <th>HUMIDITY %. Trend (%RH)</th>\n      <th>Hour</th>\n      <th>Month</th>\n      <th>Setback</th>\n      <th>Outside Humidity</th>\n    </tr>\n  </thead>\n  <tbody>\n    <tr>\n      <th>697</th>\n      <td>0.0</td>\n      <td>69.91908</td>\n      <td>74.244720</td>\n      <td>13</td>\n      <td>5</td>\n      <td>0</td>\n      <td>53.485672</td>\n    </tr>\n    <tr>\n      <th>698</th>\n      <td>1.0</td>\n      <td>69.91908</td>\n      <td>77.359985</td>\n      <td>14</td>\n      <td>5</td>\n      <td>0</td>\n      <td>57.959625</td>\n    </tr>\n    <tr>\n      <th>699</th>\n      <td>2.0</td>\n      <td>69.91908</td>\n      <td>77.162660</td>\n      <td>15</td>\n      <td>5</td>\n      <td>0</td>\n      <td>59.137146</td>\n    </tr>\n    <tr>\n      <th>700</th>\n      <td>3.0</td>\n      <td>69.91908</td>\n      <td>77.466736</td>\n      <td>16</td>\n      <td>5</td>\n      <td>0</td>\n      <td>59.295654</td>\n    </tr>\n    <tr>\n      <th>701</th>\n      <td>4.0</td>\n      <td>70.019226</td>\n      <td>72.497860</td>\n      <td>17</td>\n      <td>5</td>\n      <td>0</td>\n      <td>60.528183</td>\n    </tr>\n    <tr>\n      <th>...</th>\n      <td>...</td>\n      <td>...</td>\n      <td>...</td>\n      <td>...</td>\n      <td>...</td>\n      <td>...</td>\n      <td>...</td>\n    </tr>\n    <tr>\n      <th>3231</th>\n      <td>2530.0</td>\n      <td>70</td>\n      <td>48.000000</td>\n      <td>3</td>\n      <td>9</td>\n      <td>1</td>\n      <td>76.6</td>\n    </tr>\n    <tr>\n      <th>3232</th>\n      <td>2531.0</td>\n      <td>70</td>\n      <td>47.000000</td>\n      <td>4</td>\n      <td>9</td>\n      <td>1</td>\n      <td>78.3</td>\n    </tr>\n    <tr>\n      <th>3233</th>\n      <td>2532.0</td>\n      <td>70</td>\n      <td>48.000000</td>\n      <td>5</td>\n      <td>9</td>\n      <td>1</td>\n      <td>76.4</td>\n    </tr>\n    <tr>\n      <th>3234</th>\n      <td>2533.0</td>\n      <td>70.1</td>\n      <td>49.000000</td>\n      <td>6</td>\n      <td>9</td>\n      <td>1</td>\n      <td>69.9</td>\n    </tr>\n    <tr>\n      <th>3235</th>\n      <td>2534.0</td>\n      <td>69.5</td>\n      <td>51.000000</td>\n      <td>7</td>\n      <td>9</td>\n      <td>1</td>\n      <td>71.4</td>\n    </tr>\n  </tbody>\n</table>\n<p>2535 rows × 7 columns</p>\n</div>"
     },
     "metadata": {}
    }
   ]
  },
  {
   "cell_type": "markdown",
   "source": "### Making Predictions\nWhen we run `predict_value()` on our data, we can see the weights have been printed corresponding to the coordinates [hour month setback outside_enthalpy]. This site (https://stats.stackexchange.com/questions/39243/how-does-one-interpret-svm-feature-weights) goes more in depth of how to read this vector value, but to generalize, the absolute size of a feature relative to the others gives an indication of how important it is.",
   "metadata": {
    "tags": [],
    "cell_id": "00023-6cd41901-bad8-4e42-9bdc-526b002c9e67",
    "deepnote_cell_type": "markdown"
   }
  },
  {
   "cell_type": "code",
   "metadata": {
    "tags": [],
    "deepnote_to_be_reexecuted": false,
    "source_hash": "98e3fc5c",
    "execution_start": 1640548015826,
    "execution_millis": 11078,
    "deepnote_output_heights": [
     527,
     527
    ],
    "cell_id": "00023-099a5b81-ec53-4523-bc43-0af6cadea691",
    "deepnote_cell_type": "code"
   },
   "source": "predictions = predict_value(X_train, y_train, X_test, y_test, times_train, times_test)",
   "execution_count": 22,
   "outputs": [
    {
     "name": "stdout",
     "text": "[[ 0.35192622 -3.19532308 -2.55207173  0.42627664]]\n",
     "output_type": "stream",
     "data": {}
    },
    {
     "data": {
      "text/html": "<html>\n<head><meta charset=\"utf-8\" /></head>\n<body>\n    <div>            <script src=\"https://cdnjs.cloudflare.com/ajax/libs/mathjax/2.7.5/MathJax.js?config=TeX-AMS-MML_SVG\"></script><script type=\"text/javascript\">if (window.MathJax) {MathJax.Hub.Config({SVG: {font: \"STIX-Web\"}});}</script>                <script type=\"text/javascript\">window.PlotlyConfig = {MathJaxConfig: 'local'};</script>\n        <script src=\"https://cdn.plot.ly/plotly-2.6.3.min.js\"></script>                <div id=\"850b0d9b-def3-4d75-ac77-d85c113edef4\" class=\"plotly-graph-div\" style=\"height:525px; width:100%;\"></div>            <script type=\"text/javascript\">                                    window.PLOTLYENV=window.PLOTLYENV || {};                                    if (document.getElementById(\"850b0d9b-def3-4d75-ac77-d85c113edef4\")) {                    Plotly.newPlot(                        \"850b0d9b-def3-4d75-ac77-d85c113edef4\",                        [{\"hovertemplate\":\"x=%{x}<br>y=%{y}<extra></extra>\",\"legendgroup\":\"\",\"marker\":{\"color\":\"black\",\"opacity\":0.8,\"symbol\":\"circle\",\"size\":3},\"mode\":\"markers\",\"name\":\"\",\"orientation\":\"v\",\"showlegend\":false,\"x\":[2457.0,1744.0,763.0,978.0,1817.0,1200.0,822.0,450.0,684.0,726.0,1679.0,488.0,291.0,1543.0,1337.0,2462.0,1785.0,995.0,1537.0,1756.0,260.0,2374.0,2046.0,723.0,1917.0,2516.0,1877.0,750.0,243.0,1664.0,1112.0,361.0,2259.0,2221.0,1966.0,836.0,1125.0,1250.0,969.0,1806.0,459.0,780.0,1526.0,556.0,54.0,193.0,1998.0,1341.0,2229.0,874.0,591.0,1403.0,1509.0,1044.0,415.0,1246.0,712.0,1665.0,99.0,1994.0,1141.0,2272.0,2288.0,1572.0,1813.0,2355.0,2336.0,1653.0,744.0,146.0,2237.0,1025.0,784.0,1243.0,1464.0,1164.0,807.0,961.0,2314.0,804.0,1870.0,2383.0,1119.0,2228.0,1331.0,2393.0,1312.0,1216.0,717.0,1770.0,1621.0,268.0,2238.0,965.0,72.0,411.0,2049.0,34.0,2485.0,1995.0,4.0,2031.0,1034.0,416.0,1380.0,428.0,389.0,795.0,28.0,206.0,1975.0,1505.0,1565.0,1478.0,128.0,2484.0,1562.0,603.0,688.0,355.0,2091.0,1589.0,637.0,559.0,1641.0,1718.0,1120.0,1124.0,2450.0,1739.0,1482.0,86.0,1303.0,364.0,1252.0,308.0,1069.0,2304.0,1387.0,2332.0,1241.0,1031.0,2080.0,1168.0,1780.0,845.0,1445.0,1926.0,95.0,1988.0,46.0,318.0,443.0,1251.0,1991.0,2009.0,236.0,885.0,1724.0,1041.0,1837.0,104.0,979.0,2151.0,1201.0,1700.0,1916.0,1899.0,2058.0,598.0,2164.0,496.0,790.0,2144.0,748.0,1754.0,650.0,285.0,197.0,2508.0,1885.0,2131.0,895.0,1805.0,358.0,1891.0,235.0,2436.0,113.0,307.0,1551.0,938.0,1830.0,1390.0,2230.0,2301.0,1020.0,2248.0,2370.0,75.0,1884.0,867.0,1853.0,2061.0,1521.0,1208.0,520.0,1927.0,486.0,1984.0,2028.0,1833.0,1886.0,1763.0,1987.0,1769.0,596.0,2011.0,1420.0,444.0,1007.0,2306.0,716.0,585.0,386.0,1450.0,1567.0,1150.0,2260.0,932.0,1414.0,417.0,2466.0,2402.0,2261.0,701.0,739.0,1797.0,39.0,2013.0,1272.0,1421.0,1156.0,2074.0,403.0,2426.0,2226.0,2067.0,743.0,2293.0,984.0,876.0,414.0],\"xaxis\":\"x\",\"y\":[52.0,63.0,85.0,61.0,67.0,66.0,79.0,68.0,52.0,90.0,52.0,49.0,72.0,74.0,64.0,54.0,68.0,79.0,71.0,59.0,65.59769,51.0,69.0,84.0,62.0,59.0,71.0,88.0,54.932022,51.0,81.0,83.0,72.0,67.0,71.0,75.0,76.0,72.0,73.0,66.0,54.0,86.0,72.0,71.0,54.197693,71.23297,69.0,64.0,69.0,80.0,75.0,61.0,65.0,76.0,73.0,73.0,69.0,49.0,41.293427,70.0,83.0,71.0,70.0,56.0,65.0,56.0,64.0,50.0,89.0,48.27771,71.0,81.0,91.0,78.0,58.0,82.0,87.0,72.0,68.0,90.0,73.0,49.0,85.0,71.0,71.0,49.0,72.0,76.0,79.0,65.0,50.0,65.18036,68.0,70.0,39.40744,75.0,68.0,65.42621,54.0,70.0,72.49786,68.0,72.0,75.0,55.0,78.0,76.0,89.0,56.889175,62.074814,68.0,71.0,59.0,59.0,45.63475,55.0,60.0,74.0,51.0,83.0,67.0,55.0,69.0,71.0,52.0,59.0,84.0,82.0,55.0,62.0,61.0,32.157898,66.0,75.0,75.0,81.0,69.0,66.0,58.0,66.0,82.0,74.0,67.0,82.0,68.0,86.0,71.0,57.0,38.278442,70.0,71.46265,74.0,59.0,73.0,66.0,64.0,65.22565,55.0,60.0,78.0,74.0,44.04315,69.0,67.0,66.0,61.0,63.0,70.0,71.0,71.0,67.0,53.0,97.0,70.0,87.0,61.0,31.0,69.0,70.92566,56.0,65.0,67.0,62.0,67.0,76.0,73.0,65.92441,60.0,41.206085,81.0,67.0,71.0,74.0,60.0,69.0,68.0,76.0,70.0,52.0,38.17816,64.0,73.0,73.0,66.0,73.0,73.0,49.0,57.0,48.0,69.0,69.0,75.0,68.0,62.0,67.0,66.0,72.0,67.0,67.0,59.0,65.0,65.0,73.0,74.0,71.0,72.0,58.0,80.0,73.0,67.0,62.0,75.0,51.0,48.0,69.0,60.0,89.0,67.0,65.30328,67.0,63.0,69.0,79.0,67.0,79.0,55.0,71.0,68.0,88.0,66.0,68.0,78.0,73.0],\"yaxis\":\"y\",\"type\":\"scatter\"},{\"line\":{\"color\":\"green\"},\"name\":\"Linear model\",\"x\":[4.0,28.0,34.0,39.0,46.0,54.0,72.0,75.0,86.0,95.0,99.0,104.0,113.0,128.0,146.0,193.0,197.0,206.0,235.0,236.0,243.0,260.0,268.0,285.0,291.0,307.0,308.0,318.0,355.0,358.0,361.0,364.0,386.0,389.0,403.0,411.0,414.0,415.0,416.0,417.0,428.0,443.0,444.0,450.0,459.0,486.0,488.0,496.0,520.0,556.0,559.0,585.0,591.0,596.0,598.0,603.0,637.0,650.0,684.0,688.0,701.0,712.0,716.0,717.0,723.0,726.0,739.0,743.0,744.0,748.0,750.0,763.0,780.0,784.0,790.0,795.0,804.0,807.0,822.0,836.0,845.0,867.0,874.0,876.0,885.0,895.0,932.0,938.0,961.0,965.0,969.0,978.0,979.0,984.0,995.0,1007.0,1020.0,1025.0,1031.0,1034.0,1041.0,1044.0,1069.0,1112.0,1119.0,1120.0,1124.0,1125.0,1141.0,1150.0,1156.0,1164.0,1168.0,1200.0,1201.0,1208.0,1216.0,1241.0,1243.0,1246.0,1250.0,1251.0,1252.0,1272.0,1303.0,1312.0,1331.0,1337.0,1341.0,1380.0,1387.0,1390.0,1403.0,1414.0,1420.0,1421.0,1445.0,1450.0,1464.0,1478.0,1482.0,1505.0,1509.0,1521.0,1526.0,1537.0,1543.0,1551.0,1562.0,1565.0,1567.0,1572.0,1589.0,1621.0,1641.0,1653.0,1664.0,1665.0,1679.0,1700.0,1718.0,1724.0,1739.0,1744.0,1754.0,1756.0,1763.0,1769.0,1770.0,1780.0,1785.0,1797.0,1805.0,1806.0,1813.0,1817.0,1830.0,1833.0,1837.0,1853.0,1870.0,1877.0,1884.0,1885.0,1886.0,1891.0,1899.0,1916.0,1917.0,1926.0,1927.0,1966.0,1975.0,1984.0,1987.0,1988.0,1991.0,1994.0,1995.0,1998.0,2009.0,2011.0,2013.0,2028.0,2031.0,2046.0,2049.0,2058.0,2061.0,2067.0,2074.0,2080.0,2091.0,2131.0,2144.0,2151.0,2164.0,2221.0,2226.0,2228.0,2229.0,2230.0,2237.0,2238.0,2248.0,2259.0,2260.0,2261.0,2272.0,2288.0,2293.0,2301.0,2304.0,2306.0,2314.0,2332.0,2336.0,2355.0,2370.0,2374.0,2383.0,2393.0,2402.0,2426.0,2436.0,2450.0,2457.0,2462.0,2466.0,2484.0,2485.0,2508.0,2516.0],\"y\":[74.06331448488308,75.10720928876944,73.90962755201289,66.62730479660203,73.29488964869924,71.90619808316805,65.25733295713107,66.35448005755424,57.77253346731923,64.23384028857944,66.29794341445049,65.9840102410304,60.954713012229696,67.63604025235654,66.83525813658306,73.90367009051224,73.00475758157663,64.91962974819725,68.10745847760663,68.28287206633794,70.80013465877673,69.03028080282056,73.4549667243842,79.21992081445896,71.399232373427,79.11285567325794,77.46128167273818,75.74292929258044,80.13591960912126,74.96805929896763,75.86423221011464,66.95072556669729,70.84507274063034,73.99519505886528,79.80580320286353,61.051614890500424,67.82508866462703,71.71511100449388,74.70995240483134,76.46859153912337,72.86839885210756,59.56126692557118,62.811874306600295,74.08279129995171,54.01805030374053,56.61401298593373,61.06909987246727,67.20351567326688,70.57110114466886,62.68795914961047,69.75423845128498,78.47209175867428,73.45887740069847,72.44212221050074,69.735761514377,63.8224130613522,72.79765262341934,55.499113643152306,66.43522575955976,71.21051610679532,64.44659828616531,72.27620771168549,72.69788819130153,72.4956547812977,71.15437129823803,68.97603559100352,67.5617506457198,62.70318888872098,62.54358313688099,66.64241896999701,71.48115483285764,68.45693158892354,71.62588783936334,73.49690891062309,79.82860497249166,65.01166282616722,74.56719666414537,77.23723845124877,75.82917657736797,68.21207050938355,81.7861446541352,70.64026622501805,70.71064880971934,72.60807584562244,60.67963058770656,57.63386885983309,65.57090706433482,62.99900943662906,58.42694446277128,66.61244794490594,67.67317975233127,65.2933312687961,64.7927042031948,59.26300472405965,71.01994736211017,57.760131572270986,70.81771395326322,74.57525714774928,70.80419680566374,66.28133957170903,70.40135025852177,68.81421373543671,72.06482112030753,68.68533878199341,76.85534120041083,76.39734179663319,70.856737419817,69.92983371341651,73.17314038476579,73.39357941519083,76.40590579270756,73.07698014934394,76.09894815404513,60.072930346541035,57.53176351635884,64.9341043400851,70.98362845370102,77.7723319592038,73.6592583436719,67.89461073833772,63.85156271886044,64.24611660129412,69.41496887089997,57.43001516573677,62.706560897167584,72.21983071346003,67.60973423152572,71.59132065593403,65.66706729694087,69.32574570806864,63.85489559056405,60.77579082344855,69.48535145619789,60.477397172893326,65.15220245523923,67.5928842160425,74.92484245617342,70.49751048848665,57.55789815747594,74.32940411112904,64.65391630522171,69.38027023649155,60.855729362388594,67.46004143000718,72.1183536868044,65.03423240828087,64.96582709415051,70.80780100665251,57.20164710717618,62.60544751018424,57.0797092265344,63.86940469247893,64.86471371104525,64.73461460860526,63.326909731636626,52.97136322031984,56.28244024219712,57.57217507228743,50.7765344953692,55.60337349207803,68.3688709729391,56.71169275951943,66.71630501569561,67.2823615102021,56.350845551940075,61.1043260885268,66.29002837346306,66.09969182001768,64.7038838104705,62.76680499116592,63.58267571969882,68.9993649438471,73.17885995507058,74.12757346707767,69.76467898230439,72.83486276224684,74.08494580231454,68.18646344522094,70.78774292443958,65.76164638806185,57.92707716885307,65.29274208387469,64.34006072479642,65.24614658120808,66.8342750644002,60.83567127674869,62.50013410099891,59.994022900536585,58.81135320942085,60.998252909251825,54.99270541141559,61.50780096041817,67.39735568452997,71.28936194381058,64.9279270364419,61.31548049225203,56.104992517306165,66.24046363860506,68.34012408784437,73.23239251955928,65.33239386944442,64.07537375523643,59.40814050638401,67.92078451844972,68.33714821316207,70.80261566454246,66.86500586101428,64.78913914004042,56.76522533222997,61.434442498458885,66.79065543784199,68.51856377223848,60.07035724236594,58.32063909227109,64.2111857761989,68.93393551266453,61.487975065101274,70.02044496571725,65.3432987743723,62.12540610964752,58.129310582167456,56.904013229970225,74.96922184595277,75.70479704614226,70.43680865871974,61.47707015874003,65.75074148050007,69.08660419236512,68.77432975747033,63.31600482922622,72.9617537940936,71.68490779069506,69.15996265508838,70.71636837776859,70.03035791104739,74.95831694216722,65.83278874473726,54.78627861335517,58.780390218925824,49.19015774343607,57.72262764703883,57.10700641349795,50.55523495826092,60.3169700475115,67.75202558704731,50.001075323754414,62.476108176502386,65.5145691997528,55.199666432621235,59.013354435599105,61.15564255337049,61.65626961538474,58.674317042721306],\"type\":\"scatter\",\"marker\":{\"size\":3}},{\"line\":{\"color\":\"red\"},\"name\":\"RBF model\",\"x\":[4.0,28.0,34.0,39.0,46.0,54.0,72.0,75.0,86.0,95.0,99.0,104.0,113.0,128.0,146.0,193.0,197.0,206.0,235.0,236.0,243.0,260.0,268.0,285.0,291.0,307.0,308.0,318.0,355.0,358.0,361.0,364.0,386.0,389.0,403.0,411.0,414.0,415.0,416.0,417.0,428.0,443.0,444.0,450.0,459.0,486.0,488.0,496.0,520.0,556.0,559.0,585.0,591.0,596.0,598.0,603.0,637.0,650.0,684.0,688.0,701.0,712.0,716.0,717.0,723.0,726.0,739.0,743.0,744.0,748.0,750.0,763.0,780.0,784.0,790.0,795.0,804.0,807.0,822.0,836.0,845.0,867.0,874.0,876.0,885.0,895.0,932.0,938.0,961.0,965.0,969.0,978.0,979.0,984.0,995.0,1007.0,1020.0,1025.0,1031.0,1034.0,1041.0,1044.0,1069.0,1112.0,1119.0,1120.0,1124.0,1125.0,1141.0,1150.0,1156.0,1164.0,1168.0,1200.0,1201.0,1208.0,1216.0,1241.0,1243.0,1246.0,1250.0,1251.0,1252.0,1272.0,1303.0,1312.0,1331.0,1337.0,1341.0,1380.0,1387.0,1390.0,1403.0,1414.0,1420.0,1421.0,1445.0,1450.0,1464.0,1478.0,1482.0,1505.0,1509.0,1521.0,1526.0,1537.0,1543.0,1551.0,1562.0,1565.0,1567.0,1572.0,1589.0,1621.0,1641.0,1653.0,1664.0,1665.0,1679.0,1700.0,1718.0,1724.0,1739.0,1744.0,1754.0,1756.0,1763.0,1769.0,1770.0,1780.0,1785.0,1797.0,1805.0,1806.0,1813.0,1817.0,1830.0,1833.0,1837.0,1853.0,1870.0,1877.0,1884.0,1885.0,1886.0,1891.0,1899.0,1916.0,1917.0,1926.0,1927.0,1966.0,1975.0,1984.0,1987.0,1988.0,1991.0,1994.0,1995.0,1998.0,2009.0,2011.0,2013.0,2028.0,2031.0,2046.0,2049.0,2058.0,2061.0,2067.0,2074.0,2080.0,2091.0,2131.0,2144.0,2151.0,2164.0,2221.0,2226.0,2228.0,2229.0,2230.0,2237.0,2238.0,2248.0,2259.0,2260.0,2261.0,2272.0,2288.0,2293.0,2301.0,2304.0,2306.0,2314.0,2332.0,2336.0,2355.0,2370.0,2374.0,2383.0,2393.0,2402.0,2426.0,2436.0,2450.0,2457.0,2462.0,2466.0,2484.0,2485.0,2508.0,2516.0],\"y\":[53.383273279571675,60.54256775525938,66.10832108046037,68.23785313181737,68.99751119320779,60.835426179183585,38.88540130034882,40.725744450363976,31.89004691463387,38.676408209153266,41.16511043769776,40.95704791709228,40.8329931616327,45.455245545659174,74.28007644349205,78.37187683591428,73.93320762999171,62.70142577206374,58.15432137626406,55.59506912901072,58.423533802006915,61.70886848882334,68.32078098242145,84.11265584357577,62.77238351826206,80.10503560520476,80.01588281428906,72.65655526882148,81.98408449776083,80.46446745136194,71.52194828415529,70.22688407476836,58.33133277680306,77.0857956670599,84.51479875633049,72.16474186001356,68.57697609582132,69.61287944263253,78.80411703055988,73.97660268503725,79.50575906278686,51.49328530276765,60.352578529926745,78.94649491264066,52.83520174287224,46.43824652573076,49.0952097242957,58.02099168597511,56.71299398663541,58.807097700262325,61.84797042144699,73.74202874668282,80.19907915545963,76.70450169452448,75.94873434918955,58.68813136479603,76.7928853661577,41.65230187172673,62.76935060629172,45.299920590391146,70.44687530354435,66.12809769063703,78.54002160496827,75.68000730453755,54.24570239160789,67.59595541415557,62.73800111939168,56.252797751644316,64.95774246039055,64.38481701435573,66.727282940561,71.97940155871171,64.13863508486908,79.56187656561303,83.68141467779175,68.99284582449366,80.42803122447066,80.67718735533762,75.75205523157513,70.54772781358186,80.27152163875368,75.34319380619539,78.75838026535715,79.85957562617372,60.509961681585054,54.51682745069926,67.66586065515524,72.85365085192416,66.18766775626204,64.35746558724934,74.58798444828605,61.100374750199,62.764565273138345,58.39308207400142,78.11881002697302,63.689577309274874,76.02043136140145,77.0810114420054,72.07458980257661,62.91061305316313,80.51855188346067,67.01844217543857,75.91216072068725,76.84687818331703,84.13055912466652,85.17896216617382,75.14082126441228,73.61341846822067,79.28502791953,75.51153770377478,80.48198423428164,80.05293813008387,83.15152219369637,61.277138705683385,66.24057961180071,69.3960154818318,70.41125048308773,81.64610155318206,80.49046951133539,71.44362691595333,71.9820457502332,69.5238486122479,72.75901207201751,60.42514687942495,68.68175822200931,72.25732142908123,63.68256176209915,74.12898583989953,70.2637760273558,71.83669198153206,62.35202749750258,63.70072143514105,72.62451614121882,63.90382508568213,67.31122026177587,63.08317847500976,76.08038561430034,78.52696238911881,61.62550717199579,74.7570710991027,56.71286787615604,75.27389654025077,67.6517274653049,74.85850770360602,69.55466891498381,76.25192796014801,77.03969867616706,69.10449256996645,63.63318633800293,59.243523801244194,55.907656364009746,57.328452847799554,57.13721311166162,51.987145048464185,61.43002357483556,52.57436783991873,52.79077324925635,54.400936763298624,54.54903197467233,61.82145646901765,64.34823537465385,61.784944609316454,64.51750133522623,61.09501359375581,61.69673312082827,60.08905658768511,65.05428711419371,67.64083583525903,69.63285093640268,64.64393719840896,62.109862636953615,68.35478173973783,67.88474213271942,69.61543026365158,67.60439032247139,68.56517518832273,69.61775356805018,67.97056987975407,67.24847478048018,65.75159207373919,66.15922199503045,65.32711516154195,52.5337695327361,49.64837977273935,57.79076390336885,62.9994467721066,70.44092370233224,65.99755251433513,67.20040833293983,52.352825977132554,50.99521372896081,67.8776861536008,69.05271629873367,66.47155921116246,69.50485954950595,65.53187381536534,65.70796744900765,68.92861464010453,68.42900540054713,68.7088870574486,62.830792304521,68.53743275648111,69.11083272637205,65.78931449519311,64.25574272291983,69.9993925136984,69.12577108440091,69.6743882778226,64.78430854660587,67.67068952125653,67.15639773292327,65.34538998791726,65.59018035481681,61.83070688236032,66.8794280140257,64.38407611433043,59.86419758330099,67.52899361601652,69.81539957203255,69.7833590077594,63.146406431654434,67.75244537420055,66.79096399423456,67.83410239492116,67.07969655136755,67.77969599032983,66.79072925267471,69.0428001707071,65.15133249070425,63.676634399346526,63.665961046639495,66.36421422616912,68.8162397338782,70.04178312929905,71.50118438588808,66.65545935616414,56.328214292766255,55.12920299235121,56.72683895399194,54.788946547164734,54.346426042865005,53.00180377661886,49.907981427001474,61.27525614976934,62.631236057330455,51.19567581988924,55.33033961987592,62.575618718179534,59.55361549951055,48.51234547865489,50.312158508473665,47.03207045374326,59.72239748956121],\"type\":\"scatter\",\"marker\":{\"size\":3}},{\"line\":{\"color\":\"blue\"},\"name\":\"Polynomial model\",\"x\":[4.0,28.0,34.0,39.0,46.0,54.0,72.0,75.0,86.0,95.0,99.0,104.0,113.0,128.0,146.0,193.0,197.0,206.0,235.0,236.0,243.0,260.0,268.0,285.0,291.0,307.0,308.0,318.0,355.0,358.0,361.0,364.0,386.0,389.0,403.0,411.0,414.0,415.0,416.0,417.0,428.0,443.0,444.0,450.0,459.0,486.0,488.0,496.0,520.0,556.0,559.0,585.0,591.0,596.0,598.0,603.0,637.0,650.0,684.0,688.0,701.0,712.0,716.0,717.0,723.0,726.0,739.0,743.0,744.0,748.0,750.0,763.0,780.0,784.0,790.0,795.0,804.0,807.0,822.0,836.0,845.0,867.0,874.0,876.0,885.0,895.0,932.0,938.0,961.0,965.0,969.0,978.0,979.0,984.0,995.0,1007.0,1020.0,1025.0,1031.0,1034.0,1041.0,1044.0,1069.0,1112.0,1119.0,1120.0,1124.0,1125.0,1141.0,1150.0,1156.0,1164.0,1168.0,1200.0,1201.0,1208.0,1216.0,1241.0,1243.0,1246.0,1250.0,1251.0,1252.0,1272.0,1303.0,1312.0,1331.0,1337.0,1341.0,1380.0,1387.0,1390.0,1403.0,1414.0,1420.0,1421.0,1445.0,1450.0,1464.0,1478.0,1482.0,1505.0,1509.0,1521.0,1526.0,1537.0,1543.0,1551.0,1562.0,1565.0,1567.0,1572.0,1589.0,1621.0,1641.0,1653.0,1664.0,1665.0,1679.0,1700.0,1718.0,1724.0,1739.0,1744.0,1754.0,1756.0,1763.0,1769.0,1770.0,1780.0,1785.0,1797.0,1805.0,1806.0,1813.0,1817.0,1830.0,1833.0,1837.0,1853.0,1870.0,1877.0,1884.0,1885.0,1886.0,1891.0,1899.0,1916.0,1917.0,1926.0,1927.0,1966.0,1975.0,1984.0,1987.0,1988.0,1991.0,1994.0,1995.0,1998.0,2009.0,2011.0,2013.0,2028.0,2031.0,2046.0,2049.0,2058.0,2061.0,2067.0,2074.0,2080.0,2091.0,2131.0,2144.0,2151.0,2164.0,2221.0,2226.0,2228.0,2229.0,2230.0,2237.0,2238.0,2248.0,2259.0,2260.0,2261.0,2272.0,2288.0,2293.0,2301.0,2304.0,2306.0,2314.0,2332.0,2336.0,2355.0,2370.0,2374.0,2383.0,2393.0,2402.0,2426.0,2436.0,2450.0,2457.0,2462.0,2466.0,2484.0,2485.0,2508.0,2516.0],\"y\":[69.63501803853428,70.90359668334543,70.90350530403462,64.87768486916872,69.49191287226093,68.99259989048863,61.59755861994734,62.2831820431299,58.19701115661026,60.92429141066022,62.2412152010527,63.1086817175807,60.00057204551968,64.48205354658131,63.305901431502,71.07739537386144,71.71709038262404,63.87705326357538,64.98130750436911,65.07709325659417,67.13989879246581,65.86111554321712,70.134906620762,79.6107853479958,67.80638965379526,79.84823931166353,76.97412640115112,75.39077727424235,81.59110040174433,72.94010612583484,73.58584783810339,64.80617116787795,67.18916181734582,72.9142603897929,80.80523479540628,59.275388017839674,65.5392903000477,69.73830912207194,73.48631418296273,75.83917763780163,70.26881884744799,59.32966838952791,61.92858807012553,72.17194507608761,57.125862712849035,58.09755617475521,60.206961780088825,66.03209958631508,70.12148751276807,61.229561031704165,67.4798885147664,78.89241741841738,74.33192803594386,69.72655767404639,66.3445582222803,60.918718411276174,73.69971364729915,57.251242120651156,65.58773653067593,70.973079477998,62.54676904743481,72.44568020249201,70.0506356393087,69.66706999606535,67.43916126789523,66.72045913602052,64.13936660325628,60.19669293510596,60.10431340812475,64.35872336025771,69.2609111140589,65.01381978873864,71.6922785320485,71.22942707860238,79.60985686826162,62.979026143639885,76.02358090153777,76.81241008093481,74.91429053761965,64.69825075124221,84.67345864637053,69.61813966867885,71.79833458104667,74.30905957548572,59.04326615134231,57.926435920108275,62.78853575399394,61.80420157779311,58.668900483380504,64.97646103924035,67.79515864093335,62.6171636956488,62.12854764780376,58.35221193285503,72.09578513859188,57.610616621454525,71.65628030560512,73.82605488418986,68.08441433887742,64.78257999659263,71.50268448553425,68.91056749275003,73.32631360810689,69.25212085076303,77.70415636477045,76.78537278195809,68.43224941012943,67.23628637394168,75.01477193805017,71.47136462318045,77.62879863864644,75.03489779471707,76.3125841540126,58.77415763004291,58.1960826665397,64.60155061874374,69.01963537084956,78.84127566277823,72.22274530259743,64.94170065785542,62.51706626991175,62.837911270750375,68.05400239806829,57.539328763107335,62.2979681209259,70.6414900085768,67.4835881300802,69.68598209930579,62.83731586331601,69.58922262272617,61.33049288578692,59.122345425760074,69.93589972537077,58.943316349167425,63.62232466397794,65.97417231790843,75.22235497545368,71.4915291341056,57.58964784849808,73.92770610205503,62.041382399198106,69.05811780563852,60.17323173267971,67.52389005426693,73.25090095962013,63.61224601940435,64.7306606634547,71.22098637817723,58.08712675170926,61.48484046738609,57.54030340151537,63.141347627372525,63.3377410112666,64.4591146345147,63.148541826835334,55.56834719280287,56.744306450455234,57.706678335599726,55.12802352078181,56.69044915555586,68.91828322722836,57.32062385376097,67.05266840876799,67.29250661066132,57.43964968094319,60.56211325773053,66.50795277615217,65.75879596821125,64.10310464690767,61.919136388266594,63.43547796839436,69.03683495358727,73.9858686821805,75.27521244637659,70.9923158221876,75.07554331499989,75.21096393360489,69.25632150987904,72.50268341099311,64.73862440799176,58.156304960875815,64.26245489787226,64.07911689630012,65.05573482036633,66.91091943907144,60.305251131393504,61.6906929004364,59.60948034554278,58.731175658859044,60.52468817690636,55.85332796265875,60.85817337542906,68.40858296916352,72.83841337698419,64.29239174231247,60.70935208367486,57.12661980828059,65.36646799041617,67.71759857986744,73.94837160676266,64.86618789052213,63.38075065905607,59.16701998130038,68.53565374682398,68.7666164136378,70.5838328294096,67.45834259897984,64.19646449211855,57.39541587618322,60.80667976286843,67.252876416594,68.90304357217363,59.77232709395672,58.34207371971142,64.23807383232247,69.57664358587814,60.86088663044238,71.36415339488636,64.81369323855198,61.43408376326963,58.25864263735676,57.5224463448113,76.70132538600117,77.72732019910833,71.57957765591449,60.84076154959201,64.76135130029132,68.48497430782842,69.24744708024784,63.207385410301185,75.91601353005149,72.76710966248342,68.97131781740421,70.83937710862182,71.79200170438386,76.823088073626,66.7789519736719,56.356597063595004,58.579800357484245,53.77414564948179,57.66383908650988,57.234744426380175,54.63867449100313,59.98977910697218,69.03695087719345,54.502521334721145,62.47301556986526,65.82176890508592,55.964218291912886,58.7801954859573,60.84708227923743,61.4098511627479,58.52376288731464],\"type\":\"scatter\",\"marker\":{\"size\":3}}],                        {\"template\":{\"data\":{\"bar\":[{\"error_x\":{\"color\":\"#2a3f5f\"},\"error_y\":{\"color\":\"#2a3f5f\"},\"marker\":{\"line\":{\"color\":\"#E5ECF6\",\"width\":0.5},\"pattern\":{\"fillmode\":\"overlay\",\"size\":10,\"solidity\":0.2}},\"type\":\"bar\"}],\"barpolar\":[{\"marker\":{\"line\":{\"color\":\"#E5ECF6\",\"width\":0.5},\"pattern\":{\"fillmode\":\"overlay\",\"size\":10,\"solidity\":0.2}},\"type\":\"barpolar\"}],\"carpet\":[{\"aaxis\":{\"endlinecolor\":\"#2a3f5f\",\"gridcolor\":\"white\",\"linecolor\":\"white\",\"minorgridcolor\":\"white\",\"startlinecolor\":\"#2a3f5f\"},\"baxis\":{\"endlinecolor\":\"#2a3f5f\",\"gridcolor\":\"white\",\"linecolor\":\"white\",\"minorgridcolor\":\"white\",\"startlinecolor\":\"#2a3f5f\"},\"type\":\"carpet\"}],\"choropleth\":[{\"colorbar\":{\"outlinewidth\":0,\"ticks\":\"\"},\"type\":\"choropleth\"}],\"contour\":[{\"colorbar\":{\"outlinewidth\":0,\"ticks\":\"\"},\"colorscale\":[[0.0,\"#0d0887\"],[0.1111111111111111,\"#46039f\"],[0.2222222222222222,\"#7201a8\"],[0.3333333333333333,\"#9c179e\"],[0.4444444444444444,\"#bd3786\"],[0.5555555555555556,\"#d8576b\"],[0.6666666666666666,\"#ed7953\"],[0.7777777777777778,\"#fb9f3a\"],[0.8888888888888888,\"#fdca26\"],[1.0,\"#f0f921\"]],\"type\":\"contour\"}],\"contourcarpet\":[{\"colorbar\":{\"outlinewidth\":0,\"ticks\":\"\"},\"type\":\"contourcarpet\"}],\"heatmap\":[{\"colorbar\":{\"outlinewidth\":0,\"ticks\":\"\"},\"colorscale\":[[0.0,\"#0d0887\"],[0.1111111111111111,\"#46039f\"],[0.2222222222222222,\"#7201a8\"],[0.3333333333333333,\"#9c179e\"],[0.4444444444444444,\"#bd3786\"],[0.5555555555555556,\"#d8576b\"],[0.6666666666666666,\"#ed7953\"],[0.7777777777777778,\"#fb9f3a\"],[0.8888888888888888,\"#fdca26\"],[1.0,\"#f0f921\"]],\"type\":\"heatmap\"}],\"heatmapgl\":[{\"colorbar\":{\"outlinewidth\":0,\"ticks\":\"\"},\"colorscale\":[[0.0,\"#0d0887\"],[0.1111111111111111,\"#46039f\"],[0.2222222222222222,\"#7201a8\"],[0.3333333333333333,\"#9c179e\"],[0.4444444444444444,\"#bd3786\"],[0.5555555555555556,\"#d8576b\"],[0.6666666666666666,\"#ed7953\"],[0.7777777777777778,\"#fb9f3a\"],[0.8888888888888888,\"#fdca26\"],[1.0,\"#f0f921\"]],\"type\":\"heatmapgl\"}],\"histogram\":[{\"marker\":{\"pattern\":{\"fillmode\":\"overlay\",\"size\":10,\"solidity\":0.2}},\"type\":\"histogram\"}],\"histogram2d\":[{\"colorbar\":{\"outlinewidth\":0,\"ticks\":\"\"},\"colorscale\":[[0.0,\"#0d0887\"],[0.1111111111111111,\"#46039f\"],[0.2222222222222222,\"#7201a8\"],[0.3333333333333333,\"#9c179e\"],[0.4444444444444444,\"#bd3786\"],[0.5555555555555556,\"#d8576b\"],[0.6666666666666666,\"#ed7953\"],[0.7777777777777778,\"#fb9f3a\"],[0.8888888888888888,\"#fdca26\"],[1.0,\"#f0f921\"]],\"type\":\"histogram2d\"}],\"histogram2dcontour\":[{\"colorbar\":{\"outlinewidth\":0,\"ticks\":\"\"},\"colorscale\":[[0.0,\"#0d0887\"],[0.1111111111111111,\"#46039f\"],[0.2222222222222222,\"#7201a8\"],[0.3333333333333333,\"#9c179e\"],[0.4444444444444444,\"#bd3786\"],[0.5555555555555556,\"#d8576b\"],[0.6666666666666666,\"#ed7953\"],[0.7777777777777778,\"#fb9f3a\"],[0.8888888888888888,\"#fdca26\"],[1.0,\"#f0f921\"]],\"type\":\"histogram2dcontour\"}],\"mesh3d\":[{\"colorbar\":{\"outlinewidth\":0,\"ticks\":\"\"},\"type\":\"mesh3d\"}],\"parcoords\":[{\"line\":{\"colorbar\":{\"outlinewidth\":0,\"ticks\":\"\"}},\"type\":\"parcoords\"}],\"pie\":[{\"automargin\":true,\"type\":\"pie\"}],\"scatter\":[{\"marker\":{\"colorbar\":{\"outlinewidth\":0,\"ticks\":\"\"}},\"type\":\"scatter\"}],\"scatter3d\":[{\"line\":{\"colorbar\":{\"outlinewidth\":0,\"ticks\":\"\"}},\"marker\":{\"colorbar\":{\"outlinewidth\":0,\"ticks\":\"\"}},\"type\":\"scatter3d\"}],\"scattercarpet\":[{\"marker\":{\"colorbar\":{\"outlinewidth\":0,\"ticks\":\"\"}},\"type\":\"scattercarpet\"}],\"scattergeo\":[{\"marker\":{\"colorbar\":{\"outlinewidth\":0,\"ticks\":\"\"}},\"type\":\"scattergeo\"}],\"scattergl\":[{\"marker\":{\"colorbar\":{\"outlinewidth\":0,\"ticks\":\"\"}},\"type\":\"scattergl\"}],\"scattermapbox\":[{\"marker\":{\"colorbar\":{\"outlinewidth\":0,\"ticks\":\"\"}},\"type\":\"scattermapbox\"}],\"scatterpolar\":[{\"marker\":{\"colorbar\":{\"outlinewidth\":0,\"ticks\":\"\"}},\"type\":\"scatterpolar\"}],\"scatterpolargl\":[{\"marker\":{\"colorbar\":{\"outlinewidth\":0,\"ticks\":\"\"}},\"type\":\"scatterpolargl\"}],\"scatterternary\":[{\"marker\":{\"colorbar\":{\"outlinewidth\":0,\"ticks\":\"\"}},\"type\":\"scatterternary\"}],\"surface\":[{\"colorbar\":{\"outlinewidth\":0,\"ticks\":\"\"},\"colorscale\":[[0.0,\"#0d0887\"],[0.1111111111111111,\"#46039f\"],[0.2222222222222222,\"#7201a8\"],[0.3333333333333333,\"#9c179e\"],[0.4444444444444444,\"#bd3786\"],[0.5555555555555556,\"#d8576b\"],[0.6666666666666666,\"#ed7953\"],[0.7777777777777778,\"#fb9f3a\"],[0.8888888888888888,\"#fdca26\"],[1.0,\"#f0f921\"]],\"type\":\"surface\"}],\"table\":[{\"cells\":{\"fill\":{\"color\":\"#EBF0F8\"},\"line\":{\"color\":\"white\"}},\"header\":{\"fill\":{\"color\":\"#C8D4E3\"},\"line\":{\"color\":\"white\"}},\"type\":\"table\"}]},\"layout\":{\"annotationdefaults\":{\"arrowcolor\":\"#2a3f5f\",\"arrowhead\":0,\"arrowwidth\":1},\"autotypenumbers\":\"strict\",\"coloraxis\":{\"colorbar\":{\"outlinewidth\":0,\"ticks\":\"\"}},\"colorscale\":{\"diverging\":[[0,\"#8e0152\"],[0.1,\"#c51b7d\"],[0.2,\"#de77ae\"],[0.3,\"#f1b6da\"],[0.4,\"#fde0ef\"],[0.5,\"#f7f7f7\"],[0.6,\"#e6f5d0\"],[0.7,\"#b8e186\"],[0.8,\"#7fbc41\"],[0.9,\"#4d9221\"],[1,\"#276419\"]],\"sequential\":[[0.0,\"#0d0887\"],[0.1111111111111111,\"#46039f\"],[0.2222222222222222,\"#7201a8\"],[0.3333333333333333,\"#9c179e\"],[0.4444444444444444,\"#bd3786\"],[0.5555555555555556,\"#d8576b\"],[0.6666666666666666,\"#ed7953\"],[0.7777777777777778,\"#fb9f3a\"],[0.8888888888888888,\"#fdca26\"],[1.0,\"#f0f921\"]],\"sequentialminus\":[[0.0,\"#0d0887\"],[0.1111111111111111,\"#46039f\"],[0.2222222222222222,\"#7201a8\"],[0.3333333333333333,\"#9c179e\"],[0.4444444444444444,\"#bd3786\"],[0.5555555555555556,\"#d8576b\"],[0.6666666666666666,\"#ed7953\"],[0.7777777777777778,\"#fb9f3a\"],[0.8888888888888888,\"#fdca26\"],[1.0,\"#f0f921\"]]},\"colorway\":[\"#636efa\",\"#EF553B\",\"#00cc96\",\"#ab63fa\",\"#FFA15A\",\"#19d3f3\",\"#FF6692\",\"#B6E880\",\"#FF97FF\",\"#FECB52\"],\"font\":{\"color\":\"#2a3f5f\"},\"geo\":{\"bgcolor\":\"white\",\"lakecolor\":\"white\",\"landcolor\":\"#E5ECF6\",\"showlakes\":true,\"showland\":true,\"subunitcolor\":\"white\"},\"hoverlabel\":{\"align\":\"left\"},\"hovermode\":\"closest\",\"mapbox\":{\"style\":\"light\"},\"paper_bgcolor\":\"white\",\"plot_bgcolor\":\"#E5ECF6\",\"polar\":{\"angularaxis\":{\"gridcolor\":\"white\",\"linecolor\":\"white\",\"ticks\":\"\"},\"bgcolor\":\"#E5ECF6\",\"radialaxis\":{\"gridcolor\":\"white\",\"linecolor\":\"white\",\"ticks\":\"\"}},\"scene\":{\"xaxis\":{\"backgroundcolor\":\"#E5ECF6\",\"gridcolor\":\"white\",\"gridwidth\":2,\"linecolor\":\"white\",\"showbackground\":true,\"ticks\":\"\",\"zerolinecolor\":\"white\"},\"yaxis\":{\"backgroundcolor\":\"#E5ECF6\",\"gridcolor\":\"white\",\"gridwidth\":2,\"linecolor\":\"white\",\"showbackground\":true,\"ticks\":\"\",\"zerolinecolor\":\"white\"},\"zaxis\":{\"backgroundcolor\":\"#E5ECF6\",\"gridcolor\":\"white\",\"gridwidth\":2,\"linecolor\":\"white\",\"showbackground\":true,\"ticks\":\"\",\"zerolinecolor\":\"white\"}},\"shapedefaults\":{\"line\":{\"color\":\"#2a3f5f\"}},\"ternary\":{\"aaxis\":{\"gridcolor\":\"white\",\"linecolor\":\"white\",\"ticks\":\"\"},\"baxis\":{\"gridcolor\":\"white\",\"linecolor\":\"white\",\"ticks\":\"\"},\"bgcolor\":\"#E5ECF6\",\"caxis\":{\"gridcolor\":\"white\",\"linecolor\":\"white\",\"ticks\":\"\"}},\"title\":{\"x\":0.05},\"xaxis\":{\"automargin\":true,\"gridcolor\":\"white\",\"linecolor\":\"white\",\"ticks\":\"\",\"title\":{\"standoff\":15},\"zerolinecolor\":\"white\",\"zerolinewidth\":2},\"yaxis\":{\"automargin\":true,\"gridcolor\":\"white\",\"linecolor\":\"white\",\"ticks\":\"\",\"title\":{\"standoff\":15},\"zerolinecolor\":\"white\",\"zerolinewidth\":2}}},\"xaxis\":{\"anchor\":\"y\",\"domain\":[0.0,1.0],\"title\":{\"text\":\"x\"},\"showgrid\":true,\"gridwidth\":1,\"gridcolor\":\"lightgrey\",\"zeroline\":true,\"zerolinewidth\":1,\"zerolinecolor\":\"lightgrey\",\"showline\":true,\"linewidth\":1,\"linecolor\":\"black\"},\"yaxis\":{\"anchor\":\"x\",\"domain\":[0.0,1.0],\"title\":{\"text\":\"y\"},\"showgrid\":true,\"gridwidth\":1,\"gridcolor\":\"lightgrey\",\"zeroline\":true,\"zerolinewidth\":1,\"zerolinecolor\":\"lightgrey\",\"showline\":true,\"linewidth\":1,\"linecolor\":\"black\"},\"legend\":{\"tracegroupgap\":0},\"margin\":{\"t\":60},\"plot_bgcolor\":\"white\"},                        {\"responsive\": true}                    ).then(function(){\n                            \nvar gd = document.getElementById('850b0d9b-def3-4d75-ac77-d85c113edef4');\nvar x = new MutationObserver(function (mutations, observer) {{\n        var display = window.getComputedStyle(gd).display;\n        if (!display || display === 'none') {{\n            console.log([gd, 'removed!']);\n            Plotly.purge(gd);\n            observer.disconnect();\n        }}\n}});\n\n// Listen for the removal of the full notebook cells\nvar notebookContainer = gd.closest('#notebook-container');\nif (notebookContainer) {{\n    x.observe(notebookContainer, {childList: true});\n}}\n\n// Listen for the clearing of the current output cell\nvar outputEl = gd.closest('.output');\nif (outputEl) {{\n    x.observe(outputEl, {childList: true});\n}}\n\n                        })                };                            </script>        </div>\n</body>\n</html>"
     },
     "metadata": {},
     "output_type": "display_data"
    }
   ]
  },
  {
   "cell_type": "code",
   "metadata": {
    "tags": [],
    "deepnote_to_be_reexecuted": false,
    "source_hash": "4e744d56",
    "execution_start": 1640548032585,
    "execution_millis": 39,
    "cell_id": "00025-3bde6107-8970-4c9b-8a90-6bfe67734cc6",
    "deepnote_cell_type": "code"
   },
   "source": "rbf_pred, lin_pred, poly_pred = predictions\n\nprint('RBF Prediction:', rbf_pred[5])\nprint('Linear Prediction:', lin_pred[5])\nprint('Polynomial Prediction:', poly_pred[5])\n\nprint('Actual Value:', y_test[5])",
   "execution_count": 23,
   "outputs": [
    {
     "name": "stdout",
     "text": "RBF Prediction: 60.072930346541035\nLinear Prediction: 61.277138705683385\nPolynomial Prediction: 58.77415763004291\nActual Value: 66.0\n",
     "output_type": "stream",
     "data": {}
    }
   ]
  },
  {
   "cell_type": "markdown",
   "source": "## Evaluation: Root Mean Squared Error",
   "metadata": {
    "tags": [],
    "cell_id": "00026-7f80cfb8-31b8-44b0-b4a7-8ab1e5432523",
    "deepnote_cell_type": "markdown"
   }
  },
  {
   "cell_type": "code",
   "metadata": {
    "tags": [],
    "deepnote_to_be_reexecuted": false,
    "source_hash": "caa63c78",
    "execution_start": 1640548036738,
    "execution_millis": 8,
    "cell_id": "00026-d149d947-1596-4d4e-b2ce-627ed33bb8c6",
    "deepnote_cell_type": "code"
   },
   "source": "from sklearn.metrics import mean_squared_error\nfrom math import sqrt\n\nexpected = y_test\n\nrmse_rbf = sqrt(mean_squared_error(expected, rbf_pred))\nrmse_lin = sqrt(mean_squared_error(expected, lin_pred))\nrmse_poly = sqrt(mean_squared_error(expected, poly_pred))\n\nprint(\"RBF Error:\", rmse_rbf)\nprint(\"Linear Error:\", rmse_lin)\nprint(\"Polynomial Error:\", rmse_poly)",
   "execution_count": 24,
   "outputs": [
    {
     "name": "stdout",
     "text": "RBF Error: 9.15463758867085\nLinear Error: 7.335462007711896\nPolynomial Error: 9.285432012179186\n",
     "output_type": "stream",
     "data": {}
    }
   ]
  },
  {
   "cell_type": "code",
   "metadata": {
    "tags": [],
    "deepnote_to_be_reexecuted": false,
    "source_hash": "e05f12bd",
    "execution_start": 1640547849234,
    "execution_millis": 422,
    "cell_id": "00027-a7792ddf-39c9-4ee4-ab63-2fd15419529e",
    "deepnote_cell_type": "code"
   },
   "source": "error = [1, 2, 3]\nerror[4]",
   "execution_count": 19,
   "outputs": [
    {
     "output_type": "error",
     "ename": "IndexError",
     "evalue": "list index out of range",
     "traceback": [
      "\u001b[0;31m---------------------------------------------------------------------------\u001b[0m",
      "\u001b[0;31mIndexError\u001b[0m                                Traceback (most recent call last)",
      "\u001b[0;32m<ipython-input-19-5df4c461d55b>\u001b[0m in \u001b[0;36m<module>\u001b[0;34m\u001b[0m\n\u001b[1;32m      1\u001b[0m \u001b[0merror\u001b[0m \u001b[0;34m=\u001b[0m \u001b[0;34m[\u001b[0m\u001b[0;36m1\u001b[0m\u001b[0;34m,\u001b[0m \u001b[0;36m2\u001b[0m\u001b[0;34m,\u001b[0m \u001b[0;36m3\u001b[0m\u001b[0;34m]\u001b[0m\u001b[0;34m\u001b[0m\u001b[0;34m\u001b[0m\u001b[0m\n\u001b[0;32m----> 2\u001b[0;31m \u001b[0merror\u001b[0m\u001b[0;34m[\u001b[0m\u001b[0;36m4\u001b[0m\u001b[0;34m]\u001b[0m\u001b[0;34m\u001b[0m\u001b[0;34m\u001b[0m\u001b[0m\n\u001b[0m",
      "\u001b[0;31mIndexError\u001b[0m: list index out of range"
     ],
     "data": {}
    }
   ]
  },
  {
   "cell_type": "markdown",
   "source": "## Pickling",
   "metadata": {
    "tags": [],
    "cell_id": "00029-e7479aaa-b09e-4876-ab65-f41aa0feedc6",
    "deepnote_cell_type": "markdown"
   }
  },
  {
   "cell_type": "code",
   "metadata": {
    "tags": [],
    "deepnote_to_be_reexecuted": true,
    "source_hash": "b0dc8007",
    "execution_start": 1637002204178,
    "execution_millis": 1,
    "cell_id": "00029-aef5c3d0-f211-40e3-9506-42b340b2b63a",
    "deepnote_cell_type": "code"
   },
   "source": "print(predictions)\n\nrbf_model, lin_model, poly_model = predictions\n\nmy_path_rbf = \"./pred_svr_H353_humid_rbf.pkl\"\nmy_path_lin = \"./pred_svr_H353_humid_lin.pkl\"\nmy_path_poly = \"./pred_svr_H353_humid_poly.pkl\"\n\n",
   "execution_count": null,
   "outputs": [
    {
     "name": "stdout",
     "text": "(SVR(C=10, kernel='linear'), SVR(C=10, gamma=0.2), SVR(C=10, degree=2, kernel='poly'))\n",
     "output_type": "stream"
    }
   ]
  },
  {
   "cell_type": "code",
   "metadata": {
    "tags": [],
    "deepnote_to_be_reexecuted": true,
    "source_hash": "cfc55c5e",
    "execution_start": 1637002207120,
    "execution_millis": 13,
    "cell_id": "00030-6aa5ccbe-a519-407c-ab59-7eb989e76782",
    "deepnote_cell_type": "code"
   },
   "source": "import pickle\n\nwith open(my_path_rbf, 'wb') as pickle_file:\n    pickle.dump(rbf_model, pickle_file)\n\nwith open(my_path_lin, 'wb') as pickle_file:\n    pickle.dump(lin_model, pickle_file)\n\nwith open(my_path_poly, 'wb') as pickle_file:\n    pickle.dump(poly_model, pickle_file)",
   "execution_count": null,
   "outputs": []
  },
  {
   "cell_type": "code",
   "metadata": {
    "tags": [],
    "deepnote_to_be_reexecuted": true,
    "source_hash": "bb9077a8",
    "execution_start": 1637002208840,
    "execution_millis": 4,
    "cell_id": "00031-e4c0669d-ff4f-4ae2-ac1e-5b1b71a80615",
    "deepnote_cell_type": "code"
   },
   "source": "import pandas as pd\n\nmy_path_rbf = \"./pred_svr_H353_humid_rbf.pkl\"\n\ntest_rbf = pd.read_pickle(my_path_rbf)",
   "execution_count": null,
   "outputs": []
  },
  {
   "cell_type": "code",
   "metadata": {
    "tags": [],
    "deepnote_to_be_reexecuted": true,
    "source_hash": "52afddba",
    "execution_start": 1637002210863,
    "execution_millis": 8,
    "cell_id": "00032-4faf1016-3bdc-42fe-b16d-ebc8b917a723",
    "deepnote_cell_type": "code"
   },
   "source": "print(X_test[0][2])\nprint(type(test_rbf))\n\ngoal = np.reshape(X_test[0][2],(1, 1))\n\nprint(goal)",
   "execution_count": null,
   "outputs": [
    {
     "name": "stdout",
     "text": "1\n<class 'sklearn.svm._classes.SVR'>\n[[1]]\n",
     "output_type": "stream"
    }
   ]
  },
  {
   "cell_type": "code",
   "metadata": {
    "tags": [],
    "deepnote_to_be_reexecuted": true,
    "source_hash": "bb05d41a",
    "execution_start": 1637002222734,
    "execution_millis": 2,
    "deepnote_output_heights": [
     21.1875
    ],
    "cell_id": "00033-f27306e1-7db6-4fbd-bf22-a6a656e8157b",
    "deepnote_cell_type": "code"
   },
   "source": "test_rbf.predict([[10, 4, 0]])",
   "execution_count": null,
   "outputs": [
    {
     "output_type": "execute_result",
     "execution_count": 51,
     "data": {
      "text/plain": "array([74.6400581])"
     },
     "metadata": {}
    }
   ]
  },
  {
   "cell_type": "code",
   "metadata": {
    "tags": [],
    "deepnote_to_be_reexecuted": true,
    "source_hash": "b623e53d",
    "cell_id": "00034-9b650eca-5af5-44ff-ae3f-82c96d70cb8b",
    "deepnote_cell_type": "code"
   },
   "source": "",
   "execution_count": null,
   "outputs": []
  },
  {
   "cell_type": "markdown",
   "source": "# Pickling",
   "metadata": {
    "tags": [],
    "is_collapsed": false,
    "cell_id": "00035-16b91c03-658c-4676-98d7-65a86e15c1a0",
    "deepnote_cell_type": "text-cell-h1"
   }
  },
  {
   "cell_type": "markdown",
   "source": "",
   "metadata": {
    "tags": [],
    "is_collapsed": false,
    "cell_id": "00036-f8187cbf-7560-4462-8c57-783b2342e757",
    "deepnote_cell_type": "text-cell-p"
   }
  },
  {
   "cell_type": "code",
   "metadata": {
    "tags": [],
    "deepnote_to_be_reexecuted": true,
    "source_hash": "83a9b4c0",
    "cell_id": "00037-a3a66730-7400-42b7-a911-9e301675894b",
    "deepnote_cell_type": "code"
   },
   "source": "rbf_model, lin_model, poly_model = results\n\nmy_path_rbf = \"./pred_svr_H353_humid_rbf.pkl\"\nmy_path_lin = \"./pred_svr_H353_humid_lin.pkl\"\nmy_path_poly = \"./pred_svr_H353_humid_poly.pkl\"\n\n",
   "execution_count": null,
   "outputs": []
  },
  {
   "cell_type": "markdown",
   "source": "<a style='text-decoration:none;line-height:16px;display:flex;color:#5B5B62;padding:10px;justify-content:end;' href='https://deepnote.com?utm_source=created-in-deepnote-cell&projectId=bf8e464d-6614-4785-bf90-eb5b6d8a76b5' target=\"_blank\">\n<img alt='Created in deepnote.com' style='display:inline;max-height:16px;margin:0px;margin-right:7.5px;' src='data:image/svg+xml;base64,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' > </img>\nCreated in <span style='font-weight:600;margin-left:4px;'>Deepnote</span></a>",
   "metadata": {
    "tags": [],
    "created_in_deepnote_cell": true,
    "deepnote_cell_type": "markdown"
   }
  }
 ],
 "nbformat": 4,
 "nbformat_minor": 2,
 "metadata": {
  "orig_nbformat": 2,
  "deepnote": {
   "is_reactive": false
  },
  "deepnote_notebook_id": "596d1d19-4e27-4be6-9e12-a37a264f0514",
  "deepnote_execution_queue": []
 }
}